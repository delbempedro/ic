{
 "cells": [
  {
   "cell_type": "code",
   "execution_count": 6,
   "metadata": {},
   "outputs": [],
   "source": [
    "#qiskit service and plot imports\n",
    "from qiskit_ibm_runtime import QiskitRuntimeService\n",
    "from matplotlib import pyplot as plt"
   ]
  },
  {
   "cell_type": "code",
   "execution_count": 7,
   "metadata": {},
   "outputs": [],
   "source": [
    "#configure your service\n",
    "service = QiskitRuntimeService()"
   ]
  },
  {
   "cell_type": "code",
   "execution_count": 15,
   "metadata": {},
   "outputs": [
    {
     "name": "stdout",
     "output_type": "stream",
     "text": [
      "Insert job id:\n",
      "cv6g6q2mzw7000846zc0\n"
     ]
    }
   ],
   "source": [
    "#preevious results\n",
    "print(\"Insert job id:\")\n",
    "job_id = input()\n",
    "print(job_id)\n",
    "job = service.job(job_id) #previous job id (see previous job_id)\n",
    "job.status()\n",
    "result = job.result()"
   ]
  },
  {
   "cell_type": "code",
   "execution_count": 17,
   "metadata": {},
   "outputs": [
    {
     "ename": "AttributeError",
     "evalue": "'DataBin' object has no attribute 'c'",
     "output_type": "error",
     "traceback": [
      "\u001b[0;31m---------------------------------------------------------------------------\u001b[0m",
      "\u001b[0;31mAttributeError\u001b[0m                            Traceback (most recent call last)",
      "Cell \u001b[0;32mIn[17], line 2\u001b[0m\n\u001b[1;32m      1\u001b[0m \u001b[38;5;66;03m#filter data\u001b[39;00m\n\u001b[0;32m----> 2\u001b[0m data \u001b[38;5;241m=\u001b[39m \u001b[43mresult\u001b[49m\u001b[43m[\u001b[49m\u001b[38;5;241;43m0\u001b[39;49m\u001b[43m]\u001b[49m\u001b[38;5;241;43m.\u001b[39;49m\u001b[43mdata\u001b[49m\u001b[38;5;241;43m.\u001b[39;49m\u001b[43mc\u001b[49m\u001b[38;5;241m.\u001b[39mget_counts()\n\u001b[1;32m      3\u001b[0m threshold \u001b[38;5;241m=\u001b[39m \u001b[38;5;241m0\u001b[39m\n\u001b[1;32m      4\u001b[0m filtered_data \u001b[38;5;241m=\u001b[39m {key: value \u001b[38;5;28;01mfor\u001b[39;00m key, value \u001b[38;5;129;01min\u001b[39;00m data\u001b[38;5;241m.\u001b[39mitems() \u001b[38;5;28;01mif\u001b[39;00m value \u001b[38;5;241m>\u001b[39m threshold}\n",
      "\u001b[0;31mAttributeError\u001b[0m: 'DataBin' object has no attribute 'c'"
     ]
    }
   ],
   "source": [
    "#filter data\n",
    "data = result[0].data.c.get_counts()\n",
    "threshold = 10\n",
    "filtered_data = {key: value for key, value in data.items() if value > threshold}"
   ]
  },
  {
   "cell_type": "code",
   "execution_count": 9,
   "metadata": {},
   "outputs": [
    {
     "name": "stdout",
     "output_type": "stream",
     "text": [
      "Insert graph title:\n",
      "Full Adder (inputs: 1,1,1)\n",
      "Insert graph save name:\n",
      "results/1-full-adder-real-run.png\n"
     ]
    }
   ],
   "source": [
    "#set graph title and save name\n",
    "print(\"Insert graph title:\")# something like: \"2 Full Adders (inputs: 1,1,1 and 1,1,0)\"\n",
    "title = input()\n",
    "print(title)\n",
    "print(\"Insert graph save name:\")\n",
    "save_name = \"results/\"+input()+\".png\"\n",
    "print(save_name)"
   ]
  },
  {
   "cell_type": "code",
   "execution_count": 12,
   "metadata": {},
   "outputs": [
    {
     "ename": "AttributeError",
     "evalue": "'DataBin' object has no attribute 'c'",
     "output_type": "error",
     "traceback": [
      "\u001b[0;31m---------------------------------------------------------------------------\u001b[0m",
      "\u001b[0;31mAttributeError\u001b[0m                            Traceback (most recent call last)",
      "Cell \u001b[0;32mIn[12], line 2\u001b[0m\n\u001b[1;32m      1\u001b[0m \u001b[38;5;66;03m#plot your histogram with results and save image\u001b[39;00m\n\u001b[0;32m----> 2\u001b[0m filtered_data \u001b[38;5;241m=\u001b[39m \u001b[43mresult\u001b[49m\u001b[43m[\u001b[49m\u001b[38;5;241;43m0\u001b[39;49m\u001b[43m]\u001b[49m\u001b[38;5;241;43m.\u001b[39;49m\u001b[43mdata\u001b[49m\u001b[38;5;241;43m.\u001b[39;49m\u001b[43mc\u001b[49m\u001b[38;5;241m.\u001b[39mget_counts()\n\u001b[1;32m      3\u001b[0m names \u001b[38;5;241m=\u001b[39m \u001b[38;5;28mlist\u001b[39m(filtered_data\u001b[38;5;241m.\u001b[39mkeys())\n\u001b[1;32m      4\u001b[0m values \u001b[38;5;241m=\u001b[39m \u001b[38;5;28mlist\u001b[39m(filtered_data\u001b[38;5;241m.\u001b[39mvalues())\n",
      "\u001b[0;31mAttributeError\u001b[0m: 'DataBin' object has no attribute 'c'"
     ]
    }
   ],
   "source": [
    "#plot your histogram with results and save image\n",
    "names = list(filtered_data.keys())\n",
    "values = list(filtered_data.values())\n",
    "\n",
    "plt.figure(figsize=(10,5))\n",
    "plt.xticks(rotation=90)\n",
    "plt.title(title)\n",
    "plt.bar(names, values, tick_label=names)\n",
    "plt.savefig(save_name, bbox_inches=\"tight\")\n",
    "plt.show()"
   ]
  }
 ],
 "metadata": {
  "kernelspec": {
   "display_name": "condaenv",
   "language": "python",
   "name": "python3"
  },
  "language_info": {
   "codemirror_mode": {
    "name": "ipython",
    "version": 3
   },
   "file_extension": ".py",
   "mimetype": "text/x-python",
   "name": "python",
   "nbconvert_exporter": "python",
   "pygments_lexer": "ipython3",
   "version": "3.12.5"
  }
 },
 "nbformat": 4,
 "nbformat_minor": 2
}
