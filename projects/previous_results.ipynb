{
 "cells": [
  {
   "cell_type": "code",
   "execution_count": null,
   "metadata": {},
   "outputs": [],
   "source": [
    "#qiskit service and plot imports\n",
    "from qiskit_ibm_runtime import QiskitRuntimeService\n",
    "from matplotlib import pyplot as plt"
   ]
  },
  {
   "cell_type": "code",
   "execution_count": null,
   "metadata": {},
   "outputs": [],
   "source": [
    "#configure your service\n",
    "service = QiskitRuntimeService()"
   ]
  },
  {
   "cell_type": "code",
   "execution_count": null,
   "metadata": {},
   "outputs": [],
   "source": [
    "#preevious results\n",
    "job = service.job('cvffnrzz17rg008da680') #previous job id (see previous job_id)\n",
    "job.status()\n",
    "result = job.result()"
   ]
  },
  {
   "cell_type": "code",
   "execution_count": null,
   "metadata": {},
   "outputs": [],
   "source": [
    "#plot your histogram with results and save image\n",
    "data = result[0].data.c.get_counts()\n",
    "names = list(data.keys())\n",
    "values = list(data.values())\n",
    "\n",
    "plt.figure(figsize=(25,5))\n",
    "plt.xticks(rotation=90)\n",
    "plt.title(\"2 Full Adders (inputs: 1,1,1 and 1,1,0)\")\n",
    "plt.bar(names, values, tick_label=names)\n",
    "plt.savefig(\"results/real-run.png\", bbox_inches=\"tight\")\n",
    "plt.show()"
   ]
  }
 ],
 "metadata": {
  "language_info": {
   "name": "python"
  }
 },
 "nbformat": 4,
 "nbformat_minor": 2
}
