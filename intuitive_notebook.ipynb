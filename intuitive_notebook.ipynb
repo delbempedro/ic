{
 "cells": [
  {
   "cell_type": "markdown",
   "metadata": {},
   "source": [
    "#do the necessary installs"
   ]
  },
  {
   "cell_type": "code",
   "execution_count": 2,
   "metadata": {},
   "outputs": [
    {
     "name": "stdout",
     "output_type": "stream",
     "text": [
      "Collecting git+https://github.com/delbempedro/ic\n",
      "  Cloning https://github.com/delbempedro/ic to /tmp/pip-req-build-ylwz18vd\n",
      "  Running command git clone --filter=blob:none --quiet https://github.com/delbempedro/ic /tmp/pip-req-build-ylwz18vd\n",
      "  Resolved https://github.com/delbempedro/ic to commit 3f71eab11d67e82526fa9526b9922bb7f3f3faf4\n",
      "  Preparing metadata (setup.py) ... \u001b[?25ldone\n",
      "\u001b[?25hNote: you may need to restart the kernel to use updated packages.\n",
      "Requirement already satisfied: pylatexenc in /home/pedro/.conda/envs/condaenv/lib/python3.12/site-packages (2.10)\n",
      "Note: you may need to restart the kernel to use updated packages.\n",
      "Requirement already satisfied: matplotlib in /home/pedro/.conda/envs/condaenv/lib/python3.12/site-packages (3.9.2)\n",
      "Requirement already satisfied: contourpy>=1.0.1 in /home/pedro/.conda/envs/condaenv/lib/python3.12/site-packages (from matplotlib) (1.3.0)\n",
      "Requirement already satisfied: cycler>=0.10 in /home/pedro/.conda/envs/condaenv/lib/python3.12/site-packages (from matplotlib) (0.12.1)\n",
      "Requirement already satisfied: fonttools>=4.22.0 in /home/pedro/.conda/envs/condaenv/lib/python3.12/site-packages (from matplotlib) (4.54.0)\n",
      "Requirement already satisfied: kiwisolver>=1.3.1 in /home/pedro/.conda/envs/condaenv/lib/python3.12/site-packages (from matplotlib) (1.4.7)\n",
      "Requirement already satisfied: numpy>=1.23 in /home/pedro/.conda/envs/condaenv/lib/python3.12/site-packages (from matplotlib) (2.1.1)\n",
      "Requirement already satisfied: packaging>=20.0 in /home/pedro/.conda/envs/condaenv/lib/python3.12/site-packages (from matplotlib) (24.1)\n",
      "Requirement already satisfied: pillow>=8 in /home/pedro/.conda/envs/condaenv/lib/python3.12/site-packages (from matplotlib) (10.4.0)\n",
      "Requirement already satisfied: pyparsing>=2.3.1 in /home/pedro/.conda/envs/condaenv/lib/python3.12/site-packages (from matplotlib) (3.1.4)\n",
      "Requirement already satisfied: python-dateutil>=2.7 in /home/pedro/.conda/envs/condaenv/lib/python3.12/site-packages (from matplotlib) (2.9.0.post0)\n",
      "Requirement already satisfied: six>=1.5 in /home/pedro/.conda/envs/condaenv/lib/python3.12/site-packages (from python-dateutil>=2.7->matplotlib) (1.16.0)\n",
      "Note: you may need to restart the kernel to use updated packages.\n",
      "Requirement already satisfied: qiskit in /home/pedro/.conda/envs/condaenv/lib/python3.12/site-packages (1.2.2)\n",
      "Requirement already satisfied: rustworkx>=0.15.0 in /home/pedro/.conda/envs/condaenv/lib/python3.12/site-packages (from qiskit) (0.15.1)\n",
      "Requirement already satisfied: numpy<3,>=1.17 in /home/pedro/.conda/envs/condaenv/lib/python3.12/site-packages (from qiskit) (2.1.1)\n",
      "Requirement already satisfied: scipy>=1.5 in /home/pedro/.conda/envs/condaenv/lib/python3.12/site-packages (from qiskit) (1.14.1)\n",
      "Requirement already satisfied: sympy>=1.3 in /home/pedro/.conda/envs/condaenv/lib/python3.12/site-packages (from qiskit) (1.13.3)\n",
      "Requirement already satisfied: dill>=0.3 in /home/pedro/.conda/envs/condaenv/lib/python3.12/site-packages (from qiskit) (0.3.8)\n",
      "Requirement already satisfied: python-dateutil>=2.8.0 in /home/pedro/.conda/envs/condaenv/lib/python3.12/site-packages (from qiskit) (2.9.0.post0)\n",
      "Requirement already satisfied: stevedore>=3.0.0 in /home/pedro/.conda/envs/condaenv/lib/python3.12/site-packages (from qiskit) (5.3.0)\n",
      "Requirement already satisfied: typing-extensions in /home/pedro/.conda/envs/condaenv/lib/python3.12/site-packages (from qiskit) (4.12.2)\n",
      "Requirement already satisfied: symengine>=0.11 in /home/pedro/.conda/envs/condaenv/lib/python3.12/site-packages (from qiskit) (0.11.0)\n",
      "Requirement already satisfied: six>=1.5 in /home/pedro/.conda/envs/condaenv/lib/python3.12/site-packages (from python-dateutil>=2.8.0->qiskit) (1.16.0)\n",
      "Requirement already satisfied: pbr>=2.0.0 in /home/pedro/.conda/envs/condaenv/lib/python3.12/site-packages (from stevedore>=3.0.0->qiskit) (6.1.0)\n",
      "Requirement already satisfied: mpmath<1.4,>=1.1.0 in /home/pedro/.conda/envs/condaenv/lib/python3.12/site-packages (from sympy>=1.3->qiskit) (1.3.0)\n",
      "Note: you may need to restart the kernel to use updated packages.\n",
      "Requirement already satisfied: qiskit_aer in /home/pedro/.conda/envs/condaenv/lib/python3.12/site-packages (0.15.1)\n",
      "Requirement already satisfied: qiskit>=1.1.0 in /home/pedro/.conda/envs/condaenv/lib/python3.12/site-packages (from qiskit_aer) (1.2.2)\n",
      "Requirement already satisfied: numpy>=1.16.3 in /home/pedro/.conda/envs/condaenv/lib/python3.12/site-packages (from qiskit_aer) (2.1.1)\n",
      "Requirement already satisfied: scipy>=1.0 in /home/pedro/.conda/envs/condaenv/lib/python3.12/site-packages (from qiskit_aer) (1.14.1)\n",
      "Requirement already satisfied: psutil>=5 in /home/pedro/.conda/envs/condaenv/lib/python3.12/site-packages (from qiskit_aer) (6.0.0)\n",
      "Requirement already satisfied: rustworkx>=0.15.0 in /home/pedro/.conda/envs/condaenv/lib/python3.12/site-packages (from qiskit>=1.1.0->qiskit_aer) (0.15.1)\n",
      "Requirement already satisfied: sympy>=1.3 in /home/pedro/.conda/envs/condaenv/lib/python3.12/site-packages (from qiskit>=1.1.0->qiskit_aer) (1.13.3)\n",
      "Requirement already satisfied: dill>=0.3 in /home/pedro/.conda/envs/condaenv/lib/python3.12/site-packages (from qiskit>=1.1.0->qiskit_aer) (0.3.8)\n",
      "Requirement already satisfied: python-dateutil>=2.8.0 in /home/pedro/.conda/envs/condaenv/lib/python3.12/site-packages (from qiskit>=1.1.0->qiskit_aer) (2.9.0.post0)\n",
      "Requirement already satisfied: stevedore>=3.0.0 in /home/pedro/.conda/envs/condaenv/lib/python3.12/site-packages (from qiskit>=1.1.0->qiskit_aer) (5.3.0)\n",
      "Requirement already satisfied: typing-extensions in /home/pedro/.conda/envs/condaenv/lib/python3.12/site-packages (from qiskit>=1.1.0->qiskit_aer) (4.12.2)\n",
      "Requirement already satisfied: symengine>=0.11 in /home/pedro/.conda/envs/condaenv/lib/python3.12/site-packages (from qiskit>=1.1.0->qiskit_aer) (0.11.0)\n",
      "Requirement already satisfied: six>=1.5 in /home/pedro/.conda/envs/condaenv/lib/python3.12/site-packages (from python-dateutil>=2.8.0->qiskit>=1.1.0->qiskit_aer) (1.16.0)\n",
      "Requirement already satisfied: pbr>=2.0.0 in /home/pedro/.conda/envs/condaenv/lib/python3.12/site-packages (from stevedore>=3.0.0->qiskit>=1.1.0->qiskit_aer) (6.1.0)\n",
      "Requirement already satisfied: mpmath<1.4,>=1.1.0 in /home/pedro/.conda/envs/condaenv/lib/python3.12/site-packages (from sympy>=1.3->qiskit>=1.1.0->qiskit_aer) (1.3.0)\n",
      "Note: you may need to restart the kernel to use updated packages.\n",
      "Requirement already satisfied: qiskit_ibm_runtime in /home/pedro/.conda/envs/condaenv/lib/python3.12/site-packages (0.30.0)\n",
      "Requirement already satisfied: requests>=2.19 in /home/pedro/.conda/envs/condaenv/lib/python3.12/site-packages (from qiskit_ibm_runtime) (2.32.3)\n",
      "Requirement already satisfied: requests-ntlm>=1.1.0 in /home/pedro/.conda/envs/condaenv/lib/python3.12/site-packages (from qiskit_ibm_runtime) (1.3.0)\n",
      "Requirement already satisfied: numpy>=1.13 in /home/pedro/.conda/envs/condaenv/lib/python3.12/site-packages (from qiskit_ibm_runtime) (2.1.1)\n",
      "Requirement already satisfied: urllib3>=1.21.1 in /home/pedro/.conda/envs/condaenv/lib/python3.12/site-packages (from qiskit_ibm_runtime) (2.2.3)\n",
      "Requirement already satisfied: python-dateutil>=2.8.0 in /home/pedro/.conda/envs/condaenv/lib/python3.12/site-packages (from qiskit_ibm_runtime) (2.9.0.post0)\n",
      "Requirement already satisfied: websocket-client>=1.5.1 in /home/pedro/.conda/envs/condaenv/lib/python3.12/site-packages (from qiskit_ibm_runtime) (1.8.0)\n",
      "Requirement already satisfied: ibm-platform-services>=0.22.6 in /home/pedro/.conda/envs/condaenv/lib/python3.12/site-packages (from qiskit_ibm_runtime) (0.57.1)\n",
      "Requirement already satisfied: pydantic>=2.5.0 in /home/pedro/.conda/envs/condaenv/lib/python3.12/site-packages (from qiskit_ibm_runtime) (2.9.2)\n",
      "Requirement already satisfied: qiskit>=1.1.0 in /home/pedro/.conda/envs/condaenv/lib/python3.12/site-packages (from qiskit_ibm_runtime) (1.2.2)\n",
      "Requirement already satisfied: ibm-cloud-sdk-core<4.0.0,>=3.21.0 in /home/pedro/.conda/envs/condaenv/lib/python3.12/site-packages (from ibm-platform-services>=0.22.6->qiskit_ibm_runtime) (3.21.0)\n",
      "Requirement already satisfied: annotated-types>=0.6.0 in /home/pedro/.conda/envs/condaenv/lib/python3.12/site-packages (from pydantic>=2.5.0->qiskit_ibm_runtime) (0.7.0)\n",
      "Requirement already satisfied: pydantic-core==2.23.4 in /home/pedro/.conda/envs/condaenv/lib/python3.12/site-packages (from pydantic>=2.5.0->qiskit_ibm_runtime) (2.23.4)\n",
      "Requirement already satisfied: typing-extensions>=4.6.1 in /home/pedro/.conda/envs/condaenv/lib/python3.12/site-packages (from pydantic>=2.5.0->qiskit_ibm_runtime) (4.12.2)\n",
      "Requirement already satisfied: six>=1.5 in /home/pedro/.conda/envs/condaenv/lib/python3.12/site-packages (from python-dateutil>=2.8.0->qiskit_ibm_runtime) (1.16.0)\n",
      "Requirement already satisfied: rustworkx>=0.15.0 in /home/pedro/.conda/envs/condaenv/lib/python3.12/site-packages (from qiskit>=1.1.0->qiskit_ibm_runtime) (0.15.1)\n",
      "Requirement already satisfied: scipy>=1.5 in /home/pedro/.conda/envs/condaenv/lib/python3.12/site-packages (from qiskit>=1.1.0->qiskit_ibm_runtime) (1.14.1)\n",
      "Requirement already satisfied: sympy>=1.3 in /home/pedro/.conda/envs/condaenv/lib/python3.12/site-packages (from qiskit>=1.1.0->qiskit_ibm_runtime) (1.13.3)\n",
      "Requirement already satisfied: dill>=0.3 in /home/pedro/.conda/envs/condaenv/lib/python3.12/site-packages (from qiskit>=1.1.0->qiskit_ibm_runtime) (0.3.8)\n",
      "Requirement already satisfied: stevedore>=3.0.0 in /home/pedro/.conda/envs/condaenv/lib/python3.12/site-packages (from qiskit>=1.1.0->qiskit_ibm_runtime) (5.3.0)\n",
      "Requirement already satisfied: symengine>=0.11 in /home/pedro/.conda/envs/condaenv/lib/python3.12/site-packages (from qiskit>=1.1.0->qiskit_ibm_runtime) (0.11.0)\n",
      "Requirement already satisfied: charset-normalizer<4,>=2 in /home/pedro/.conda/envs/condaenv/lib/python3.12/site-packages (from requests>=2.19->qiskit_ibm_runtime) (3.3.2)\n",
      "Requirement already satisfied: idna<4,>=2.5 in /home/pedro/.conda/envs/condaenv/lib/python3.12/site-packages (from requests>=2.19->qiskit_ibm_runtime) (3.10)\n",
      "Requirement already satisfied: certifi>=2017.4.17 in /home/pedro/.conda/envs/condaenv/lib/python3.12/site-packages (from requests>=2.19->qiskit_ibm_runtime) (2024.8.30)\n",
      "Requirement already satisfied: cryptography>=1.3 in /home/pedro/.conda/envs/condaenv/lib/python3.12/site-packages (from requests-ntlm>=1.1.0->qiskit_ibm_runtime) (43.0.1)\n",
      "Requirement already satisfied: pyspnego>=0.4.0 in /home/pedro/.conda/envs/condaenv/lib/python3.12/site-packages (from requests-ntlm>=1.1.0->qiskit_ibm_runtime) (0.11.1)\n",
      "Requirement already satisfied: cffi>=1.12 in /home/pedro/.conda/envs/condaenv/lib/python3.12/site-packages (from cryptography>=1.3->requests-ntlm>=1.1.0->qiskit_ibm_runtime) (1.17.1)\n",
      "Requirement already satisfied: PyJWT<3.0.0,>=2.8.0 in /home/pedro/.conda/envs/condaenv/lib/python3.12/site-packages (from ibm-cloud-sdk-core<4.0.0,>=3.21.0->ibm-platform-services>=0.22.6->qiskit_ibm_runtime) (2.9.0)\n",
      "Requirement already satisfied: pbr>=2.0.0 in /home/pedro/.conda/envs/condaenv/lib/python3.12/site-packages (from stevedore>=3.0.0->qiskit>=1.1.0->qiskit_ibm_runtime) (6.1.0)\n",
      "Requirement already satisfied: mpmath<1.4,>=1.1.0 in /home/pedro/.conda/envs/condaenv/lib/python3.12/site-packages (from sympy>=1.3->qiskit>=1.1.0->qiskit_ibm_runtime) (1.3.0)\n",
      "Requirement already satisfied: pycparser in /home/pedro/.conda/envs/condaenv/lib/python3.12/site-packages (from cffi>=1.12->cryptography>=1.3->requests-ntlm>=1.1.0->qiskit_ibm_runtime) (2.22)\n",
      "Note: you may need to restart the kernel to use updated packages.\n"
     ]
    }
   ],
   "source": [
    "%pip install git+https://github.com/delbempedro/ic\n",
    "%pip install pylatexenc\n",
    "%pip install matplotlib\n",
    "%pip install qiskit\n",
    "%pip install qiskit_aer\n",
    "%pip install qiskit_ibm_runtime"
   ]
  },
  {
   "cell_type": "markdown",
   "metadata": {},
   "source": [
    "#do the necessary imports"
   ]
  },
  {
   "cell_type": "code",
   "execution_count": 3,
   "metadata": {},
   "outputs": [],
   "source": [
    "from ic import *\n",
    "from qiskit import QuantumCircuit\n",
    "from qiskit_aer import AerSimulator\n",
    "from qiskit_ibm_runtime import QiskitRuntimeService, Session, SamplerV2 as Sampler\n",
    "from qiskit.transpiler.preset_passmanagers import generate_preset_pass_manager\n",
    "from matplotlib import pyplot as plt"
   ]
  },
  {
   "cell_type": "markdown",
   "metadata": {},
   "source": [
    "to defines the quantum circuit with n qbits end m classical bits write\n",
    "\"\n",
    "my_quantun_circuit = current_circuit(8,5)\n",
    "\"\n",
    "\n",
    "to add a full adder circuit write\n",
    "\"\n",
    "my_quantun_circuit.add_full_adder(1,1,0,0,carry_in=True)\n",
    "\"\n",
    "#First two arguments are the values ​​of the qbits and the other two values ​​are the position of the first qbit and the first classical bit. The argument \"carry_in = True\" sets the carry in value to 1 (default = 0)\n",
    "\n",
    "to add a simple adder circuit write\n",
    "\"\n",
    "my_quantun_circuit.adds_simple_adder(1,1,0,0)\n",
    "\"\n",
    "#First two arguments are the values ​​of the qbits and the other two values ​​are the position of the first qbit and the first classical bit\n",
    "\n",
    "to draw the quantun circuit write\n",
    "\"\n",
    "my_qc = my_quantun_circuit.get_current_circuit()\n",
    "my_qc.draw(output='mpl',style='iqp')\n",
    "\""
   ]
  },
  {
   "cell_type": "code",
   "execution_count": 5,
   "metadata": {},
   "outputs": [
    {
     "data": {
      "text/plain": [
       "'qc.add_full_adder(1,1,21,12)'"
      ]
     },
     "execution_count": 5,
     "metadata": {},
     "output_type": "execute_result"
    }
   ],
   "source": [
    "#example\n",
    "qc = current_circuit(8,5) #15,9 #22,14 #29,17\n",
    "qc.add_full_adder(1,1,0,0,carry_in=True)\n",
    "#qc.add_full_adder(1,1,7,4)\n",
    "#qc.add_full_adder(1,1,14,8)\n",
    "\"\"\"qc.add_full_adder(1,1,21,12)\"\"\""
   ]
  },
  {
   "cell_type": "markdown",
   "metadata": {},
   "source": [
    "to create your token, you need to create a ibm account in\n",
    "https://quantum.ibm.com/\n",
    "and your token is \"API Token\" in the top right corner of the page"
   ]
  },
  {
   "cell_type": "code",
   "execution_count": 9,
   "metadata": {},
   "outputs": [
    {
     "name": "stdout",
     "output_type": "stream",
     "text": [
      "Have you already saved your token? Y/N\n"
     ]
    }
   ],
   "source": [
    "#save your ibm account\n",
    "# save your token to your ibm_quantum account\n",
    "print(\"Have you already saved your token? Y/N\")\n",
    "save_token = input()\n",
    "\n",
    "if save_token == \"N\":\n",
    "    print(\"Insert your token:\")\n",
    "    my_token = input()\n",
    "    QiskitRuntimeService.save_account(\n",
    "        overwrite=True,\n",
    "        channel=\"ibm_quantum\",\n",
    "        token=my_token\n",
    "    )"
   ]
  },
  {
   "cell_type": "code",
   "execution_count": 6,
   "metadata": {},
   "outputs": [],
   "source": [
    "#configure your service\n",
    "service = QiskitRuntimeService()"
   ]
  },
  {
   "cell_type": "code",
   "execution_count": 7,
   "metadata": {},
   "outputs": [
    {
     "name": "stdout",
     "output_type": "stream",
     "text": [
      "Select your type of run by choosing a number:\n",
      " 1-Real Run \n",
      " 2-Simulation With Noise \n",
      " 3-Simulation Without Noise\n"
     ]
    },
    {
     "name": "stdout",
     "output_type": "stream",
     "text": [
      "You selected: 3\n"
     ]
    }
   ],
   "source": [
    "#define the type of run\n",
    "print(\"Select your type of run by choosing a number:\\n 1-Real Run \\n 2-Simulation With Noise \\n 3-Simulation Without Noise\")\n",
    "type_of_run = input()\n",
    "print(\"You selected:\",type_of_run)"
   ]
  },
  {
   "cell_type": "code",
   "execution_count": 8,
   "metadata": {},
   "outputs": [],
   "source": [
    "#run your circuit and get the data\n",
    "data = qc.run_circuit(type_of_run,service)"
   ]
  },
  {
   "cell_type": "code",
   "execution_count": 9,
   "metadata": {},
   "outputs": [
    {
     "name": "stdout",
     "output_type": "stream",
     "text": [
      "Insert your threshold to data filter\n",
      "You insert 0\n"
     ]
    }
   ],
   "source": [
    "#filter data\n",
    "print(\"Insert your threshold to data filter\")\n",
    "threshold = int(input())\n",
    "print(\"You insert\",threshold)\n",
    "filtered_data = {key: value for key, value in data.items() if value > threshold}"
   ]
  },
  {
   "cell_type": "code",
   "execution_count": 10,
   "metadata": {},
   "outputs": [
    {
     "name": "stdout",
     "output_type": "stream",
     "text": [
      "Insert graph title:\n",
      "1 Full Adder Test[\n",
      "Insert graph save name:\n",
      "results/test.png\n"
     ]
    }
   ],
   "source": [
    "#set graph title and save name\n",
    "print(\"Insert graph title:\")# something like: \"2 Full Adders (inputs: 1,1,1 and 1,1,0)\"\n",
    "title = input()\n",
    "print(title)\n",
    "print(\"Insert graph save name:\")\n",
    "save_name = \"results/\"+input()+\".png\"\n",
    "print(save_name)"
   ]
  },
  {
   "cell_type": "code",
   "execution_count": 11,
   "metadata": {},
   "outputs": [
    {
     "ename": "NameError",
     "evalue": "name 'names0' is not defined",
     "output_type": "error",
     "traceback": [
      "\u001b[0;31m---------------------------------------------------------------------------\u001b[0m",
      "\u001b[0;31mNameError\u001b[0m                                 Traceback (most recent call last)",
      "Cell \u001b[0;32mIn[11], line 8\u001b[0m\n\u001b[1;32m      5\u001b[0m fig, ax \u001b[38;5;241m=\u001b[39m plt\u001b[38;5;241m.\u001b[39msubplots(figsize\u001b[38;5;241m=\u001b[39m(\u001b[38;5;241m10\u001b[39m, \u001b[38;5;241m5\u001b[39m))\n\u001b[1;32m      6\u001b[0m bars \u001b[38;5;241m=\u001b[39m ax\u001b[38;5;241m.\u001b[39mbar(names, values, color\u001b[38;5;241m=\u001b[39m\u001b[38;5;124m'\u001b[39m\u001b[38;5;124mblue\u001b[39m\u001b[38;5;124m'\u001b[39m)\n\u001b[0;32m----> 8\u001b[0m correct_value \u001b[38;5;241m=\u001b[39m names\u001b[38;5;241m.\u001b[39mindex(\u001b[38;5;124m'\u001b[39m\u001b[38;5;124m1\u001b[39m\u001b[38;5;124m'\u001b[39m\u001b[38;5;241m*\u001b[39m\u001b[38;5;28mlen\u001b[39m(\u001b[43mnames0\u001b[49m))\n\u001b[1;32m      9\u001b[0m barscorrect_value\u001b[38;5;241m.\u001b[39mset_color(\u001b[38;5;124m'\u001b[39m\u001b[38;5;124mgreen\u001b[39m\u001b[38;5;124m'\u001b[39m)\n\u001b[1;32m     11\u001b[0m ax\u001b[38;5;241m.\u001b[39mset_xticks(\u001b[38;5;28mrange\u001b[39m(\u001b[38;5;28mlen\u001b[39m(names)))\n",
      "\u001b[0;31mNameError\u001b[0m: name 'names0' is not defined"
     ]
    },
    {
     "data": {
      "image/png": "[encoded data removed]",
      "text/plain": [
       "<Figure size 1000x500 with 1 Axes>"
      ]
     },
     "metadata": {},
     "output_type": "display_data"
    }
   ],
   "source": [
    "#plot your histogram with results and save image\n",
    "names = list(filtered_data.keys())\n",
    "values = list(filtered_data.values())\n",
    "\n",
    "fig, ax = plt.subplots(figsize=(10, 5))\n",
    "bars = ax.bar(names, values, color='blue')\n",
    "\n",
    "correct_value = names.index('1'*len(names0))\n",
    "barscorrect_value.set_color('green')\n",
    "\n",
    "ax.set_xticks(range(len(names)))\n",
    "ax.set_xticklabels(names, rotation=90)\n",
    "ax.set_title(title)\n",
    "ax.set_xlabel('Frequency')\n",
    "ax.set_ylabel('Values')\n",
    "\n",
    "# Salvar a imagem do gráfico\n",
    "plt.savefig(save_name, bbox_inches=\"tight\")\n",
    "plt.show()"
   ]
  },
  {
   "cell_type": "code",
   "execution_count": 12,
   "metadata": {},
   "outputs": [
    {
     "data": {
      "image/png": "[encoded data removed]",
      "text/plain": [
       "<Figure size 1374.44x785.944 with 1 Axes>"
      ]
     },
     "execution_count": 12,
     "metadata": {},
     "output_type": "execute_result"
    }
   ],
   "source": [
    "#visualize your circuit\n",
    "qc.get_current_circuit().draw(output='mpl',style='iqp')"
   ]
  }
 ],
 "metadata": {
  "kernelspec": {
   "display_name": "condaenv",
   "language": "python",
   "name": "python3"
  },
  "language_info": {
   "codemirror_mode": {
    "name": "ipython",
    "version": 3
   },
   "file_extension": ".py",
   "mimetype": "text/x-python",
   "name": "python",
   "nbconvert_exporter": "python",
   "pygments_lexer": "ipython3",
   "version": "3.12.5"
  }
 },
 "nbformat": 4,
 "nbformat_minor": 2
}
