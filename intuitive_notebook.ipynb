{
 "cells": [
  {
   "cell_type": "markdown",
   "metadata": {},
   "source": [
    "#do the necessary installs"
   ]
  },
  {
   "cell_type": "code",
   "execution_count": 1,
   "metadata": {},
   "outputs": [
    {
     "name": "stdout",
     "output_type": "stream",
     "text": [
      "Collecting git+https://github.com/delbempedro/ic\n",
      "  Cloning https://github.com/delbempedro/ic to /tmp/pip-req-build-7zmfixe1\n",
      "  Running command git clone --filter=blob:none --quiet https://github.com/delbempedro/ic /tmp/pip-req-build-7zmfixe1\n",
      "  Resolved https://github.com/delbempedro/ic to commit 83e50ecb72cf5716d9bd9df2cd63b04dfd7532c3\n",
      "  Preparing metadata (setup.py) ... \u001b[?25ldone\n",
      "\u001b[?25hNote: you may need to restart the kernel to use updated packages.\n",
      "Requirement already satisfied: pylatexenc in /home/ubuntu/miniconda3/envs/condaenv/lib/python3.12/site-packages (2.10)\n",
      "Note: you may need to restart the kernel to use updated packages.\n",
      "Requirement already satisfied: qiskit in /home/ubuntu/miniconda3/envs/condaenv/lib/python3.12/site-packages (1.2.1)\n",
      "Requirement already satisfied: rustworkx>=0.15.0 in /home/ubuntu/miniconda3/envs/condaenv/lib/python3.12/site-packages (from qiskit) (0.15.1)\n",
      "Requirement already satisfied: numpy<3,>=1.17 in /home/ubuntu/miniconda3/envs/condaenv/lib/python3.12/site-packages (from qiskit) (2.1.1)\n",
      "Requirement already satisfied: scipy>=1.5 in /home/ubuntu/miniconda3/envs/condaenv/lib/python3.12/site-packages (from qiskit) (1.14.1)\n",
      "Requirement already satisfied: sympy>=1.3 in /home/ubuntu/miniconda3/envs/condaenv/lib/python3.12/site-packages (from qiskit) (1.13.2)\n",
      "Requirement already satisfied: dill>=0.3 in /home/ubuntu/miniconda3/envs/condaenv/lib/python3.12/site-packages (from qiskit) (0.3.8)\n",
      "Requirement already satisfied: python-dateutil>=2.8.0 in /home/ubuntu/miniconda3/envs/condaenv/lib/python3.12/site-packages (from qiskit) (2.9.0)\n",
      "Requirement already satisfied: stevedore>=3.0.0 in /home/ubuntu/miniconda3/envs/condaenv/lib/python3.12/site-packages (from qiskit) (5.3.0)\n",
      "Requirement already satisfied: typing-extensions in /home/ubuntu/miniconda3/envs/condaenv/lib/python3.12/site-packages (from qiskit) (4.12.2)\n",
      "Requirement already satisfied: symengine>=0.11 in /home/ubuntu/miniconda3/envs/condaenv/lib/python3.12/site-packages (from qiskit) (0.11.0)\n",
      "Requirement already satisfied: six>=1.5 in /home/ubuntu/miniconda3/envs/condaenv/lib/python3.12/site-packages (from python-dateutil>=2.8.0->qiskit) (1.16.0)\n",
      "Requirement already satisfied: pbr>=2.0.0 in /home/ubuntu/miniconda3/envs/condaenv/lib/python3.12/site-packages (from stevedore>=3.0.0->qiskit) (6.1.0)\n",
      "Requirement already satisfied: mpmath<1.4,>=1.1.0 in /home/ubuntu/miniconda3/envs/condaenv/lib/python3.12/site-packages (from sympy>=1.3->qiskit) (1.3.0)\n",
      "Note: you may need to restart the kernel to use updated packages.\n",
      "Requirement already satisfied: qiskit_aer in /home/ubuntu/miniconda3/envs/condaenv/lib/python3.12/site-packages (0.15.1)\n",
      "Requirement already satisfied: qiskit>=1.1.0 in /home/ubuntu/miniconda3/envs/condaenv/lib/python3.12/site-packages (from qiskit_aer) (1.2.1)\n",
      "Requirement already satisfied: numpy>=1.16.3 in /home/ubuntu/miniconda3/envs/condaenv/lib/python3.12/site-packages (from qiskit_aer) (2.1.1)\n",
      "Requirement already satisfied: scipy>=1.0 in /home/ubuntu/miniconda3/envs/condaenv/lib/python3.12/site-packages (from qiskit_aer) (1.14.1)\n",
      "Requirement already satisfied: psutil>=5 in /home/ubuntu/miniconda3/envs/condaenv/lib/python3.12/site-packages (from qiskit_aer) (5.9.0)\n",
      "Requirement already satisfied: rustworkx>=0.15.0 in /home/ubuntu/miniconda3/envs/condaenv/lib/python3.12/site-packages (from qiskit>=1.1.0->qiskit_aer) (0.15.1)\n",
      "Requirement already satisfied: sympy>=1.3 in /home/ubuntu/miniconda3/envs/condaenv/lib/python3.12/site-packages (from qiskit>=1.1.0->qiskit_aer) (1.13.2)\n",
      "Requirement already satisfied: dill>=0.3 in /home/ubuntu/miniconda3/envs/condaenv/lib/python3.12/site-packages (from qiskit>=1.1.0->qiskit_aer) (0.3.8)\n",
      "Requirement already satisfied: python-dateutil>=2.8.0 in /home/ubuntu/miniconda3/envs/condaenv/lib/python3.12/site-packages (from qiskit>=1.1.0->qiskit_aer) (2.9.0)\n",
      "Requirement already satisfied: stevedore>=3.0.0 in /home/ubuntu/miniconda3/envs/condaenv/lib/python3.12/site-packages (from qiskit>=1.1.0->qiskit_aer) (5.3.0)\n",
      "Requirement already satisfied: typing-extensions in /home/ubuntu/miniconda3/envs/condaenv/lib/python3.12/site-packages (from qiskit>=1.1.0->qiskit_aer) (4.12.2)\n",
      "Requirement already satisfied: symengine>=0.11 in /home/ubuntu/miniconda3/envs/condaenv/lib/python3.12/site-packages (from qiskit>=1.1.0->qiskit_aer) (0.11.0)\n",
      "Requirement already satisfied: six>=1.5 in /home/ubuntu/miniconda3/envs/condaenv/lib/python3.12/site-packages (from python-dateutil>=2.8.0->qiskit>=1.1.0->qiskit_aer) (1.16.0)\n",
      "Requirement already satisfied: pbr>=2.0.0 in /home/ubuntu/miniconda3/envs/condaenv/lib/python3.12/site-packages (from stevedore>=3.0.0->qiskit>=1.1.0->qiskit_aer) (6.1.0)\n",
      "Requirement already satisfied: mpmath<1.4,>=1.1.0 in /home/ubuntu/miniconda3/envs/condaenv/lib/python3.12/site-packages (from sympy>=1.3->qiskit>=1.1.0->qiskit_aer) (1.3.0)\n",
      "Note: you may need to restart the kernel to use updated packages.\n"
     ]
    }
   ],
   "source": [
    "%pip install git+https://github.com/delbempedro/ic\n",
    "%pip install pylatexenc\n",
    "%pip install qiskit\n",
    "%pip install qiskit_aer"
   ]
  },
  {
   "cell_type": "markdown",
   "metadata": {},
   "source": [
    "#do the necessary imports"
   ]
  },
  {
   "cell_type": "code",
   "execution_count": 2,
   "metadata": {},
   "outputs": [],
   "source": [
    "from ic import *\n",
    "from qiskit import QuantumCircuit\n",
    "from qiskit_aer import AerSimulator\n",
    "from qiskit_ibm_runtime import QiskitRuntimeService, Session, SamplerV2 as Sampler\n",
    "from qiskit.transpiler.preset_passmanagers import generate_preset_pass_manager\n",
    "from matplotlib import pyplot as plt"
   ]
  },
  {
   "cell_type": "markdown",
   "metadata": {},
   "source": [
    "to defines the quantum circuit with n qbits end m classical bits write\n",
    "\"\n",
    "my_quantun_circuit = current_circuit(8,5)\n",
    "\"\n",
    "\n",
    "to add a full adder circuit write\n",
    "\"\n",
    "my_quantun_circuit.add_full_adder(1,1,0,0,carry_in=True)\n",
    "\"\n",
    "#First two arguments are the values ​​of the qbits and the other two values ​​are the position of the first qbit and the first classical bit. The argument \"carry_in = True\" sets the carry in value to 1 (default = 0)\n",
    "\n",
    "to add a simple adder circuit write\n",
    "\"\n",
    "my_quantun_circuit.adds_simple_adder(1,1,0,0)\n",
    "\"\n",
    "#First two arguments are the values ​​of the qbits and the other two values ​​are the position of the first qbit and the first classical bit\n",
    "\n",
    "to draw the quantun circuit write\n",
    "\"\n",
    "my_qc = my_quantun_circuit.get_current_circuit()\n",
    "my_qc.draw(output='mpl',style='iqp')\n",
    "\""
   ]
  },
  {
   "cell_type": "code",
   "execution_count": 11,
   "metadata": {},
   "outputs": [
    {
     "data": {
      "text/html": [
       "<pre style=\"word-wrap: normal;white-space: pre;background: #fff0;line-height: 1.1;font-family: &quot;Courier New&quot;,Courier,monospace\">          ┌─┐                                                             \n",
       "q_0: ─────┤M├──────────────────■─────────■────────────────────────────────\n",
       "     ┌───┐└╥┘┌─┐               │         │                                \n",
       "q_1: ┤ X ├─╫─┤M├─────■─────────┼─────────■────────────────────────────────\n",
       "     ├───┤ ║ └╥┘┌─┐  │         │         │                                \n",
       "q_2: ┤ X ├─╫──╫─┤M├──┼────■────┼─────────┼───────■────────────────────────\n",
       "     └───┘ ║  ║ └╥┘┌─┴─┐  │  ┌─┴─┐       │       │                        \n",
       "q_3: ──────╫──╫──╫─┤ X ├──┼──┤ X ├──■────┼───────■────────────────────────\n",
       "           ║  ║  ║ └───┘┌─┴─┐└───┘┌─┴─┐  │  ┌─┐  │                        \n",
       "q_4: ──────╫──╫──╫──────┤ X ├─────┤ X ├──┼──┤M├──┼────────────────────────\n",
       "           ║  ║  ║      └───┘     └───┘┌─┴─┐└╥┘  │  ┌───┐                 \n",
       "q_5: ──────╫──╫──╫─────────────────────┤ X ├─╫───┼──┤ X ├──■──────────────\n",
       "           ║  ║  ║                     └───┘ ║ ┌─┴─┐├───┤  │              \n",
       "q_6: ──────╫──╫──╫───────────────────────────╫─┤ X ├┤ X ├──■──────────────\n",
       "           ║  ║  ║                           ║ └───┘└───┘┌─┴─┐┌───────┐┌─┐\n",
       "q_7: ──────╫──╫──╫───────────────────────────╫───────────┤ X ├┤ Rx(π) ├┤M├\n",
       "           ║  ║  ║                           ║           └───┘└───────┘└╥┘\n",
       "c: 5/══════╩══╩══╩═══════════════════════════╩══════════════════════════╩═\n",
       "           0  1  2                           3                          4 </pre>"
      ],
      "text/plain": [
       "          ┌─┐                                                             \n",
       "q_0: ─────┤M├──────────────────■─────────■────────────────────────────────\n",
       "     ┌───┐└╥┘┌─┐               │         │                                \n",
       "q_1: ┤ X ├─╫─┤M├─────■─────────┼─────────■────────────────────────────────\n",
       "     ├───┤ ║ └╥┘┌─┐  │         │         │                                \n",
       "q_2: ┤ X ├─╫──╫─┤M├──┼────■────┼─────────┼───────■────────────────────────\n",
       "     └───┘ ║  ║ └╥┘┌─┴─┐  │  ┌─┴─┐       │       │                        \n",
       "q_3: ──────╫──╫──╫─┤ X ├──┼──┤ X ├──■────┼───────■────────────────────────\n",
       "           ║  ║  ║ └───┘┌─┴─┐└───┘┌─┴─┐  │  ┌─┐  │                        \n",
       "q_4: ──────╫──╫──╫──────┤ X ├─────┤ X ├──┼──┤M├──┼────────────────────────\n",
       "           ║  ║  ║      └───┘     └───┘┌─┴─┐└╥┘  │  ┌───┐                 \n",
       "q_5: ──────╫──╫──╫─────────────────────┤ X ├─╫───┼──┤ X ├──■──────────────\n",
       "           ║  ║  ║                     └───┘ ║ ┌─┴─┐├───┤  │              \n",
       "q_6: ──────╫──╫──╫───────────────────────────╫─┤ X ├┤ X ├──■──────────────\n",
       "           ║  ║  ║                           ║ └───┘└───┘┌─┴─┐┌───────┐┌─┐\n",
       "q_7: ──────╫──╫──╫───────────────────────────╫───────────┤ X ├┤ Rx(π) ├┤M├\n",
       "           ║  ║  ║                           ║           └───┘└───────┘└╥┘\n",
       "c: 5/══════╩══╩══╩═══════════════════════════╩══════════════════════════╩═\n",
       "           0  1  2                           3                          4 "
      ]
     },
     "execution_count": 11,
     "metadata": {},
     "output_type": "execute_result"
    }
   ],
   "source": [
    "#example\n",
    "qc = current_circuit(8,5)\n",
    "qc.add_full_adder(1,1,0,0,carry_in=True)\n",
    "my_qc = qc.get_current_circuit()\n",
    "my_qc.draw()"
   ]
  },
  {
   "cell_type": "markdown",
   "metadata": {},
   "source": [
    "to create your token, you need to create a ibm account in\n",
    "https://quantum.ibm.com/\n",
    "and your token is \"API Token\" in the top right corner of the page"
   ]
  },
  {
   "cell_type": "code",
   "execution_count": 4,
   "metadata": {},
   "outputs": [
    {
     "name": "stdout",
     "output_type": "stream",
     "text": [
      "Insert your token:\n"
     ]
    }
   ],
   "source": [
    "#save your ibm account\n",
    "# save your token to your ibm_quantum account\n",
    "print(\"Insert your token:\")\n",
    "my_token = input()\n",
    "QiskitRuntimeService.save_account(\n",
    "    overwrite=True,\n",
    "    channel=\"ibm_quantum\",\n",
    "    token=my_token\n",
    ")"
   ]
  },
  {
   "cell_type": "code",
   "execution_count": 5,
   "metadata": {},
   "outputs": [],
   "source": [
    "#configure your service\n",
    "service = QiskitRuntimeService()"
   ]
  },
  {
   "cell_type": "code",
   "execution_count": 6,
   "metadata": {},
   "outputs": [
    {
     "name": "stdout",
     "output_type": "stream",
     "text": [
      "Select your type of run:\n",
      " 1-Real Run \n",
      " 2-Simulation With Noise \n",
      " 3-Simulation Without Noise\n",
      "You selected: 2\n"
     ]
    }
   ],
   "source": [
    "#define the type of run\n",
    "print(\"Select your type of run:\\n 1-Real Run \\n 2-Simulation With Noise \\n 3-Simulation Without Noise\")\n",
    "type_of_run = input()\n",
    "print(\"You selected:\",type_of_run)"
   ]
  },
  {
   "cell_type": "code",
   "execution_count": 7,
   "metadata": {},
   "outputs": [],
   "source": [
    "#run your circuit and get the data\n",
    "data = qc.run_circuit(type_of_run,service)"
   ]
  },
  {
   "cell_type": "code",
   "execution_count": 8,
   "metadata": {},
   "outputs": [
    {
     "name": "stdout",
     "output_type": "stream",
     "text": [
      "Insert your threshold to data filter\n",
      "You insert 0\n"
     ]
    }
   ],
   "source": [
    "#filter data\n",
    "print(\"Insert your threshold to data filter\")\n",
    "threshold = int(input())\n",
    "print(\"You insert\",threshold)\n",
    "filtered_data = {key: value for key, value in data.items() if value > threshold}"
   ]
  },
  {
   "cell_type": "code",
   "execution_count": 9,
   "metadata": {},
   "outputs": [
    {
     "name": "stdout",
     "output_type": "stream",
     "text": [
      "Insert graph title:\n",
      "Full Adder (1,1,1)\n"
     ]
    }
   ],
   "source": [
    "#set graph title\n",
    "print(\"Insert graph title:\")# something like: \"Full Adders (inputs: 1,1 carry in 0)\"\n",
    "title = input()\n",
    "print(title)"
   ]
  },
  {
   "cell_type": "code",
   "execution_count": 10,
   "metadata": {},
   "outputs": [
    {
     "data": {
      "image/png": "[encoded data removed]",
      "text/plain": [
       "<Figure size 1000x500 with 1 Axes>"
      ]
     },
     "metadata": {},
     "output_type": "display_data"
    }
   ],
   "source": [
    "#plot your histogram with results and save image\n",
    "names = list(filtered_data.keys())\n",
    "values = list(filtered_data.values())\n",
    "\n",
    "plt.figure(figsize=(10,5))\n",
    "plt.xticks(rotation=90)\n",
    "plt.title(title)\n",
    "plt.bar(names, values, tick_label=names)\n",
    "plt.show()"
   ]
  }
 ],
 "metadata": {
  "kernelspec": {
   "display_name": "condaenv",
   "language": "python",
   "name": "python3"
  },
  "language_info": {
   "codemirror_mode": {
    "name": "ipython",
    "version": 3
   },
   "file_extension": ".py",
   "mimetype": "text/x-python",
   "name": "python",
   "nbconvert_exporter": "python",
   "pygments_lexer": "ipython3",
   "version": "3.12.5"
  }
 },
 "nbformat": 4,
 "nbformat_minor": 2
}
