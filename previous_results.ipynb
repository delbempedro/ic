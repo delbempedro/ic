{
 "cells": [
  {
   "cell_type": "code",
   "execution_count": 107,
   "metadata": {},
   "outputs": [],
   "source": [
    "#qiskit service and plot imports\n",
    "from qiskit_ibm_runtime import QiskitRuntimeService\n",
    "from matplotlib import pyplot as plt"
   ]
  },
  {
   "cell_type": "code",
   "execution_count": 108,
   "metadata": {},
   "outputs": [],
   "source": [
    "#configure your service\n",
    "service = QiskitRuntimeService()"
   ]
  },
  {
   "cell_type": "code",
   "execution_count": 109,
   "metadata": {},
   "outputs": [
    {
     "name": "stdout",
     "output_type": "stream",
     "text": [
      "Insert job id:\n",
      "cvt2whtqgh400088m85g\n"
     ]
    }
   ],
   "source": [
    "#preevious results\n",
    "print(\"Insert job id:\")\n",
    "job_id = input()\n",
    "print(job_id)\n",
    "job = service.job(job_id) #previous job id (see previous job_id)\n",
    "job.status()\n",
    "result = job.result()"
   ]
  },
  {
   "cell_type": "code",
   "execution_count": 110,
   "metadata": {},
   "outputs": [],
   "source": [
    "#filter data\n",
    "data = result[0].data.c.get_counts()\n",
    "threshold = 0\n",
    "filtered_data = {key: value for key, value in data.items() if value > threshold}"
   ]
  },
  {
   "cell_type": "code",
   "execution_count": 111,
   "metadata": {},
   "outputs": [
    {
     "name": "stdout",
     "output_type": "stream",
     "text": [
      "Insert graph title:\n"
     ]
    },
    {
     "name": "stdout",
     "output_type": "stream",
     "text": [
      "Full Adder (1,1,1)\n",
      "Insert graph save name:\n",
      "results/full-adder-real-run.png\n"
     ]
    }
   ],
   "source": [
    "#set graph title and save name\n",
    "print(\"Insert graph title:\")# something like: \"2 Full Adders (inputs: 1,1,1 and 1,1,0)\"\n",
    "title = input()\n",
    "print(title)\n",
    "print(\"Insert graph save name:\")\n",
    "save_name = \"results/\"+input()+\".png\"\n",
    "print(save_name)"
   ]
  },
  {
   "cell_type": "code",
   "execution_count": 112,
   "metadata": {},
   "outputs": [
    {
     "data": {
      "text/plain": [
       "str"
      ]
     },
     "execution_count": 112,
     "metadata": {},
     "output_type": "execute_result"
    }
   ],
   "source": [
    "for i in filtered_data.keys(): i = str(i)\n",
    "type(i)"
   ]
  },
  {
   "cell_type": "code",
   "execution_count": 113,
   "metadata": {},
   "outputs": [
    {
     "data": {
      "text/plain": [
       "5"
      ]
     },
     "execution_count": 113,
     "metadata": {},
     "output_type": "execute_result"
    }
   ],
   "source": [
    "lista = list(filtered_data.keys())\n",
    "len(lista[0])"
   ]
  },
  {
   "cell_type": "code",
   "execution_count": 114,
   "metadata": {},
   "outputs": [
    {
     "data": {
      "image/png": "[encoded data removed]",
      "text/plain": [
       "<Figure size 1000x500 with 1 Axes>"
      ]
     },
     "metadata": {},
     "output_type": "display_data"
    }
   ],
   "source": [
    "#plot your histogram with results and save image\n",
    "names = list(filtered_data.keys())\n",
    "values = list(filtered_data.values())\n",
    "\n",
    "fig, ax = plt.subplots(figsize=(10, 5))\n",
    "bars = ax.bar(names, values, color='blue')\n",
    "\n",
    "correct_value = names.index('1'*len(lista[0]))\n",
    "bars[correct_value].set_color('green')\n",
    "\n",
    "ax.set_xticks(range(len(names)))\n",
    "ax.set_xticklabels(names, rotation=90)\n",
    "ax.set_title(title)\n",
    "ax.set_xlabel('Frequency')\n",
    "ax.set_ylabel('Values')\n",
    "\n",
    "# Salvar a imagem do gráfico\n",
    "plt.savefig(save_name, bbox_inches=\"tight\")\n",
    "plt.show()"
   ]
  },
  {
   "cell_type": "code",
   "execution_count": 115,
   "metadata": {},
   "outputs": [
    {
     "name": "stdout",
     "output_type": "stream",
     "text": [
      "{'11': 5, '10': 4, '01': 4, '00': 4}\n"
     ]
    }
   ],
   "source": [
    "#compute result of the sum\n",
    "final_result3 = {'11111':0,'11110':0,'11101':0,'11100':0,'11011':0,'11010':0,'11001':0,'11000':0,'10111':0,'10110':0,'10101':0,'10100':0,'10011':0,'10010':0,'10001':0,'10000':0}\n",
    "final_result2 = {'1111':0,'1110':0,'1101':0,'1100':0,'1011':0,'1010':0,'1001':0,'1000':0}\n",
    "final_result1 = {'11':0,'10':0,'01':0,'00':0}\n",
    "for value in data.keys():\n",
    "    new_analise = value[:2]#value[3]+value[7]+value[11]+value[14]\n",
    "    for keys in final_result1.keys():\n",
    "        final_result1[keys] += new_analise.count(keys)\n",
    "print(final_result1)"
   ]
  }
 ],
 "metadata": {
  "kernelspec": {
   "display_name": "condaenv",
   "language": "python",
   "name": "python3"
  },
  "language_info": {
   "codemirror_mode": {
    "name": "ipython",
    "version": 3
   },
   "file_extension": ".py",
   "mimetype": "text/x-python",
   "name": "python",
   "nbconvert_exporter": "python",
   "pygments_lexer": "ipython3",
   "version": "3.12.5"
  }
 },
 "nbformat": 4,
 "nbformat_minor": 2
}
