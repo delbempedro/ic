{
 "cells": [
  {
   "cell_type": "markdown",
   "metadata": {},
   "source": [
    "#installs"
   ]
  },
  {
   "cell_type": "code",
   "execution_count": 2,
   "metadata": {},
   "outputs": [
    {
     "name": "stdout",
     "output_type": "stream",
     "text": [
      "Collecting git+https://github.com/delbempedro/ic\n",
      "  Cloning https://github.com/delbempedro/ic to /tmp/pip-req-build-n3rqjbnv\n",
      "  Running command git clone --filter=blob:none --quiet https://github.com/delbempedro/ic /tmp/pip-req-build-n3rqjbnv\n",
      "  Resolved https://github.com/delbempedro/ic to commit a0259d5aaf6fd83861ba377e11ec24b308b6415c\n",
      "  Preparing metadata (setup.py) ... \u001b[?25ldone\n",
      "\u001b[?25hNote: you may need to restart the kernel to use updated packages.\n"
     ]
    }
   ],
   "source": [
    "%pip install git+https://github.com/delbempedro/ic"
   ]
  },
  {
   "cell_type": "markdown",
   "metadata": {},
   "source": [
    "#imports"
   ]
  },
  {
   "cell_type": "code",
   "execution_count": 3,
   "metadata": {},
   "outputs": [],
   "source": [
    "from ic import *\n",
    "from qiskit import QuantumCircuit\n",
    "from qiskit_aer import AerSimulator\n",
    "from qiskit_ibm_runtime import QiskitRuntimeService, Session, SamplerV2 as Sampler\n",
    "from qiskit.transpiler.preset_passmanagers import generate_preset_pass_manager\n",
    "from qiskit.circuit.library import RGate\n",
    "from math import pi"
   ]
  },
  {
   "cell_type": "markdown",
   "metadata": {},
   "source": [
    "#code"
   ]
  },
  {
   "cell_type": "code",
   "execution_count": 4,
   "metadata": {},
   "outputs": [],
   "source": [
    "service = QiskitRuntimeService()"
   ]
  },
  {
   "cell_type": "code",
   "execution_count": 5,
   "metadata": {},
   "outputs": [],
   "source": [
    "input1 = 1.0\n",
    "input2 = 1.0\n",
    "input3 = 1.0\n",
    "\n",
    "theta1 = pi\n",
    "theta2 = pi\n",
    "theta3 = pi"
   ]
  },
  {
   "cell_type": "code",
   "execution_count": 7,
   "metadata": {},
   "outputs": [
    {
     "ename": "TypeError",
     "evalue": "QuantumCircuit.cu() missing 3 required positional arguments: 'gamma', 'control_qubit', and 'target_qubit'",
     "output_type": "error",
     "traceback": [
      "\u001b[0;31m---------------------------------------------------------------------------\u001b[0m",
      "\u001b[0;31mTypeError\u001b[0m                                 Traceback (most recent call last)",
      "Cell \u001b[0;32mIn[7], line 7\u001b[0m\n\u001b[1;32m      5\u001b[0m qc\u001b[38;5;241m.\u001b[39mget_current_circuit()\u001b[38;5;241m.\u001b[39mcu(input1,\u001b[38;5;241m0\u001b[39m,\u001b[38;5;241m0\u001b[39m,\u001b[38;5;241m0\u001b[39m,[\u001b[38;5;241m1\u001b[39m],[\u001b[38;5;241m0\u001b[39m])\n\u001b[1;32m      6\u001b[0m qc\u001b[38;5;241m.\u001b[39mget_current_circuit()\u001b[38;5;241m.\u001b[39mx(\u001b[38;5;241m1\u001b[39m)\n\u001b[0;32m----> 7\u001b[0m \u001b[43mqc\u001b[49m\u001b[38;5;241;43m.\u001b[39;49m\u001b[43mget_current_circuit\u001b[49m\u001b[43m(\u001b[49m\u001b[43m)\u001b[49m\u001b[38;5;241;43m.\u001b[39;49m\u001b[43mcu\u001b[49m\u001b[43m(\u001b[49m\u001b[43minput2\u001b[49m\u001b[43m,\u001b[49m\u001b[38;5;241;43m0\u001b[39;49m\u001b[43m,\u001b[49m\u001b[43m[\u001b[49m\u001b[38;5;241;43m1\u001b[39;49m\u001b[43m]\u001b[49m\u001b[43m)\u001b[49m\n\u001b[1;32m      8\u001b[0m qc\u001b[38;5;241m.\u001b[39mget_current_circuit()\u001b[38;5;241m.\u001b[39mx(\u001b[38;5;241m1\u001b[39m)\n\u001b[1;32m      9\u001b[0m qc\u001b[38;5;241m.\u001b[39mget_current_circuit()\u001b[38;5;241m.\u001b[39mcu(input3,\u001b[38;5;241m0\u001b[39m,[\u001b[38;5;241m1\u001b[39m])\n",
      "\u001b[0;31mTypeError\u001b[0m: QuantumCircuit.cu() missing 3 required positional arguments: 'gamma', 'control_qubit', and 'target_qubit'"
     ]
    }
   ],
   "source": [
    "qc = current_circuit(3,1)\n",
    "\n",
    "qc.get_current_circuit().h(0)\n",
    "qc.get_current_circuit().h(1)\n",
    "qc.get_current_circuit().cu(input1,0,0,0,[1],[0])\n",
    "qc.get_current_circuit().x(1)\n",
    "qc.get_current_circuit().cu(input2,0,0,0,[1],[0])\n",
    "qc.get_current_circuit().x(1)\n",
    "qc.get_current_circuit().cu(input3,0,0,0,[1],[0])\n",
    "qc.get_current_circuit().cu(theta1,0,0,0,[1],[0]).inverse()\n",
    "qc.get_current_circuit().x(1)\n",
    "qc.get_current_circuit().cu(theta2,0,[1]).inverse()\n",
    "qc.get_current_circuit().x(1)\n",
    "qc.get_current_circuit().cu(theta3,0,[1]).inverse()\n",
    "qc.get_current_circuit().h(0)\n",
    "qc.get_current_circuit().h(1)\n",
    "qc.get_current_circuit().x(0)\n",
    "qc.get_current_circuit().x(1)\n",
    "qc.get_current_circuit().ccx(0,1,2)\n",
    "qc.get_current_circuit().measure(2,0)\n",
    "qc.get_current_circuit().draw(output='mpl',style='iqp')"
   ]
  },
  {
   "cell_type": "code",
   "execution_count": 24,
   "metadata": {},
   "outputs": [
    {
     "data": {
      "text/plain": [
       "{'0': 1024}"
      ]
     },
     "execution_count": 24,
     "metadata": {},
     "output_type": "execute_result"
    }
   ],
   "source": [
    "qc.run_circuit(\"3\",service)"
   ]
  },
  {
   "cell_type": "code",
   "execution_count": 25,
   "metadata": {},
   "outputs": [
    {
     "data": {
      "image/png": "[encoded data removed]",
      "text/plain": [
       "<Figure size 1123.61x367.889 with 1 Axes>"
      ]
     },
     "execution_count": 25,
     "metadata": {},
     "output_type": "execute_result"
    }
   ],
   "source": [
    "qc.get_current_circuit().draw('mpl')"
   ]
  }
 ],
 "metadata": {
  "kernelspec": {
   "display_name": "condaenv",
   "language": "python",
   "name": "python3"
  },
  "language_info": {
   "codemirror_mode": {
    "name": "ipython",
    "version": 3
   },
   "file_extension": ".py",
   "mimetype": "text/x-python",
   "name": "python",
   "nbconvert_exporter": "python",
   "pygments_lexer": "ipython3",
   "version": "3.12.5"
  }
 },
 "nbformat": 4,
 "nbformat_minor": 2
}
