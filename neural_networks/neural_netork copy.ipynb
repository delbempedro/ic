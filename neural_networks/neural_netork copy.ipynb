{
 "cells": [
  {
   "cell_type": "markdown",
   "metadata": {},
   "source": [
    "#installs"
   ]
  },
  {
   "cell_type": "code",
   "execution_count": 1,
   "metadata": {},
   "outputs": [
    {
     "name": "stdout",
     "output_type": "stream",
     "text": [
      "Collecting git+https://github.com/delbempedro/ic\n",
      "  Cloning https://github.com/delbempedro/ic to /tmp/pip-req-build-dn3tuc0f\n",
      "  Running command git clone --filter=blob:none --quiet https://github.com/delbempedro/ic /tmp/pip-req-build-dn3tuc0f\n",
      "  Resolved https://github.com/delbempedro/ic to commit e903abfe390bff7f6f739f0a1b4edf3e739949a7\n",
      "  Preparing metadata (setup.py) ... \u001b[?25ldone\n",
      "\u001b[?25hNote: you may need to restart the kernel to use updated packages.\n"
     ]
    }
   ],
   "source": [
    "%pip install git+https://github.com/delbempedro/ic"
   ]
  },
  {
   "cell_type": "markdown",
   "metadata": {},
   "source": [
    "#imports"
   ]
  },
  {
   "cell_type": "code",
   "execution_count": 2,
   "metadata": {},
   "outputs": [],
   "source": [
    "from ic import *\n",
    "from qiskit import QuantumCircuit\n",
    "from qiskit_ibm_runtime import QiskitRuntimeService\n",
    "from math import pi"
   ]
  },
  {
   "cell_type": "markdown",
   "metadata": {},
   "source": [
    "#code"
   ]
  },
  {
   "cell_type": "code",
   "execution_count": 3,
   "metadata": {},
   "outputs": [],
   "source": [
    "service = QiskitRuntimeService()"
   ]
  },
  {
   "cell_type": "code",
   "execution_count": 4,
   "metadata": {},
   "outputs": [],
   "source": [
    "input1 = 1.0\n",
    "input2 = 1.0\n",
    "\n",
    "weight1 = 0.5\n",
    "weight2 = 0.5"
   ]
  },
  {
   "cell_type": "code",
   "execution_count": 14,
   "metadata": {},
   "outputs": [
    {
     "data": {
      "text/plain": [
       "<qiskit.circuit.instructionset.InstructionSet at 0x7f7666d34520>"
      ]
     },
     "execution_count": 14,
     "metadata": {},
     "output_type": "execute_result"
    }
   ],
   "source": [
    "static_angle = 0\n",
    "\n",
    "qc = current_circuit(3,1)\n",
    "\n",
    "qc.get_current_circuit().h(0)\n",
    "qc.get_current_circuit().h(1)\n",
    "\n",
    "qc.get_current_circuit().cu(input1,static_angle,static_angle,static_angle,[0],[1])\n",
    "qc.get_current_circuit().x(1)\n",
    "qc.get_current_circuit().cu(input2,static_angle,static_angle,static_angle,[0],[1])\n",
    "\n",
    "qc.get_current_circuit().cu(weight1,static_angle,static_angle,static_angle,[0],[1]).inverse()\n",
    "qc.get_current_circuit().x(1)\n",
    "qc.get_current_circuit().cu(weight2,static_angle,static_angle,static_angle,[0],[1]).inverse()\n",
    "\n",
    "qc.get_current_circuit().h(0)\n",
    "qc.get_current_circuit().h(1)\n",
    "qc.get_current_circuit().x(0)\n",
    "qc.get_current_circuit().x(1)\n",
    "qc.get_current_circuit().ccx(0,1,2)\n",
    "qc.get_current_circuit().measure(2,0)"
   ]
  },
  {
   "cell_type": "code",
   "execution_count": 13,
   "metadata": {},
   "outputs": [
    {
     "data": {
      "text/plain": [
       "{'1': 1024}"
      ]
     },
     "execution_count": 13,
     "metadata": {},
     "output_type": "execute_result"
    }
   ],
   "source": [
    "qc.run_circuit(\"3\",service)"
   ]
  },
  {
   "cell_type": "code",
   "execution_count": 9,
   "metadata": {},
   "outputs": [
    {
     "data": {
      "image/png": "[encoded data removed]",
      "text/plain": [
       "<Figure size 1207.22x367.889 with 1 Axes>"
      ]
     },
     "execution_count": 9,
     "metadata": {},
     "output_type": "execute_result"
    }
   ],
   "source": [
    "qc.get_current_circuit().draw('mpl')"
   ]
  }
 ],
 "metadata": {
  "kernelspec": {
   "display_name": "condaenv",
   "language": "python",
   "name": "python3"
  },
  "language_info": {
   "codemirror_mode": {
    "name": "ipython",
    "version": 3
   },
   "file_extension": ".py",
   "mimetype": "text/x-python",
   "name": "python",
   "nbconvert_exporter": "python",
   "pygments_lexer": "ipython3",
   "version": "3.12.5"
  }
 },
 "nbformat": 4,
 "nbformat_minor": 2
}
