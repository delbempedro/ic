{
 "cells": [
  {
   "cell_type": "markdown",
   "metadata": {},
   "source": [
    "#imports"
   ]
  },
  {
   "cell_type": "code",
   "execution_count": 1,
   "metadata": {},
   "outputs": [],
   "source": [
    "from current_circuit import *\n",
    "from qiskit_ibm_runtime import QiskitRuntimeService"
   ]
  },
  {
   "cell_type": "code",
   "execution_count": 2,
   "metadata": {},
   "outputs": [],
   "source": [
    "import math"
   ]
  },
  {
   "cell_type": "markdown",
   "metadata": {},
   "source": [
    "#code"
   ]
  },
  {
   "cell_type": "code",
   "execution_count": 3,
   "metadata": {},
   "outputs": [],
   "source": [
    "service = QiskitRuntimeService()"
   ]
  },
  {
   "cell_type": "markdown",
   "metadata": {},
   "source": [
    "defines the input, weights and exprected output"
   ]
  },
  {
   "cell_type": "code",
   "execution_count": 4,
   "metadata": {},
   "outputs": [
    {
     "name": "stdout",
     "output_type": "stream",
     "text": [
      "0 0 0 0\n",
      "{'0': 1024}\n",
      "1 0 0 1\n",
      "{'0': 980, '1': 44}\n",
      "0 1 0 1\n",
      "{'1': 64, '0': 960}\n",
      "1 1 0 0\n",
      "{'0': 774, '1': 250}\n"
     ]
    }
   ],
   "source": [
    "weight1 = math.pi\n",
    "weight2 = math.pi\n",
    "for i1,i2 in ((0,0),(1,0),(0,1),(1,1)):\n",
    "    qc = current_circuit(3,1)\n",
    "    qc.add_neuron(i1,i2,weight1,weight2,0,0)\n",
    "    run = qc.run_circuit(\"3\",service)\n",
    "    print(i1,i2,int(max(run.keys(), key=run.get)),i1^i2)\n",
    "    print(run)"
   ]
  },
  {
   "cell_type": "code",
   "execution_count": 5,
   "metadata": {},
   "outputs": [
    {
     "name": "stdout",
     "output_type": "stream",
     "text": [
      "0 0 0 0\n",
      "{'0': 1024}\n",
      "1 0 0 1\n",
      "{'0': 947, '1': 77}\n",
      "0 1 0 1\n",
      "{'0': 965, '1': 59}\n",
      "1 1 0 0\n",
      "{'0': 798, '1': 226}\n"
     ]
    }
   ],
   "source": [
    "weight1 = math.pi\n",
    "weight2 = math.pi\n",
    "for i1,i2 in ((0,0),(1,0),(0,1),(1,1)):\n",
    "    qc = current_circuit(3,1)\n",
    "    qc.add_neuron(i1,i2,weight1,weight2,0,0)\n",
    "    run = qc.run_circuit(\"3\",service)\n",
    "    print(i1,i2,int(max(run.keys(), key=run.get)),i1^i2)\n",
    "    print(run)"
   ]
  },
  {
   "cell_type": "code",
   "execution_count": 6,
   "metadata": {},
   "outputs": [
    {
     "data": {
      "text/plain": [
       "{'0': 813, '1': 211}"
      ]
     },
     "execution_count": 6,
     "metadata": {},
     "output_type": "execute_result"
    }
   ],
   "source": [
    "qc.run_circuit(\"3\",service)"
   ]
  },
  {
   "cell_type": "code",
   "execution_count": 7,
   "metadata": {},
   "outputs": [],
   "source": [
    "input1 = 1.0\n",
    "input2 = 1.0\n",
    "\n",
    "weight1 = 2.3\n",
    "weight2 = 0.3\n",
    "\n",
    "expected_output = int(input1)^int(input2)"
   ]
  },
  {
   "cell_type": "markdown",
   "metadata": {},
   "source": [
    "create the quantum neuron"
   ]
  },
  {
   "cell_type": "code",
   "execution_count": 8,
   "metadata": {},
   "outputs": [
    {
     "data": {
      "text/plain": [
       "'\\nqc.add_bin_neuron(input1,input2,weight1,weight2,0,0)'"
      ]
     },
     "execution_count": 8,
     "metadata": {},
     "output_type": "execute_result"
    }
   ],
   "source": [
    "qc = current_circuit(3,1)\n",
    "qc.get_current_circuit().h(0)\n",
    "qc.get_current_circuit().measure(0,0)\n",
    "\"\"\"\n",
    "qc.add_bin_neuron(input1,input2,weight1,weight2,0,0)\"\"\""
   ]
  },
  {
   "cell_type": "markdown",
   "metadata": {},
   "source": [
    "save the result in output"
   ]
  },
  {
   "cell_type": "code",
   "execution_count": 17,
   "metadata": {},
   "outputs": [
    {
     "data": {
      "text/plain": [
       "{'0': 525, '1': 499}"
      ]
     },
     "execution_count": 17,
     "metadata": {},
     "output_type": "execute_result"
    }
   ],
   "source": [
    "outputs = qc.run_circuit(\"3\",service)\n",
    "outputs"
   ]
  },
  {
   "cell_type": "code",
   "execution_count": 10,
   "metadata": {},
   "outputs": [],
   "source": [
    "output = int(list(qc.run_circuit(\"3\",service).keys())[0])"
   ]
  },
  {
   "cell_type": "code",
   "execution_count": 11,
   "metadata": {},
   "outputs": [
    {
     "data": {
      "text/plain": [
       "(0, 0)"
      ]
     },
     "execution_count": 11,
     "metadata": {},
     "output_type": "execute_result"
    }
   ],
   "source": [
    "output, expected_output"
   ]
  },
  {
   "cell_type": "markdown",
   "metadata": {},
   "source": [
    "print the circuit"
   ]
  },
  {
   "cell_type": "code",
   "execution_count": 12,
   "metadata": {},
   "outputs": [
    {
     "data": {
      "image/png": "[encoded data removed]",
      "text/plain": [
       "<Figure size 287.496x367.889 with 1 Axes>"
      ]
     },
     "execution_count": 12,
     "metadata": {},
     "output_type": "execute_result"
    }
   ],
   "source": [
    "qc.get_current_circuit().draw('mpl')"
   ]
  }
 ],
 "metadata": {
  "kernelspec": {
   "display_name": "condaenv",
   "language": "python",
   "name": "python3"
  },
  "language_info": {
   "codemirror_mode": {
    "name": "ipython",
    "version": 3
   },
   "file_extension": ".py",
   "mimetype": "text/x-python",
   "name": "python",
   "nbconvert_exporter": "python",
   "pygments_lexer": "ipython3",
   "version": "3.12.5"
  }
 },
 "nbformat": 4,
 "nbformat_minor": 2
}
