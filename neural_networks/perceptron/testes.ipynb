{
 "cells": [
  {
   "cell_type": "markdown",
   "metadata": {},
   "source": [
    "teste.ipynb\n",
    "\n",
    "Notebook to do tests\n",
    "\n",
    "Dependencies:\n",
    "- Uses trainer_qNN to get trainer qNN object and their functions\n",
    "- Uses neuron_circuit to get the circuit to neuron of qNN\n",
    "\n",
    "Since:\n",
    "- 04/2025\n",
    "\n",
    "Authors:\n",
    "- Pedro C. Delbem. <pedrodelbem@usp.br>"
   ]
  },
  {
   "cell_type": "code",
   "execution_count": 1,
   "metadata": {},
   "outputs": [],
   "source": [
    "import trainer_qNN\n",
    "import neuron_circuit"
   ]
  },
  {
   "cell_type": "code",
   "execution_count": 2,
   "metadata": {},
   "outputs": [],
   "source": [
    "import numpy as np"
   ]
  },
  {
   "cell_type": "code",
   "execution_count": 8,
   "metadata": {},
   "outputs": [
    {
     "name": "stdout",
     "output_type": "stream",
     "text": [
      "        ┌───┐┌───────┐┌───────┐ ░ ┌─┐\n",
      "     q: ┤ H ├┤ Rz(π) ├┤ Ry(π) ├─░─┤M├\n",
      "        └───┘└───────┘└───────┘ ░ └╥┘\n",
      "   c: 1/═══════════════════════════╬═\n",
      "                                   ║ \n",
      "meas: 1/═══════════════════════════╩═\n",
      "                                   0 \n"
     ]
    }
   ],
   "source": [
    "neuron = neuron_circuit.neuron_circuit(1,1)\n",
    "input = [1,1]\n",
    "angles = [np.pi/2, np.pi/2, np.pi/2]\n",
    "neuron.add_phase_qubit_neuron(input, angles)\n",
    "neuron.get_current_circuit().measure_all()\n",
    "neuron.print_current_circuit()"
   ]
  },
  {
   "cell_type": "code",
   "execution_count": 18,
   "metadata": {},
   "outputs": [
    {
     "name": "stdout",
     "output_type": "stream",
     "text": [
      "     ┌─────────┐     ┌─────────┐             \n",
      "q_0: ┤ Ry(π/2) ├──■──┤ Ry(π/2) ├──■────■─────\n",
      "     ├─────────┤┌─┴─┐├─────────┤┌─┴─┐  │     \n",
      "q_1: ┤ Ry(π/2) ├┤ X ├┤ Ry(π/2) ├┤ X ├──■─────\n",
      "     └─────────┘└───┘└─────────┘└───┘┌─┴─┐┌─┐\n",
      "q_2: ────────────────────────────────┤ X ├┤M├\n",
      "                                     └───┘└╥┘\n",
      "c: 1/══════════════════════════════════════╩═\n",
      "                                           0 \n"
     ]
    }
   ],
   "source": [
    "neuron = neuron_circuit.neuron_circuit(3,1)\n",
    "angles = [np.pi/2, np.pi/2, np.pi/2, np.pi/2]\n",
    "neuron.add_amplitude_qubit_neuron(angles)\n",
    "neuron.get_current_circuit().measure(2,0)\n",
    "neuron.print_current_circuit()"
   ]
  }
 ],
 "metadata": {
  "kernelspec": {
   "display_name": "condaenv",
   "language": "python",
   "name": "python3"
  },
  "language_info": {
   "codemirror_mode": {
    "name": "ipython",
    "version": 3
   },
   "file_extension": ".py",
   "mimetype": "text/x-python",
   "name": "python",
   "nbconvert_exporter": "python",
   "pygments_lexer": "ipython3",
   "version": "3.12.5"
  }
 },
 "nbformat": 4,
 "nbformat_minor": 2
}
