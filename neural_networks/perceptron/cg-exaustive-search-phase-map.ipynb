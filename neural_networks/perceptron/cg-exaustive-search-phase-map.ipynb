{
 "cells": [
  {
   "cell_type": "markdown",
   "metadata": {},
   "source": [
    "training_qNN.ipynb\n",
    "\n",
    "Notebook that generate map for cg-exaustive-search method of traind qNN for phase enconding.\n",
    "\n",
    "Dependencies:\n",
    "- Uses trainer_qNN to get trainer qNN object and their functions\n",
    "\n",
    "Since:\n",
    "- 04/2025\n",
    "\n",
    "Authors:\n",
    "- Pedro C. Delbem. <pedrodelbem@usp.br>"
   ]
  },
  {
   "cell_type": "code",
   "execution_count": null,
   "metadata": {},
   "outputs": [],
   "source": [
    "import trainer_qNN"
   ]
  },
  {
   "cell_type": "markdown",
   "metadata": {},
   "source": [
    "#CG-Exaustive-Search map of errors"
   ]
  },
  {
   "cell_type": "code",
   "execution_count": null,
   "metadata": {},
   "outputs": [],
   "source": [
    "encoding = \"phase\"\n",
    "tolerance = 0.0\n",
    "grid_grain = 100\n",
    "number_of_inputs = 2\n",
    "inputs = [\"00\", \"01\", \"10\", \"11\"]\n",
    "name_of_config_file = f\"results_with_counts_grid_grain_{grid_grain}.cfg\"\n",
    "with open(f\"results/{name_of_config_file}\", \"w\") as f:\n",
    "    f.write(f\"Results for {encoding} encoding, tolerance={tolerance}, grid_grain={grid_grain}\\n\")\n",
    "    f.write(f\"Training with exhaustive_search method\\n\")\n",
    "\n",
    "name_of_result_file = f\"results_with_counts_grid_grain_{grid_grain}.csv\"\n",
    "with open(f\"results/{name_of_result_file}\", \"w\") as f:\n",
    "    trainer = trainer_qNN.trainer_qNN(type_of_encoding=encoding, save_history=True, tolerance=tolerance, grid_grain=grid_grain)\n",
    "    trainer.train(type_of_training=\"cg-exhaustive_search\")\n",
    "    f.write(f\"Iteration; Theta1; Theta2; Alpha; Input 00 Output 0 Frequency; Input 00 Output 1 Frequency; Input 01 Output 0 Frequency; Input 01 Output 1 Frequency; Input 10 Output 0 Frequency; Input 10 Output 1 Frequency; Input 11 Output 0 Frequency; Input 11 Output 1 Frequency; Error\\n\")\n",
    "    for i in range(trainer.get_results()[\"Number of Iterations\"]):\n",
    "        list_of_counts = list(trainer.get_results()[\"History List\"][\"Counts\"][i])\n",
    "        dict_of_counts = {'00': list_of_counts[0][0], '01': list_of_counts[1][0], '10': list_of_counts[2][0], '11': list_of_counts[3][0]}\n",
    "        parameters = [float(x) for x in trainer.get_results()[\"History List\"][\"Parameters\"][i]]\n",
    "        string = f\"{i+1}; {parameters[0]}; {parameters[1]}; {parameters[2]};\"\n",
    "        if '0' in dict_of_counts['00']:\n",
    "            string += f\" {dict_of_counts['00']['0']};\"\n",
    "        else:\n",
    "            string += f\" 0;\"\n",
    "        if '1' in dict_of_counts['00']:\n",
    "            string += f\" {dict_of_counts['00']['1']};\"\n",
    "        else:\n",
    "            string += f\" 0;\"\n",
    "        if '0' in dict_of_counts['01']:\n",
    "            string += f\" {dict_of_counts['01']['0']};\"\n",
    "        else:\n",
    "            string += f\" 0;\"\n",
    "        if '1' in dict_of_counts['01']:\n",
    "            string += f\" {dict_of_counts['01']['1']};\"\n",
    "        else:\n",
    "            string += f\" 0;\"\n",
    "        if '0' in dict_of_counts['10']:\n",
    "            string += f\" {dict_of_counts['10']['0']};\"\n",
    "        else:\n",
    "            string += f\" 0;\"\n",
    "        if '1' in dict_of_counts['10']:\n",
    "            string += f\" {dict_of_counts['10']['1']};\"\n",
    "        else:\n",
    "            string += f\" 0;\"\n",
    "        if '0' in dict_of_counts['11']:\n",
    "            string += f\" {dict_of_counts['11']['0']};\"\n",
    "        else:\n",
    "            string += f\" 0;\"\n",
    "        if '1' in dict_of_counts['11']:\n",
    "            string += f\" {dict_of_counts['11']['1']};\"\n",
    "        else:\n",
    "            string += f\" 0;\"\n",
    "        string += f\" {trainer.get_results()['History List']['Error'][i]}\\n\"\n",
    "        f.write(string)\n",
    "\n",
    "best_parameters = [float(x) for x in trainer.get_results()[\"History List\"][\"Best Parameters\"][i]]\n",
    "with open(f\"results/{name_of_config_file}\", \"w\") as f:\n",
    "    f.write(f\"Best Parameters Found: {best_parameters[0]}; {best_parameters[1]}; {best_parameters[2]};\")"
   ]
  }
 ],
 "metadata": {
  "language_info": {
   "name": "python"
  }
 },
 "nbformat": 4,
 "nbformat_minor": 2
}
