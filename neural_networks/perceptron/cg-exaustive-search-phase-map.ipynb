{
 "cells": [
  {
   "cell_type": "markdown",
   "metadata": {},
   "source": [
    "cg-exaustive-search-phase-map.ipynb\n",
    "\n",
    "Notebook that generate map for cg-exaustive-search method of traind qNN for phase enconding.\n",
    "\n",
    "Dependencies:\n",
    "- Uses trainer_qNN to get trainer qNN object and their functions\n",
    "\n",
    "Since:\n",
    "- 04/2025\n",
    "\n",
    "Authors:\n",
    "- Pedro C. Delbem. <pedrodelbem@usp.br>"
   ]
  },
  {
   "cell_type": "code",
   "execution_count": 1,
   "metadata": {},
   "outputs": [],
   "source": [
    "import trainer_qNN"
   ]
  },
  {
   "cell_type": "code",
   "execution_count": 2,
   "metadata": {},
   "outputs": [],
   "source": [
    "import numpy as np"
   ]
  },
  {
   "cell_type": "markdown",
   "metadata": {},
   "source": [
    "#CG-Exaustive-Search map of errors"
   ]
  },
  {
   "cell_type": "code",
   "execution_count": null,
   "metadata": {},
   "outputs": [
    {
     "ename": "KeyboardInterrupt",
     "evalue": "",
     "output_type": "error",
     "traceback": [
      "\u001b[0;31m---------------------------------------------------------------------------\u001b[0m",
      "\u001b[0;31mKeyboardInterrupt\u001b[0m                         Traceback (most recent call last)",
      "Cell \u001b[0;32mIn[3], line 17\u001b[0m\n\u001b[1;32m     15\u001b[0m \u001b[38;5;28;01mwith\u001b[39;00m \u001b[38;5;28mopen\u001b[39m(\u001b[38;5;124mf\u001b[39m\u001b[38;5;124m\"\u001b[39m\u001b[38;5;124mresults/\u001b[39m\u001b[38;5;132;01m{\u001b[39;00mname_of_result_file\u001b[38;5;132;01m}\u001b[39;00m\u001b[38;5;124m\"\u001b[39m, \u001b[38;5;124m\"\u001b[39m\u001b[38;5;124mw\u001b[39m\u001b[38;5;124m\"\u001b[39m) \u001b[38;5;28;01mas\u001b[39;00m f:\n\u001b[1;32m     16\u001b[0m     trainer \u001b[38;5;241m=\u001b[39m trainer_qNN\u001b[38;5;241m.\u001b[39mtrainer_qNN(type_of_encoding\u001b[38;5;241m=\u001b[39mencoding, save_history\u001b[38;5;241m=\u001b[39m\u001b[38;5;28;01mTrue\u001b[39;00m, tolerance\u001b[38;5;241m=\u001b[39mtolerance, grid_grain\u001b[38;5;241m=\u001b[39mgrid_grain, grid_ranges\u001b[38;5;241m=\u001b[39mranges)\n\u001b[0;32m---> 17\u001b[0m     \u001b[43mtrainer\u001b[49m\u001b[38;5;241;43m.\u001b[39;49m\u001b[43mtrain\u001b[49m\u001b[43m(\u001b[49m\u001b[43mtype_of_training\u001b[49m\u001b[38;5;241;43m=\u001b[39;49m\u001b[38;5;124;43m\"\u001b[39;49m\u001b[38;5;124;43mcg-exhaustive_search\u001b[39;49m\u001b[38;5;124;43m\"\u001b[39;49m\u001b[43m)\u001b[49m\n\u001b[1;32m     18\u001b[0m     f\u001b[38;5;241m.\u001b[39mwrite(\u001b[38;5;124mf\u001b[39m\u001b[38;5;124m\"\u001b[39m\u001b[38;5;124mIteration; Theta1; Theta2; Alpha; Input 00 Output 0 Frequency; Input 00 Output 1 Frequency; Input 01 Output 0 Frequency; Input 01 Output 1 Frequency; Input 10 Output 0 Frequency; Input 10 Output 1 Frequency; Input 11 Output 0 Frequency; Input 11 Output 1 Frequency; Error\u001b[39m\u001b[38;5;130;01m\\n\u001b[39;00m\u001b[38;5;124m\"\u001b[39m)\n\u001b[1;32m     19\u001b[0m     \u001b[38;5;28;01mfor\u001b[39;00m i \u001b[38;5;129;01min\u001b[39;00m \u001b[38;5;28mrange\u001b[39m(trainer\u001b[38;5;241m.\u001b[39mget_results()[\u001b[38;5;124m\"\u001b[39m\u001b[38;5;124mNumber of Iterations\u001b[39m\u001b[38;5;124m\"\u001b[39m]):\n",
      "File \u001b[0;32m~/Documentos/GitHub/ic/neural_networks/perceptron/trainer_qNN.py:103\u001b[0m, in \u001b[0;36mtrainer_qNN.train\u001b[0;34m(self, type_of_training)\u001b[0m\n\u001b[1;32m     99\u001b[0m \u001b[38;5;250m\u001b[39m\u001b[38;5;124;03m\"\"\"\u001b[39;00m\n\u001b[1;32m    100\u001b[0m \u001b[38;5;124;03mTrain the quantum neural network.\u001b[39;00m\n\u001b[1;32m    101\u001b[0m \u001b[38;5;124;03m\"\"\"\u001b[39;00m\n\u001b[1;32m    102\u001b[0m \u001b[38;5;28;01mtry\u001b[39;00m:\n\u001b[0;32m--> 103\u001b[0m     \u001b[38;5;28;43mself\u001b[39;49m\u001b[38;5;241;43m.\u001b[39;49m\u001b[43m_training_methods\u001b[49m\u001b[43m[\u001b[49m\u001b[43mtype_of_training\u001b[49m\u001b[43m]\u001b[49m\u001b[43m(\u001b[49m\u001b[43m)\u001b[49m\n\u001b[1;32m    104\u001b[0m \u001b[38;5;28;01mexcept\u001b[39;00m \u001b[38;5;167;01mKeyError\u001b[39;00m:\n\u001b[1;32m    105\u001b[0m     \u001b[38;5;28;01mraise\u001b[39;00m \u001b[38;5;167;01mValueError\u001b[39;00m(\u001b[38;5;124m\"\u001b[39m\u001b[38;5;124mInvalid type of training.\u001b[39m\u001b[38;5;124m\"\u001b[39m)\n",
      "File \u001b[0;32m~/Documentos/GitHub/ic/neural_networks/perceptron/trainer_qNN.py:148\u001b[0m, in \u001b[0;36mtrainer_qNN._cg_exhaustive_search\u001b[0;34m(self, grid_start_index)\u001b[0m\n\u001b[1;32m    144\u001b[0m \u001b[38;5;28mself\u001b[39m\u001b[38;5;241m.\u001b[39m_final_number_of_iterations \u001b[38;5;241m+\u001b[39m\u001b[38;5;241m=\u001b[39m \u001b[38;5;241m1\u001b[39m\n\u001b[1;32m    146\u001b[0m \u001b[38;5;28;01mif\u001b[39;00m \u001b[38;5;28mself\u001b[39m\u001b[38;5;241m.\u001b[39m_save_history:\n\u001b[1;32m    147\u001b[0m     \u001b[38;5;66;03m#compute total error and counts\u001b[39;00m\n\u001b[0;32m--> 148\u001b[0m     current_error, counts \u001b[38;5;241m=\u001b[39m \u001b[38;5;28;43mself\u001b[39;49m\u001b[38;5;241;43m.\u001b[39;49m\u001b[43m_evaluate_function\u001b[49m\u001b[43m[\u001b[49m\u001b[38;5;28;43mself\u001b[39;49m\u001b[38;5;241;43m.\u001b[39;49m\u001b[43m_type_of_encoding\u001b[49m\u001b[43m]\u001b[49m\u001b[43m(\u001b[49m\u001b[38;5;28;43mself\u001b[39;49m\u001b[38;5;241;43m.\u001b[39;49m\u001b[43m_inputs\u001b[49m\u001b[43m,\u001b[49m\u001b[43m \u001b[49m\u001b[38;5;28;43mself\u001b[39;49m\u001b[38;5;241;43m.\u001b[39;49m\u001b[43m_expected_outputs\u001b[49m\u001b[43m,\u001b[49m\u001b[43m \u001b[49m\u001b[43mparameters\u001b[49m\u001b[43m,\u001b[49m\u001b[43m \u001b[49m\u001b[43mnumber_of_runs\u001b[49m\u001b[38;5;241;43m=\u001b[39;49m\u001b[38;5;28;43mself\u001b[39;49m\u001b[38;5;241;43m.\u001b[39;49m\u001b[43m_number_of_runs\u001b[49m\u001b[43m,\u001b[49m\u001b[43m \u001b[49m\u001b[43mnumber_of_shots\u001b[49m\u001b[38;5;241;43m=\u001b[39;49m\u001b[38;5;28;43mself\u001b[39;49m\u001b[38;5;241;43m.\u001b[39;49m\u001b[43m_number_of_shots\u001b[49m\u001b[43m,\u001b[49m\u001b[43m \u001b[49m\u001b[43mnumber_of_inputs\u001b[49m\u001b[38;5;241;43m=\u001b[39;49m\u001b[38;5;28;43mself\u001b[39;49m\u001b[38;5;241;43m.\u001b[39;49m\u001b[43m_number_of_inputs\u001b[49m\u001b[43m,\u001b[49m\u001b[43m \u001b[49m\u001b[43mtype_of_run\u001b[49m\u001b[38;5;241;43m=\u001b[39;49m\u001b[38;5;28;43mself\u001b[39;49m\u001b[38;5;241;43m.\u001b[39;49m\u001b[43m_type_of_run\u001b[49m\u001b[43m,\u001b[49m\u001b[43m \u001b[49m\u001b[43msave_counts\u001b[49m\u001b[38;5;241;43m=\u001b[39;49m\u001b[38;5;28;43;01mTrue\u001b[39;49;00m\u001b[43m)\u001b[49m\n\u001b[1;32m    149\u001b[0m     \u001b[38;5;28mself\u001b[39m\u001b[38;5;241m.\u001b[39m_history_dictonary[\u001b[38;5;124m\"\u001b[39m\u001b[38;5;124mCounts\u001b[39m\u001b[38;5;124m\"\u001b[39m]\u001b[38;5;241m.\u001b[39mappend(counts)\n\u001b[1;32m    151\u001b[0m \u001b[38;5;28;01melse\u001b[39;00m:\n\u001b[1;32m    152\u001b[0m     \u001b[38;5;66;03m#compute total error\u001b[39;00m\n",
      "File \u001b[0;32m~/Documentos/GitHub/ic/neural_networks/perceptron/trainer_utils.py:109\u001b[0m, in \u001b[0;36mphase_qNN_evaluate\u001b[0;34m(inputs, expected_outputs, parameters, number_of_runs, number_of_shots, number_of_inputs, type_of_run, number_of_inputs_per_qubit, save_counts)\u001b[0m\n\u001b[1;32m    106\u001b[0m \u001b[38;5;28;01mfor\u001b[39;00m interation \u001b[38;5;129;01min\u001b[39;00m \u001b[38;5;28mrange\u001b[39m(\u001b[38;5;28mlen\u001b[39m(inputs)):\n\u001b[1;32m    108\u001b[0m     qNN_circuit \u001b[38;5;241m=\u001b[39m generate_phase_qNN_circuit(inputs[interation],parameters,number_of_inputs,number_of_inputs_per_qubit\u001b[38;5;241m=\u001b[39mnumber_of_inputs_per_qubit) \u001b[38;5;66;03m#generate circuit\u001b[39;00m\n\u001b[0;32m--> 109\u001b[0m     counts \u001b[38;5;241m=\u001b[39m \u001b[43mqNN_circuit\u001b[49m\u001b[38;5;241;43m.\u001b[39;49m\u001b[43mevaluate\u001b[49m\u001b[43m(\u001b[49m\u001b[43mnumber_of_runs\u001b[49m\u001b[38;5;241;43m=\u001b[39;49m\u001b[43mnumber_of_runs\u001b[49m\u001b[43m,\u001b[49m\u001b[43m \u001b[49m\u001b[43mnumber_of_shots\u001b[49m\u001b[38;5;241;43m=\u001b[39;49m\u001b[43mnumber_of_shots\u001b[49m\u001b[43m,\u001b[49m\u001b[43m \u001b[49m\u001b[43mtype_of_run\u001b[49m\u001b[38;5;241;43m=\u001b[39;49m\u001b[43mtype_of_run\u001b[49m\u001b[43m)\u001b[49m \u001b[38;5;66;03m#run circuit\u001b[39;00m\n\u001b[1;32m    110\u001b[0m     counts_list\u001b[38;5;241m.\u001b[39mappend(counts) \u001b[38;5;66;03m#add counts to list\u001b[39;00m\n\u001b[1;32m    111\u001b[0m     total_error \u001b[38;5;241m+\u001b[39m\u001b[38;5;241m=\u001b[39m phase_qNN_compute_error(counts,list_of_expected_outputs[interation]) \u001b[38;5;66;03m#add error\u001b[39;00m\n",
      "File \u001b[0;32m~/Documentos/GitHub/ic/neural_networks/perceptron/neuron_circuit.py:129\u001b[0m, in \u001b[0;36mneuron_circuit.evaluate\u001b[0;34m(self, number_of_shots, number_of_runs, type_of_run)\u001b[0m\n\u001b[1;32m    125\u001b[0m     sampler \u001b[38;5;241m=\u001b[39m StatevectorSampler()\n\u001b[1;32m    128\u001b[0m \u001b[38;5;66;03m#get the counts\u001b[39;00m\n\u001b[0;32m--> 129\u001b[0m counts \u001b[38;5;241m=\u001b[39m \u001b[43mgenerate_counts\u001b[49m\u001b[43m(\u001b[49m\u001b[38;5;28;43mself\u001b[39;49m\u001b[38;5;241;43m.\u001b[39;49m\u001b[43m_qc\u001b[49m\u001b[43m,\u001b[49m\u001b[43msampler\u001b[49m\u001b[43m,\u001b[49m\u001b[43mnumber_of_runs\u001b[49m\u001b[38;5;241;43m=\u001b[39;49m\u001b[43mnumber_of_runs\u001b[49m\u001b[43m,\u001b[49m\u001b[43mnumber_of_shots\u001b[49m\u001b[38;5;241;43m=\u001b[39;49m\u001b[43mnumber_of_shots\u001b[49m\u001b[43m)\u001b[49m\n\u001b[1;32m    131\u001b[0m \u001b[38;5;66;03m#return the counts\u001b[39;00m\n\u001b[1;32m    132\u001b[0m \u001b[38;5;28;01mreturn\u001b[39;00m counts\n",
      "File \u001b[0;32m~/Documentos/GitHub/ic/neural_networks/perceptron/neuron_utils.py:120\u001b[0m, in \u001b[0;36mgenerate_counts\u001b[0;34m(quantum_circuit, sampler, number_of_runs, number_of_shots)\u001b[0m\n\u001b[1;32m    116\u001b[0m \u001b[38;5;66;03m#get and show raw results - counts\u001b[39;00m\n\u001b[1;32m    117\u001b[0m \u001b[38;5;28;01mfor\u001b[39;00m job \u001b[38;5;129;01min\u001b[39;00m jobs:\n\u001b[1;32m    118\u001b[0m \n\u001b[1;32m    119\u001b[0m     \u001b[38;5;66;03m#get the data\u001b[39;00m\n\u001b[0;32m--> 120\u001b[0m     data_pub \u001b[38;5;241m=\u001b[39m \u001b[43mjob\u001b[49m\u001b[38;5;241;43m.\u001b[39;49m\u001b[43mresult\u001b[49m\u001b[43m(\u001b[49m\u001b[43m)\u001b[49m[\u001b[38;5;241m0\u001b[39m]\u001b[38;5;241m.\u001b[39mdata \u001b[38;5;66;03m# 'pub' refers to Primitive Unified Bloc\u001b[39;00m\n\u001b[1;32m    121\u001b[0m     job_counts \u001b[38;5;241m=\u001b[39m data_pub\u001b[38;5;241m.\u001b[39mmeas\u001b[38;5;241m.\u001b[39mget_counts()\n\u001b[1;32m    123\u001b[0m     \u001b[38;5;66;03m#append the counts to the counts list\u001b[39;00m\n",
      "File \u001b[0;32m~/.conda/envs/condaenv/lib/python3.12/site-packages/qiskit/primitives/primitive_job.py:51\u001b[0m, in \u001b[0;36mPrimitiveJob.result\u001b[0;34m(self)\u001b[0m\n\u001b[1;32m     49\u001b[0m \u001b[38;5;28;01mdef\u001b[39;00m \u001b[38;5;21mresult\u001b[39m(\u001b[38;5;28mself\u001b[39m) \u001b[38;5;241m-\u001b[39m\u001b[38;5;241m>\u001b[39m ResultT:\n\u001b[1;32m     50\u001b[0m     \u001b[38;5;28mself\u001b[39m\u001b[38;5;241m.\u001b[39m_check_submitted()\n\u001b[0;32m---> 51\u001b[0m     \u001b[38;5;28;01mreturn\u001b[39;00m \u001b[38;5;28;43mself\u001b[39;49m\u001b[38;5;241;43m.\u001b[39;49m\u001b[43m_future\u001b[49m\u001b[38;5;241;43m.\u001b[39;49m\u001b[43mresult\u001b[49m\u001b[43m(\u001b[49m\u001b[43m)\u001b[49m\n",
      "File \u001b[0;32m~/.conda/envs/condaenv/lib/python3.12/concurrent/futures/_base.py:451\u001b[0m, in \u001b[0;36mFuture.result\u001b[0;34m(self, timeout)\u001b[0m\n\u001b[1;32m    448\u001b[0m \u001b[38;5;28;01melif\u001b[39;00m \u001b[38;5;28mself\u001b[39m\u001b[38;5;241m.\u001b[39m_state \u001b[38;5;241m==\u001b[39m FINISHED:\n\u001b[1;32m    449\u001b[0m     \u001b[38;5;28;01mreturn\u001b[39;00m \u001b[38;5;28mself\u001b[39m\u001b[38;5;241m.\u001b[39m__get_result()\n\u001b[0;32m--> 451\u001b[0m \u001b[38;5;28;43mself\u001b[39;49m\u001b[38;5;241;43m.\u001b[39;49m\u001b[43m_condition\u001b[49m\u001b[38;5;241;43m.\u001b[39;49m\u001b[43mwait\u001b[49m\u001b[43m(\u001b[49m\u001b[43mtimeout\u001b[49m\u001b[43m)\u001b[49m\n\u001b[1;32m    453\u001b[0m \u001b[38;5;28;01mif\u001b[39;00m \u001b[38;5;28mself\u001b[39m\u001b[38;5;241m.\u001b[39m_state \u001b[38;5;129;01min\u001b[39;00m [CANCELLED, CANCELLED_AND_NOTIFIED]:\n\u001b[1;32m    454\u001b[0m     \u001b[38;5;28;01mraise\u001b[39;00m CancelledError()\n",
      "File \u001b[0;32m~/.conda/envs/condaenv/lib/python3.12/threading.py:355\u001b[0m, in \u001b[0;36mCondition.wait\u001b[0;34m(self, timeout)\u001b[0m\n\u001b[1;32m    353\u001b[0m \u001b[38;5;28;01mtry\u001b[39;00m:    \u001b[38;5;66;03m# restore state no matter what (e.g., KeyboardInterrupt)\u001b[39;00m\n\u001b[1;32m    354\u001b[0m     \u001b[38;5;28;01mif\u001b[39;00m timeout \u001b[38;5;129;01mis\u001b[39;00m \u001b[38;5;28;01mNone\u001b[39;00m:\n\u001b[0;32m--> 355\u001b[0m         \u001b[43mwaiter\u001b[49m\u001b[38;5;241;43m.\u001b[39;49m\u001b[43macquire\u001b[49m\u001b[43m(\u001b[49m\u001b[43m)\u001b[49m\n\u001b[1;32m    356\u001b[0m         gotit \u001b[38;5;241m=\u001b[39m \u001b[38;5;28;01mTrue\u001b[39;00m\n\u001b[1;32m    357\u001b[0m     \u001b[38;5;28;01melse\u001b[39;00m:\n",
      "\u001b[0;31mKeyboardInterrupt\u001b[0m: "
     ]
    }
   ],
   "source": [
    "encoding = \"phase\"\n",
    "tolerance = 0.0\n",
    "grid_grain = 2\n",
    "number_of_inputs = 2\n",
    "inputs = [\"00\", \"01\", \"10\", \"11\"]\n",
    "name_of_config_file = f\"results_with_counts_grid_grain_{grid_grain}_near_solution.cfg\"\n",
    "with open(f\"results/{name_of_config_file}\", \"w\") as f:\n",
    "    f.write(f\"Results for {encoding} encoding, tolerance={tolerance}, grid_grain={grid_grain}\\n\")\n",
    "    f.write(f\"Training with exhaustive_search method\\n\")\n",
    "\n",
    "delta = ( np.pi - (-np.pi) )/grid_grain\n",
    "ranges = [ [np.pi-delta,np.pi+delta], [np.pi-delta,np.pi+delta], [-np.pi/2-delta,-np.pi/2+delta], ]\n",
    "\n",
    "name_of_result_file = f\"results_with_counts_grid_grain_{grid_grain}_near_solution.csv\"\n",
    "with open(f\"results/{name_of_result_file}\", \"w\") as f:\n",
    "    trainer = trainer_qNN.trainer_qNN(type_of_encoding=encoding, save_history=True, tolerance=tolerance, grid_grain=grid_grain, grid_ranges=ranges)\n",
    "    trainer.train(type_of_training=\"cg-exhaustive_search\")\n",
    "    f.write(f\"Iteration; Theta1; Theta2; Alpha; Input 00 Output 0 Frequency; Input 00 Output 1 Frequency; Input 01 Output 0 Frequency; Input 01 Output 1 Frequency; Input 10 Output 0 Frequency; Input 10 Output 1 Frequency; Input 11 Output 0 Frequency; Input 11 Output 1 Frequency; Error\\n\")\n",
    "    for i in range(trainer.get_results()[\"Number of Iterations\"]):\n",
    "        list_of_counts = list(trainer.get_results()[\"History List\"][\"Counts\"][i])\n",
    "        dict_of_counts = {'00': list_of_counts[0][0], '01': list_of_counts[1][0], '10': list_of_counts[2][0], '11': list_of_counts[3][0]}\n",
    "        parameters = [float(x) for x in trainer.get_results()[\"History List\"][\"Parameters\"][i]]\n",
    "        string = f\"{i+1}; {parameters[0]}; {parameters[1]}; {parameters[2]};\"\n",
    "        if '0' in dict_of_counts['00']:\n",
    "            string += f\" {dict_of_counts['00']['0']};\"\n",
    "        else:\n",
    "            string += f\" 0;\"\n",
    "        if '1' in dict_of_counts['00']:\n",
    "            string += f\" {dict_of_counts['00']['1']};\"\n",
    "        else:\n",
    "            string += f\" 0;\"\n",
    "        if '0' in dict_of_counts['01']:\n",
    "            string += f\" {dict_of_counts['01']['0']};\"\n",
    "        else:\n",
    "            string += f\" 0;\"\n",
    "        if '1' in dict_of_counts['01']:\n",
    "            string += f\" {dict_of_counts['01']['1']};\"\n",
    "        else:\n",
    "            string += f\" 0;\"\n",
    "        if '0' in dict_of_counts['10']:\n",
    "            string += f\" {dict_of_counts['10']['0']};\"\n",
    "        else:\n",
    "            string += f\" 0;\"\n",
    "        if '1' in dict_of_counts['10']:\n",
    "            string += f\" {dict_of_counts['10']['1']};\"\n",
    "        else:\n",
    "            string += f\" 0;\"\n",
    "        if '0' in dict_of_counts['11']:\n",
    "            string += f\" {dict_of_counts['11']['0']};\"\n",
    "        else:\n",
    "            string += f\" 0;\"\n",
    "        if '1' in dict_of_counts['11']:\n",
    "            string += f\" {dict_of_counts['11']['1']};\"\n",
    "        else:\n",
    "            string += f\" 0;\"\n",
    "        string += f\" {trainer.get_results()['History List']['Error'][i]}\\n\"\n",
    "        f.write(string)\n",
    "\n",
    "best_parameters = [float(x) for x in trainer.get_results()[\"History List\"][\"Best Parameters\"][i]]\n",
    "with open(f\"results/{name_of_config_file}\", \"w\") as f:\n",
    "    f.write(f\"Best Parameters Found: {best_parameters[0]}; {best_parameters[1]}; {best_parameters[2]};\")"
   ]
  }
 ],
 "metadata": {
  "kernelspec": {
   "display_name": "condaenv",
   "language": "python",
   "name": "python3"
  },
  "language_info": {
   "codemirror_mode": {
    "name": "ipython",
    "version": 3
   },
   "file_extension": ".py",
   "mimetype": "text/x-python",
   "name": "python",
   "nbconvert_exporter": "python",
   "pygments_lexer": "ipython3",
   "version": "3.12.5"
  }
 },
 "nbformat": 4,
 "nbformat_minor": 2
}
