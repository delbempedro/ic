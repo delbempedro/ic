{
 "cells": [
  {
   "cell_type": "markdown",
   "metadata": {},
   "source": [
    "training_qNN.ipynb\n",
    "\n",
    "Notebook that define the necessary functions to traine a qNN and traines it.\n",
    "\n",
    "Dependencies:\n",
    "- Uses trainer_qNN to get trainer qNN object and their functions\n",
    "\n",
    "Since:\n",
    "- 04/2025\n",
    "\n",
    "Authors:\n",
    "- Pedro C. Delbem. <pedrodelbem@usp.br>"
   ]
  },
  {
   "cell_type": "code",
   "execution_count": 1,
   "metadata": {},
   "outputs": [],
   "source": [
    "import trainer_qNN"
   ]
  },
  {
   "cell_type": "code",
   "execution_count": 2,
   "metadata": {},
   "outputs": [],
   "source": [
    "from pathlib import Path"
   ]
  },
  {
   "cell_type": "markdown",
   "metadata": {},
   "source": [
    "#Run all methods with both encondings"
   ]
  },
  {
   "cell_type": "code",
   "execution_count": null,
   "metadata": {},
   "outputs": [],
   "source": [
    "grid_grain = 10\n",
    "number_of_inputs = 2\n",
    "tolerance = 0.25\n",
    "logic_gates = [\"AND\", \"OR\", \"XOR\", \"NAND\", \"NOR\", \"XNOR\"]\n",
    "population_size = 20\n",
    "\n",
    "for encoding in [\"amplitude\", \"phase\"]:\n",
    "\n",
    "    for logic_gate in logic_gates:\n",
    "\n",
    "        #create the directory if necessary\n",
    "        name_of_results_directory = Path(f\"results/{encoding}\")\n",
    "        name_of_results_directory.mkdir(parents=True, exist_ok=True)\n",
    "\n",
    "        #for method in [\"cg-exhaustive_search\", \"gradient_descent\", \"random_search\", \"simulated_annealing\", \"genetic_algorithm\"]:\n",
    "        for method in [\"genetic_algorithm\"]:\n",
    "\n",
    "            #make results file\n",
    "            with open(f\"{name_of_results_directory}/{logic_gate}_{method}_tolerance_{tolerance}_max_of_iterations_{grid_grain**number_of_inputs}.csv\", \"w\") as file:\n",
    "\n",
    "                file.write(\"Logic Gate; Method; Iteration; Error; Run\\n\")\n",
    "                for run in range(10):\n",
    "\n",
    "                    #create trainer\n",
    "                    trainer = trainer_qNN.trainer_qNN(type_of_encoding=encoding, save_history=True, tolerance=tolerance, grid_grain=grid_grain, grid_start_index=run, population_size=population_size)\n",
    "\n",
    "                    #train qNN\n",
    "                    trainer.train(type_of_training=method)\n",
    "\n",
    "                    for i, error in enumerate(trainer.get_results()[\"History List\"][\"Best Error\"]):\n",
    "\n",
    "                        if method == \"genetic_algorithm\":\n",
    "                            for j in range(population_size):\n",
    "                                file.write(f\"{logic_gate}; {method}; {population_size*i+j+1}; {error}; {run}\\n\")\n",
    "                        file.write(f\"{logic_gate}; {method}; {i+1}; {error}; {run}\\n\")"
   ]
  },
  {
   "cell_type": "markdown",
   "metadata": {},
   "source": [
    "#CG-Exaustive-Search map of errors"
   ]
  },
  {
   "cell_type": "code",
   "execution_count": null,
   "metadata": {},
   "outputs": [],
   "source": [
    "\"\"\"encoding = \"phase\"\n",
    "tolerance = 0.0\n",
    "grid_grain = 10\n",
    "number_of_inputs = 2\n",
    "inputs = [\"00\", \"01\", \"10\", \"11\"]\n",
    "name_of_config_file = f\"results_with_counts_grid_grain_{grid_grain}.cfg\"\n",
    "with open(f\"results/{name_of_config_file}\", \"w\") as f:\n",
    "    f.write(f\"Results for {encoding} encoding, tolerance={tolerance}, grid_grain={grid_grain}\\n\")\n",
    "    f.write(f\"Training with exhaustive_search method\\n\")\n",
    "\n",
    "name_of_result_file = f\"results_with_counts_grid_grain_{grid_grain}.csv\"\n",
    "with open(f\"results/{name_of_result_file}\", \"w\") as f:\n",
    "    trainer = trainer_qNN.trainer_qNN(type_of_encoding=encoding, save_history=True, tolerance=tolerance, grid_grain=grid_grain)\n",
    "    trainer.train(type_of_training=\"cg-exhaustive_search\")\n",
    "    f.write(f\"Iteration; Theta1; Theta2; Alpha; Input 00 Output 0 Frequency; Input 00 Output 1 Frequency; Input 01 Output 0 Frequency; Input 01 Output 1 Frequency; Input 10 Output 0 Frequency; Input 10 Output 1 Frequency; Input 11 Output 0 Frequency; Input 11 Output 1 Frequency; Error\\n\")\n",
    "    for i in range(trainer.get_results()[\"Number of Iterations\"]):\n",
    "        list_of_counts = list(trainer.get_results()[\"History List\"][\"Counts\"][i])\n",
    "        dict_of_counts = {'00': list_of_counts[0][0], '01': list_of_counts[1][0], '10': list_of_counts[2][0], '11': list_of_counts[3][0]}\n",
    "        parameters = [float(x) for x in trainer.get_results()[\"History List\"][\"Parameters\"][i]]\n",
    "        string = f\"{i+1}; {parameters[0]}; {parameters[1]}; {parameters[2]};\"\n",
    "        if '0' in dict_of_counts['00']:\n",
    "            string += f\" {dict_of_counts['00']['0']};\"\n",
    "        else:\n",
    "            string += f\" 0;\"\n",
    "        if '1' in dict_of_counts['00']:\n",
    "            string += f\" {dict_of_counts['00']['1']};\"\n",
    "        else:\n",
    "            string += f\" 0;\"\n",
    "        if '0' in dict_of_counts['01']:\n",
    "            string += f\" {dict_of_counts['01']['0']};\"\n",
    "        else:\n",
    "            string += f\" 0;\"\n",
    "        if '1' in dict_of_counts['01']:\n",
    "            string += f\" {dict_of_counts['01']['1']};\"\n",
    "        else:\n",
    "            string += f\" 0;\"\n",
    "        if '0' in dict_of_counts['10']:\n",
    "            string += f\" {dict_of_counts['10']['0']};\"\n",
    "        else:\n",
    "            string += f\" 0;\"\n",
    "        if '1' in dict_of_counts['10']:\n",
    "            string += f\" {dict_of_counts['10']['1']};\"\n",
    "        else:\n",
    "            string += f\" 0;\"\n",
    "        if '0' in dict_of_counts['11']:\n",
    "            string += f\" {dict_of_counts['11']['0']};\"\n",
    "        else:\n",
    "            string += f\" 0;\"\n",
    "        if '1' in dict_of_counts['11']:\n",
    "            string += f\" {dict_of_counts['11']['1']};\"\n",
    "        else:\n",
    "            string += f\" 0;\"\n",
    "        string += f\" {trainer.get_results()['History List']['Error'][i]}\\n\"\n",
    "        f.write(string)\"\"\""
   ]
  }
 ],
 "metadata": {
  "kernelspec": {
   "display_name": "condaenv",
   "language": "python",
   "name": "python3"
  },
  "language_info": {
   "codemirror_mode": {
    "name": "ipython",
    "version": 3
   },
   "file_extension": ".py",
   "mimetype": "text/x-python",
   "name": "python",
   "nbconvert_exporter": "python",
   "pygments_lexer": "ipython3",
   "version": "3.12.5"
  }
 },
 "nbformat": 4,
 "nbformat_minor": 2
}
