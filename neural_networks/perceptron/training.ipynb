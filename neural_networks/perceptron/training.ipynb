{
 "cells": [
  {
   "cell_type": "markdown",
   "metadata": {},
   "source": [
    "training_qNN.ipynb\n",
    "\n",
    "Notebook that define the necessary functions to traine a qNN and traines it.\n",
    "\n",
    "Dependencies:\n",
    "- Uses trainer_qNN to get trainer qNN object and their functions\n",
    "\n",
    "Since:\n",
    "- 04/2025\n",
    "\n",
    "Authors:\n",
    "- Pedro C. Delbem. <pedrodelbem@usp.br>"
   ]
  },
  {
   "cell_type": "code",
   "execution_count": 1,
   "metadata": {},
   "outputs": [],
   "source": [
    "import trainer_qNN"
   ]
  },
  {
   "cell_type": "code",
   "execution_count": null,
   "metadata": {},
   "outputs": [],
   "source": [
    "grid_grain = 20\n",
    "tolerance = 0.15\n",
    "for encoding in [\"amplitude\", \"phase\"]:\n",
    "\n",
    "    name_of_result_file = f\"results_{encoding}_{tolerance}_{grid_grain}.txt\"\n",
    "    with open(name_of_result_file, \"w\") as f:\n",
    "\n",
    "        f.write(f\"Results for {encoding} encoding, tolerance={tolerance}, grid_grain={grid_grain}\\n\")\n",
    "        trainer = trainer_qNN.trainer_qNN(type_of_enconding=encoding, save_history=True, tolerance=tolerance, grid_grain=grid_grain)\n",
    "\n",
    "        for method in [\"exaustive_search\", \"gradient_descent\", \"random_search\", \"simulated_annealing\", \"genetic_algorithm\"]:\n",
    "\n",
    "            f.write(f\"  Training with {method} method\")\n",
    "            trainer.train(type_of_training=method)\n",
    "            f.write(f\"      Error: {trainer.get_results()[\"Final Error\"]} | Iterations: {trainer.get_results()['Number of Iterations']}\\n\")\n",
    "\n",
    "            f.write(\"       History of errors:\\n\")\n",
    "            for i, error in enumerate(trainer.get_results()[\"History List\"]):\n",
    "                f.write(f\"          Iteration {i+1}: Error: {error}\\n\")\n"
   ]
  },
  {
   "cell_type": "code",
   "execution_count": null,
   "metadata": {},
   "outputs": [
    {
     "ename": "",
     "evalue": "",
     "output_type": "error",
     "traceback": [
      "\u001b[1;31mnotebook controller is DISPOSED. \n",
      "\u001b[1;31mView Jupyter <a href='command:jupyter.viewOutput'>log</a> for further details."
     ]
    },
    {
     "ename": "",
     "evalue": "",
     "output_type": "error",
     "traceback": [
      "\u001b[1;31mnotebook controller is DISPOSED. \n",
      "\u001b[1;31mView Jupyter <a href='command:jupyter.viewOutput'>log</a> for further details."
     ]
    }
   ],
   "source": [
    "\"\"\"trainer = trainer_qNN.trainer_qNN(type_of_enconding='amplitude',tolerance=0.1)\n",
    "trainer.train(type_of_training=\"exaustive_search\")\n",
    "print(trainer.get_results())\n",
    "trainer.train(type_of_training=\"gradient_descent\")\n",
    "print(trainer.get_results())\n",
    "trainer.train(type_of_training=\"random_search\")\n",
    "print(trainer.get_results())\n",
    "trainer.train(type_of_training=\"simulated_annealing\")\n",
    "print(trainer.get_results())\n",
    "trainer.train(type_of_training=\"genetic_algorithm\")\n",
    "print(trainer.get_results())\n",
    "trainer = trainer_qNN.trainer_qNN(type_of_enconding='phase')\n",
    "trainer.train(type_of_training=\"exaustive_search\")\n",
    "print(trainer.get_results())\n",
    "trainer.train(type_of_training=\"gradient_descent\")\n",
    "print(trainer.get_results())\n",
    "trainer.train(type_of_training=\"random_search\")\n",
    "print(trainer.get_results())\n",
    "trainer.train(type_of_training=\"simulated_annealing\")\n",
    "print(trainer.get_results())\n",
    "trainer.train(type_of_training=\"genetic_algorithm\")\n",
    "print(trainer.get_results())\"\"\""
   ]
  }
 ],
 "metadata": {
  "kernelspec": {
   "display_name": "condaenv",
   "language": "python",
   "name": "python3"
  },
  "language_info": {
   "codemirror_mode": {
    "name": "ipython",
    "version": 3
   },
   "file_extension": ".py",
   "mimetype": "text/x-python",
   "name": "python",
   "nbconvert_exporter": "python",
   "pygments_lexer": "ipython3",
   "version": "3.12.5"
  }
 },
 "nbformat": 4,
 "nbformat_minor": 2
}
