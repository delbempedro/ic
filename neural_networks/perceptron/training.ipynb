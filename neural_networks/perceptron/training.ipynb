{
 "cells": [
  {
   "cell_type": "markdown",
   "metadata": {},
   "source": [
    "training_qNN.ipynb\n",
    "\n",
    "Notebook that define the necessary functions to traine a qNN and traines it.\n",
    "\n",
    "Dependencies:\n",
    "- Uses trainer_qNN to get trainer qNN object and their functions\n",
    "\n",
    "Since:\n",
    "- 04/2025\n",
    "\n",
    "Authors:\n",
    "- Pedro C. Delbem. <pedrodelbem@usp.br>"
   ]
  },
  {
   "cell_type": "code",
   "execution_count": 1,
   "metadata": {},
   "outputs": [],
   "source": [
    "import trainer_qNN"
   ]
  },
  {
   "cell_type": "code",
   "execution_count": null,
   "metadata": {},
   "outputs": [
    {
     "name": "stdout",
     "output_type": "stream",
     "text": [
      "{'Final Parameters': [1.5813466100168654, 0.8359117018390361, 3.3920533011799723], 'Final Error': 0.3818359375, 'Number of Iterations': 136, 'History List': [0.443359375, 0.443359375, 0.437255859375, 0.437255859375, 0.434814453125, 0.434814453125, 0.421875, 0.40625, 0.40625, 0.40625, 0.40625, 0.40625, 0.40625, 0.40625, 0.40625, 0.40625, 0.40625, 0.40625, 0.40625, 0.40625, 0.40625, 0.40625, 0.40625, 0.40625, 0.40625, 0.40625, 0.40625, 0.40625, 0.40625, 0.40625, 0.40625, 0.40625, 0.40625, 0.40625, 0.40625, 0.40625, 0.40625, 0.40625, 0.40625, 0.40625, 0.40625, 0.40625, 0.40625, 0.40625, 0.40625, 0.40625, 0.40625, 0.40625, 0.40625, 0.40625, 0.40625, 0.40625, 0.40625, 0.40625, 0.40625, 0.40625, 0.40625, 0.40625, 0.40625, 0.40625, 0.40625, 0.40625, 0.40625, 0.40625, 0.40625, 0.40625, 0.40625, 0.40625, 0.40625, 0.40625, 0.40625, 0.40625, 0.40625, 0.40625, 0.40625, 0.40625, 0.40625, 0.40625, 0.40625, 0.40625, 0.40625, 0.40625, 0.40625, 0.40625, 0.40625, 0.40625, 0.40625, 0.40625, 0.40625, 0.40625, 0.40625, 0.40625, 0.40625, 0.40625, 0.40625, 0.40625, 0.40625, 0.40625, 0.40625, 0.40625, 0.40625, 0.40625, 0.40625, 0.40625, 0.40625, 0.40625, 0.40625, 0.40625, 0.39013671875, 0.39013671875, 0.39013671875, 0.382080078125, 0.382080078125, 0.382080078125, 0.382080078125, 0.3818359375, 0.3818359375, 0.3818359375, 0.3818359375, 0.3818359375, 0.3818359375, 0.3818359375, 0.3818359375, 0.3818359375, 0.3818359375, 0.3818359375, 0.3818359375, 0.3818359375, 0.3818359375, 0.3818359375, 0.3818359375, 0.3818359375, 0.3818359375, 0.3818359375, 0.3818359375, 0.3818359375]}\n",
      "{'Final Parameters': [2.4049298993816315, 2.055579735293482, 2.332397251175186, 1.3173393361906163], 'Final Error': 0.244140625, 'Number of Iterations': 5, 'History List': [0.2744140625, 0.2529296875, 0.2529296875, 0.2529296875, 0.244140625]}\n"
     ]
    }
   ],
   "source": [
    "phase = trainer_qNN.trainer_qNN(type_of_enconding=\"phase\", save_history=True, tolerance=0.25, grid_grain=10)\n",
    "phase.train(type_of_training=\"genetic_algorithm\")\n",
    "print(phase.get_results())\n",
    "amplitude = trainer_qNN.trainer_qNN(type_of_enconding=\"amplitude\", save_history=True, tolerance=0.25, grid_grain=10)\n",
    "amplitude.train(type_of_training=\"genetic_algorithm\")\n",
    "print(amplitude.get_results())"
   ]
  },
  {
   "cell_type": "code",
   "execution_count": 3,
   "metadata": {},
   "outputs": [
    {
     "data": {
      "text/plain": [
       "'grid_grain = 10\\ntolerance = 0.25\\nlogic_gates = [\"AND\", \"OR\", \"XOR\", \"NAND\", \"NOR\", \"XNOR\"]\\n\\nfor logic_gate in logic_gates:\\n\\n    for encoding in [\"amplitude\", \"phase\"]:\\n\\n        name_of_result_file = f\"results_{encoding}_{logic_gate}_{tolerance}_{grid_grain}.txt\"\\n        with open(f\"results/{name_of_result_file}\", \"w\") as f:\\n\\n            f.write(f\"Results for {encoding} encoding, tolerance={tolerance}, grid_grain={grid_grain}\\n\")\\n            trainer = trainer_qNN.trainer_qNN(type_of_enconding=encoding, save_history=True, tolerance=tolerance, grid_grain=grid_grain)\\n\\n            for method in [\"exaustive_search\", \"gradient_descent\", \"random_search\", \"simulated_annealing\", \"genetic_algorithm\"]:\\n\\n                f.write(f\"  Training with {method} method\")\\n                trainer.train(type_of_training=method)\\n                f.write(f\"      Error: {trainer.get_results()[\"Final Error\"]} | Iterations: {trainer.get_results()[\\'Number of Iterations\\']}\\n\")\\n\\n                f.write(\"       History of errors:\\n\")\\n                for i, error in enumerate(trainer.get_results()[\"History List\"]):\\n                    f.write(f\"          Iteration {i+1}: Error: {error}\\n\")\\n'"
      ]
     },
     "execution_count": 3,
     "metadata": {},
     "output_type": "execute_result"
    }
   ],
   "source": [
    "\"\"\"grid_grain = 10\n",
    "tolerance = 0.25\n",
    "logic_gates = [\"AND\", \"OR\", \"XOR\", \"NAND\", \"NOR\", \"XNOR\"]\n",
    "\n",
    "for logic_gate in logic_gates:\n",
    "\n",
    "    for encoding in [\"amplitude\", \"phase\"]:\n",
    "\n",
    "        name_of_result_file = f\"results_{encoding}_{logic_gate}_{tolerance}_{grid_grain}.txt\"\n",
    "        with open(f\"results/{name_of_result_file}\", \"w\") as f:\n",
    "\n",
    "            f.write(f\"Results for {encoding} encoding, tolerance={tolerance}, grid_grain={grid_grain}\\n\")\n",
    "            trainer = trainer_qNN.trainer_qNN(type_of_enconding=encoding, save_history=True, tolerance=tolerance, grid_grain=grid_grain)\n",
    "\n",
    "            for method in [\"exaustive_search\", \"gradient_descent\", \"random_search\", \"simulated_annealing\", \"genetic_algorithm\"]:\n",
    "\n",
    "                f.write(f\"  Training with {method} method\")\n",
    "                trainer.train(type_of_training=method)\n",
    "                f.write(f\"      Error: {trainer.get_results()[\"Final Error\"]} | Iterations: {trainer.get_results()['Number of Iterations']}\\n\")\n",
    "\n",
    "                f.write(\"       History of errors:\\n\")\n",
    "                for i, error in enumerate(trainer.get_results()[\"History List\"]):\n",
    "                    f.write(f\"          Iteration {i+1}: Error: {error}\\n\")\n",
    "\"\"\""
   ]
  }
 ],
 "metadata": {
  "kernelspec": {
   "display_name": "condaenv",
   "language": "python",
   "name": "python3"
  },
  "language_info": {
   "codemirror_mode": {
    "name": "ipython",
    "version": 3
   },
   "file_extension": ".py",
   "mimetype": "text/x-python",
   "name": "python",
   "nbconvert_exporter": "python",
   "pygments_lexer": "ipython3",
   "version": "3.12.5"
  }
 },
 "nbformat": 4,
 "nbformat_minor": 2
}
