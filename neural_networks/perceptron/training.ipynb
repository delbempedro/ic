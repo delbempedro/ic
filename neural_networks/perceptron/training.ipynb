{
 "cells": [
  {
   "cell_type": "markdown",
   "metadata": {},
   "source": [
    "training_qNN.ipynb\n",
    "\n",
    "Notebook that define the necessary functions to traine a qNN and traines it.\n",
    "\n",
    "Dependencies:\n",
    "- Uses trainer_qNN to get trainer qNN object and their functions\n",
    "\n",
    "Since:\n",
    "- 04/2025\n",
    "\n",
    "Authors:\n",
    "- Pedro C. Delbem. <pedrodelbem@usp.br>"
   ]
  },
  {
   "cell_type": "code",
   "execution_count": 1,
   "metadata": {},
   "outputs": [],
   "source": [
    "import trainer_qNN"
   ]
  },
  {
   "cell_type": "code",
   "execution_count": 2,
   "metadata": {},
   "outputs": [],
   "source": [
    "def multi_training(method, times, trainer):\n",
    "    trainer.train(type_of_training=method)\n",
    "    error = 0\n",
    "    iterations = 0\n",
    "    history_list = []\n",
    "    for i in range(times):\n",
    "        trainer.train(type_of_training=method)\n",
    "        error += trainer.get_results()[\"Final Error\"]\n",
    "        iterations += trainer.get_results()['Number of Iterations']\n",
    "\n",
    "        count = 0\n",
    "        for j in trainer.get_results()[\"History List\"]:\n",
    "            if len(history_list) <= count:\n",
    "                history_list.append(j)\n",
    "            else:\n",
    "                history_list[count] += j\n",
    "            count += 1\n",
    "    error /= times\n",
    "    iterations /= times\n",
    "    for i in range(len(history_list)):\n",
    "        history_list[i] /= times\n",
    "    return {\"Final Error\": error, \"Number of Iterations\": iterations, \"History List\": history_list}\n"
   ]
  },
  {
   "cell_type": "code",
   "execution_count": 3,
   "metadata": {},
   "outputs": [],
   "source": [
    "grid_grain = 10\n",
    "tolerance = 0.05\n",
    "logic_gates = [\"AND\", \"OR\", \"XOR\", \"NAND\", \"NOR\", \"XNOR\"]\n",
    "\n",
    "for logic_gate in logic_gates:\n",
    "\n",
    "    for encoding in [\"amplitude\", \"phase\"]:\n",
    "\n",
    "        name_of_result_file = f\"results_{encoding}_{logic_gate}_{tolerance}_{grid_grain}.txt\"\n",
    "        with open(f\"results/{name_of_result_file}\", \"w\") as f:\n",
    "\n",
    "            f.write(f\"Results for {encoding} encoding, tolerance={tolerance}, grid_grain={grid_grain}\\n\")\n",
    "            trainer = trainer_qNN.trainer_qNN(type_of_encoding=encoding, save_history=True, tolerance=tolerance, grid_grain=grid_grain)\n",
    "\n",
    "            for method in [\"exhaustive_search\", \"gradient_descent\", \"random_search\", \"simulated_annealing\", \"genetic_algorithm\"]:\n",
    "\n",
    "                for i in range(10):\n",
    "                    f.write(f\"  Training with {method} method\")\n",
    "                    trainer.train(type_of_training=method)\n",
    "                    \"\"\"multi_training(method, 10, trainer)\"\"\"\n",
    "                    f.write(f\"      Parameters: {trainer.get_results()['Final Parameters']} | Error: {trainer.get_results()[\"Final Error\"]} | Iterations: {trainer.get_results()['Number of Iterations']}\\n\")\n",
    "\n",
    "                    f.write(\"       History of errors:\\n\")\n",
    "                    for i, error in enumerate(trainer.get_results()[\"History List\"]):\n",
    "                        f.write(f\"          Iteration {i+1}: Error: {error}\\n\")\n"
   ]
  }
 ],
 "metadata": {
  "kernelspec": {
   "display_name": "condaenv",
   "language": "python",
   "name": "python3"
  },
  "language_info": {
   "codemirror_mode": {
    "name": "ipython",
    "version": 3
   },
   "file_extension": ".py",
   "mimetype": "text/x-python",
   "name": "python",
   "nbconvert_exporter": "python",
   "pygments_lexer": "ipython3",
   "version": "3.12.5"
  }
 },
 "nbformat": 4,
 "nbformat_minor": 2
}
