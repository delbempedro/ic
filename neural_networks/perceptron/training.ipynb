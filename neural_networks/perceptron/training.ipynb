{
 "cells": [
  {
   "cell_type": "markdown",
   "metadata": {},
   "source": [
    "training_qNN.ipynb\n",
    "\n",
    "Notebook that define the necessary functions to traine a qNN and traines it.\n",
    "\n",
    "Dependencies:\n",
    "- Uses trainer_qNN to get trainer qNN object and their functions\n",
    "- Uses Path from pathlib to manage paths\n",
    "\n",
    "Since:\n",
    "- 04/2025\n",
    "\n",
    "Authors:\n",
    "- Pedro C. Delbem. <pedrodelbem@usp.br>"
   ]
  },
  {
   "cell_type": "code",
   "execution_count": 1,
   "metadata": {},
   "outputs": [],
   "source": [
    "import trainer_qNN"
   ]
  },
  {
   "cell_type": "code",
   "execution_count": 2,
   "metadata": {},
   "outputs": [],
   "source": [
    "from pathlib import Path"
   ]
  },
  {
   "cell_type": "code",
   "execution_count": null,
   "metadata": {},
   "outputs": [],
   "source": [
    "grid_grain = 10\n",
    "number_of_inputs = 2\n",
    "tolerance = 1/(2**number_of_inputs)\n",
    "logic_gates = [\"AND\", \"OR\", \"XOR\"]#, \"NAND\", \"NOR\", \"XNOR\"]\n",
    "population_size = 10\n",
    "\n",
    "for encoding in [\"amplitude\", \"phase\"]:\n",
    "\n",
    "    for logic_gate in logic_gates:\n",
    "\n",
    "        #create the directory if necessary\n",
    "        name_of_results_directory = Path(f\"results/{encoding}-{number_of_inputs}-inputs\")\n",
    "        name_of_results_directory.mkdir(parents=True, exist_ok=True)\n",
    "\n",
    "        for method in [\"cg-exhaustive_search\", \"gradient_descent\", \"random_search\", \"simulated_annealing\", \"genetic_algorithm\"]:#[\"genetic_algorithm\"]:#\n",
    "\n",
    "            #make results file\n",
    "            with open(f\"{name_of_results_directory}/{logic_gate}_{method}_tolerance_{tolerance}_max_of_iterations_{grid_grain**number_of_inputs}.csv\", \"w\") as file:\n",
    "\n",
    "                file.write(\"Logic Gate; Method; Iteration; Error; Run\\n\")\n",
    "                for run in range(10):\n",
    "\n",
    "                    #create trainer\n",
    "                    trainer = trainer_qNN.trainer_qNN(type_of_encoding=encoding, save_history=True, tolerance=tolerance, grid_grain=grid_grain, grid_start_index=run, population_size=population_size)\n",
    "\n",
    "                    #train qNN\n",
    "                    trainer.train(type_of_training=method)\n",
    "\n",
    "                    for i, error in enumerate(trainer.get_results()[\"History List\"][\"Best Error\"]):\n",
    "\n",
    "                        if method == \"genetic_algorithm\":\n",
    "                            for j in range(population_size):\n",
    "                                file.write(f\"{logic_gate}; {method}; {population_size*i+j+1}; {error}; {run}\\n\")\n",
    "                        else:\n",
    "                            file.write(f\"{logic_gate}; {method}; {i+1}; {error}; {run}\\n\")"
   ]
  }
 ],
 "metadata": {
  "kernelspec": {
   "display_name": "condaenv",
   "language": "python",
   "name": "python3"
  },
  "language_info": {
   "codemirror_mode": {
    "name": "ipython",
    "version": 3
   },
   "file_extension": ".py",
   "mimetype": "text/x-python",
   "name": "python",
   "nbconvert_exporter": "python",
   "pygments_lexer": "ipython3",
   "version": "3.12.5"
  }
 },
 "nbformat": 4,
 "nbformat_minor": 2
}
