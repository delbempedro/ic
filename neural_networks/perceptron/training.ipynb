{
 "cells": [
  {
   "cell_type": "markdown",
   "metadata": {},
   "source": [
    "training_qNN.ipynb\n",
    "\n",
    "Notebook that define the necessary functions to traine a qNN and traines it.\n",
    "\n",
    "Dependencies:\n",
    "- Uses trainer_qNN to get trainer qNN object and their functions\n",
    "\n",
    "Since:\n",
    "- 04/2025\n",
    "\n",
    "Authors:\n",
    "- Pedro C. Delbem. <pedrodelbem@usp.br>"
   ]
  },
  {
   "cell_type": "code",
   "execution_count": 1,
   "metadata": {},
   "outputs": [],
   "source": [
    "import trainer_qNN"
   ]
  },
  {
   "cell_type": "code",
   "execution_count": null,
   "metadata": {},
   "outputs": [
    {
     "ename": "KeyboardInterrupt",
     "evalue": "",
     "output_type": "error",
     "traceback": [
      "\u001b[0;31m---------------------------------------------------------------------------\u001b[0m",
      "\u001b[0;31mKeyboardInterrupt\u001b[0m                         Traceback (most recent call last)",
      "Cell \u001b[0;32mIn[4], line 14\u001b[0m\n\u001b[1;32m     11\u001b[0m \u001b[38;5;28;01mfor\u001b[39;00m method \u001b[38;5;129;01min\u001b[39;00m [\u001b[38;5;124m\"\u001b[39m\u001b[38;5;124mexaustive_search\u001b[39m\u001b[38;5;124m\"\u001b[39m, \u001b[38;5;124m\"\u001b[39m\u001b[38;5;124mgradient_descent\u001b[39m\u001b[38;5;124m\"\u001b[39m, \u001b[38;5;124m\"\u001b[39m\u001b[38;5;124mrandom_search\u001b[39m\u001b[38;5;124m\"\u001b[39m, \u001b[38;5;124m\"\u001b[39m\u001b[38;5;124msimulated_annealing\u001b[39m\u001b[38;5;124m\"\u001b[39m, \u001b[38;5;124m\"\u001b[39m\u001b[38;5;124mgenetic_algorithm\u001b[39m\u001b[38;5;124m\"\u001b[39m]:\n\u001b[1;32m     13\u001b[0m     f\u001b[38;5;241m.\u001b[39mwrite(\u001b[38;5;124mf\u001b[39m\u001b[38;5;124m\"\u001b[39m\u001b[38;5;124m  Training with \u001b[39m\u001b[38;5;132;01m{\u001b[39;00mmethod\u001b[38;5;132;01m}\u001b[39;00m\u001b[38;5;124m method\u001b[39m\u001b[38;5;124m\"\u001b[39m)\n\u001b[0;32m---> 14\u001b[0m     \u001b[43mtrainer\u001b[49m\u001b[38;5;241;43m.\u001b[39;49m\u001b[43mtrain\u001b[49m\u001b[43m(\u001b[49m\u001b[43mtype_of_training\u001b[49m\u001b[38;5;241;43m=\u001b[39;49m\u001b[43mmethod\u001b[49m\u001b[43m)\u001b[49m\n\u001b[1;32m     15\u001b[0m     f\u001b[38;5;241m.\u001b[39mwrite(\u001b[38;5;124mf\u001b[39m\u001b[38;5;124m\"\u001b[39m\u001b[38;5;124m      Error: \u001b[39m\u001b[38;5;132;01m{\u001b[39;00mtrainer\u001b[38;5;241m.\u001b[39mget_results()[\u001b[38;5;124m\"\u001b[39m\u001b[38;5;124mFinal Error\u001b[39m\u001b[38;5;124m\"\u001b[39m]\u001b[38;5;132;01m}\u001b[39;00m\u001b[38;5;124m | Iterations: \u001b[39m\u001b[38;5;132;01m{\u001b[39;00mtrainer\u001b[38;5;241m.\u001b[39mget_results()[\u001b[38;5;124m'\u001b[39m\u001b[38;5;124mNumber of Iterations\u001b[39m\u001b[38;5;124m'\u001b[39m]\u001b[38;5;132;01m}\u001b[39;00m\u001b[38;5;130;01m\\n\u001b[39;00m\u001b[38;5;124m\"\u001b[39m)\n\u001b[1;32m     17\u001b[0m     f\u001b[38;5;241m.\u001b[39mwrite(\u001b[38;5;124m\"\u001b[39m\u001b[38;5;124m       History of errors:\u001b[39m\u001b[38;5;130;01m\\n\u001b[39;00m\u001b[38;5;124m\"\u001b[39m)\n",
      "File \u001b[0;32m~/Documentos/GitHub/ic/neural_networks/refactoring/trainer_qNN.py:79\u001b[0m, in \u001b[0;36mtrainer_qNN.train\u001b[0;34m(self, type_of_training)\u001b[0m\n\u001b[1;32m     75\u001b[0m \u001b[38;5;28;01mif\u001b[39;00m type_of_training \u001b[38;5;241m==\u001b[39m \u001b[38;5;124m\"\u001b[39m\u001b[38;5;124mexaustive_search\u001b[39m\u001b[38;5;124m\"\u001b[39m:\n\u001b[1;32m     77\u001b[0m     \u001b[38;5;28;01mif\u001b[39;00m \u001b[38;5;28mself\u001b[39m\u001b[38;5;241m.\u001b[39m_type_of_enconding \u001b[38;5;241m==\u001b[39m \u001b[38;5;124m\"\u001b[39m\u001b[38;5;124mamplitude\u001b[39m\u001b[38;5;124m\"\u001b[39m:\n\u001b[0;32m---> 79\u001b[0m         \u001b[38;5;28;01mreturn\u001b[39;00m \u001b[38;5;28;43mself\u001b[39;49m\u001b[38;5;241;43m.\u001b[39;49m\u001b[43mamplitude_qNN_exaustive_search\u001b[49m\u001b[43m(\u001b[49m\u001b[43m)\u001b[49m\n\u001b[1;32m     80\u001b[0m     \u001b[38;5;28;01melse\u001b[39;00m:\n\u001b[1;32m     82\u001b[0m         \u001b[38;5;28;01mreturn\u001b[39;00m \u001b[38;5;28mself\u001b[39m\u001b[38;5;241m.\u001b[39mphase_qNN_exaustive_search()\n",
      "File \u001b[0;32m~/Documentos/GitHub/ic/neural_networks/refactoring/trainer_qNN.py:221\u001b[0m, in \u001b[0;36mtrainer_qNN.amplitude_qNN_exaustive_search\u001b[0;34m(self)\u001b[0m\n\u001b[1;32m    218\u001b[0m \u001b[38;5;28mself\u001b[39m\u001b[38;5;241m.\u001b[39m_final_number_of_iterations \u001b[38;5;241m+\u001b[39m\u001b[38;5;241m=\u001b[39m \u001b[38;5;241m1\u001b[39m\n\u001b[1;32m    220\u001b[0m \u001b[38;5;66;03m#update current error and parameters\u001b[39;00m\n\u001b[0;32m--> 221\u001b[0m current_error \u001b[38;5;241m=\u001b[39m \u001b[43mamplitude_qNN_evaluate\u001b[49m\u001b[43m(\u001b[49m\u001b[38;5;28;43mself\u001b[39;49m\u001b[38;5;241;43m.\u001b[39;49m\u001b[43m_inputs\u001b[49m\u001b[43m,\u001b[49m\u001b[38;5;28;43mself\u001b[39;49m\u001b[38;5;241;43m.\u001b[39;49m\u001b[43m_expected_outputs\u001b[49m\u001b[43m,\u001b[49m\u001b[43mparameters\u001b[49m\u001b[43m,\u001b[49m\u001b[43mnumber_of_inputs\u001b[49m\u001b[38;5;241;43m=\u001b[39;49m\u001b[38;5;28;43mself\u001b[39;49m\u001b[38;5;241;43m.\u001b[39;49m\u001b[43m_number_of_inputs\u001b[49m\u001b[43m)\u001b[49m\n\u001b[1;32m    223\u001b[0m \u001b[38;5;66;03m#update final error and final parameters\u001b[39;00m\n\u001b[1;32m    224\u001b[0m \u001b[38;5;28mself\u001b[39m\u001b[38;5;241m.\u001b[39m_final_parameters, \u001b[38;5;28mself\u001b[39m\u001b[38;5;241m.\u001b[39m_final_error \u001b[38;5;241m=\u001b[39m update_if_better(parameters, current_error, \u001b[38;5;28mself\u001b[39m\u001b[38;5;241m.\u001b[39m_final_parameters, \u001b[38;5;28mself\u001b[39m\u001b[38;5;241m.\u001b[39m_final_error)\n",
      "File \u001b[0;32m~/Documentos/GitHub/ic/neural_networks/refactoring/trainer_utils.py:117\u001b[0m, in \u001b[0;36mamplitude_qNN_evaluate\u001b[0;34m(inputs, expected_outputs, parameters, number_of_runs, number_of_shots, number_of_inputs, type_of_run)\u001b[0m\n\u001b[1;32m    113\u001b[0m \u001b[38;5;250m\u001b[39m\u001b[38;5;124;03m\"\"\"\u001b[39;00m\n\u001b[1;32m    114\u001b[0m \u001b[38;5;124;03mGenerate amplitude qNN circuit and compute error\u001b[39;00m\n\u001b[1;32m    115\u001b[0m \u001b[38;5;124;03m\"\"\"\u001b[39;00m\n\u001b[1;32m    116\u001b[0m \u001b[38;5;66;03m#compute counts\u001b[39;00m\n\u001b[0;32m--> 117\u001b[0m counts \u001b[38;5;241m=\u001b[39m \u001b[43mgenerate_amplitude_qNN_circuit\u001b[49m\u001b[43m(\u001b[49m\u001b[43mparameters\u001b[49m\u001b[43m,\u001b[49m\u001b[43m \u001b[49m\u001b[43mnumber_of_inputs\u001b[49m\u001b[38;5;241;43m=\u001b[39;49m\u001b[43mnumber_of_inputs\u001b[49m\u001b[43m)\u001b[49m\u001b[38;5;241m.\u001b[39mevaluate(number_of_runs\u001b[38;5;241m=\u001b[39mnumber_of_runs,number_of_shots\u001b[38;5;241m=\u001b[39mnumber_of_shots,type_of_run\u001b[38;5;241m=\u001b[39mtype_of_run)\n\u001b[1;32m    119\u001b[0m \u001b[38;5;28;01mreturn\u001b[39;00m amplitude_qNN_compute_error(inputs, expected_outputs, counts, number_of_inputs\u001b[38;5;241m=\u001b[39mnumber_of_inputs)\n",
      "File \u001b[0;32m~/Documentos/GitHub/ic/neural_networks/refactoring/amplitude_encondig_utils.py:100\u001b[0m, in \u001b[0;36mgenerate_amplitude_qNN_circuit\u001b[0;34m(parameters_of_entanglement_circuit, number_of_inputs)\u001b[0m\n\u001b[1;32m     98\u001b[0m number_of_qubits_required \u001b[38;5;241m=\u001b[39m number_of_inputs\u001b[38;5;241m*\u001b[39m\u001b[38;5;241m2\u001b[39m\u001b[38;5;241m+\u001b[39m\u001b[38;5;241m1\u001b[39m\n\u001b[1;32m     99\u001b[0m qNN \u001b[38;5;241m=\u001b[39m neuron_circuit(number_of_qubits_required,\u001b[38;5;241m1\u001b[39m) \u001b[38;5;66;03m#create the qNN circuit\u001b[39;00m\n\u001b[0;32m--> 100\u001b[0m auxiliary_circuit \u001b[38;5;241m=\u001b[39m \u001b[43mall_inputs_circuit\u001b[49m\u001b[43m(\u001b[49m\u001b[43mnumber_of_inputs\u001b[49m\u001b[43m)\u001b[49m \u001b[38;5;66;03m#copy the all inputs circuit\u001b[39;00m\n\u001b[1;32m    101\u001b[0m duplicate_circuit \u001b[38;5;241m=\u001b[39m circuit_copy(auxiliary_circuit, number_of_inputs) \u001b[38;5;66;03m#duplicate the all inputs circuit\u001b[39;00m\n\u001b[1;32m    102\u001b[0m qNN\u001b[38;5;241m.\u001b[39mget_current_circuit()\u001b[38;5;241m.\u001b[39mappend(duplicate_circuit, \u001b[38;5;28mlist\u001b[39m(\u001b[38;5;28mrange\u001b[39m(\u001b[38;5;241m0\u001b[39m,number_of_inputs\u001b[38;5;241m*\u001b[39m\u001b[38;5;241m2\u001b[39m))) \u001b[38;5;66;03m#add the all inputs circuit\u001b[39;00m\n",
      "File \u001b[0;32m~/Documentos/GitHub/ic/neural_networks/refactoring/amplitude_encondig_utils.py:76\u001b[0m, in \u001b[0;36mall_inputs_circuit\u001b[0;34m(number_of_inputs)\u001b[0m\n\u001b[1;32m     74\u001b[0m parameters \u001b[38;5;241m=\u001b[39m [pi] \u001b[38;5;241m*\u001b[39m number_of_inputs \u001b[38;5;241m+\u001b[39m [pi \u001b[38;5;241m/\u001b[39m \u001b[38;5;241m2\u001b[39m] \u001b[38;5;241m*\u001b[39m (number_of_inputs) \u001b[38;5;66;03m#previously chosen/learned parameters to generate all the possible inputs\u001b[39;00m\n\u001b[1;32m     75\u001b[0m parameter_dict \u001b[38;5;241m=\u001b[39m \u001b[38;5;28mdict\u001b[39m(\u001b[38;5;28mzip\u001b[39m(entanglement_circuit\u001b[38;5;241m.\u001b[39mparameters, parameters)) \u001b[38;5;66;03m#assigns the parameters to the circuit\u001b[39;00m\n\u001b[0;32m---> 76\u001b[0m initial_states_circuit \u001b[38;5;241m=\u001b[39m \u001b[43mentanglement_circuit\u001b[49m\u001b[38;5;241;43m.\u001b[39;49m\u001b[43massign_parameters\u001b[49m\u001b[43m(\u001b[49m\u001b[43mparameter_dict\u001b[49m\u001b[43m)\u001b[49m \u001b[38;5;66;03m#a circuit that can generate all the possible inputs\u001b[39;00m\n\u001b[1;32m     78\u001b[0m \u001b[38;5;66;03m#return the circuit\u001b[39;00m\n\u001b[1;32m     79\u001b[0m \u001b[38;5;28;01mreturn\u001b[39;00m initial_states_circuit\n",
      "File \u001b[0;32m~/.conda/envs/condaenv/lib/python3.12/site-packages/qiskit/circuit/library/n_local/n_local.py:838\u001b[0m, in \u001b[0;36mNLocal.assign_parameters\u001b[0;34m(self, parameters, inplace, **kwargs)\u001b[0m\n\u001b[1;32m    835\u001b[0m \u001b[38;5;28;01mif\u001b[39;00m \u001b[38;5;129;01mnot\u001b[39;00m \u001b[38;5;28mself\u001b[39m\u001b[38;5;241m.\u001b[39m_is_built:\n\u001b[1;32m    836\u001b[0m     \u001b[38;5;28mself\u001b[39m\u001b[38;5;241m.\u001b[39m_build()\n\u001b[0;32m--> 838\u001b[0m \u001b[38;5;28;01mreturn\u001b[39;00m \u001b[38;5;28;43msuper\u001b[39;49m\u001b[43m(\u001b[49m\u001b[43m)\u001b[49m\u001b[38;5;241;43m.\u001b[39;49m\u001b[43massign_parameters\u001b[49m\u001b[43m(\u001b[49m\u001b[43mparameters\u001b[49m\u001b[43m,\u001b[49m\u001b[43m \u001b[49m\u001b[43minplace\u001b[49m\u001b[38;5;241;43m=\u001b[39;49m\u001b[43minplace\u001b[49m\u001b[43m,\u001b[49m\u001b[43m \u001b[49m\u001b[38;5;241;43m*\u001b[39;49m\u001b[38;5;241;43m*\u001b[39;49m\u001b[43mkwargs\u001b[49m\u001b[43m)\u001b[49m\n",
      "File \u001b[0;32m~/.conda/envs/condaenv/lib/python3.12/site-packages/qiskit/circuit/quantumcircuit.py:4342\u001b[0m, in \u001b[0;36mQuantumCircuit.assign_parameters\u001b[0;34m(self, parameters, inplace, flat_input, strict)\u001b[0m\n\u001b[1;32m   4337\u001b[0m         \u001b[38;5;28;01mraise\u001b[39;00m CircuitError(\n\u001b[1;32m   4338\u001b[0m             \u001b[38;5;124mf\u001b[39m\u001b[38;5;124m\"\u001b[39m\u001b[38;5;124mCannot bind parameters (\u001b[39m\u001b[38;5;132;01m{\u001b[39;00m\u001b[38;5;124m'\u001b[39m\u001b[38;5;124m, \u001b[39m\u001b[38;5;124m'\u001b[39m\u001b[38;5;241m.\u001b[39mjoin(\u001b[38;5;28mstr\u001b[39m(x)\u001b[38;5;250m \u001b[39m\u001b[38;5;28;01mfor\u001b[39;00m\u001b[38;5;250m \u001b[39mx\u001b[38;5;250m \u001b[39m\u001b[38;5;129;01min\u001b[39;00m\u001b[38;5;250m \u001b[39mextras)\u001b[38;5;132;01m}\u001b[39;00m\u001b[38;5;124m) not present in\u001b[39m\u001b[38;5;124m\"\u001b[39m\n\u001b[1;32m   4339\u001b[0m             \u001b[38;5;124m\"\u001b[39m\u001b[38;5;124m the circuit.\u001b[39m\u001b[38;5;124m\"\u001b[39m\n\u001b[1;32m   4340\u001b[0m         )\n\u001b[1;32m   4341\u001b[0m     parameter_binds \u001b[38;5;241m=\u001b[39m _ParameterBindsDict(raw_mapping, our_parameters)\n\u001b[0;32m-> 4342\u001b[0m     \u001b[43mtarget\u001b[49m\u001b[38;5;241;43m.\u001b[39;49m\u001b[43m_data\u001b[49m\u001b[38;5;241;43m.\u001b[39;49m\u001b[43massign_parameters_mapping\u001b[49m\u001b[43m(\u001b[49m\u001b[43mparameter_binds\u001b[49m\u001b[43m)\u001b[49m\n\u001b[1;32m   4343\u001b[0m \u001b[38;5;28;01melse\u001b[39;00m:\n\u001b[1;32m   4344\u001b[0m     parameter_binds \u001b[38;5;241m=\u001b[39m _ParameterBindsSequence(target\u001b[38;5;241m.\u001b[39m_data\u001b[38;5;241m.\u001b[39mparameters, parameters)\n",
      "File \u001b[0;32m~/.conda/envs/condaenv/lib/python3.12/site-packages/qiskit/circuit/quantumcircuit.py:4379\u001b[0m, in \u001b[0;36mQuantumCircuit.assign_parameters\u001b[0;34m(self, parameters, inplace, flat_input, strict)\u001b[0m\n\u001b[1;32m   4366\u001b[0m         schedule\u001b[38;5;241m.\u001b[39massign_parameters(parameter_binds\u001b[38;5;241m.\u001b[39mmapping)\n\u001b[1;32m   4367\u001b[0m     \u001b[38;5;28;01mreturn\u001b[39;00m (qubits, \u001b[38;5;28mtuple\u001b[39m(new_parameters)), schedule\n\u001b[1;32m   4369\u001b[0m target\u001b[38;5;241m.\u001b[39m_calibrations \u001b[38;5;241m=\u001b[39m defaultdict(\n\u001b[1;32m   4370\u001b[0m     \u001b[38;5;28mdict\u001b[39m,\n\u001b[1;32m   4371\u001b[0m     (\n\u001b[1;32m   4372\u001b[0m         (\n\u001b[1;32m   4373\u001b[0m             gate,\n\u001b[1;32m   4374\u001b[0m             \u001b[38;5;28mdict\u001b[39m(\n\u001b[1;32m   4375\u001b[0m                 map_calibration(qubits, parameters, schedule)\n\u001b[1;32m   4376\u001b[0m                 \u001b[38;5;28;01mfor\u001b[39;00m (qubits, parameters), schedule \u001b[38;5;129;01min\u001b[39;00m calibrations\u001b[38;5;241m.\u001b[39mitems()\n\u001b[1;32m   4377\u001b[0m             ),\n\u001b[1;32m   4378\u001b[0m         )\n\u001b[0;32m-> 4379\u001b[0m         \u001b[38;5;28;01mfor\u001b[39;00m gate, calibrations \u001b[38;5;129;01min\u001b[39;00m \u001b[43mtarget\u001b[49m\u001b[38;5;241;43m.\u001b[39;49m\u001b[43m_calibrations\u001b[49m\u001b[38;5;241;43m.\u001b[39;49m\u001b[43mitems\u001b[49m\u001b[43m(\u001b[49m\u001b[43m)\u001b[49m\n\u001b[1;32m   4380\u001b[0m     ),\n\u001b[1;32m   4381\u001b[0m )\n\u001b[1;32m   4382\u001b[0m \u001b[38;5;28;01mreturn\u001b[39;00m \u001b[38;5;28;01mNone\u001b[39;00m \u001b[38;5;28;01mif\u001b[39;00m inplace \u001b[38;5;28;01melse\u001b[39;00m target\n",
      "\u001b[0;31mKeyboardInterrupt\u001b[0m: "
     ]
    }
   ],
   "source": [
    "grid_grain = 10\n",
    "tolerance = 0.25\n",
    "for encoding in [\"amplitude\", \"phase\"]:\n",
    "\n",
    "    name_of_result_file = f\"results_{encoding}_{tolerance}_{grid_grain}.txt\"\n",
    "    with open(name_of_result_file, \"w\") as f:\n",
    "\n",
    "        f.write(f\"Results for {encoding} encoding, tolerance={tolerance}, grid_grain={grid_grain}\\n\")\n",
    "        trainer = trainer_qNN.trainer_qNN(type_of_enconding=encoding, save_history=True, tolerance=0.15, grid_grain=20)\n",
    "\n",
    "        for method in [\"exaustive_search\", \"gradient_descent\", \"random_search\", \"simulated_annealing\", \"genetic_algorithm\"]:\n",
    "\n",
    "            f.write(f\"  Training with {method} method\")\n",
    "            trainer.train(type_of_training=method)\n",
    "            f.write(f\"      Error: {trainer.get_results()[\"Final Error\"]} | Iterations: {trainer.get_results()['Number of Iterations']}\\n\")\n",
    "\n",
    "            f.write(\"       History of errors:\\n\")\n",
    "            for i, error in enumerate(trainer.get_results()[\"History List\"]):\n",
    "                f.write(f\"          Iteration {i+1}: Error: {error}\\n\")\n"
   ]
  },
  {
   "cell_type": "code",
   "execution_count": null,
   "metadata": {},
   "outputs": [
    {
     "ename": "",
     "evalue": "",
     "output_type": "error",
     "traceback": [
      "\u001b[1;31mnotebook controller is DISPOSED. \n",
      "\u001b[1;31mView Jupyter <a href='command:jupyter.viewOutput'>log</a> for further details."
     ]
    },
    {
     "ename": "",
     "evalue": "",
     "output_type": "error",
     "traceback": [
      "\u001b[1;31mnotebook controller is DISPOSED. \n",
      "\u001b[1;31mView Jupyter <a href='command:jupyter.viewOutput'>log</a> for further details."
     ]
    }
   ],
   "source": [
    "\"\"\"trainer = trainer_qNN.trainer_qNN(type_of_enconding='amplitude',tolerance=0.1)\n",
    "trainer.train(type_of_training=\"exaustive_search\")\n",
    "print(trainer.get_results())\n",
    "trainer.train(type_of_training=\"gradient_descent\")\n",
    "print(trainer.get_results())\n",
    "trainer.train(type_of_training=\"random_search\")\n",
    "print(trainer.get_results())\n",
    "trainer.train(type_of_training=\"simulated_annealing\")\n",
    "print(trainer.get_results())\n",
    "trainer.train(type_of_training=\"genetic_algorithm\")\n",
    "print(trainer.get_results())\n",
    "trainer = trainer_qNN.trainer_qNN(type_of_enconding='phase')\n",
    "trainer.train(type_of_training=\"exaustive_search\")\n",
    "print(trainer.get_results())\n",
    "trainer.train(type_of_training=\"gradient_descent\")\n",
    "print(trainer.get_results())\n",
    "trainer.train(type_of_training=\"random_search\")\n",
    "print(trainer.get_results())\n",
    "trainer.train(type_of_training=\"simulated_annealing\")\n",
    "print(trainer.get_results())\n",
    "trainer.train(type_of_training=\"genetic_algorithm\")\n",
    "print(trainer.get_results())\"\"\""
   ]
  }
 ],
 "metadata": {
  "kernelspec": {
   "display_name": "condaenv",
   "language": "python",
   "name": "python3"
  },
  "language_info": {
   "codemirror_mode": {
    "name": "ipython",
    "version": 3
   },
   "file_extension": ".py",
   "mimetype": "text/x-python",
   "name": "python",
   "nbconvert_exporter": "python",
   "pygments_lexer": "ipython3",
   "version": "3.12.5"
  }
 },
 "nbformat": 4,
 "nbformat_minor": 2
}
