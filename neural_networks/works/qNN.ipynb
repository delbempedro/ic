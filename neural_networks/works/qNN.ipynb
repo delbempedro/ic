{
 "cells": [
  {
   "cell_type": "markdown",
   "metadata": {},
   "source": [
    "qNN.ipynb\n",
    "\n",
    "Notebook that define the necessary functions to run a qNN and runs it.\n",
    "\n",
    "Dependencies:\n",
    "- Uses qiskit.circuit.library module to generate a circuit with all the possible inputs\n",
    "- Uses qiskit.primitives module to run the circuit\n",
    "\n",
    "Since:\n",
    "- 01/2025\n",
    "\n",
    "Authors:\n",
    "- Pedro C. Delbem. <pedrodelbem@usp.br>"
   ]
  },
  {
   "cell_type": "markdown",
   "metadata": {},
   "source": [
    "#imports"
   ]
  },
  {
   "cell_type": "code",
   "execution_count": 1,
   "metadata": {},
   "outputs": [],
   "source": [
    "#Do qiskit necessary imports \n",
    "from qiskit.circuit.library import TwoLocal #type: ignore\n",
    "from qiskit.primitives import StatevectorSampler #type: ignore\n",
    "\n",
    "#Do my biblioteca necessary imports\n",
    "from current_circuit import *\n",
    "\n",
    "#Do necesary other imports\n",
    "import numpy as np #type: ignore\n",
    "from math import pi"
   ]
  },
  {
   "cell_type": "markdown",
   "metadata": {},
   "source": [
    "#function that generates all possible inputs in the quantum circuit with two qubits"
   ]
  },
  {
   "cell_type": "code",
   "execution_count": 2,
   "metadata": {},
   "outputs": [],
   "source": [
    "def all_inputs_circuit():\n",
    "    \"\"\"\n",
    "    Generates a quantum circuit that produces all the possible inputs.\n",
    "\n",
    "    The circuit is constructed by using the TwoLocal method. The parameters are set to the previously chosen/learned parameters to generate all the possible inputs.\n",
    "\n",
    "    Returns:\n",
    "    quantum_circuit (QuantumCircuit): The quantum circuit that generates all the possible inputs.\n",
    "    \"\"\"\n",
    "\n",
    "    two_qubits_entanglement_circuit = TwoLocal(2, \"rx\", \"cz\", entanglement=\"linear\", reps=1) #generates a circuit that mixture two qubits - an entanglement circuit\n",
    "    parameters = [pi, pi, pi/2, pi/2] #previously chosen/learned parameters to generate all the possible inputs\n",
    "    parameter_dict = dict(zip(two_qubits_entanglement_circuit.parameters, parameters)) #assigns the parameters to the circuit\n",
    "    initial_states_circuit = two_qubits_entanglement_circuit.assign_parameters(parameter_dict) #a circuit that can generate all the possible inputs\n",
    "\n",
    "    #return the circuit\n",
    "    return initial_states_circuit"
   ]
  },
  {
   "cell_type": "markdown",
   "metadata": {},
   "source": [
    "#function that copy a quantum circuit with two qubits"
   ]
  },
  {
   "cell_type": "code",
   "execution_count": 3,
   "metadata": {},
   "outputs": [],
   "source": [
    "def circuit_copy(initial_circuit, number_of_qubits):\n",
    "    \"\"\"\n",
    "    Creates a quantum circuit that duplicates the given initial circuit with additional qubits.\n",
    "\n",
    "    This function constructs a new quantum circuit by duplicating the specified number of qubits \n",
    "    from the initial circuit and adding two additional qubits to the circuit. The resulting circuit \n",
    "    reproduces the input values using controlled-NOT operations to copy the state of the first two \n",
    "    qubits to the additional qubits.\n",
    "\n",
    "    Parameters:\n",
    "    initial_circuit (QuantumCircuit): The initial quantum circuit to be copied.\n",
    "    number_of_qubits (int): The number of qubits in the initial circuit.\n",
    "\n",
    "    Returns:\n",
    "    QuantumCircuit: A new quantum circuit with duplicated qubits and additional operations to copy the input.\n",
    "    \"\"\"\n",
    "\n",
    "    circuit_copy = QuantumCircuit(number_of_qubits+2) #duplicate the number of qubits\n",
    "    circuit_copy = circuit_copy .compose(initial_circuit, qubits=list(range(0,number_of_qubits))) #first half with the initial_states_2b_circ\n",
    "    circuit_copy.barrier() #to visually separate circuit components\n",
    "\n",
    "    #a layer to copy/reproduce the generated inputs in qubits 0 and 1\n",
    "    circuit_copy.x(2)    #change value of qubit 2 from 0 to 1\n",
    "    circuit_copy.x(3)    #change value of qubit 3 from 0 to 1\n",
    "    circuit_copy.cx(0,2) #qb0 ''AND'' 1 (or NOT qb0) to copy qubit 0 to qubit 2\n",
    "    circuit_copy.cx(1,3) #qb1 ''AND'' 1 (or NOT qb1) to copy qubit 1 to qubit 3\n",
    "    circuit_copy.x(2)    #NOT of qubit 2 => qubit 2 equal to equal qubit 0\n",
    "    circuit_copy.x(3)    #NOT of qubit 3 => qubit 3 equal to equal qubit 1\n",
    "\n",
    "    return circuit_copy"
   ]
  },
  {
   "cell_type": "markdown",
   "metadata": {},
   "source": [
    "#function to generates the qNN with one qubit"
   ]
  },
  {
   "cell_type": "code",
   "execution_count": 4,
   "metadata": {},
   "outputs": [],
   "source": [
    "def generate_one_qubit_qNN_circuit(inputs,parameters):\n",
    "    \"\"\"\n",
    "    Generates a quantum neural network circuit with a single qubit.\n",
    "\n",
    "    This function creates a quantum circuit with a single qubit and applies a neuron \n",
    "    operation to it using the specified parameters.\n",
    "\n",
    "    Parameters:\n",
    "    inputs (list of floats): The input values to the neuron.\n",
    "    parameters (list of floats): The parameters of the neuron, including weights and bias.\n",
    "\n",
    "    Returns:\n",
    "    current_circuit: The quantum neural network circuit with the neuron operations.\n",
    "    \"\"\"\n",
    "    \n",
    "    qNN = current_circuit(1,1) #create the qNN circuit\n",
    "    qNN.add_one_qubit_neuron(*inputs, *parameters, 0) #add the neuron\n",
    "    qNN.get_current_circuit().measure_all()\n",
    "\n",
    "    return qNN"
   ]
  },
  {
   "cell_type": "markdown",
   "metadata": {},
   "source": [
    "#function to generates the qNN with two qubits"
   ]
  },
  {
   "cell_type": "code",
   "execution_count": 5,
   "metadata": {},
   "outputs": [],
   "source": [
    "def generate_two_qubit_qNN_circuit(all_inputs_circuit, parameters_of_entanglement_circuit):\n",
    "    \"\"\"\n",
    "    Generates a quantum neural network circuit without additional qubits.\n",
    "\n",
    "    This function creates a quantum circuit by first duplicating the provided input circuit \n",
    "    and then appending it to the main quantum neural network circuit. It adds a neuron \n",
    "    operation to the circuit using the specified entanglement parameters.\n",
    "\n",
    "    Parameters:\n",
    "    all_inputs_circuit (QuantumCircuit): The quantum circuit that generates all the possible inputs.\n",
    "    parameters_of_entanglement_circuit (list): A list of parameters for the neuron's entanglement operations.\n",
    "\n",
    "    Returns:\n",
    "    current_circuit: The quantum neural network circuit with the appended duplicated circuit and neuron operations.\n",
    "    \"\"\"\n",
    "\n",
    "    qNN = current_circuit(5,1) #create the qNN circuit\n",
    "    auxiliary_circuit = all_inputs_circuit.copy() #copy the all inputs circuit\n",
    "    duplicate_circuit = circuit_copy(auxiliary_circuit, 2) #duplicate the all inputs circuit\n",
    "    qNN.get_current_circuit().append(duplicate_circuit, [0, 1, 2, 3]) #add the all inputs circuit\n",
    "    qNN.add_two_qubit_neuron(*parameters_of_entanglement_circuit, 2) #add the neuron\n",
    "    qNN.get_current_circuit().measure_all()\n",
    "\n",
    "    return qNN"
   ]
  },
  {
   "cell_type": "markdown",
   "metadata": {},
   "source": [
    "#function that return expected outputs"
   ]
  },
  {
   "cell_type": "code",
   "execution_count": 6,
   "metadata": {},
   "outputs": [],
   "source": [
    "def compute_expected_outputs(inputs: list, logic_gate=\"XOR\"):\n",
    "    \"\"\"\n",
    "    Compute the expected outputs for a given list of inputs and a specified logic gate.\n",
    "\n",
    "    Parameters:\n",
    "    inputs (list): A list of tuples containing the input values for each pair of qubits.\n",
    "    logic_gate (str): The logic gate to compute the expected outputs for. Default is \"XOR\". \n",
    "\n",
    "    Returns:\n",
    "    A list of strings representing the expected outputs for each pair of qubits.\n",
    "    \"\"\"\n",
    "    \n",
    "    if logic_gate == \"XOR\":\n",
    "        return [str(input1^input2) for input1,input2 in inputs]\n",
    "    elif logic_gate == \"AND\":\n",
    "        return [str(input1&input2) for input1,input2 in inputs]\n",
    "    elif logic_gate == \"OR\":\n",
    "        return [str(input1|input2) for input1,input2 in inputs]\n",
    "    else:\n",
    "        raise ValueError(\"Logic gate must be 'XOR', 'AND' or 'OR'\")"
   ]
  },
  {
   "cell_type": "markdown",
   "metadata": {},
   "source": [
    "#functions that computes the error to one qubit qNN"
   ]
  },
  {
   "cell_type": "code",
   "execution_count": 7,
   "metadata": {},
   "outputs": [],
   "source": [
    "def compute_error_to_one_qubit_qNN(counts,expected_output):\n",
    "    \"\"\"\n",
    "    Compute the error between the actual outputs and the expected outputs.\n",
    "\n",
    "    Parameters:\n",
    "    counts (list of dictionaries): The counts of the outputs of the quantum circuit.\n",
    "    expected_outputs (list of floats): The expected outputs of the quantum circuit.\n",
    "\n",
    "    Returns:\n",
    "    The error (float).\n",
    "    \"\"\"\n",
    "\n",
    "    #compute number of shots\n",
    "    number_of_shots = sum(counts[0].values())\n",
    "\n",
    "    #initialize error with 0\n",
    "    error = 0\n",
    "\n",
    "    #compute error for each count\n",
    "    for count in counts:\n",
    "        if expected_output in count:\n",
    "            error = number_of_shots - count[expected_output]\n",
    "        else:\n",
    "            error = number_of_shots\n",
    "\n",
    "    #normalize error\n",
    "    error = error/number_of_shots\n",
    "\n",
    "    #return error\n",
    "    return error\n",
    "\n",
    "def compute_total_error_to_one_qubit_qNN(inputs,expected_outputs,parameters,number_of_runs=1):\n",
    "    \"\"\"\n",
    "    Compute the total error for a set of inputs and expected outputs.\n",
    "\n",
    "    Parameters:\n",
    "    inputs (list of lists): A list containing pairs of input values for the neuron.\n",
    "    expected_outputs (list of floats): A list of expected output values for each input pair.\n",
    "    parameters (list of floats): The parameters of the neuron, including weights and bias.\n",
    "    number_of_runs (int): The parameter that define the number of runs. \n",
    "\n",
    "    Returns:\n",
    "    The total error (float) across all input pairs.\n",
    "    \"\"\"\n",
    "\n",
    "    #initialize total error\n",
    "    total_error = 0\n",
    "\n",
    "    #apply qNN circuit to each input\n",
    "    for interation in range(len(inputs)):\n",
    "\n",
    "        qNN_circuit = generate_one_qubit_qNN_circuit(inputs[interation],parameters) #generate circuit\n",
    "        counts = qNN_circuit.evaluate(number_of_runs) #run circuit\n",
    "        total_error += compute_error_to_one_qubit_qNN(counts,expected_outputs[interation]) #add error\n",
    "\n",
    "    #normalize total error\n",
    "    total_error = total_error/len(inputs)\n",
    "\n",
    "    #return total error\n",
    "    return total_error"
   ]
  },
  {
   "cell_type": "markdown",
   "metadata": {},
   "source": [
    "#function that computes the error to two qubits qNN"
   ]
  },
  {
   "cell_type": "code",
   "execution_count": 8,
   "metadata": {},
   "outputs": [],
   "source": [
    "def compute_error_to_two_qubit_qNN(inputs,expected_outputs,counts):\n",
    "    \"\"\"\n",
    "    Compute the error of the given quantum circuit.\n",
    "\n",
    "    The error is computed by counting the number of mistakes in the outputs of the quantum circuit.\n",
    "    The output of the quantum circuit is in the form of a string of length 5, where the first two\n",
    "    characters are the inputs and the last character is the output. The error is the sum of the\n",
    "    number of mistakes in the outputs of the quantum circuit divided by the total number of tests.\n",
    "\n",
    "    Parameters:\n",
    "    inputs (list): A list of input values for the quantum circuit.\n",
    "    expected_outputs (list): A list of expected output values for the quantum circuit.\n",
    "    counts (list): A list of dictionaries, where each dictionary represents the counts of the outputs of the quantum circuit.\n",
    "\n",
    "    Returns:\n",
    "    float: The error of the quantum circuit.\n",
    "    \"\"\"\n",
    "\n",
    "    #define the statistics dictionary\n",
    "    statistics = {}\n",
    "    for input in inputs:\n",
    "        input = str(input[0])+str(input[1])\n",
    "        statistics[input] = [0,0]\n",
    "    \n",
    "    #get the total number of tests\n",
    "    total_tests = 0\n",
    "\n",
    "    for count in counts: #for each count\n",
    "        for key,value in count.items(): #extract the key and value\n",
    "            real_inputs = str(key[2])+str(key[3])\n",
    "            output = int(key[4])\n",
    "            statistics[real_inputs][output] = statistics[real_inputs][output] + value\n",
    "            total_tests = total_tests + value\n",
    "\n",
    "    #compute the error\n",
    "    error = 0\n",
    "    error += statistics[\"00\"][int(expected_outputs[0])] + statistics[\"01\"][int(expected_outputs[1])] + statistics[\"10\"][int(expected_outputs[2])] + statistics[\"11\"][int(expected_outputs[3])]# + statistics[\"00\"][1] + statistics[\"01\"][1] + statistics[\"10\"][1] + statistics[\"11\"][0]\n",
    "    error = error / total_tests\n",
    "\n",
    "    #return the error\n",
    "    return error"
   ]
  },
  {
   "cell_type": "markdown",
   "metadata": {},
   "source": [
    "#function that do the exaustive search to one qubit qNN"
   ]
  },
  {
   "cell_type": "code",
   "execution_count": 9,
   "metadata": {},
   "outputs": [],
   "source": [
    "def exaustive_search_to_one_qubit_qNN(inputs,expected_outputs,grid_grain=5,number_of_runs=1):\n",
    "    \n",
    "    #initialize final error\n",
    "    final_error = 1\n",
    "\n",
    "    #initialize final parameters\n",
    "    final_parameters = [0,0,0]\n",
    "\n",
    "    #exaustive search\n",
    "    for weight1 in np.linspace(-np.pi, np.pi, grid_grain):\n",
    "        for weight2 in np.linspace(-np.pi, np.pi, grid_grain):\n",
    "            for weight3 in np.linspace(-np.pi, np.pi, grid_grain):\n",
    "\n",
    "                #compute total error\n",
    "                parameters = [weight1, weight2, weight3]\n",
    "                current_error = compute_total_error_to_one_qubit_qNN(inputs,expected_outputs,parameters)\n",
    "\n",
    "                #update final error\n",
    "                if current_error < final_error:\n",
    "                    final_error = current_error\n",
    "                    final_parameters = parameters\n",
    "\n",
    "    #return final parameters\n",
    "    return final_parameters, final_error"
   ]
  },
  {
   "cell_type": "markdown",
   "metadata": {},
   "source": [
    "#function that do the exaustive search to two qubits qNN"
   ]
  },
  {
   "cell_type": "code",
   "execution_count": 10,
   "metadata": {},
   "outputs": [],
   "source": [
    "def exaustive_search_to_two_qubit_qNN(inputs,expected_outputs,grid_grain=5,number_of_runs=1):\n",
    "   \n",
    "    final_parameters = []\n",
    "    final_error = 1\n",
    "    \n",
    "    for i in np.linspace(0, np.pi, grid_grain):\n",
    "        for j in np.linspace(0, np.pi, grid_grain):\n",
    "            for k in np.linspace(0, np.pi, grid_grain):\n",
    "                for l in np.linspace(0, np.pi, grid_grain):\n",
    "\n",
    "                    counts = generate_two_qubit_qNN_circuit(all_inputs_circuit(), [i, j, k, l]).evaluate(number_of_runs)\n",
    "                    current_error = compute_error_to_two_qubit_qNN(inputs,expected_outputs,counts)\n",
    "\n",
    "                    if current_error < final_error:\n",
    "\n",
    "                        final_error = current_error\n",
    "                        final_parameters = [i, j, k, l]\n",
    "\n",
    "    return final_parameters, final_error"
   ]
  },
  {
   "cell_type": "markdown",
   "metadata": {},
   "source": [
    "#execution"
   ]
  },
  {
   "cell_type": "code",
   "execution_count": 11,
   "metadata": {},
   "outputs": [
    {
     "name": "stdout",
     "output_type": "stream",
     "text": [
      "Insert 1 for one qubit qNN, 2 for two qubit qNN: \n",
      "Your option:  2\n",
      "Insert grid grain: \n",
      "Your grid grain:  10\n"
     ]
    }
   ],
   "source": [
    "print(\"Insert 1 for one qubit qNN, 2 for two qubit qNN: \")\n",
    "option = int(input())\n",
    "print(\"Your option: \",option)\n",
    "print(\"Insert grid grain: \")\n",
    "grid_grain = int(input())\n",
    "print(\"Your grid grain: \",grid_grain)\n",
    "print(\"Insert number of runs: \")\n",
    "number_of_runs = int(input())\n",
    "print(\"Your number of runs: \",number_of_runs)\n",
    "print(\"Insert logic gate: \")\n",
    "logic_gate = input()\n",
    "print(\"Your logic gate: \",logic_gate)\n",
    "\n",
    "#define inputs\n",
    "inputs = [[0,0],[0,1],[1,0],[1,1]]\n",
    "#define expected outputs\n",
    "expected_outputs = compute_expected_outputs(inputs,logic_gate=logic_gate)#[str(input1^input2) for input1,input2 in inputs]"
   ]
  },
  {
   "cell_type": "code",
   "execution_count": 12,
   "metadata": {},
   "outputs": [],
   "source": [
    "if option == 1: #a single qubit qNN\n",
    "    \n",
    "    #do exaustive search\n",
    "    final_parameters, final_error = exaustive_search_to_one_qubit_qNN(inputs,expected_outputs,grid_grain=grid_grain,number_of_runs=number_of_runs)\n",
    "\n",
    "    #print final parameters and error\n",
    "    print(final_parameters[0], final_parameters[1], final_parameters[2], final_error)\n",
    "\n",
    "elif option == 2: #a two qubit qNN\n",
    "\n",
    "    #do exaustive search\n",
    "    final_parameters, final_error = exaustive_search_to_two_qubit_qNN(inputs,expected_outputs,grid_grain=grid_grain,number_of_runs=number_of_runs)\n",
    "\n",
    "    #print final parameters and error\n",
    "    print(final_parameters[0], final_parameters[1], final_parameters[2], final_parameters[3], final_error)"
   ]
  }
 ],
 "metadata": {
  "kernelspec": {
   "display_name": "condaenv",
   "language": "python",
   "name": "python3"
  },
  "language_info": {
   "codemirror_mode": {
    "name": "ipython",
    "version": 3
   },
   "file_extension": ".py",
   "mimetype": "text/x-python",
   "name": "python",
   "nbconvert_exporter": "python",
   "pygments_lexer": "ipython3",
   "version": "3.12.5"
  }
 },
 "nbformat": 4,
 "nbformat_minor": 2
}
