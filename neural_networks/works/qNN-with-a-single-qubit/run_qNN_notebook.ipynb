{
 "cells": [
  {
   "cell_type": "markdown",
   "metadata": {},
   "source": [
    "run_qNN_notebook.ipynb\n",
    "\n",
    "Notebook that can run the qNN with a single qubit\n",
    "\n",
    "Dependencies:\n",
    "- Uses numpy to get random values\n",
    "- Uses qNN_functions to get qNN necessary functions \n",
    "\n",
    "Since:\n",
    "- 02/2025\n",
    "\n",
    "Authors:\n",
    "- Pedro C. Delbem. <pedrodelbem@usp.br>"
   ]
  },
  {
   "cell_type": "markdown",
   "metadata": {},
   "source": [
    "#imports"
   ]
  },
  {
   "cell_type": "code",
   "execution_count": 2,
   "metadata": {},
   "outputs": [],
   "source": [
    "import numpy as np #type: ignore\n",
    "import qNN_functions as sqNN"
   ]
  },
  {
   "cell_type": "markdown",
   "metadata": {},
   "source": [
    "#generate qNN circuit"
   ]
  },
  {
   "cell_type": "code",
   "execution_count": 3,
   "metadata": {},
   "outputs": [],
   "source": [
    "#declare the input\n",
    "input = [0,0]"
   ]
  },
  {
   "cell_type": "code",
   "execution_count": 4,
   "metadata": {},
   "outputs": [
    {
     "data": {
      "text/plain": [
       "array([3.06501917, 1.36987186, 2.13776327])"
      ]
     },
     "execution_count": 4,
     "metadata": {},
     "output_type": "execute_result"
    }
   ],
   "source": [
    "#generate 3 random angles\n",
    "angles = np.random.rand(3)*np.pi\n",
    "angles"
   ]
  },
  {
   "cell_type": "code",
   "execution_count": 5,
   "metadata": {},
   "outputs": [
    {
     "data": {
      "text/html": [
       "<pre style=\"word-wrap: normal;white-space: pre;background: #fff0;line-height: 1.1;font-family: &quot;Courier New&quot;,Courier,monospace\">        ┌───┐┌────────────┐┌────────────┐ ░ ┌─┐\n",
       "     q: ┤ H ├┤ Rz(2.1378) ├┤ Rx(2.1378) ├─░─┤M├\n",
       "        └───┘└────────────┘└────────────┘ ░ └╥┘\n",
       "   c: 1/═════════════════════════════════════╬═\n",
       "                                             ║ \n",
       "meas: 1/═════════════════════════════════════╩═\n",
       "                                             0 </pre>"
      ],
      "text/plain": [
       "        ┌───┐┌────────────┐┌────────────┐ ░ ┌─┐\n",
       "     q: ┤ H ├┤ Rz(2.1378) ├┤ Rx(2.1378) ├─░─┤M├\n",
       "        └───┘└────────────┘└────────────┘ ░ └╥┘\n",
       "   c: 1/═════════════════════════════════════╬═\n",
       "                                             ║ \n",
       "meas: 1/═════════════════════════════════════╩═\n",
       "                                             0 "
      ]
     },
     "execution_count": 5,
     "metadata": {},
     "output_type": "execute_result"
    }
   ],
   "source": [
    "#generate circuit\n",
    "single_qubit_qNN = sqNN.generate_qNN_circuit(input,angles)\n",
    "single_qubit_qNN.get_current_circuit().draw()"
   ]
  },
  {
   "cell_type": "markdown",
   "metadata": {},
   "source": [
    "create the circuit to the quantum neuron with 3 angles whose first 2 angles multiply the XOR inputs and the third value is the bias that is added to the multiplications\n",
    "rz angle expression: angle1*input1 + angle3\n",
    "rx angle expression: angle2*input2 + angle3"
   ]
  },
  {
   "cell_type": "markdown",
   "metadata": {},
   "source": [
    "functions:\n",
    "def neuron(qc,input1_value,input2_value,weight1,weight2,weight3,qbit_index,classical_bit_index):\n",
    "    \"\"\"\n",
    "    Applies a quantum neuron operation to the given quantum circuit.\n",
    "\n",
    "    Parameters:\n",
    "    qc (QuantumCircuit): The quantum circuit to which the quantum neuron operation is applied.\n",
    "    input1_value (float): The value of the first input of the neuron.\n",
    "    input2_value (float): The value of the second input of the neuron.\n",
    "    weight1 (float): The weight of the first input of the neuron.\n",
    "    weight2 (float): The weight of the second input of the neuron.\n",
    "    weight3 (float): The bias of the neuron.\n",
    "    qbit_index (int): The index of the qbit to which the quantum neuron operation is applied.\n",
    "    classical_bit_index (int): The index of the classical bit to which the quantum neuron operation is applied.\n",
    "    \"\"\"\n",
    "\n",
    "    qc.h(qbit_index)\n",
    "\n",
    "    qc.rz(input1_value*weight1+weight3,qbit_index)\n",
    "    qc.rx(input2_value*weight2+weight3,qbit_index)\n",
    "\n",
    "def add_neuron(self,input1_value,input2_value,weight1,weight2,weight3,qbit_index,classical_bit_index):\n",
    "    \"\"\"\n",
    "    Add a quantum neuron operation to the current quantum circuit.\n",
    "\n",
    "    Parameters:\n",
    "    input1_value (float): The value of the first input of the neuron.\n",
    "    input2_value (float): The value of the second input of the neuron.\n",
    "    weight1 (float): The weight of the first input of the neuron.\n",
    "    weight2 (float): The weight of the second input of the neuron.\n",
    "    weight3 (float): The bias of the neuron.\n",
    "    qbit_index (int): The index of the qbit to which the quantum neuron operation is applied.\n",
    "    classical_bit_index (int): The index of the classical bit to which the quantum neuron operation is applied.\n",
    "    \"\"\"\n",
    "    neuron(self._qc,input1_value,input2_value,weight1,weight2,weight3,qbit_index,classical_bit_index)\n",
    "\n",
    "\n",
    "def generate_qNN_circuit(inputs,parameters):\n",
    "    \"\"\"\n",
    "    Generate a quantum neural network circuit (qNN) with a single neuron.\n",
    "\n",
    "    Parameters:\n",
    "    input1_value (float): The value of the first input of the neuron.\n",
    "    input2_value (float): The value of the second input of the neuron.\n",
    "    parameters (list of floats): The parameters of the neuron, in order: first input weight, second input weight, bias.\n",
    "\n",
    "    Returns:\n",
    "    The qNN circuit (current_circuit).\n",
    "    \"\"\"\n",
    "    qNN = current_circuit(1,1) #create the qNN circuit\n",
    "    qNN.add_neuron(*inputs, *parameters, 0, 0) #add the neuron\n",
    "    qNN.get_current_circuit().measure_all()\n",
    "\n",
    "    return qNN"
   ]
  },
  {
   "cell_type": "markdown",
   "metadata": {},
   "source": [
    "#evaluate qNN circuit"
   ]
  },
  {
   "cell_type": "code",
   "execution_count": 6,
   "metadata": {},
   "outputs": [],
   "source": [
    "counts = single_qubit_qNN.evaluate(number_of_shots=1024, number_of_runs=1)"
   ]
  },
  {
   "cell_type": "markdown",
   "metadata": {},
   "source": [
    "uses the evaluate structure, from the current circuit class, to obtain results from the circuit"
   ]
  },
  {
   "cell_type": "markdown",
   "metadata": {},
   "source": [
    "function:\n",
    "def evaluate(self, number_of_shots = 1024, number_of_runs = 100):\n",
    "    \"\"\"\n",
    "    Evaluate a quantum circuit (XOR candidate) and return the counts (histogram of the outputs).\n",
    "\n",
    "    Parameters:\n",
    "    quantum_circuit (QuantumCircuit): The quantum circuit to be evaluated.\n",
    "    number_of_shots (int): The number of shots to be used in the evaluation.\n",
    "    number_of_runs (int): The number of times the quantum circuit is run.\n",
    "\n",
    "    Returns:\n",
    "    list: A list of dictionaries, where each dictionary represents the counts of the outputs of the quantum circuit.\n",
    "    \"\"\"\n",
    "\n",
    "    #sample results with severals runs, each with several shots\n",
    "    sampler = StatevectorSampler()\n",
    "    #create jobs list\n",
    "    jobs = []\n",
    "    \n",
    "    #run the circuit several times\n",
    "    for _ in range(number_of_runs):\n",
    "\n",
    "        #run the circuit\n",
    "        job = sampler.run([(self._qc)], shots = number_of_shots)\n",
    "        #append the job to the jobs list\n",
    "        jobs.append(job)\n",
    "\n",
    "    #create the counts list\n",
    "    counts = []\n",
    "\n",
    "    #get and show raw results - counts\n",
    "    for job in jobs:\n",
    "\n",
    "        #get the data\n",
    "        data_pub = job.result()[0].data # 'pub' refers to Primitive Unified Bloc\n",
    "        job_counts = data_pub.meas.get_counts()\n",
    "\n",
    "        #append the counts to the counts list\n",
    "        counts.append(job_counts)\n",
    "\n",
    "    #return the counts list\n",
    "    return counts"
   ]
  },
  {
   "cell_type": "markdown",
   "metadata": {},
   "source": [
    "#compute the error"
   ]
  },
  {
   "cell_type": "code",
   "execution_count": 7,
   "metadata": {},
   "outputs": [],
   "source": [
    "#define inputs and the expected outputs\n",
    "inputs = [[0,0],[0,1],[1,0],[1,1]]\n",
    "expected_outputs = [str(input1*input2) for input1,input2 in inputs]"
   ]
  },
  {
   "cell_type": "code",
   "execution_count": 8,
   "metadata": {},
   "outputs": [
    {
     "data": {
      "text/plain": [
       "0.577880859375"
      ]
     },
     "execution_count": 8,
     "metadata": {},
     "output_type": "execute_result"
    }
   ],
   "source": [
    "error = sqNN.compute_total_error(inputs,expected_outputs,angles)\n",
    "error"
   ]
  },
  {
   "cell_type": "markdown",
   "metadata": {},
   "source": [
    "computes the circuit error when simulating the XOR gate for given angles"
   ]
  },
  {
   "cell_type": "markdown",
   "metadata": {},
   "source": [
    "functions:\n",
    "def compute_error(counts,expected_output):\n",
    "    \"\"\"\n",
    "    Compute the error between the actual outputs and the expected outputs.\n",
    "\n",
    "    Parameters:\n",
    "    counts (list of dictionaries): The counts of the outputs of the quantum circuit.\n",
    "    expected_outputs (list of floats): The expected outputs of the quantum circuit.\n",
    "\n",
    "    Returns:\n",
    "    The error (float).\n",
    "    \"\"\"\n",
    "\n",
    "    #compute number of shots\n",
    "    number_of_shots = sum(counts[0].values())\n",
    "\n",
    "    #initialize error with 0\n",
    "    error = 0\n",
    "\n",
    "    #compute error for each count\n",
    "    for count in counts:\n",
    "        if expected_output in count:\n",
    "            error = number_of_shots - count[expected_output]\n",
    "        else:\n",
    "            error = number_of_shots\n",
    "\n",
    "    #normalize error\n",
    "    error = error/number_of_shots\n",
    "\n",
    "    #return error\n",
    "    return error\n",
    "\n",
    "def compute_total_error(inputs,expected_outputs,parameters,number_of_runs=1):\n",
    "    \"\"\"\n",
    "    Compute the total error for a set of inputs and expected outputs.\n",
    "\n",
    "    Parameters:\n",
    "    inputs (list of lists): A list containing pairs of input values for the neuron.\n",
    "    expected_outputs (list of floats): A list of expected output values for each input pair.\n",
    "    parameters (list of floats): The parameters of the neuron, including weights and bias.\n",
    "    number_of_runs (int): The number of times the circuit is run.\n",
    "\n",
    "    Returns:\n",
    "    The total error (float) across all input pairs.\n",
    "    \"\"\"\n",
    "\n",
    "    #initialize total error\n",
    "    total_error = 0\n",
    "\n",
    "    #apply qNN circuit to each input\n",
    "    for interation in range(len(inputs)):\n",
    "\n",
    "        qNN_circuit = generate_qNN_circuit(inputs[interation],parameters) #generate circuit\n",
    "        counts = qNN_circuit.evaluate(number_of_runs=number_of_runs) #run circuit\n",
    "        total_error += compute_error(counts,expected_outputs[interation]) #add error\n",
    "\n",
    "    #normalize total error\n",
    "    total_error = total_error/len(inputs)\n",
    "\n",
    "    #return total error\n",
    "    return total_error"
   ]
  },
  {
   "cell_type": "markdown",
   "metadata": {},
   "source": [
    "#exaustive search"
   ]
  },
  {
   "cell_type": "code",
   "execution_count": 9,
   "metadata": {},
   "outputs": [
    {
     "data": {
      "text/plain": [
       "([np.float64(0.0),\n",
       "  np.float64(-1.5707963267948966),\n",
       "  np.float64(1.5707963267948966)],\n",
       " 0.2470703125)"
      ]
     },
     "execution_count": 9,
     "metadata": {},
     "output_type": "execute_result"
    }
   ],
   "source": [
    "final_parameters, final_error = sqNN.exaustive_search(inputs,expected_outputs)\n",
    "final_parameters, final_error"
   ]
  },
  {
   "cell_type": "markdown",
   "metadata": {},
   "source": [
    "do a exaustive search by varying the angles in order to obtain the angle with the lowest error for the XOR gate - obtaning the angles and the error"
   ]
  },
  {
   "cell_type": "markdown",
   "metadata": {},
   "source": [
    "function:\n",
    "def exaustive_search(inputs,expected_outputs,grid_grain=5,number_of_runs=1):\n",
    "    \"\"\"\n",
    "    Perform an exaustive search of the parameter space to find the optimal parameters for the given inputs and expected outputs.\n",
    "\n",
    "    Parameters:\n",
    "    inputs (list of lists): A list containing pairs of input values for the neuron.\n",
    "    expected_outputs (list of floats): A list of expected output values for each input pair.\n",
    "    grid_grain (int): The number of points in the grid to search.\n",
    "    number_of_runs (int): The number of times the circuit is run.\n",
    "\n",
    "    Returns:\n",
    "    The optimal parameters (list of floats) and the total error (float) of the optimal parameters.\n",
    "    \"\"\"\n",
    "\n",
    "    #initialize final error\n",
    "    final_error = 1\n",
    "\n",
    "    #initialize final parameters\n",
    "    final_parameters = [0,0,0]\n",
    "\n",
    "    #exaustive search\n",
    "    for weight1 in np.linspace(-np.pi, np.pi, grid_grain):\n",
    "        for weight2 in np.linspace(-np.pi, np.pi, grid_grain):\n",
    "            for weight3 in np.linspace(-np.pi, np.pi, grid_grain):\n",
    "\n",
    "                #compute total error\n",
    "                parameters = [weight1, weight2, weight3]\n",
    "                current_error = compute_total_error(inputs,expected_outputs,parameters,number_of_runs=number_of_runs)\n",
    "\n",
    "                #update final error\n",
    "                if current_error < final_error:\n",
    "                    final_error = current_error\n",
    "                    final_parameters = parameters\n",
    "\n",
    "    #return final parameters\n",
    "    return final_parameters, final_error"
   ]
  }
 ],
 "metadata": {
  "kernelspec": {
   "display_name": "condaenv",
   "language": "python",
   "name": "python3"
  },
  "language_info": {
   "codemirror_mode": {
    "name": "ipython",
    "version": 3
   },
   "file_extension": ".py",
   "mimetype": "text/x-python",
   "name": "python",
   "nbconvert_exporter": "python",
   "pygments_lexer": "ipython3",
   "version": "3.12.5"
  }
 },
 "nbformat": 4,
 "nbformat_minor": 2
}
