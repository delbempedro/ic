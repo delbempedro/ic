{
 "cells": [
  {
   "cell_type": "markdown",
   "metadata": {},
   "source": [
    "notebook-qNN.ipynb\n",
    "\n",
    "Notebook that define the necessary functions to run a qNN and runs it.\n",
    "\n",
    "Dependencies:\n",
    "- Uses qiskit.circuit.library module to generate a circuit with all the possible inputs\n",
    "- Uses qiskit.primitives module to run the circuit\n",
    "\n",
    "Since:\n",
    "- 02/2025\n",
    "\n",
    "Authors:\n",
    "- Pedro C. Delbem. <pedrodelbem@usp.br>"
   ]
  },
  {
   "cell_type": "code",
   "execution_count": 1,
   "metadata": {},
   "outputs": [],
   "source": [
    "import numpy as np"
   ]
  },
  {
   "cell_type": "markdown",
   "metadata": {},
   "source": [
    "#single qubit neuron"
   ]
  },
  {
   "cell_type": "markdown",
   "metadata": {},
   "source": [
    "##imports"
   ]
  },
  {
   "cell_type": "code",
   "execution_count": 2,
   "metadata": {},
   "outputs": [],
   "source": [
    "import single_qNN as sqNN"
   ]
  },
  {
   "cell_type": "markdown",
   "metadata": {},
   "source": [
    "##generate qNN circuit"
   ]
  },
  {
   "cell_type": "code",
   "execution_count": 3,
   "metadata": {},
   "outputs": [],
   "source": [
    "#declare the input\n",
    "input = [0,0]"
   ]
  },
  {
   "cell_type": "code",
   "execution_count": 4,
   "metadata": {},
   "outputs": [
    {
     "data": {
      "text/plain": [
       "array([3.06501917, 1.36987186, 2.13776327])"
      ]
     },
     "execution_count": 4,
     "metadata": {},
     "output_type": "execute_result"
    }
   ],
   "source": [
    "#generate 3 random angles\n",
    "angles = np.random.rand(3)*np.pi\n",
    "angles"
   ]
  },
  {
   "cell_type": "code",
   "execution_count": 5,
   "metadata": {},
   "outputs": [
    {
     "data": {
      "text/html": [
       "<pre style=\"word-wrap: normal;white-space: pre;background: #fff0;line-height: 1.1;font-family: &quot;Courier New&quot;,Courier,monospace\">        ┌───┐┌────────────┐┌────────────┐ ░ ┌─┐\n",
       "     q: ┤ H ├┤ Rz(2.1378) ├┤ Rx(2.1378) ├─░─┤M├\n",
       "        └───┘└────────────┘└────────────┘ ░ └╥┘\n",
       "   c: 1/═════════════════════════════════════╬═\n",
       "                                             ║ \n",
       "meas: 1/═════════════════════════════════════╩═\n",
       "                                             0 </pre>"
      ],
      "text/plain": [
       "        ┌───┐┌────────────┐┌────────────┐ ░ ┌─┐\n",
       "     q: ┤ H ├┤ Rz(2.1378) ├┤ Rx(2.1378) ├─░─┤M├\n",
       "        └───┘└────────────┘└────────────┘ ░ └╥┘\n",
       "   c: 1/═════════════════════════════════════╬═\n",
       "                                             ║ \n",
       "meas: 1/═════════════════════════════════════╩═\n",
       "                                             0 "
      ]
     },
     "execution_count": 5,
     "metadata": {},
     "output_type": "execute_result"
    }
   ],
   "source": [
    "#generate circuit\n",
    "single_qubit_qNN = sqNN.generate_qNN_circuit(input,angles)\n",
    "single_qubit_qNN.get_current_circuit().draw()"
   ]
  },
  {
   "cell_type": "markdown",
   "metadata": {},
   "source": [
    "create the circuit to the quantum neuron with 3 angles whose first 2 angles multiply the XOR inputs and the third value is the bias that is added to the multiplications\n",
    "rz angle expression: angle1*input1 + angle3\n",
    "rx angle expression: angle2*input2 + angle3"
   ]
  },
  {
   "cell_type": "markdown",
   "metadata": {},
   "source": [
    "functions:\n",
    "def neuron(qc,input1_value,input2_value,weight1,weight2,weight3,qbit_index,classical_bit_index):\n",
    "    \"\"\"\n",
    "    Applies a quantum neuron operation to the given quantum circuit.\n",
    "\n",
    "    Parameters:\n",
    "    qc (QuantumCircuit): The quantum circuit to which the quantum neuron operation is applied.\n",
    "    input1_value (float): The value of the first input of the neuron.\n",
    "    input2_value (float): The value of the second input of the neuron.\n",
    "    weight1 (float): The weight of the first input of the neuron.\n",
    "    weight2 (float): The weight of the second input of the neuron.\n",
    "    weight3 (float): The bias of the neuron.\n",
    "    qbit_index (int): The index of the qbit to which the quantum neuron operation is applied.\n",
    "    classical_bit_index (int): The index of the classical bit to which the quantum neuron operation is applied.\n",
    "    \"\"\"\n",
    "\n",
    "    qc.h(qbit_index)\n",
    "\n",
    "    qc.rz(input1_value*weight1+weight3,qbit_index)\n",
    "    qc.rx(input2_value*weight2+weight3,qbit_index)\n",
    "\n",
    "def add_neuron(self,input1_value,input2_value,weight1,weight2,weight3,qbit_index,classical_bit_index):\n",
    "    \"\"\"\n",
    "    Add a quantum neuron operation to the current quantum circuit.\n",
    "\n",
    "    Parameters:\n",
    "    input1_value (float): The value of the first input of the neuron.\n",
    "    input2_value (float): The value of the second input of the neuron.\n",
    "    weight1 (float): The weight of the first input of the neuron.\n",
    "    weight2 (float): The weight of the second input of the neuron.\n",
    "    weight3 (float): The bias of the neuron.\n",
    "    qbit_index (int): The index of the qbit to which the quantum neuron operation is applied.\n",
    "    classical_bit_index (int): The index of the classical bit to which the quantum neuron operation is applied.\n",
    "    \"\"\"\n",
    "    neuron(self._qc,input1_value,input2_value,weight1,weight2,weight3,qbit_index,classical_bit_index)\n",
    "\n",
    "\n",
    "def generate_qNN_circuit(inputs,parameters):\n",
    "    \"\"\"\n",
    "    Generate a quantum neural network circuit (qNN) with a single neuron.\n",
    "\n",
    "    Parameters:\n",
    "    input1_value (float): The value of the first input of the neuron.\n",
    "    input2_value (float): The value of the second input of the neuron.\n",
    "    parameters (list of floats): The parameters of the neuron, in order: first input weight, second input weight, bias.\n",
    "\n",
    "    Returns:\n",
    "    The qNN circuit (current_circuit).\n",
    "    \"\"\"\n",
    "    qNN = current_circuit(1,1) #create the qNN circuit\n",
    "    qNN.add_neuron(*inputs, *parameters, 0, 0) #add the neuron\n",
    "    qNN.get_current_circuit().measure_all()\n",
    "\n",
    "    return qNN"
   ]
  },
  {
   "cell_type": "markdown",
   "metadata": {},
   "source": [
    "##evaluate qNN circuit"
   ]
  },
  {
   "cell_type": "code",
   "execution_count": 6,
   "metadata": {},
   "outputs": [],
   "source": [
    "counts = single_qubit_qNN.evaluate(number_of_shots=1024, number_of_runs=1)"
   ]
  },
  {
   "cell_type": "markdown",
   "metadata": {},
   "source": [
    "uses the evaluate structure, from the current circuit class, to obtain results from the circuit"
   ]
  },
  {
   "cell_type": "markdown",
   "metadata": {},
   "source": [
    "function:\n",
    "def evaluate(self, number_of_shots = 1024, number_of_runs = 100):\n",
    "    \"\"\"\n",
    "    Evaluate a quantum circuit (XOR candidate) and return the counts (histogram of the outputs).\n",
    "\n",
    "    Parameters:\n",
    "    quantum_circuit (QuantumCircuit): The quantum circuit to be evaluated.\n",
    "    number_of_shots (int): The number of shots to be used in the evaluation.\n",
    "    number_of_runs (int): The number of times the quantum circuit is run.\n",
    "\n",
    "    Returns:\n",
    "    list: A list of dictionaries, where each dictionary represents the counts of the outputs of the quantum circuit.\n",
    "    \"\"\"\n",
    "\n",
    "    #sample results with severals runs, each with several shots\n",
    "    sampler = StatevectorSampler()\n",
    "    #create jobs list\n",
    "    jobs = []\n",
    "    \n",
    "    #run the circuit several times\n",
    "    for _ in range(number_of_runs):\n",
    "\n",
    "        #run the circuit\n",
    "        job = sampler.run([(self._qc)], shots = number_of_shots)\n",
    "        #append the job to the jobs list\n",
    "        jobs.append(job)\n",
    "\n",
    "    #create the counts list\n",
    "    counts = []\n",
    "\n",
    "    #get and show raw results - counts\n",
    "    for job in jobs:\n",
    "\n",
    "        #get the data\n",
    "        data_pub = job.result()[0].data # 'pub' refers to Primitive Unified Bloc\n",
    "        job_counts = data_pub.meas.get_counts()\n",
    "\n",
    "        #append the counts to the counts list\n",
    "        counts.append(job_counts)\n",
    "\n",
    "    #return the counts list\n",
    "    return counts"
   ]
  },
  {
   "cell_type": "markdown",
   "metadata": {},
   "source": [
    "##compute the error"
   ]
  },
  {
   "cell_type": "code",
   "execution_count": 7,
   "metadata": {},
   "outputs": [],
   "source": [
    "#define inputs and the expected outputs\n",
    "inputs = [[0,0],[0,1],[1,0],[1,1]]\n",
    "expected_outputs = [str(input1*input2) for input1,input2 in inputs]"
   ]
  },
  {
   "cell_type": "code",
   "execution_count": 8,
   "metadata": {},
   "outputs": [
    {
     "data": {
      "text/plain": [
       "0.577880859375"
      ]
     },
     "execution_count": 8,
     "metadata": {},
     "output_type": "execute_result"
    }
   ],
   "source": [
    "error = sqNN.compute_total_error(inputs,expected_outputs,angles)\n",
    "error"
   ]
  },
  {
   "cell_type": "markdown",
   "metadata": {},
   "source": [
    "computes the circuit error when simulating the XOR gate for given angles"
   ]
  },
  {
   "cell_type": "markdown",
   "metadata": {},
   "source": [
    "functions:\n",
    "def compute_error(counts,expected_output):\n",
    "    \"\"\"\n",
    "    Compute the error between the actual outputs and the expected outputs.\n",
    "\n",
    "    Parameters:\n",
    "    counts (list of dictionaries): The counts of the outputs of the quantum circuit.\n",
    "    expected_outputs (list of floats): The expected outputs of the quantum circuit.\n",
    "\n",
    "    Returns:\n",
    "    The error (float).\n",
    "    \"\"\"\n",
    "\n",
    "    #compute number of shots\n",
    "    number_of_shots = sum(counts[0].values())\n",
    "\n",
    "    #initialize error with 0\n",
    "    error = 0\n",
    "\n",
    "    #compute error for each count\n",
    "    for count in counts:\n",
    "        if expected_output in count:\n",
    "            error = number_of_shots - count[expected_output]\n",
    "        else:\n",
    "            error = number_of_shots\n",
    "\n",
    "    #normalize error\n",
    "    error = error/number_of_shots\n",
    "\n",
    "    #return error\n",
    "    return error\n",
    "\n",
    "def compute_total_error(inputs,expected_outputs,parameters,number_of_runs=1):\n",
    "    \"\"\"\n",
    "    Compute the total error for a set of inputs and expected outputs.\n",
    "\n",
    "    Parameters:\n",
    "    inputs (list of lists): A list containing pairs of input values for the neuron.\n",
    "    expected_outputs (list of floats): A list of expected output values for each input pair.\n",
    "    parameters (list of floats): The parameters of the neuron, including weights and bias.\n",
    "    number_of_runs (int): The number of times the circuit is run.\n",
    "\n",
    "    Returns:\n",
    "    The total error (float) across all input pairs.\n",
    "    \"\"\"\n",
    "\n",
    "    #initialize total error\n",
    "    total_error = 0\n",
    "\n",
    "    #apply qNN circuit to each input\n",
    "    for interation in range(len(inputs)):\n",
    "\n",
    "        qNN_circuit = generate_qNN_circuit(inputs[interation],parameters) #generate circuit\n",
    "        counts = qNN_circuit.evaluate(number_of_runs=number_of_runs) #run circuit\n",
    "        total_error += compute_error(counts,expected_outputs[interation]) #add error\n",
    "\n",
    "    #normalize total error\n",
    "    total_error = total_error/len(inputs)\n",
    "\n",
    "    #return total error\n",
    "    return total_error"
   ]
  },
  {
   "cell_type": "markdown",
   "metadata": {},
   "source": [
    "##exaustive search"
   ]
  },
  {
   "cell_type": "code",
   "execution_count": 9,
   "metadata": {},
   "outputs": [
    {
     "data": {
      "text/plain": [
       "([np.float64(0.0),\n",
       "  np.float64(-1.5707963267948966),\n",
       "  np.float64(1.5707963267948966)],\n",
       " 0.2470703125)"
      ]
     },
     "execution_count": 9,
     "metadata": {},
     "output_type": "execute_result"
    }
   ],
   "source": [
    "final_parameters, final_error = sqNN.exaustive_search(inputs,expected_outputs)\n",
    "final_parameters, final_error"
   ]
  },
  {
   "cell_type": "markdown",
   "metadata": {},
   "source": [
    "do a exaustive search by varying the angles in order to obtain the angle with the lowest error for the XOR gate - obtaning the angles and the error"
   ]
  },
  {
   "cell_type": "markdown",
   "metadata": {},
   "source": [
    "function:\n",
    "def exaustive_search(inputs,expected_outputs,grid_grain=5,number_of_runs=1):\n",
    "    \"\"\"\n",
    "    Perform an exaustive search of the parameter space to find the optimal parameters for the given inputs and expected outputs.\n",
    "\n",
    "    Parameters:\n",
    "    inputs (list of lists): A list containing pairs of input values for the neuron.\n",
    "    expected_outputs (list of floats): A list of expected output values for each input pair.\n",
    "    grid_grain (int): The number of points in the grid to search.\n",
    "    number_of_runs (int): The number of times the circuit is run.\n",
    "\n",
    "    Returns:\n",
    "    The optimal parameters (list of floats) and the total error (float) of the optimal parameters.\n",
    "    \"\"\"\n",
    "\n",
    "    #initialize final error\n",
    "    final_error = 1\n",
    "\n",
    "    #initialize final parameters\n",
    "    final_parameters = [0,0,0]\n",
    "\n",
    "    #exaustive search\n",
    "    for weight1 in np.linspace(-np.pi, np.pi, grid_grain):\n",
    "        for weight2 in np.linspace(-np.pi, np.pi, grid_grain):\n",
    "            for weight3 in np.linspace(-np.pi, np.pi, grid_grain):\n",
    "\n",
    "                #compute total error\n",
    "                parameters = [weight1, weight2, weight3]\n",
    "                current_error = compute_total_error(inputs,expected_outputs,parameters,number_of_runs=number_of_runs)\n",
    "\n",
    "                #update final error\n",
    "                if current_error < final_error:\n",
    "                    final_error = current_error\n",
    "                    final_parameters = parameters\n",
    "\n",
    "    #return final parameters\n",
    "    return final_parameters, final_error"
   ]
  },
  {
   "cell_type": "markdown",
   "metadata": {},
   "source": [
    "#two qubit neuron"
   ]
  },
  {
   "cell_type": "markdown",
   "metadata": {},
   "source": [
    "##imports"
   ]
  },
  {
   "cell_type": "code",
   "execution_count": 10,
   "metadata": {},
   "outputs": [],
   "source": [
    "import two_qNN as tqNN"
   ]
  },
  {
   "cell_type": "markdown",
   "metadata": {},
   "source": [
    "#generate all inputs circuit"
   ]
  },
  {
   "cell_type": "code",
   "execution_count": 11,
   "metadata": {},
   "outputs": [
    {
     "data": {
      "text/html": [
       "<pre style=\"word-wrap: normal;white-space: pre;background: #fff0;line-height: 1.1;font-family: &quot;Courier New&quot;,Courier,monospace\">     ┌────────────────────────┐\n",
       "q_0: ┤0                       ├\n",
       "     │  TwoLocal(π,π,π/2,π/2) │\n",
       "q_1: ┤1                       ├\n",
       "     └────────────────────────┘</pre>"
      ],
      "text/plain": [
       "     ┌────────────────────────┐\n",
       "q_0: ┤0                       ├\n",
       "     │  TwoLocal(π,π,π/2,π/2) │\n",
       "q_1: ┤1                       ├\n",
       "     └────────────────────────┘"
      ]
     },
     "execution_count": 11,
     "metadata": {},
     "output_type": "execute_result"
    }
   ],
   "source": [
    "all_inputs_circuit = tqNN.all_inputs_circuit()\n",
    "all_inputs_circuit.draw()"
   ]
  },
  {
   "cell_type": "markdown",
   "metadata": {},
   "source": [
    "generate a circuit with generate all possible inputs with 2 bits"
   ]
  },
  {
   "cell_type": "markdown",
   "metadata": {},
   "source": [
    "function:\n",
    "\n",
    "def all_inputs_circuit():\n",
    "    \"\"\"\n",
    "    Generates a quantum circuit that produces all the possible inputs.\n",
    "\n",
    "    The circuit is constructed by using the TwoLocal method. The parameters are set to the previously chosen/learned parameters to generate all the possible inputs.\n",
    "\n",
    "    Returns:\n",
    "    quantum_circuit (QuantumCircuit): The quantum circuit that generates all the possible inputs.\n",
    "    \"\"\"\n",
    "\n",
    "    two_qubits_entanglement_circuit = TwoLocal(2, \"rx\", \"cz\", entanglement=\"linear\", reps=1) #generates a circuit that mixture two qubits - an entanglement circuit\n",
    "    parameters = [pi, pi, pi/2, pi/2] #previously chosen/learned parameters to generate all the possible inputs\n",
    "    parameter_dict = dict(zip(two_qubits_entanglement_circuit.parameters, parameters)) #assigns the parameters to the circuit\n",
    "    initial_states_circuit = two_qubits_entanglement_circuit.assign_parameters(parameter_dict) #a circuit that can generate all the possible inputs\n",
    "\n",
    "    #return the circuit\n",
    "    return initial_states_circuit"
   ]
  },
  {
   "cell_type": "markdown",
   "metadata": {},
   "source": [
    "##copy the circuit"
   ]
  },
  {
   "cell_type": "code",
   "execution_count": 12,
   "metadata": {},
   "outputs": [
    {
     "data": {
      "text/html": [
       "<pre style=\"word-wrap: normal;white-space: pre;background: #fff0;line-height: 1.1;font-family: &quot;Courier New&quot;,Courier,monospace\">     ┌────────────────────────┐ ░                     \n",
       "q_0: ┤0                       ├─░────────■────────────\n",
       "     │  TwoLocal(π,π,π/2,π/2) │ ░        │            \n",
       "q_1: ┤1                       ├─░────────┼────■───────\n",
       "     └────────────────────────┘ ░ ┌───┐┌─┴─┐  │  ┌───┐\n",
       "q_2: ───────────────────────────░─┤ X ├┤ X ├──┼──┤ X ├\n",
       "                                ░ ├───┤└───┘┌─┴─┐├───┤\n",
       "q_3: ───────────────────────────░─┤ X ├─────┤ X ├┤ X ├\n",
       "                                ░ └───┘     └───┘└───┘</pre>"
      ],
      "text/plain": [
       "     ┌────────────────────────┐ ░                     \n",
       "q_0: ┤0                       ├─░────────■────────────\n",
       "     │  TwoLocal(π,π,π/2,π/2) │ ░        │            \n",
       "q_1: ┤1                       ├─░────────┼────■───────\n",
       "     └────────────────────────┘ ░ ┌───┐┌─┴─┐  │  ┌───┐\n",
       "q_2: ───────────────────────────░─┤ X ├┤ X ├──┼──┤ X ├\n",
       "                                ░ ├───┤└───┘┌─┴─┐├───┤\n",
       "q_3: ───────────────────────────░─┤ X ├─────┤ X ├┤ X ├\n",
       "                                ░ └───┘     └───┘└───┘"
      ]
     },
     "execution_count": 12,
     "metadata": {},
     "output_type": "execute_result"
    }
   ],
   "source": [
    "duplicate_circuit = tqNN.circuit_copy(all_inputs_circuit,2)\n",
    "duplicate_circuit.draw()"
   ]
  },
  {
   "cell_type": "markdown",
   "metadata": {},
   "source": [
    "duplicate the circuit to be able to process the inputs without losing the information about which input was used"
   ]
  },
  {
   "cell_type": "markdown",
   "metadata": {},
   "source": [
    "function:\n",
    "def circuit_copy(initial_circuit, number_of_qubits):\n",
    "    \"\"\"\n",
    "    Creates a quantum circuit that duplicates the given initial circuit with additional qubits.\n",
    "\n",
    "    This function constructs a new quantum circuit by duplicating the specified number of qubits \n",
    "    from the initial circuit and adding two additional qubits to the circuit. The resulting circuit \n",
    "    reproduces the input values using controlled-NOT operations to copy the state of the first two \n",
    "    qubits to the additional qubits.\n",
    "\n",
    "    Parameters:\n",
    "    initial_circuit (QuantumCircuit): The initial quantum circuit to be copied.\n",
    "    number_of_qubits (int): The number of qubits in the initial circuit.\n",
    "\n",
    "    Returns:\n",
    "    QuantumCircuit: A new quantum circuit with duplicated qubits and additional operations to copy the input.\n",
    "    \"\"\"\n",
    "\n",
    "    circuit_copy = QuantumCircuit(number_of_qubits+2) #duplicate the number of qubits\n",
    "    circuit_copy = circuit_copy .compose(initial_circuit, qubits=list(range(0,number_of_qubits))) #first half with the initial_states_2b_circ\n",
    "    circuit_copy.barrier() #to visually separate circuit components\n",
    "\n",
    "    #a layer to copy/reproduce the generated inputs in qubits 0 and 1\n",
    "    circuit_copy.x(2)    #change value of qubit 2 from 0 to 1\n",
    "    circuit_copy.x(3)    #change value of qubit 3 from 0 to 1\n",
    "    circuit_copy.cx(0,2) #qb0 ''AND'' 1 (or NOT qb0) to copy qubit 0 to qubit 2\n",
    "    circuit_copy.cx(1,3) #qb1 ''AND'' 1 (or NOT qb1) to copy qubit 1 to qubit 3\n",
    "    circuit_copy.x(2)    #NOT of qubit 2 => qubit 2 equal to equal qubit 0\n",
    "    circuit_copy.x(3)    #NOT of qubit 3 => qubit 3 equal to equal qubit 1\n",
    "\n",
    "    return circuit_copy "
   ]
  },
  {
   "cell_type": "markdown",
   "metadata": {},
   "source": [
    "##generate the qNN circuit"
   ]
  },
  {
   "cell_type": "code",
   "execution_count": 13,
   "metadata": {},
   "outputs": [
    {
     "data": {
      "text/plain": [
       "array([2.90185749, 2.03046355, 2.05952533, 2.40280398])"
      ]
     },
     "execution_count": 13,
     "metadata": {},
     "output_type": "execute_result"
    }
   ],
   "source": [
    "#generate 4 random angles\n",
    "angles = np.random.rand(4)*np.pi\n",
    "angles"
   ]
  },
  {
   "cell_type": "code",
   "execution_count": 14,
   "metadata": {},
   "outputs": [
    {
     "name": "stdout",
     "output_type": "stream",
     "text": [
      "        ┌───────────────┐                                                 ░ ┌─┐»\n",
      "   q_0: ┤0              ├─────────────────────────────────────────────────░─┤M├»\n",
      "        │               │                                                 ░ └╥┘»\n",
      "   q_1: ┤1              ├─────────────────────────────────────────────────░──╫─»\n",
      "        │  circuit-1177 │┌────────────┐     ┌────────────┐     ┌───┐      ░  ║ »\n",
      "   q_2: ┤2              ├┤ Ry(2.9019) ├──■──┤ Ry(2.0595) ├──■──┤ X ├──■───░──╫─»\n",
      "        │               │├────────────┤┌─┴─┐├────────────┤┌─┴─┐├───┤  │   ░  ║ »\n",
      "   q_3: ┤3              ├┤ Ry(2.0305) ├┤ X ├┤ Ry(2.4028) ├┤ X ├┤ X ├──■───░──╫─»\n",
      "        └───────────────┘└────────────┘└───┘└────────────┘└───┘└───┘┌─┴─┐ ░  ║ »\n",
      "   q_4: ────────────────────────────────────────────────────────────┤ X ├─░──╫─»\n",
      "                                                                    └───┘ ░  ║ »\n",
      "   c: 1/═════════════════════════════════════════════════════════════════════╬═»\n",
      "                                                                             ║ »\n",
      "meas: 5/═════════════════════════════════════════════════════════════════════╩═»\n",
      "                                                                             0 »\n",
      "«                    \n",
      "«   q_0: ────────────\n",
      "«        ┌─┐         \n",
      "«   q_1: ┤M├─────────\n",
      "«        └╥┘┌─┐      \n",
      "«   q_2: ─╫─┤M├──────\n",
      "«         ║ └╥┘┌─┐   \n",
      "«   q_3: ─╫──╫─┤M├───\n",
      "«         ║  ║ └╥┘┌─┐\n",
      "«   q_4: ─╫──╫──╫─┤M├\n",
      "«         ║  ║  ║ └╥┘\n",
      "«   c: 1/═╬══╬══╬══╬═\n",
      "«         ║  ║  ║  ║ \n",
      "«meas: 5/═╩══╩══╩══╩═\n",
      "«         1  2  3  4 \n"
     ]
    }
   ],
   "source": [
    "qNN_circuit = tqNN.qNN_circuit(all_inputs_circuit,angles)\n",
    "qNN_circuit.print_circuit()"
   ]
  },
  {
   "cell_type": "markdown",
   "metadata": {},
   "source": [
    "create the quantum circuit with the four angles with each a Ry rotation mixes both qubit with CNot and multiply both saving in other with CCNot\n",
    "this structure is applied in the last 2 qubits from the structure with all inputs duplicate"
   ]
  },
  {
   "cell_type": "markdown",
   "metadata": {},
   "source": [
    "functions:\n",
    "def four_angle_neuron(qc,weight1,weight2,weight3,weight4,first_qbit_index,first_classical_bit_index):\n",
    "    \"\"\"\n",
    "    Quantum circuit for a neuron.\n",
    "    \n",
    "    Parameters:\n",
    "    qc (QuantumCircuit): The quantum circuit to be modified.\n",
    "    first_qbit_index (int): The first qubit of the three qubits to be used in the neuron.\n",
    "    first_classical_bit_index (int): The first classical bit of the three classical bits to be used in the neuron.\n",
    "    weight1,weight2,weight3,weight4 (float): The weights of the inputs to the neuron.\n",
    "    \"\"\"\n",
    "    \n",
    "    qc.ry(weight1,first_qbit_index)\n",
    "    qc.ry(weight2,first_qbit_index+1)\n",
    "    qc.cx(first_qbit_index,first_qbit_index+1)\n",
    "\n",
    "    qc.ry(weight3,first_qbit_index)\n",
    "    qc.ry(weight4,first_qbit_index+1)\n",
    "    qc.cx(first_qbit_index,first_qbit_index+1)\n",
    "\n",
    "    qc.x(first_qbit_index)\n",
    "    qc.x(first_qbit_index+1)\n",
    "    qc.ccx(first_qbit_index,first_qbit_index+1,first_qbit_index+2)\n",
    "    \n",
    "def add_four_angle_neuron(self,weight1,weight2,weight3,weight4,first_qbit_index,first_classical_bit_index): \n",
    "    \"\"\"\n",
    "    Add a neuron to the current quantum circuit.\n",
    "        \n",
    "    Parameters:\n",
    "    weight1 (float): The weight of the first input to the neuron.\n",
    "    weight2 (float): The weight of the second input to the neuron.\n",
    "    weight3 (float): The weight of the third input to the neuron.\n",
    "    weight4 (float): The weight of the fourth input to the neuron.\n",
    "    first_qbit_index (int): The index of the first qbit that the neuron will use.\n",
    "    first_classical_bit_index (int): The index of the first classical bit that the neuron will use.\n",
    "    \"\"\"\n",
    "\n",
    "    four_angle_neuron(self._qc,weight1,weight2,weight3,weight4,first_qbit_index,first_classical_bit_index)\n",
    "\n",
    "def qNN_circuit(all_inputs_circuit, parameters_of_entanglement_circuit):\n",
    "    \"\"\"\n",
    "    Generates a quantum circuit that produces all the possible inputs and a quantum neural network with two neurons.\n",
    "\n",
    "    The circuit is constructed by using the TwoLocal method. The parameters are set to the previously chosen/learned parameters to generate all the possible inputs.\n",
    "    The TwoLocal method generates a circuit that mixture two qubits - an entanglement circuit.\n",
    "    A quantum neural network with two neurons is added to the circuit, by using the add_bin_neuron3 method of the current_circuit class.\n",
    "    The parameters of the quantum neural network are set to the previously chosen/learned parameters.\n",
    "\n",
    "    Parameters:\n",
    "    all_inputs_circuit (QuantumCircuit): The quantum circuit that generates all the possible inputs.\n",
    "    parameters_of_entanglement_circuit (list): A list of parameters for the U and controlled-phase (cp) gates.\n",
    "\n",
    "    Returns:\n",
    "    quantum_circuit (QuantumCircuit): The quantum circuit with all the possible inputs and a quantum neural network with two neurons.\n",
    "    \"\"\"\n",
    "\n",
    "    qNN = current_circuit(5,1) #create the qNN circuit\n",
    "    auxiliary_circuit = all_inputs_circuit.copy() #copy the all inputs circuit\n",
    "    duplicate_circuit = circuit_copy(auxiliary_circuit, 2) #duplicate the all inputs circuit\n",
    "    qNN.get_current_circuit().append(duplicate_circuit, [0, 1, 2, 3]) #add the all inputs circuit\n",
    "    qNN.add_four_angle_neuron(*parameters_of_entanglement_circuit, 2, 0) #add the neuron\n",
    "    qNN.get_current_circuit().measure_all()\n",
    "\n",
    "    return qNN"
   ]
  },
  {
   "cell_type": "markdown",
   "metadata": {},
   "source": [
    "##evaluate qNN circuit"
   ]
  },
  {
   "cell_type": "code",
   "execution_count": 15,
   "metadata": {},
   "outputs": [
    {
     "data": {
      "text/plain": [
       "[{'11110': 190,\n",
       "  '00010': 44,\n",
       "  '00100': 148,\n",
       "  '01001': 104,\n",
       "  '00111': 28,\n",
       "  '00011': 157,\n",
       "  '01011': 69,\n",
       "  '11101': 32,\n",
       "  '00001': 70,\n",
       "  '00101': 53,\n",
       "  '01000': 85,\n",
       "  '11111': 26,\n",
       "  '00110': 8,\n",
       "  '00000': 7,\n",
       "  '11100': 3}]"
      ]
     },
     "execution_count": 15,
     "metadata": {},
     "output_type": "execute_result"
    }
   ],
   "source": [
    "counts = qNN_circuit.evaluate(number_of_shots=1024, number_of_runs=1)\n",
    "counts"
   ]
  },
  {
   "cell_type": "markdown",
   "metadata": {},
   "source": [
    "uses the evaluate structure, from the current circuit class, to obtain results from the circuit\n",
    "function:"
   ]
  },
  {
   "cell_type": "markdown",
   "metadata": {},
   "source": [
    "def evaluate(self, number_of_shots = 1024, number_of_runs = 100):\n",
    "    \"\"\"\n",
    "    Evaluate a quantum circuit (XOR candidate) and return the counts (histogram of the outputs).\n",
    "\n",
    "    Parameters:\n",
    "    quantum_circuit (QuantumCircuit): The quantum circuit to be evaluated.\n",
    "    number_of_shots (int): The number of shots to be used in the evaluation.\n",
    "    number_of_runs (int): The number of times the quantum circuit is run.\n",
    "\n",
    "    Returns:\n",
    "    list: A list of dictionaries, where each dictionary represents the counts of the outputs of the quantum circuit.\n",
    "    \"\"\"\n",
    "\n",
    "    #sample results with severals runs, each with several shots\n",
    "    sampler = StatevectorSampler()\n",
    "    #create jobs list\n",
    "    jobs = []\n",
    "    \n",
    "    #run the circuit several times\n",
    "    for _ in range(number_of_runs):\n",
    "\n",
    "        #run the circuit\n",
    "        job = sampler.run([(self._qc)], shots = number_of_shots)\n",
    "        #append the job to the jobs list\n",
    "        jobs.append(job)\n",
    "\n",
    "    #create the counts list\n",
    "    counts = []\n",
    "\n",
    "    #get and show raw results - counts\n",
    "    for job in jobs:\n",
    "\n",
    "        #get the data\n",
    "        data_pub = job.result()[0].data # 'pub' refers to Primitive Unified Bloc\n",
    "        job_counts = data_pub.meas.get_counts()\n",
    "\n",
    "        #append the counts to the counts list\n",
    "        counts.append(job_counts)\n",
    "\n",
    "    #return the counts list\n",
    "    return counts"
   ]
  },
  {
   "cell_type": "markdown",
   "metadata": {},
   "source": [
    "##compute the error"
   ]
  },
  {
   "cell_type": "code",
   "execution_count": 16,
   "metadata": {},
   "outputs": [
    {
     "data": {
      "text/plain": [
       "0.4130859375"
      ]
     },
     "execution_count": 16,
     "metadata": {},
     "output_type": "execute_result"
    }
   ],
   "source": [
    "error = tqNN.error(counts)\n",
    "error"
   ]
  },
  {
   "cell_type": "markdown",
   "metadata": {},
   "source": [
    "computes the circuit error when simulating the XOR gate for given angles"
   ]
  },
  {
   "cell_type": "markdown",
   "metadata": {},
   "source": [
    "def error(counts):\n",
    "    \"\"\"\n",
    "    Compute the error of the given quantum circuit.\n",
    "\n",
    "    The error is computed by counting the number of mistakes in the outputs of the quantum circuit.\n",
    "    The output of the quantum circuit is in the form of a string of length 5, where the first two\n",
    "    characters are the inputs and the last character is the output. The error is the sum of the\n",
    "    number of mistakes in the outputs of the quantum circuit divided by the total number of tests.\n",
    "\n",
    "    Parameters:\n",
    "    counts (list): A list of dictionaries, where each dictionary represents the counts of the outputs of the quantum circuit.\n",
    "\n",
    "    Returns:\n",
    "    float: The error of the quantum circuit.\n",
    "    \"\"\"\n",
    "\n",
    "    #define the statistics dictionary\n",
    "    statistics = {\"00\": [0,0], \"01\": [0,0], \"10\": [0,0], \"11\": [0,0]} #defines the statistics dictionary\n",
    "    \n",
    "    #get the total number of tests\n",
    "    total_tests = 0\n",
    "\n",
    "    for count in counts: #for each count\n",
    "        for key,value in count.items(): #extract the key and value\n",
    "            inputs = str(key[2])+str(key[3])\n",
    "            output = int(key[4])\n",
    "            statistics[inputs][output] = statistics[inputs][output] + value\n",
    "            total_tests = total_tests + value\n",
    "\n",
    "    #compute the error\n",
    "    error = statistics[\"00\"][1] + statistics[\"01\"][0] + statistics[\"10\"][0] + statistics[\"11\"][1]\n",
    "    error = error / total_tests\n",
    "\n",
    "    #return the error\n",
    "    return error"
   ]
  },
  {
   "cell_type": "markdown",
   "metadata": {},
   "source": [
    "##do exaustive search"
   ]
  },
  {
   "cell_type": "code",
   "execution_count": 17,
   "metadata": {},
   "outputs": [
    {
     "data": {
      "text/plain": [
       "([np.float64(1.0471975511965976),\n",
       "  np.float64(1.0471975511965976),\n",
       "  np.float64(2.0943951023931953),\n",
       "  np.float64(1.0471975511965976)],\n",
       " 0.1513671875)"
      ]
     },
     "execution_count": 17,
     "metadata": {},
     "output_type": "execute_result"
    }
   ],
   "source": [
    "final_parameters, final_error = tqNN.exaustive_grid_search()\n",
    "final_parameters, final_error"
   ]
  },
  {
   "cell_type": "markdown",
   "metadata": {},
   "source": [
    "do a exaustive search by varying the angles in order to obtain the angle with the lowest error for the XOR gate - obtaning the angles and the error"
   ]
  },
  {
   "cell_type": "markdown",
   "metadata": {},
   "source": [
    "def exaustive_grid_search(grid_grain=4,number_of_runs=1):\n",
    "    \"\"\"\n",
    "    Perform an exaustive search of the parameter space to find the optimal parameters for the quantum neural network.\n",
    "\n",
    "    Parameters:\n",
    "    grid_grain (int): The number of points in the grid to search.\n",
    "    number_of_runs (int): The number of times the circuit is run for each point in the grid.\n",
    "\n",
    "    Returns:\n",
    "    The optimal parameters (list of floats) and the total error (float) of the optimal parameters.\n",
    "    \"\"\"\n",
    "    final_parameters = []\n",
    "    final_error = 1\n",
    "    \n",
    "    for i in np.linspace(0, np.pi, grid_grain):\n",
    "        for j in np.linspace(0, np.pi, grid_grain):\n",
    "            for k in np.linspace(0, np.pi, grid_grain):\n",
    "                for l in np.linspace(0, np.pi, grid_grain):\n",
    "                    \n",
    "                    counts = qNN_circuit(all_inputs_circuit(), [i, j, k, l]).evaluate(number_of_runs=number_of_runs)\n",
    "                    current_error = error(counts)\n",
    "\n",
    "                    if current_error < final_error:\n",
    "                        final_error = current_error\n",
    "                        final_parameters = [i, j, k, l]\n",
    "                    \n",
    "                    print(i, j, k, l, current_error)\n",
    "\n",
    "    return final_parameters, final_error"
   ]
  }
 ],
 "metadata": {
  "kernelspec": {
   "display_name": "condaenv",
   "language": "python",
   "name": "python3"
  },
  "language_info": {
   "codemirror_mode": {
    "name": "ipython",
    "version": 3
   },
   "file_extension": ".py",
   "mimetype": "text/x-python",
   "name": "python",
   "nbconvert_exporter": "python",
   "pygments_lexer": "ipython3",
   "version": "3.12.5"
  }
 },
 "nbformat": 4,
 "nbformat_minor": 2
}
