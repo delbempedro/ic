{
 "cells": [
  {
   "cell_type": "markdown",
   "metadata": {},
   "source": [
    "run_qNN.ipynb\n",
    "\n",
    "Notebook that define the necessary functions to run a qNN and runs it.\n",
    "\n",
    "Dependencies:\n",
    "- Uses numpy to get random values\n",
    "- Uses qNN_functions to get qNN functions \n",
    "\n",
    "Since:\n",
    "- 02/2025\n",
    "\n",
    "Authors:\n",
    "- Pedro C. Delbem. <pedrodelbem@usp.br>"
   ]
  },
  {
   "cell_type": "code",
   "execution_count": 13,
   "metadata": {},
   "outputs": [],
   "source": [
    "import qNN_functions"
   ]
  },
  {
   "cell_type": "code",
   "execution_count": 14,
   "metadata": {},
   "outputs": [],
   "source": [
    "from itertools import product\n",
    "import numpy as np"
   ]
  },
  {
   "cell_type": "code",
   "execution_count": null,
   "metadata": {},
   "outputs": [],
   "source": [
    "number_of_bits = int(input())"
   ]
  },
  {
   "cell_type": "code",
   "execution_count": 16,
   "metadata": {},
   "outputs": [],
   "source": [
    "inputs = [list(t) for t in product([0, 1], repeat=number_of_bits)]\n",
    "expected_outputs = qNN_functions.compute_expected_outputs(inputs,logic_gate=\"XOR\")"
   ]
  },
  {
   "cell_type": "code",
   "execution_count": 17,
   "metadata": {},
   "outputs": [
    {
     "data": {
      "text/plain": [
       "'expected_outputs'"
      ]
     },
     "execution_count": 17,
     "metadata": {},
     "output_type": "execute_result"
    }
   ],
   "source": [
    "\"\"\"expected_outputs\"\"\""
   ]
  },
  {
   "cell_type": "code",
   "execution_count": 18,
   "metadata": {},
   "outputs": [],
   "source": [
    "number_of_runs = 1\n",
    "number_of_shots = 1024\n",
    "grid_grain = 10"
   ]
  },
  {
   "cell_type": "code",
   "execution_count": 19,
   "metadata": {},
   "outputs": [
    {
     "data": {
      "text/plain": [
       "'number_of_bits = int(input())\\ninputs = [list(t) for t in product([0, 1], repeat=number_of_bits)]\\nexpected_outputs = qNN_functions.compute_expected_outputs(inputs,logic_gate=\"XOR\")\\nangles = np.random.rand(number_of_bits+1)*np.pi\\nqnn = qNN_functions.generate_single_qubit_qNN_circuit(inputs[0],angles,number_of_bits,number_of_inputs_per_qubit=2)\\nqnn.print_current_circuit()'"
      ]
     },
     "execution_count": 19,
     "metadata": {},
     "output_type": "execute_result"
    }
   ],
   "source": [
    "\"\"\"number_of_bits = int(input())\n",
    "inputs = [list(t) for t in product([0, 1], repeat=number_of_bits)]\n",
    "expected_outputs = qNN_functions.compute_expected_outputs(inputs,logic_gate=\"XOR\")\n",
    "angles = np.random.rand(number_of_bits+1)*np.pi\n",
    "qnn = qNN_functions.generate_single_qubit_qNN_circuit(inputs[0],angles,number_of_bits,number_of_inputs_per_qubit=2)\n",
    "qnn.print_current_circuit()\"\"\""
   ]
  },
  {
   "cell_type": "code",
   "execution_count": 21,
   "metadata": {},
   "outputs": [
    {
     "name": "stdout",
     "output_type": "stream",
     "text": [
      "[np.float64(-7.217988768272871), np.float64(14.62610990219731), np.float64(16.782347520833845), np.float64(8.12425447046336), np.float64(4.733685880983122), np.float64(21.112878541555578)] 0.6259765625 173\n"
     ]
    }
   ],
   "source": [
    "angles, error, iterations = qNN_functions.multi_qubit_qNN_gradient_descent2(inputs, expected_outputs, number_of_bits, number_of_runs, number_of_shots, grid_grain)\n",
    "print(angles, error, iterations)"
   ]
  },
  {
   "cell_type": "code",
   "execution_count": null,
   "metadata": {},
   "outputs": [
    {
     "data": {
      "text/plain": [
       "'for number_of_bits in range(4,6):\\n        \\n    with open(\"results_file_\"+str(number_of_bits)+\".txt\", \"w\") as current_file:\\n\\n        current_file.write(\"number of bits: \"+str(number_of_bits)+\"\\n\")\\n\\n    for type_of_operation in [\"XOR\",\"AND\",\"OR\",\"NAND\",\"NOR\",\"XNOR\"]:\\n\\n        with open(\"results_file_\"+str(number_of_bits)+\".txt\", \"a\") as current_file:\\n\\n            current_file.write(\"    type of operation: \"+str(type_of_operation)+\"\\n\")\\n\\n            inputs = [list(t) for t in product([0, 1], repeat=number_of_bits)]\\n            expected_outputs = qNN_functions.compute_expected_outputs(inputs,logic_gate=type_of_operation)\\n        \\n        with open(\"results_file_\"+str(number_of_bits)+\".txt\", \"a\") as current_file:\\n\\n            current_file.write(\"        2 inputs per qubit qNN\\n\")\\n\\n            weights, error = qNN_functions.single_qubit_qNN_exaustive_search(inputs,expected_outputs,number_of_runs=number_of_runs,number_of_bits=number_of_bits,number_of_inputs_per_qubit=2)\\n            current_file.write(\"            final weights: \"+str(weights)+\"\\n\")\\n            current_file.write(\"            final error: \"+str(error)+\"\\n\")\\n            real_error = qNN_functions.single_qubit_compute_total_error(inputs,expected_outputs,weights,type_of_run=\"real_run\")\\n            current_file.write(\"            real error: \"+str(real_error)+\"\\n\\n\")\\n\\n        with open(\"results_file_\"+str(number_of_bits)+\".txt\", \"a\") as current_file:\\n\\n            current_file.write(\"        3 inputs per qubit qNN\\n\")\\n\\n            weights, error = qNN_functions.single_qubit_qNN_exaustive_search(inputs,expected_outputs,number_of_runs=number_of_runs,number_of_bits=number_of_bits,number_of_inputs_per_qubit=3)\\n            current_file.write(\"            final weights: \"+str(weights)+\"\\n\")\\n            current_file.write(\"            final error: \"+str(error)+\"\\n\")\\n            real_error = qNN_functions.single_qubit_compute_total_error(inputs,expected_outputs,weights,type_of_run=\"real_run\")\\n            current_file.write(\"            real error: \"+str(real_error)+\"\\n\\n\")\\n\\n        with open(\"results_file_\"+str(number_of_bits)+\".txt\", \"a\") as current_file:\\n\\n            current_file.write(\"        input per qubit qNN\\n\")\\n\\n            weights, error = qNN_functions.multi_qubit_qNN_exaustive_search(inputs,expected_outputs,number_of_runs=number_of_runs,number_of_bits=number_of_bits)\\n            current_file.write(\"            final weights: \"+str(weights)+\"\\n\")\\n            current_file.write(\"            final error: \"+str(error)+\"\\n\")\\n            counts = qNN_functions.generate_multi_qubit_qNN_circuit(weights,number_of_bits=number_of_bits).evaluate(number_of_runs=number_of_runs, number_of_shots=number_of_shots, type_of_run=\"real_run\")\\n            real_error = qNN_functions.multi_qubit_compute_error(inputs,expected_outputs,counts,number_of_bits=number_of_bits)\\n            current_file.write(\"            real error: \"+str(real_error)+\"\\n\\n\")'"
      ]
     },
     "execution_count": 9,
     "metadata": {},
     "output_type": "execute_result"
    }
   ],
   "source": [
    "\"\"\"for number_of_bits in range(4,6):\n",
    "        \n",
    "    with open(\"results_file_\"+str(number_of_bits)+\".txt\", \"w\") as current_file:\n",
    "\n",
    "        current_file.write(\"number of bits: \"+str(number_of_bits)+\"\\n\")\n",
    "\n",
    "    for type_of_operation in [\"XOR\",\"AND\",\"OR\",\"NAND\",\"NOR\",\"XNOR\"]:\n",
    "\n",
    "        with open(\"results_file_\"+str(number_of_bits)+\".txt\", \"a\") as current_file:\n",
    "\n",
    "            current_file.write(\"    type of operation: \"+str(type_of_operation)+\"\\n\")\n",
    "\n",
    "            inputs = [list(t) for t in product([0, 1], repeat=number_of_bits)]\n",
    "            expected_outputs = qNN_functions.compute_expected_outputs(inputs,logic_gate=type_of_operation)\n",
    "        \n",
    "        with open(\"results_file_\"+str(number_of_bits)+\".txt\", \"a\") as current_file:\n",
    "\n",
    "            current_file.write(\"        2 inputs per qubit qNN\\n\")\n",
    "\n",
    "            weights, error = qNN_functions.single_qubit_qNN_exaustive_search(inputs,expected_outputs,number_of_runs=number_of_runs,number_of_bits=number_of_bits,number_of_inputs_per_qubit=2)\n",
    "            current_file.write(\"            final weights: \"+str(weights)+\"\\n\")\n",
    "            current_file.write(\"            final error: \"+str(error)+\"\\n\")\n",
    "            real_error = qNN_functions.single_qubit_compute_total_error(inputs,expected_outputs,weights,type_of_run=\"real_run\")\n",
    "            current_file.write(\"            real error: \"+str(real_error)+\"\\n\\n\")\n",
    "\n",
    "        with open(\"results_file_\"+str(number_of_bits)+\".txt\", \"a\") as current_file:\n",
    "\n",
    "            current_file.write(\"        3 inputs per qubit qNN\\n\")\n",
    "\n",
    "            weights, error = qNN_functions.single_qubit_qNN_exaustive_search(inputs,expected_outputs,number_of_runs=number_of_runs,number_of_bits=number_of_bits,number_of_inputs_per_qubit=3)\n",
    "            current_file.write(\"            final weights: \"+str(weights)+\"\\n\")\n",
    "            current_file.write(\"            final error: \"+str(error)+\"\\n\")\n",
    "            real_error = qNN_functions.single_qubit_compute_total_error(inputs,expected_outputs,weights,type_of_run=\"real_run\")\n",
    "            current_file.write(\"            real error: \"+str(real_error)+\"\\n\\n\")\n",
    "\n",
    "        with open(\"results_file_\"+str(number_of_bits)+\".txt\", \"a\") as current_file:\n",
    "\n",
    "            current_file.write(\"        input per qubit qNN\\n\")\n",
    "\n",
    "            weights, error = qNN_functions.multi_qubit_qNN_exaustive_search(inputs,expected_outputs,number_of_runs=number_of_runs,number_of_bits=number_of_bits)\n",
    "            current_file.write(\"            final weights: \"+str(weights)+\"\\n\")\n",
    "            current_file.write(\"            final error: \"+str(error)+\"\\n\")\n",
    "            counts = qNN_functions.generate_multi_qubit_qNN_circuit(weights,number_of_bits=number_of_bits).evaluate(number_of_runs=number_of_runs, number_of_shots=number_of_shots, type_of_run=\"real_run\")\n",
    "            real_error = qNN_functions.multi_qubit_compute_error(inputs,expected_outputs,counts,number_of_bits=number_of_bits)\n",
    "            current_file.write(\"            real error: \"+str(real_error)+\"\\n\\n\")\"\"\""
   ]
  },
  {
   "cell_type": "code",
   "execution_count": null,
   "metadata": {},
   "outputs": [
    {
     "data": {
      "text/plain": [
       "'parameters, error = qNN_functions.multi_qubit_qNN_exaustive_search(inputs,expected_outputs,number_of_runs=number_of_runs,number_of_bits=number_of_bits)\\nprint(parameters)\\nprint(error)'"
      ]
     },
     "execution_count": 10,
     "metadata": {},
     "output_type": "execute_result"
    }
   ],
   "source": [
    "\"\"\"parameters, error = qNN_functions.multi_qubit_qNN_exaustive_search(inputs,expected_outputs,number_of_runs=number_of_runs,number_of_bits=number_of_bits)\n",
    "print(parameters)\n",
    "print(error)\"\"\""
   ]
  }
 ],
 "metadata": {
  "kernelspec": {
   "display_name": "condaenv",
   "language": "python",
   "name": "python3"
  },
  "language_info": {
   "codemirror_mode": {
    "name": "ipython",
    "version": 3
   },
   "file_extension": ".py",
   "mimetype": "text/x-python",
   "name": "python",
   "nbconvert_exporter": "python",
   "pygments_lexer": "ipython3",
   "version": "3.12.5"
  }
 },
 "nbformat": 4,
 "nbformat_minor": 2
}
