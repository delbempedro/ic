{
 "cells": [
  {
   "cell_type": "markdown",
   "metadata": {},
   "source": [
    "run_qNN.ipynb\n",
    "\n",
    "Notebook that define the necessary functions to run a qNN and runs it.\n",
    "\n",
    "Dependencies:\n",
    "- Uses numpy to get random values\n",
    "- Uses qNN_functions to get qNN functions \n",
    "\n",
    "Since:\n",
    "- 02/2025\n",
    "\n",
    "Authors:\n",
    "- Pedro C. Delbem. <pedrodelbem@usp.br>"
   ]
  },
  {
   "cell_type": "code",
   "execution_count": 1,
   "metadata": {},
   "outputs": [],
   "source": [
    "import qNN_functions"
   ]
  },
  {
   "cell_type": "code",
   "execution_count": 2,
   "metadata": {},
   "outputs": [],
   "source": [
    "from itertools import product\n",
    "import numpy as np"
   ]
  },
  {
   "cell_type": "code",
   "execution_count": 3,
   "metadata": {},
   "outputs": [
    {
     "data": {
      "text/plain": [
       "'number_of_bits = int(input())\\nnumber_of_bits'"
      ]
     },
     "execution_count": 3,
     "metadata": {},
     "output_type": "execute_result"
    }
   ],
   "source": [
    "\"\"\"number_of_bits = int(input())\n",
    "number_of_bits\"\"\"\n"
   ]
  },
  {
   "cell_type": "code",
   "execution_count": 4,
   "metadata": {},
   "outputs": [
    {
     "data": {
      "text/plain": [
       "'inputs = [list(t) for t in product([0, 1], repeat=number_of_bits)]\\nexpected_outputs = qNN_functions.compute_expected_outputs(inputs,logic_gate=\"XOR\")'"
      ]
     },
     "execution_count": 4,
     "metadata": {},
     "output_type": "execute_result"
    }
   ],
   "source": [
    "\"\"\"inputs = [list(t) for t in product([0, 1], repeat=number_of_bits)]\n",
    "expected_outputs = qNN_functions.compute_expected_outputs(inputs,logic_gate=\"XOR\")\"\"\""
   ]
  },
  {
   "cell_type": "code",
   "execution_count": 5,
   "metadata": {},
   "outputs": [
    {
     "data": {
      "text/plain": [
       "'expected_outputs'"
      ]
     },
     "execution_count": 5,
     "metadata": {},
     "output_type": "execute_result"
    }
   ],
   "source": [
    "\"\"\"expected_outputs\"\"\""
   ]
  },
  {
   "cell_type": "code",
   "execution_count": 6,
   "metadata": {},
   "outputs": [
    {
     "data": {
      "text/plain": [
       "'number_of_runs = 1\\nnumber_of_shots = 1024\\ngrid_grain = 10'"
      ]
     },
     "execution_count": 6,
     "metadata": {},
     "output_type": "execute_result"
    }
   ],
   "source": [
    "\"\"\"number_of_runs = 1\n",
    "number_of_shots = 1024\n",
    "grid_grain = 10\"\"\""
   ]
  },
  {
   "cell_type": "code",
   "execution_count": 7,
   "metadata": {},
   "outputs": [
    {
     "data": {
      "text/plain": [
       "'number_of_bits = int(input())\\ninputs = [list(t) for t in product([0, 1], repeat=number_of_bits)]\\nexpected_outputs = qNN_functions.compute_expected_outputs(inputs,logic_gate=\"XOR\")\\nangles = np.random.rand(number_of_bits+1)*np.pi\\nqnn = qNN_functions.generate_single_qubit_qNN_circuit(inputs[0],angles,number_of_bits,number_of_inputs_per_qubit=2)\\nqnn.print_current_circuit()'"
      ]
     },
     "execution_count": 7,
     "metadata": {},
     "output_type": "execute_result"
    }
   ],
   "source": [
    "\"\"\"number_of_bits = int(input())\n",
    "inputs = [list(t) for t in product([0, 1], repeat=number_of_bits)]\n",
    "expected_outputs = qNN_functions.compute_expected_outputs(inputs,logic_gate=\"XOR\")\n",
    "angles = np.random.rand(number_of_bits+1)*np.pi\n",
    "qnn = qNN_functions.generate_single_qubit_qNN_circuit(inputs[0],angles,number_of_bits,number_of_inputs_per_qubit=2)\n",
    "qnn.print_current_circuit()\"\"\""
   ]
  },
  {
   "cell_type": "code",
   "execution_count": null,
   "metadata": {},
   "outputs": [
    {
     "name": "stdout",
     "output_type": "stream",
     "text": [
      "number_of_bits 2\n",
      "     exaustive search: \n",
      "             Iteration:  100 Error:  0.242431640625\n",
      "             Iteration:  100 Error:  0.212890625\n",
      "     gradient descent: \n",
      "             Iteration:  100 Error:  0.7939453125\n",
      "             Iteration:  7 Error:  0.2392578125\n"
     ]
    }
   ],
   "source": [
    "number_of_runs = 1\n",
    "number_of_shots = 1024\n",
    "grid_grain = 10\n",
    "\n",
    "for number_of_bits in range(2, 3):\n",
    "\n",
    "    print(\"number_of_bits\", number_of_bits)\n",
    "    inputs = [list(t) for t in product([0, 1], repeat=number_of_bits)]\n",
    "    expected_outputs = qNN_functions.compute_expected_outputs(inputs,logic_gate=\"XOR\")\n",
    "\n",
    "    print(\"     exaustive search: \")\n",
    "\n",
    "    max_iterations = grid_grain**number_of_bits\n",
    "    print(\"         All inputs in same qubit: \")\n",
    "    angles, error = qNN_functions.single_qubit_qNN_exaustive_search(inputs, expected_outputs, number_of_bits=number_of_bits, number_of_runs=number_of_runs, number_of_shots=number_of_shots, number_of_inputs_per_qubit=2)\n",
    "    print(\"             Iteration: \", max_iterations, \"Error: \", error)\n",
    "    print(\"         One input per qubit: \")\n",
    "    angles, error = qNN_functions.multi_qubit_qNN_exaustive_search(inputs, expected_outputs, number_of_bits=number_of_bits, number_of_runs=number_of_runs, number_of_shots=number_of_shots)\n",
    "    print(\"             Iteration: \", max_iterations, \"Error: \", error)\n",
    "\n",
    "    print(\"     gradient descent: \")\n",
    "\n",
    "    print(\"         All inputs in same qubit: \")\n",
    "    angles, error, iterations = qNN_functions.single_qubit_qNN_gradient_descent(inputs, expected_outputs, number_of_bits=number_of_bits, number_of_runs=number_of_runs, number_of_shots=number_of_shots, max_iterations=max_iterations, learning_rate=0.1, number_of_inputs_per_qubit=2)\n",
    "    print(\"             Iteration: \", iterations, \"Error: \", error)\n",
    "    print(\"         One input per qubit: \")\n",
    "    angles, error, iterations = qNN_functions.multi_qubit_qNN_gradient_descent(inputs, expected_outputs, number_of_bits=number_of_bits, number_of_runs=number_of_runs, number_of_shots=number_of_shots, max_iterations=max_iterations, learning_rate=0.1)\n",
    "    print(\"             Iteration: \", iterations, \"Error: \", error)\n",
    "\n",
    "\n",
    "#angles, error, iterations = qNN_functions.single_qubit_qNN_gradient_descent(inputs, expected_outputs, number_of_bits=number_of_bits, number_of_runs=number_of_runs, number_of_shots=number_of_shots, max_iterations=10**number_of_bits, learning_rate=0.1, number_of_inputs_per_qubit=3)\n",
    "#print(angles, error, iterations)\n"
   ]
  },
  {
   "cell_type": "code",
   "execution_count": 9,
   "metadata": {},
   "outputs": [
    {
     "data": {
      "text/plain": [
       "'for number_of_bits in range(4,6):\\n        \\n    with open(\"results_file_\"+str(number_of_bits)+\".txt\", \"w\") as current_file:\\n\\n        current_file.write(\"number of bits: \"+str(number_of_bits)+\"\\n\")\\n\\n    for type_of_operation in [\"XOR\",\"AND\",\"OR\",\"NAND\",\"NOR\",\"XNOR\"]:\\n\\n        with open(\"results_file_\"+str(number_of_bits)+\".txt\", \"a\") as current_file:\\n\\n            current_file.write(\"    type of operation: \"+str(type_of_operation)+\"\\n\")\\n\\n            inputs = [list(t) for t in product([0, 1], repeat=number_of_bits)]\\n            expected_outputs = qNN_functions.compute_expected_outputs(inputs,logic_gate=type_of_operation)\\n        \\n        with open(\"results_file_\"+str(number_of_bits)+\".txt\", \"a\") as current_file:\\n\\n            current_file.write(\"        2 inputs per qubit qNN\\n\")\\n\\n            weights, error = qNN_functions.single_qubit_qNN_exaustive_search(inputs,expected_outputs,number_of_runs=number_of_runs,number_of_bits=number_of_bits,number_of_inputs_per_qubit=2)\\n            current_file.write(\"            final weights: \"+str(weights)+\"\\n\")\\n            current_file.write(\"            final error: \"+str(error)+\"\\n\")\\n            real_error = qNN_functions.single_qubit_compute_total_error(inputs,expected_outputs,weights,type_of_run=\"real_run\")\\n            current_file.write(\"            real error: \"+str(real_error)+\"\\n\\n\")\\n\\n        with open(\"results_file_\"+str(number_of_bits)+\".txt\", \"a\") as current_file:\\n\\n            current_file.write(\"        3 inputs per qubit qNN\\n\")\\n\\n            weights, error = qNN_functions.single_qubit_qNN_exaustive_search(inputs,expected_outputs,number_of_runs=number_of_runs,number_of_bits=number_of_bits,number_of_inputs_per_qubit=3)\\n            current_file.write(\"            final weights: \"+str(weights)+\"\\n\")\\n            current_file.write(\"            final error: \"+str(error)+\"\\n\")\\n            real_error = qNN_functions.single_qubit_compute_total_error(inputs,expected_outputs,weights,type_of_run=\"real_run\")\\n            current_file.write(\"            real error: \"+str(real_error)+\"\\n\\n\")\\n\\n        with open(\"results_file_\"+str(number_of_bits)+\".txt\", \"a\") as current_file:\\n\\n            current_file.write(\"        input per qubit qNN\\n\")\\n\\n            weights, error = qNN_functions.multi_qubit_qNN_exaustive_search(inputs,expected_outputs,number_of_runs=number_of_runs,number_of_bits=number_of_bits)\\n            current_file.write(\"            final weights: \"+str(weights)+\"\\n\")\\n            current_file.write(\"            final error: \"+str(error)+\"\\n\")\\n            counts = qNN_functions.generate_multi_qubit_qNN_circuit(weights,number_of_bits=number_of_bits).evaluate(number_of_runs=number_of_runs, number_of_shots=number_of_shots, type_of_run=\"real_run\")\\n            real_error = qNN_functions.multi_qubit_compute_error(inputs,expected_outputs,counts,number_of_bits=number_of_bits)\\n            current_file.write(\"            real error: \"+str(real_error)+\"\\n\\n\")'"
      ]
     },
     "execution_count": 9,
     "metadata": {},
     "output_type": "execute_result"
    }
   ],
   "source": [
    "\"\"\"for number_of_bits in range(4,6):\n",
    "        \n",
    "    with open(\"results_file_\"+str(number_of_bits)+\".txt\", \"w\") as current_file:\n",
    "\n",
    "        current_file.write(\"number of bits: \"+str(number_of_bits)+\"\\n\")\n",
    "\n",
    "    for type_of_operation in [\"XOR\",\"AND\",\"OR\",\"NAND\",\"NOR\",\"XNOR\"]:\n",
    "\n",
    "        with open(\"results_file_\"+str(number_of_bits)+\".txt\", \"a\") as current_file:\n",
    "\n",
    "            current_file.write(\"    type of operation: \"+str(type_of_operation)+\"\\n\")\n",
    "\n",
    "            inputs = [list(t) for t in product([0, 1], repeat=number_of_bits)]\n",
    "            expected_outputs = qNN_functions.compute_expected_outputs(inputs,logic_gate=type_of_operation)\n",
    "        \n",
    "        with open(\"results_file_\"+str(number_of_bits)+\".txt\", \"a\") as current_file:\n",
    "\n",
    "            current_file.write(\"        2 inputs per qubit qNN\\n\")\n",
    "\n",
    "            weights, error = qNN_functions.single_qubit_qNN_exaustive_search(inputs,expected_outputs,number_of_runs=number_of_runs,number_of_bits=number_of_bits,number_of_inputs_per_qubit=2)\n",
    "            current_file.write(\"            final weights: \"+str(weights)+\"\\n\")\n",
    "            current_file.write(\"            final error: \"+str(error)+\"\\n\")\n",
    "            real_error = qNN_functions.single_qubit_compute_total_error(inputs,expected_outputs,weights,type_of_run=\"real_run\")\n",
    "            current_file.write(\"            real error: \"+str(real_error)+\"\\n\\n\")\n",
    "\n",
    "        with open(\"results_file_\"+str(number_of_bits)+\".txt\", \"a\") as current_file:\n",
    "\n",
    "            current_file.write(\"        3 inputs per qubit qNN\\n\")\n",
    "\n",
    "            weights, error = qNN_functions.single_qubit_qNN_exaustive_search(inputs,expected_outputs,number_of_runs=number_of_runs,number_of_bits=number_of_bits,number_of_inputs_per_qubit=3)\n",
    "            current_file.write(\"            final weights: \"+str(weights)+\"\\n\")\n",
    "            current_file.write(\"            final error: \"+str(error)+\"\\n\")\n",
    "            real_error = qNN_functions.single_qubit_compute_total_error(inputs,expected_outputs,weights,type_of_run=\"real_run\")\n",
    "            current_file.write(\"            real error: \"+str(real_error)+\"\\n\\n\")\n",
    "\n",
    "        with open(\"results_file_\"+str(number_of_bits)+\".txt\", \"a\") as current_file:\n",
    "\n",
    "            current_file.write(\"        input per qubit qNN\\n\")\n",
    "\n",
    "            weights, error = qNN_functions.multi_qubit_qNN_exaustive_search(inputs,expected_outputs,number_of_runs=number_of_runs,number_of_bits=number_of_bits)\n",
    "            current_file.write(\"            final weights: \"+str(weights)+\"\\n\")\n",
    "            current_file.write(\"            final error: \"+str(error)+\"\\n\")\n",
    "            counts = qNN_functions.generate_multi_qubit_qNN_circuit(weights,number_of_bits=number_of_bits).evaluate(number_of_runs=number_of_runs, number_of_shots=number_of_shots, type_of_run=\"real_run\")\n",
    "            real_error = qNN_functions.multi_qubit_compute_error(inputs,expected_outputs,counts,number_of_bits=number_of_bits)\n",
    "            current_file.write(\"            real error: \"+str(real_error)+\"\\n\\n\")\"\"\""
   ]
  },
  {
   "cell_type": "code",
   "execution_count": 10,
   "metadata": {},
   "outputs": [
    {
     "data": {
      "text/plain": [
       "'parameters, error = qNN_functions.multi_qubit_qNN_exaustive_search(inputs,expected_outputs,number_of_runs=number_of_runs,number_of_bits=number_of_bits)\\nprint(parameters)\\nprint(error)'"
      ]
     },
     "execution_count": 10,
     "metadata": {},
     "output_type": "execute_result"
    }
   ],
   "source": [
    "\"\"\"parameters, error = qNN_functions.multi_qubit_qNN_exaustive_search(inputs,expected_outputs,number_of_runs=number_of_runs,number_of_bits=number_of_bits)\n",
    "print(parameters)\n",
    "print(error)\"\"\""
   ]
  }
 ],
 "metadata": {
  "kernelspec": {
   "display_name": "condaenv",
   "language": "python",
   "name": "python3"
  },
  "language_info": {
   "codemirror_mode": {
    "name": "ipython",
    "version": 3
   },
   "file_extension": ".py",
   "mimetype": "text/x-python",
   "name": "python",
   "nbconvert_exporter": "python",
   "pygments_lexer": "ipython3",
   "version": "3.12.5"
  }
 },
 "nbformat": 4,
 "nbformat_minor": 2
}
