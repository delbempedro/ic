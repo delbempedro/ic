{
 "cells": [
  {
   "cell_type": "markdown",
   "metadata": {},
   "source": [
    "run_qNN.ipynb\n",
    "\n",
    "Notebook that define the necessary functions to run a qNN and runs it.\n",
    "\n",
    "Dependencies:\n",
    "- Uses numpy to get random values\n",
    "- Uses qNN_functions to get qNN functions \n",
    "\n",
    "Since:\n",
    "- 02/2025\n",
    "\n",
    "Authors:\n",
    "- Pedro C. Delbem. <pedrodelbem@usp.br>"
   ]
  },
  {
   "cell_type": "code",
   "execution_count": 1,
   "metadata": {},
   "outputs": [],
   "source": [
    "import qNN_functions"
   ]
  },
  {
   "cell_type": "code",
   "execution_count": 2,
   "metadata": {},
   "outputs": [],
   "source": [
    "from itertools import product\n",
    "import numpy as np"
   ]
  },
  {
   "cell_type": "code",
   "execution_count": 3,
   "metadata": {},
   "outputs": [
    {
     "data": {
      "text/plain": [
       "'number_of_bits = 4'"
      ]
     },
     "execution_count": 3,
     "metadata": {},
     "output_type": "execute_result"
    }
   ],
   "source": [
    "\"\"\"number_of_bits = 4\"\"\""
   ]
  },
  {
   "cell_type": "code",
   "execution_count": 4,
   "metadata": {},
   "outputs": [
    {
     "data": {
      "text/plain": [
       "'inputs = [list(t) for t in product([0, 1], repeat=number_of_bits)]\\nexpected_outputs = qNN_functions.compute_expected_outputs(inputs,logic_gate=\"NAND\")\\n'"
      ]
     },
     "execution_count": 4,
     "metadata": {},
     "output_type": "execute_result"
    }
   ],
   "source": [
    "\"\"\"inputs = [list(t) for t in product([0, 1], repeat=number_of_bits)]\n",
    "expected_outputs = qNN_functions.compute_expected_outputs(inputs,logic_gate=\"NAND\")\n",
    "\"\"\""
   ]
  },
  {
   "cell_type": "code",
   "execution_count": 5,
   "metadata": {},
   "outputs": [
    {
     "data": {
      "text/plain": [
       "'expected_outputs'"
      ]
     },
     "execution_count": 5,
     "metadata": {},
     "output_type": "execute_result"
    }
   ],
   "source": [
    "\"\"\"expected_outputs\"\"\""
   ]
  },
  {
   "cell_type": "code",
   "execution_count": 6,
   "metadata": {},
   "outputs": [],
   "source": [
    "number_of_runs = 1\n",
    "number_of_shots = 1024\n",
    "grid_grain = 10"
   ]
  },
  {
   "cell_type": "code",
   "execution_count": 7,
   "metadata": {},
   "outputs": [
    {
     "data": {
      "text/plain": [
       "'number_of_bits = int(input())\\ninputs = [list(t) for t in product([0, 1], repeat=number_of_bits)]\\nexpected_outputs = qNN_functions.compute_expected_outputs(inputs,logic_gate=\"XOR\")\\nangles = np.random.rand(number_of_bits+1)*np.pi\\nqnn = qNN_functions.generate_single_qubit_qNN_circuit(inputs[0],angles,number_of_bits,number_of_inputs_per_qubit=2)\\nqnn.print_current_circuit()'"
      ]
     },
     "execution_count": 7,
     "metadata": {},
     "output_type": "execute_result"
    }
   ],
   "source": [
    "\"\"\"number_of_bits = int(input())\n",
    "inputs = [list(t) for t in product([0, 1], repeat=number_of_bits)]\n",
    "expected_outputs = qNN_functions.compute_expected_outputs(inputs,logic_gate=\"XOR\")\n",
    "angles = np.random.rand(number_of_bits+1)*np.pi\n",
    "qnn = qNN_functions.generate_single_qubit_qNN_circuit(inputs[0],angles,number_of_bits,number_of_inputs_per_qubit=2)\n",
    "qnn.print_current_circuit()\"\"\""
   ]
  },
  {
   "cell_type": "code",
   "execution_count": 8,
   "metadata": {},
   "outputs": [
    {
     "ename": "IBMRuntimeError",
     "evalue": "'Failed to run program: \\'403 Client Error: Forbidden for url: https://api.quantum.ibm.com/runtime/jobs. {\"errors\":[{\"message\":\"Job create exceeds open plan job usage limits\",\"code\":4317,\"solution\":\"Please wait until the beginning of next month to submit more jobs when your quota will reset.\",\"more_info\":\"https://docs.quantum-computing.ibm.com/errors\"}]}\\''",
     "output_type": "error",
     "traceback": [
      "\u001b[0;31m---------------------------------------------------------------------------\u001b[0m",
      "\u001b[0;31mIBMRuntimeError\u001b[0m                           Traceback (most recent call last)",
      "Cell \u001b[0;32mIn[8], line 23\u001b[0m\n\u001b[1;32m     21\u001b[0m     current_file\u001b[38;5;241m.\u001b[39mwrite(\u001b[38;5;124m\"\u001b[39m\u001b[38;5;124m            final weights: \u001b[39m\u001b[38;5;124m\"\u001b[39m\u001b[38;5;241m+\u001b[39m\u001b[38;5;28mstr\u001b[39m(weights)\u001b[38;5;241m+\u001b[39m\u001b[38;5;124m\"\u001b[39m\u001b[38;5;130;01m\\n\u001b[39;00m\u001b[38;5;124m\"\u001b[39m)\n\u001b[1;32m     22\u001b[0m     current_file\u001b[38;5;241m.\u001b[39mwrite(\u001b[38;5;124m\"\u001b[39m\u001b[38;5;124m            final error: \u001b[39m\u001b[38;5;124m\"\u001b[39m\u001b[38;5;241m+\u001b[39m\u001b[38;5;28mstr\u001b[39m(error)\u001b[38;5;241m+\u001b[39m\u001b[38;5;124m\"\u001b[39m\u001b[38;5;130;01m\\n\u001b[39;00m\u001b[38;5;124m\"\u001b[39m)\n\u001b[0;32m---> 23\u001b[0m     real_error \u001b[38;5;241m=\u001b[39m \u001b[43mqNN_functions\u001b[49m\u001b[38;5;241;43m.\u001b[39;49m\u001b[43msingle_qubit_compute_total_error\u001b[49m\u001b[43m(\u001b[49m\u001b[43minputs\u001b[49m\u001b[43m,\u001b[49m\u001b[43mexpected_outputs\u001b[49m\u001b[43m,\u001b[49m\u001b[43mweights\u001b[49m\u001b[43m,\u001b[49m\u001b[43mtype_of_run\u001b[49m\u001b[38;5;241;43m=\u001b[39;49m\u001b[38;5;124;43m\"\u001b[39;49m\u001b[38;5;124;43mreal_run\u001b[39;49m\u001b[38;5;124;43m\"\u001b[39;49m\u001b[43m)\u001b[49m\n\u001b[1;32m     24\u001b[0m     current_file\u001b[38;5;241m.\u001b[39mwrite(\u001b[38;5;124m\"\u001b[39m\u001b[38;5;124m            real error: \u001b[39m\u001b[38;5;124m\"\u001b[39m\u001b[38;5;241m+\u001b[39m\u001b[38;5;28mstr\u001b[39m(real_error)\u001b[38;5;241m+\u001b[39m\u001b[38;5;124m\"\u001b[39m\u001b[38;5;130;01m\\n\u001b[39;00m\u001b[38;5;130;01m\\n\u001b[39;00m\u001b[38;5;124m\"\u001b[39m)\n\u001b[1;32m     26\u001b[0m \u001b[38;5;28;01mwith\u001b[39;00m \u001b[38;5;28mopen\u001b[39m(\u001b[38;5;124m\"\u001b[39m\u001b[38;5;124mresults_file_\u001b[39m\u001b[38;5;124m\"\u001b[39m\u001b[38;5;241m+\u001b[39m\u001b[38;5;28mstr\u001b[39m(number_of_bits)\u001b[38;5;241m+\u001b[39m\u001b[38;5;124m\"\u001b[39m\u001b[38;5;124m.txt\u001b[39m\u001b[38;5;124m\"\u001b[39m, \u001b[38;5;124m\"\u001b[39m\u001b[38;5;124ma\u001b[39m\u001b[38;5;124m\"\u001b[39m) \u001b[38;5;28;01mas\u001b[39;00m current_file:\n",
      "File \u001b[0;32m~/Documentos/GitHub/ic/neural_networks/works/generalizing/qNN_functions.py:253\u001b[0m, in \u001b[0;36msingle_qubit_compute_total_error\u001b[0;34m(inputs, expected_outputs, parameters, number_of_runs, number_of_shots, number_of_bits, type_of_run, number_of_inputs_per_qubit)\u001b[0m\n\u001b[1;32m    250\u001b[0m \u001b[38;5;28;01mfor\u001b[39;00m interation \u001b[38;5;129;01min\u001b[39;00m \u001b[38;5;28mrange\u001b[39m(\u001b[38;5;28mlen\u001b[39m(inputs)):\n\u001b[1;32m    252\u001b[0m     qNN_circuit \u001b[38;5;241m=\u001b[39m generate_single_qubit_qNN_circuit(inputs[interation],parameters,number_of_bits,number_of_inputs_per_qubit\u001b[38;5;241m=\u001b[39mnumber_of_inputs_per_qubit) \u001b[38;5;66;03m#generate circuit\u001b[39;00m\n\u001b[0;32m--> 253\u001b[0m     counts \u001b[38;5;241m=\u001b[39m \u001b[43mqNN_circuit\u001b[49m\u001b[38;5;241;43m.\u001b[39;49m\u001b[43mevaluate\u001b[49m\u001b[43m(\u001b[49m\u001b[43mnumber_of_runs\u001b[49m\u001b[38;5;241;43m=\u001b[39;49m\u001b[43mnumber_of_runs\u001b[49m\u001b[43m,\u001b[49m\u001b[43m \u001b[49m\u001b[43mnumber_of_shots\u001b[49m\u001b[38;5;241;43m=\u001b[39;49m\u001b[43mnumber_of_shots\u001b[49m\u001b[43m,\u001b[49m\u001b[43m \u001b[49m\u001b[43mtype_of_run\u001b[49m\u001b[38;5;241;43m=\u001b[39;49m\u001b[43mtype_of_run\u001b[49m\u001b[43m)\u001b[49m \u001b[38;5;66;03m#run circuit\u001b[39;00m\n\u001b[1;32m    254\u001b[0m     total_error \u001b[38;5;241m+\u001b[39m\u001b[38;5;241m=\u001b[39m single_qubit_compute_error(counts,list_of_expected_outputs[interation]) \u001b[38;5;66;03m#add error\u001b[39;00m\n\u001b[1;32m    256\u001b[0m \u001b[38;5;66;03m#normalize total error\u001b[39;00m\n",
      "File \u001b[0;32m~/Documentos/GitHub/ic/neural_networks/works/generalizing/current_circuit.py:132\u001b[0m, in \u001b[0;36mcurrent_circuit.evaluate\u001b[0;34m(self, number_of_shots, number_of_runs, type_of_run)\u001b[0m\n\u001b[1;32m    128\u001b[0m     sampler \u001b[38;5;241m=\u001b[39m StatevectorSampler()\n\u001b[1;32m    131\u001b[0m \u001b[38;5;66;03m#get the counts\u001b[39;00m\n\u001b[0;32m--> 132\u001b[0m counts \u001b[38;5;241m=\u001b[39m \u001b[43mgenerate_counts\u001b[49m\u001b[43m(\u001b[49m\u001b[38;5;28;43mself\u001b[39;49m\u001b[38;5;241;43m.\u001b[39;49m\u001b[43m_qc\u001b[49m\u001b[43m,\u001b[49m\u001b[43msampler\u001b[49m\u001b[43m,\u001b[49m\u001b[43mnumber_of_runs\u001b[49m\u001b[38;5;241;43m=\u001b[39;49m\u001b[43mnumber_of_runs\u001b[49m\u001b[43m,\u001b[49m\u001b[43mnumber_of_shots\u001b[49m\u001b[38;5;241;43m=\u001b[39;49m\u001b[43mnumber_of_shots\u001b[49m\u001b[43m)\u001b[49m\n\u001b[1;32m    134\u001b[0m \u001b[38;5;66;03m#return the counts\u001b[39;00m\n\u001b[1;32m    135\u001b[0m \u001b[38;5;28;01mreturn\u001b[39;00m counts\n",
      "File \u001b[0;32m~/Documentos/GitHub/ic/neural_networks/works/generalizing/utils.py:109\u001b[0m, in \u001b[0;36mgenerate_counts\u001b[0;34m(quantum_circuit, sampler, number_of_runs, number_of_shots)\u001b[0m\n\u001b[1;32m    105\u001b[0m \u001b[38;5;66;03m#run the circuit several times\u001b[39;00m\n\u001b[1;32m    106\u001b[0m \u001b[38;5;28;01mfor\u001b[39;00m _ \u001b[38;5;129;01min\u001b[39;00m \u001b[38;5;28mrange\u001b[39m(number_of_runs):\n\u001b[1;32m    107\u001b[0m \n\u001b[1;32m    108\u001b[0m     \u001b[38;5;66;03m#run the circuit\u001b[39;00m\n\u001b[0;32m--> 109\u001b[0m     job \u001b[38;5;241m=\u001b[39m \u001b[43msampler\u001b[49m\u001b[38;5;241;43m.\u001b[39;49m\u001b[43mrun\u001b[49m\u001b[43m(\u001b[49m\u001b[43m[\u001b[49m\u001b[43m(\u001b[49m\u001b[43mquantum_circuit\u001b[49m\u001b[43m)\u001b[49m\u001b[43m]\u001b[49m\u001b[43m,\u001b[49m\u001b[43m \u001b[49m\u001b[43mshots\u001b[49m\u001b[43m \u001b[49m\u001b[38;5;241;43m=\u001b[39;49m\u001b[43m \u001b[49m\u001b[43mnumber_of_shots\u001b[49m\u001b[43m)\u001b[49m\n\u001b[1;32m    110\u001b[0m     \u001b[38;5;66;03m#append the job to the jobs list\u001b[39;00m\n\u001b[1;32m    111\u001b[0m     jobs\u001b[38;5;241m.\u001b[39mappend(job)\n",
      "File \u001b[0;32m~/.conda/envs/condaenv/lib/python3.12/site-packages/qiskit_ibm_runtime/sampler.py:123\u001b[0m, in \u001b[0;36mSamplerV2.run\u001b[0;34m(self, pubs, shots)\u001b[0m\n\u001b[1;32m    119\u001b[0m coerced_pubs \u001b[38;5;241m=\u001b[39m [SamplerPub\u001b[38;5;241m.\u001b[39mcoerce(pub, shots) \u001b[38;5;28;01mfor\u001b[39;00m pub \u001b[38;5;129;01min\u001b[39;00m pubs]\n\u001b[1;32m    121\u001b[0m validate_classical_registers(coerced_pubs)\n\u001b[0;32m--> 123\u001b[0m \u001b[38;5;28;01mreturn\u001b[39;00m \u001b[38;5;28;43mself\u001b[39;49m\u001b[38;5;241;43m.\u001b[39;49m\u001b[43m_run\u001b[49m\u001b[43m(\u001b[49m\u001b[43mcoerced_pubs\u001b[49m\u001b[43m)\u001b[49m\n",
      "File \u001b[0;32m~/.conda/envs/condaenv/lib/python3.12/site-packages/qiskit_ibm_runtime/base_primitive.py:209\u001b[0m, in \u001b[0;36mBasePrimitiveV2._run\u001b[0;34m(self, pubs)\u001b[0m\n\u001b[1;32m    206\u001b[0m         runtime_options[\u001b[38;5;124m\"\u001b[39m\u001b[38;5;124minstance\u001b[39m\u001b[38;5;124m\"\u001b[39m] \u001b[38;5;241m=\u001b[39m \u001b[38;5;28mself\u001b[39m\u001b[38;5;241m.\u001b[39m_backend\u001b[38;5;241m.\u001b[39m_instance\n\u001b[1;32m    208\u001b[0m \u001b[38;5;28;01mif\u001b[39;00m \u001b[38;5;28misinstance\u001b[39m(\u001b[38;5;28mself\u001b[39m\u001b[38;5;241m.\u001b[39m_service, QiskitRuntimeService):\n\u001b[0;32m--> 209\u001b[0m     \u001b[38;5;28;01mreturn\u001b[39;00m \u001b[38;5;28;43mself\u001b[39;49m\u001b[38;5;241;43m.\u001b[39;49m\u001b[43m_service\u001b[49m\u001b[38;5;241;43m.\u001b[39;49m\u001b[43m_run\u001b[49m\u001b[43m(\u001b[49m\n\u001b[1;32m    210\u001b[0m \u001b[43m        \u001b[49m\u001b[43mprogram_id\u001b[49m\u001b[38;5;241;43m=\u001b[39;49m\u001b[38;5;28;43mself\u001b[39;49m\u001b[38;5;241;43m.\u001b[39;49m\u001b[43m_program_id\u001b[49m\u001b[43m(\u001b[49m\u001b[43m)\u001b[49m\u001b[43m,\u001b[49m\n\u001b[1;32m    211\u001b[0m \u001b[43m        \u001b[49m\u001b[43moptions\u001b[49m\u001b[38;5;241;43m=\u001b[39;49m\u001b[43mruntime_options\u001b[49m\u001b[43m,\u001b[49m\n\u001b[1;32m    212\u001b[0m \u001b[43m        \u001b[49m\u001b[43minputs\u001b[49m\u001b[38;5;241;43m=\u001b[39;49m\u001b[43mprimitive_inputs\u001b[49m\u001b[43m,\u001b[49m\n\u001b[1;32m    213\u001b[0m \u001b[43m        \u001b[49m\u001b[43mcallback\u001b[49m\u001b[38;5;241;43m=\u001b[39;49m\u001b[43moptions_dict\u001b[49m\u001b[38;5;241;43m.\u001b[39;49m\u001b[43mget\u001b[49m\u001b[43m(\u001b[49m\u001b[38;5;124;43m\"\u001b[39;49m\u001b[38;5;124;43menvironment\u001b[39;49m\u001b[38;5;124;43m\"\u001b[39;49m\u001b[43m,\u001b[49m\u001b[43m \u001b[49m\u001b[43m{\u001b[49m\u001b[43m}\u001b[49m\u001b[43m)\u001b[49m\u001b[38;5;241;43m.\u001b[39;49m\u001b[43mget\u001b[49m\u001b[43m(\u001b[49m\u001b[38;5;124;43m\"\u001b[39;49m\u001b[38;5;124;43mcallback\u001b[39;49m\u001b[38;5;124;43m\"\u001b[39;49m\u001b[43m,\u001b[49m\u001b[43m \u001b[49m\u001b[38;5;28;43;01mNone\u001b[39;49;00m\u001b[43m)\u001b[49m\u001b[43m,\u001b[49m\n\u001b[1;32m    214\u001b[0m \u001b[43m        \u001b[49m\u001b[43mresult_decoder\u001b[49m\u001b[38;5;241;43m=\u001b[39;49m\u001b[43mDEFAULT_DECODERS\u001b[49m\u001b[38;5;241;43m.\u001b[39;49m\u001b[43mget\u001b[49m\u001b[43m(\u001b[49m\u001b[38;5;28;43mself\u001b[39;49m\u001b[38;5;241;43m.\u001b[39;49m\u001b[43m_program_id\u001b[49m\u001b[43m(\u001b[49m\u001b[43m)\u001b[49m\u001b[43m)\u001b[49m\u001b[43m,\u001b[49m\n\u001b[1;32m    215\u001b[0m \u001b[43m    \u001b[49m\u001b[43m)\u001b[49m\n\u001b[1;32m    217\u001b[0m \u001b[38;5;28;01mreturn\u001b[39;00m \u001b[38;5;28mself\u001b[39m\u001b[38;5;241m.\u001b[39m_service\u001b[38;5;241m.\u001b[39m_run(\n\u001b[1;32m    218\u001b[0m     program_id\u001b[38;5;241m=\u001b[39m\u001b[38;5;28mself\u001b[39m\u001b[38;5;241m.\u001b[39m_program_id(),  \u001b[38;5;66;03m# type: ignore[arg-type]\u001b[39;00m\n\u001b[1;32m    219\u001b[0m     options\u001b[38;5;241m=\u001b[39mruntime_options,\n\u001b[1;32m    220\u001b[0m     inputs\u001b[38;5;241m=\u001b[39mprimitive_inputs,\n\u001b[1;32m    221\u001b[0m )\n",
      "File \u001b[0;32m~/.conda/envs/condaenv/lib/python3.12/site-packages/qiskit_ibm_runtime/qiskit_runtime_service.py:924\u001b[0m, in \u001b[0;36mQiskitRuntimeService._run\u001b[0;34m(self, program_id, inputs, options, callback, result_decoder, session_id, start_session)\u001b[0m\n\u001b[1;32m    922\u001b[0m     \u001b[38;5;28;01mif\u001b[39;00m ex\u001b[38;5;241m.\u001b[39mstatus_code \u001b[38;5;241m==\u001b[39m \u001b[38;5;241m404\u001b[39m:\n\u001b[1;32m    923\u001b[0m         \u001b[38;5;28;01mraise\u001b[39;00m RuntimeProgramNotFound(\u001b[38;5;124mf\u001b[39m\u001b[38;5;124m\"\u001b[39m\u001b[38;5;124mProgram not found: \u001b[39m\u001b[38;5;132;01m{\u001b[39;00mex\u001b[38;5;241m.\u001b[39mmessage\u001b[38;5;132;01m}\u001b[39;00m\u001b[38;5;124m\"\u001b[39m) \u001b[38;5;28;01mfrom\u001b[39;00m \u001b[38;5;28;01mNone\u001b[39;00m\n\u001b[0;32m--> 924\u001b[0m     \u001b[38;5;28;01mraise\u001b[39;00m IBMRuntimeError(\u001b[38;5;124mf\u001b[39m\u001b[38;5;124m\"\u001b[39m\u001b[38;5;124mFailed to run program: \u001b[39m\u001b[38;5;132;01m{\u001b[39;00mex\u001b[38;5;132;01m}\u001b[39;00m\u001b[38;5;124m\"\u001b[39m) \u001b[38;5;28;01mfrom\u001b[39;00m \u001b[38;5;28;01mNone\u001b[39;00m\n\u001b[1;32m    926\u001b[0m \u001b[38;5;28;01mif\u001b[39;00m response[\u001b[38;5;124m\"\u001b[39m\u001b[38;5;124mbackend\u001b[39m\u001b[38;5;124m\"\u001b[39m] \u001b[38;5;129;01mand\u001b[39;00m response[\u001b[38;5;124m\"\u001b[39m\u001b[38;5;124mbackend\u001b[39m\u001b[38;5;124m\"\u001b[39m] \u001b[38;5;241m!=\u001b[39m qrt_options\u001b[38;5;241m.\u001b[39mget_backend_name():\n\u001b[1;32m    927\u001b[0m     backend \u001b[38;5;241m=\u001b[39m \u001b[38;5;28mself\u001b[39m\u001b[38;5;241m.\u001b[39mbackend(name\u001b[38;5;241m=\u001b[39mresponse[\u001b[38;5;124m\"\u001b[39m\u001b[38;5;124mbackend\u001b[39m\u001b[38;5;124m\"\u001b[39m], instance\u001b[38;5;241m=\u001b[39mhgp_name)\n",
      "\u001b[0;31mIBMRuntimeError\u001b[0m: 'Failed to run program: \\'403 Client Error: Forbidden for url: https://api.quantum.ibm.com/runtime/jobs. {\"errors\":[{\"message\":\"Job create exceeds open plan job usage limits\",\"code\":4317,\"solution\":\"Please wait until the beginning of next month to submit more jobs when your quota will reset.\",\"more_info\":\"https://docs.quantum-computing.ibm.com/errors\"}]}\\''"
     ]
    }
   ],
   "source": [
    "for number_of_bits in range(4,6):\n",
    "        \n",
    "    with open(\"results_file_\"+str(number_of_bits)+\".txt\", \"w\") as current_file:\n",
    "\n",
    "        current_file.write(\"number of bits: \"+str(number_of_bits)+\"\\n\")\n",
    "\n",
    "    for type_of_operation in [\"XOR\",\"AND\",\"OR\",\"NAND\",\"NOR\",\"XNOR\"]:\n",
    "\n",
    "        with open(\"results_file_\"+str(number_of_bits)+\".txt\", \"a\") as current_file:\n",
    "\n",
    "            current_file.write(\"    type of operation: \"+str(type_of_operation)+\"\\n\")\n",
    "\n",
    "            inputs = [list(t) for t in product([0, 1], repeat=number_of_bits)]\n",
    "            expected_outputs = qNN_functions.compute_expected_outputs(inputs,logic_gate=type_of_operation)\n",
    "        \n",
    "        with open(\"results_file_\"+str(number_of_bits)+\".txt\", \"a\") as current_file:\n",
    "\n",
    "            current_file.write(\"        2 inputs per qubit qNN\\n\")\n",
    "\n",
    "            weights, error = qNN_functions.single_qubit_qNN_exaustive_search(inputs,expected_outputs,number_of_runs=number_of_runs,number_of_bits=number_of_bits,number_of_inputs_per_qubit=2)\n",
    "            current_file.write(\"            final weights: \"+str(weights)+\"\\n\")\n",
    "            current_file.write(\"            final error: \"+str(error)+\"\\n\")\n",
    "            real_error = qNN_functions.single_qubit_compute_total_error(inputs,expected_outputs,weights,type_of_run=\"real_run\")\n",
    "            current_file.write(\"            real error: \"+str(real_error)+\"\\n\\n\")\n",
    "\n",
    "        with open(\"results_file_\"+str(number_of_bits)+\".txt\", \"a\") as current_file:\n",
    "\n",
    "            current_file.write(\"        3 inputs per qubit qNN\\n\")\n",
    "\n",
    "            weights, error = qNN_functions.single_qubit_qNN_exaustive_search(inputs,expected_outputs,number_of_runs=number_of_runs,number_of_bits=number_of_bits,number_of_inputs_per_qubit=3)\n",
    "            current_file.write(\"            final weights: \"+str(weights)+\"\\n\")\n",
    "            current_file.write(\"            final error: \"+str(error)+\"\\n\")\n",
    "            real_error = qNN_functions.single_qubit_compute_total_error(inputs,expected_outputs,weights,type_of_run=\"real_run\")\n",
    "            current_file.write(\"            real error: \"+str(real_error)+\"\\n\\n\")\n",
    "\n",
    "        with open(\"results_file_\"+str(number_of_bits)+\".txt\", \"a\") as current_file:\n",
    "\n",
    "            current_file.write(\"        input per qubit qNN\\n\")\n",
    "\n",
    "            weights, error = qNN_functions.multi_qubit_qNN_exaustive_search(inputs,expected_outputs,number_of_runs=number_of_runs,number_of_bits=number_of_bits)\n",
    "            current_file.write(\"            final weights: \"+str(weights)+\"\\n\")\n",
    "            current_file.write(\"            final error: \"+str(error)+\"\\n\")\n",
    "            counts = qNN_functions.generate_multi_qubit_qNN_circuit(weights,number_of_bits=number_of_bits).evaluate(number_of_runs=number_of_runs, number_of_shots=number_of_shots, type_of_run=\"real_run\")\n",
    "            real_error = qNN_functions.multi_qubit_compute_error(inputs,expected_outputs,counts,number_of_bits=number_of_bits)\n",
    "            current_file.write(\"            real error: \"+str(real_error)+\"\\n\\n\")"
   ]
  },
  {
   "cell_type": "code",
   "execution_count": null,
   "metadata": {},
   "outputs": [],
   "source": [
    "\"\"\"parameters, error = qNN_functions.multi_qubit_qNN_exaustive_search(inputs,expected_outputs,number_of_runs=number_of_runs,number_of_bits=number_of_bits)\n",
    "print(parameters)\n",
    "print(error)\"\"\""
   ]
  }
 ],
 "metadata": {
  "kernelspec": {
   "display_name": "condaenv",
   "language": "python",
   "name": "python3"
  },
  "language_info": {
   "codemirror_mode": {
    "name": "ipython",
    "version": 3
   },
   "file_extension": ".py",
   "mimetype": "text/x-python",
   "name": "python",
   "nbconvert_exporter": "python",
   "pygments_lexer": "ipython3",
   "version": "3.12.5"
  }
 },
 "nbformat": 4,
 "nbformat_minor": 2
}
