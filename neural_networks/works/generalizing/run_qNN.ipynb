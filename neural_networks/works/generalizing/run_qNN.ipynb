{
 "cells": [
  {
   "cell_type": "markdown",
   "metadata": {},
   "source": [
    "run_qNN.ipynb\n",
    "\n",
    "Notebook that define the necessary functions to run a qNN and runs it.\n",
    "\n",
    "Dependencies:\n",
    "- Uses numpy to get random values\n",
    "- Uses qNN_functions to get qNN functions \n",
    "\n",
    "Since:\n",
    "- 02/2025\n",
    "\n",
    "Authors:\n",
    "- Pedro C. Delbem. <pedrodelbem@usp.br>"
   ]
  },
  {
   "cell_type": "code",
   "execution_count": 1,
   "metadata": {},
   "outputs": [],
   "source": [
    "import qNN_functions"
   ]
  },
  {
   "cell_type": "code",
   "execution_count": 2,
   "metadata": {},
   "outputs": [],
   "source": [
    "from itertools import product\n",
    "import numpy as np"
   ]
  },
  {
   "cell_type": "code",
   "execution_count": 3,
   "metadata": {},
   "outputs": [],
   "source": [
    "number_of_bits = 4"
   ]
  },
  {
   "cell_type": "code",
   "execution_count": null,
   "metadata": {},
   "outputs": [],
   "source": [
    "inputs = [list(t) for t in product([0, 1], repeat=number_of_bits)]\n",
    "expected_outputs = qNN_functions.compute_expected_outputs(inputs,logic_gate=\"NAND\")"
   ]
  },
  {
   "cell_type": "code",
   "execution_count": 5,
   "metadata": {},
   "outputs": [
    {
     "data": {
      "text/plain": [
       "{'0000': 0,\n",
       " '0001': 1,\n",
       " '0010': 1,\n",
       " '0011': 0,\n",
       " '0100': 1,\n",
       " '0101': 0,\n",
       " '0110': 0,\n",
       " '0111': 1,\n",
       " '1000': 1,\n",
       " '1001': 0,\n",
       " '1010': 0,\n",
       " '1011': 1,\n",
       " '1100': 0,\n",
       " '1101': 1,\n",
       " '1110': 1,\n",
       " '1111': 0}"
      ]
     },
     "execution_count": 5,
     "metadata": {},
     "output_type": "execute_result"
    }
   ],
   "source": [
    "expected_outputs"
   ]
  },
  {
   "cell_type": "code",
   "execution_count": null,
   "metadata": {},
   "outputs": [],
   "source": [
    "number_of_runs = 1\n",
    "number_of_shots = 1024\n",
    "grid_grain = 10"
   ]
  },
  {
   "cell_type": "code",
   "execution_count": 7,
   "metadata": {},
   "outputs": [
    {
     "data": {
      "text/plain": [
       "'number_of_bits = int(input())\\ninputs = [list(t) for t in product([0, 1], repeat=number_of_bits)]\\nexpected_outputs = qNN_functions.compute_expected_outputs(inputs,logic_gate=\"XOR\")\\nangles = np.random.rand(number_of_bits+1)*np.pi\\nqnn = qNN_functions.generate_single_qubit_qNN_circuit(inputs[0],angles,number_of_bits,number_of_inputs_per_qubit=2)\\nqnn.print_current_circuit()'"
      ]
     },
     "execution_count": 7,
     "metadata": {},
     "output_type": "execute_result"
    }
   ],
   "source": [
    "\"\"\"number_of_bits = int(input())\n",
    "inputs = [list(t) for t in product([0, 1], repeat=number_of_bits)]\n",
    "expected_outputs = qNN_functions.compute_expected_outputs(inputs,logic_gate=\"XOR\")\n",
    "angles = np.random.rand(number_of_bits+1)*np.pi\n",
    "qnn = qNN_functions.generate_single_qubit_qNN_circuit(inputs[0],angles,number_of_bits,number_of_inputs_per_qubit=2)\n",
    "qnn.print_current_circuit()\"\"\""
   ]
  },
  {
   "cell_type": "code",
   "execution_count": 8,
   "metadata": {},
   "outputs": [
    {
     "ename": "KeyboardInterrupt",
     "evalue": "",
     "output_type": "error",
     "traceback": [
      "\u001b[1;31m---------------------------------------------------------------------------\u001b[0m",
      "\u001b[1;31mKeyboardInterrupt\u001b[0m                         Traceback (most recent call last)",
      "Cell \u001b[1;32mIn[8], line 1\u001b[0m\n\u001b[1;32m----> 1\u001b[0m angles, error \u001b[38;5;241m=\u001b[39m \u001b[43mqNN_functions\u001b[49m\u001b[38;5;241;43m.\u001b[39;49m\u001b[43msingle_qubit_qNN_exaustive_search\u001b[49m\u001b[43m(\u001b[49m\u001b[43minputs\u001b[49m\u001b[43m,\u001b[49m\u001b[43mexpected_outputs\u001b[49m\u001b[43m,\u001b[49m\u001b[43mnumber_of_runs\u001b[49m\u001b[38;5;241;43m=\u001b[39;49m\u001b[43mnumber_of_runs\u001b[49m\u001b[43m,\u001b[49m\u001b[43mnumber_of_bits\u001b[49m\u001b[38;5;241;43m=\u001b[39;49m\u001b[43mnumber_of_bits\u001b[49m\u001b[43m,\u001b[49m\u001b[43mnumber_of_inputs_per_qubit\u001b[49m\u001b[38;5;241;43m=\u001b[39;49m\u001b[38;5;241;43m2\u001b[39;49m\u001b[43m)\u001b[49m\n\u001b[0;32m      2\u001b[0m \u001b[38;5;28mprint\u001b[39m(angles)\n\u001b[0;32m      3\u001b[0m \u001b[38;5;28mprint\u001b[39m(error)\n",
      "File \u001b[1;32mc:\\Users\\Principal\\Documents\\GitHub\\ic\\neural_networks\\works\\generalizing\\qNN_functions.py:346\u001b[0m, in \u001b[0;36msingle_qubit_qNN_exaustive_search\u001b[1;34m(inputs, expected_outputs, grid_grain, number_of_runs, number_of_shots, number_of_bits, type_of_run, number_of_inputs_per_qubit)\u001b[0m\n\u001b[0;32m    342\u001b[0m \u001b[38;5;66;03m#exaustive search\u001b[39;00m\n\u001b[0;32m    343\u001b[0m \u001b[38;5;28;01mfor\u001b[39;00m parameters \u001b[38;5;129;01min\u001b[39;00m itertools\u001b[38;5;241m.\u001b[39mproduct(grid, repeat\u001b[38;5;241m=\u001b[39m(number_of_bits\u001b[38;5;241m+\u001b[39m\u001b[38;5;241m1\u001b[39m)):\n\u001b[0;32m    344\u001b[0m     \n\u001b[0;32m    345\u001b[0m     \u001b[38;5;66;03m#compute total error\u001b[39;00m\n\u001b[1;32m--> 346\u001b[0m     current_error \u001b[38;5;241m=\u001b[39m \u001b[43msingle_qubit_compute_total_error\u001b[49m\u001b[43m(\u001b[49m\u001b[43minputs\u001b[49m\u001b[43m,\u001b[49m\u001b[43m \u001b[49m\u001b[43mexpected_outputs\u001b[49m\u001b[43m,\u001b[49m\u001b[43m \u001b[49m\u001b[43mparameters\u001b[49m\u001b[43m,\u001b[49m\u001b[43m \u001b[49m\u001b[43mnumber_of_runs\u001b[49m\u001b[38;5;241;43m=\u001b[39;49m\u001b[43mnumber_of_runs\u001b[49m\u001b[43m,\u001b[49m\u001b[43m \u001b[49m\u001b[43mnumber_of_shots\u001b[49m\u001b[38;5;241;43m=\u001b[39;49m\u001b[43mnumber_of_shots\u001b[49m\u001b[43m,\u001b[49m\u001b[43m \u001b[49m\u001b[43mnumber_of_bits\u001b[49m\u001b[38;5;241;43m=\u001b[39;49m\u001b[43mnumber_of_bits\u001b[49m\u001b[43m,\u001b[49m\u001b[43m \u001b[49m\u001b[43mtype_of_run\u001b[49m\u001b[38;5;241;43m=\u001b[39;49m\u001b[43mtype_of_run\u001b[49m\u001b[43m,\u001b[49m\u001b[43m \u001b[49m\u001b[43mnumber_of_inputs_per_qubit\u001b[49m\u001b[38;5;241;43m=\u001b[39;49m\u001b[43mnumber_of_inputs_per_qubit\u001b[49m\u001b[43m)\u001b[49m\n\u001b[0;32m    348\u001b[0m     \u001b[38;5;66;03m#update final error and final parameters\u001b[39;00m\n\u001b[0;32m    349\u001b[0m     \u001b[38;5;28;01mif\u001b[39;00m current_error \u001b[38;5;241m<\u001b[39m final_error:\n",
      "File \u001b[1;32mc:\\Users\\Principal\\Documents\\GitHub\\ic\\neural_networks\\works\\generalizing\\qNN_functions.py:253\u001b[0m, in \u001b[0;36msingle_qubit_compute_total_error\u001b[1;34m(inputs, expected_outputs, parameters, number_of_runs, number_of_shots, number_of_bits, type_of_run, number_of_inputs_per_qubit)\u001b[0m\n\u001b[0;32m    250\u001b[0m \u001b[38;5;28;01mfor\u001b[39;00m interation \u001b[38;5;129;01min\u001b[39;00m \u001b[38;5;28mrange\u001b[39m(\u001b[38;5;28mlen\u001b[39m(inputs)):\n\u001b[0;32m    252\u001b[0m     qNN_circuit \u001b[38;5;241m=\u001b[39m generate_single_qubit_qNN_circuit(inputs[interation],parameters,number_of_bits,number_of_inputs_per_qubit\u001b[38;5;241m=\u001b[39mnumber_of_inputs_per_qubit) \u001b[38;5;66;03m#generate circuit\u001b[39;00m\n\u001b[1;32m--> 253\u001b[0m     counts \u001b[38;5;241m=\u001b[39m \u001b[43mqNN_circuit\u001b[49m\u001b[38;5;241;43m.\u001b[39;49m\u001b[43mevaluate\u001b[49m\u001b[43m(\u001b[49m\u001b[43mnumber_of_runs\u001b[49m\u001b[38;5;241;43m=\u001b[39;49m\u001b[43mnumber_of_runs\u001b[49m\u001b[43m,\u001b[49m\u001b[43m \u001b[49m\u001b[43mnumber_of_shots\u001b[49m\u001b[38;5;241;43m=\u001b[39;49m\u001b[43mnumber_of_shots\u001b[49m\u001b[43m,\u001b[49m\u001b[43m \u001b[49m\u001b[43mtype_of_run\u001b[49m\u001b[38;5;241;43m=\u001b[39;49m\u001b[43mtype_of_run\u001b[49m\u001b[43m)\u001b[49m \u001b[38;5;66;03m#run circuit\u001b[39;00m\n\u001b[0;32m    254\u001b[0m     total_error \u001b[38;5;241m+\u001b[39m\u001b[38;5;241m=\u001b[39m single_qubit_compute_error(counts,list_of_expected_outputs[interation]) \u001b[38;5;66;03m#add error\u001b[39;00m\n\u001b[0;32m    256\u001b[0m \u001b[38;5;66;03m#normalize total error\u001b[39;00m\n",
      "File \u001b[1;32mc:\\Users\\Principal\\Documents\\GitHub\\ic\\neural_networks\\works\\generalizing\\current_circuit.py:132\u001b[0m, in \u001b[0;36mcurrent_circuit.evaluate\u001b[1;34m(self, number_of_shots, number_of_runs, type_of_run)\u001b[0m\n\u001b[0;32m    128\u001b[0m     sampler \u001b[38;5;241m=\u001b[39m StatevectorSampler()\n\u001b[0;32m    131\u001b[0m \u001b[38;5;66;03m#get the counts\u001b[39;00m\n\u001b[1;32m--> 132\u001b[0m counts \u001b[38;5;241m=\u001b[39m \u001b[43mgenerate_counts\u001b[49m\u001b[43m(\u001b[49m\u001b[38;5;28;43mself\u001b[39;49m\u001b[38;5;241;43m.\u001b[39;49m\u001b[43m_qc\u001b[49m\u001b[43m,\u001b[49m\u001b[43msampler\u001b[49m\u001b[43m,\u001b[49m\u001b[43mnumber_of_runs\u001b[49m\u001b[38;5;241;43m=\u001b[39;49m\u001b[43mnumber_of_runs\u001b[49m\u001b[43m,\u001b[49m\u001b[43mnumber_of_shots\u001b[49m\u001b[38;5;241;43m=\u001b[39;49m\u001b[43mnumber_of_shots\u001b[49m\u001b[43m)\u001b[49m\n\u001b[0;32m    134\u001b[0m \u001b[38;5;66;03m#return the counts\u001b[39;00m\n\u001b[0;32m    135\u001b[0m \u001b[38;5;28;01mreturn\u001b[39;00m counts\n",
      "File \u001b[1;32mc:\\Users\\Principal\\Documents\\GitHub\\ic\\neural_networks\\works\\generalizing\\utils.py:109\u001b[0m, in \u001b[0;36mgenerate_counts\u001b[1;34m(quantum_circuit, sampler, number_of_runs, number_of_shots)\u001b[0m\n\u001b[0;32m    105\u001b[0m \u001b[38;5;66;03m#run the circuit several times\u001b[39;00m\n\u001b[0;32m    106\u001b[0m \u001b[38;5;28;01mfor\u001b[39;00m _ \u001b[38;5;129;01min\u001b[39;00m \u001b[38;5;28mrange\u001b[39m(number_of_runs):\n\u001b[0;32m    107\u001b[0m \n\u001b[0;32m    108\u001b[0m     \u001b[38;5;66;03m#run the circuit\u001b[39;00m\n\u001b[1;32m--> 109\u001b[0m     job \u001b[38;5;241m=\u001b[39m \u001b[43msampler\u001b[49m\u001b[38;5;241;43m.\u001b[39;49m\u001b[43mrun\u001b[49m\u001b[43m(\u001b[49m\u001b[43m[\u001b[49m\u001b[43m(\u001b[49m\u001b[43mquantum_circuit\u001b[49m\u001b[43m)\u001b[49m\u001b[43m]\u001b[49m\u001b[43m,\u001b[49m\u001b[43m \u001b[49m\u001b[43mshots\u001b[49m\u001b[43m \u001b[49m\u001b[38;5;241;43m=\u001b[39;49m\u001b[43m \u001b[49m\u001b[43mnumber_of_shots\u001b[49m\u001b[43m)\u001b[49m\n\u001b[0;32m    110\u001b[0m     \u001b[38;5;66;03m#append the job to the jobs list\u001b[39;00m\n\u001b[0;32m    111\u001b[0m     jobs\u001b[38;5;241m.\u001b[39mappend(job)\n",
      "File \u001b[1;32mc:\\Users\\Principal\\miniconda3\\envs\\condaenv\\Lib\\site-packages\\qiskit\\primitives\\statevector_sampler.py:169\u001b[0m, in \u001b[0;36mStatevectorSampler.run\u001b[1;34m(self, pubs, shots)\u001b[0m\n\u001b[0;32m    162\u001b[0m     warnings\u001b[38;5;241m.\u001b[39mwarn(\n\u001b[0;32m    163\u001b[0m         \u001b[38;5;124m\"\u001b[39m\u001b[38;5;124mOne of your circuits has no output classical registers and so the result \u001b[39m\u001b[38;5;124m\"\u001b[39m\n\u001b[0;32m    164\u001b[0m         \u001b[38;5;124m\"\u001b[39m\u001b[38;5;124mwill be empty. Did you mean to add measurement instructions?\u001b[39m\u001b[38;5;124m\"\u001b[39m,\n\u001b[0;32m    165\u001b[0m         \u001b[38;5;167;01mUserWarning\u001b[39;00m,\n\u001b[0;32m    166\u001b[0m     )\n\u001b[0;32m    168\u001b[0m job \u001b[38;5;241m=\u001b[39m PrimitiveJob(\u001b[38;5;28mself\u001b[39m\u001b[38;5;241m.\u001b[39m_run, coerced_pubs)\n\u001b[1;32m--> 169\u001b[0m \u001b[43mjob\u001b[49m\u001b[38;5;241;43m.\u001b[39;49m\u001b[43m_submit\u001b[49m\u001b[43m(\u001b[49m\u001b[43m)\u001b[49m\n\u001b[0;32m    170\u001b[0m \u001b[38;5;28;01mreturn\u001b[39;00m job\n",
      "File \u001b[1;32mc:\\Users\\Principal\\miniconda3\\envs\\condaenv\\Lib\\site-packages\\qiskit\\primitives\\primitive_job.py:46\u001b[0m, in \u001b[0;36mPrimitiveJob._submit\u001b[1;34m(self)\u001b[0m\n\u001b[0;32m     43\u001b[0m     \u001b[38;5;28;01mraise\u001b[39;00m JobError(\u001b[38;5;124m\"\u001b[39m\u001b[38;5;124mPrimitive job has been submitted already.\u001b[39m\u001b[38;5;124m\"\u001b[39m)\n\u001b[0;32m     45\u001b[0m executor \u001b[38;5;241m=\u001b[39m ThreadPoolExecutor(max_workers\u001b[38;5;241m=\u001b[39m\u001b[38;5;241m1\u001b[39m)  \u001b[38;5;66;03m# pylint: disable=consider-using-with\u001b[39;00m\n\u001b[1;32m---> 46\u001b[0m \u001b[38;5;28mself\u001b[39m\u001b[38;5;241m.\u001b[39m_future \u001b[38;5;241m=\u001b[39m \u001b[43mexecutor\u001b[49m\u001b[38;5;241;43m.\u001b[39;49m\u001b[43msubmit\u001b[49m\u001b[43m(\u001b[49m\u001b[38;5;28;43mself\u001b[39;49m\u001b[38;5;241;43m.\u001b[39;49m\u001b[43m_function\u001b[49m\u001b[43m,\u001b[49m\u001b[43m \u001b[49m\u001b[38;5;241;43m*\u001b[39;49m\u001b[38;5;28;43mself\u001b[39;49m\u001b[38;5;241;43m.\u001b[39;49m\u001b[43m_args\u001b[49m\u001b[43m,\u001b[49m\u001b[43m \u001b[49m\u001b[38;5;241;43m*\u001b[39;49m\u001b[38;5;241;43m*\u001b[39;49m\u001b[38;5;28;43mself\u001b[39;49m\u001b[38;5;241;43m.\u001b[39;49m\u001b[43m_kwargs\u001b[49m\u001b[43m)\u001b[49m\n\u001b[0;32m     47\u001b[0m executor\u001b[38;5;241m.\u001b[39mshutdown(wait\u001b[38;5;241m=\u001b[39m\u001b[38;5;28;01mFalse\u001b[39;00m)\n",
      "File \u001b[1;32mc:\\Users\\Principal\\miniconda3\\envs\\condaenv\\Lib\\concurrent\\futures\\thread.py:179\u001b[0m, in \u001b[0;36mThreadPoolExecutor.submit\u001b[1;34m(self, fn, *args, **kwargs)\u001b[0m\n\u001b[0;32m    176\u001b[0m w \u001b[38;5;241m=\u001b[39m _WorkItem(f, fn, args, kwargs)\n\u001b[0;32m    178\u001b[0m \u001b[38;5;28mself\u001b[39m\u001b[38;5;241m.\u001b[39m_work_queue\u001b[38;5;241m.\u001b[39mput(w)\n\u001b[1;32m--> 179\u001b[0m \u001b[38;5;28;43mself\u001b[39;49m\u001b[38;5;241;43m.\u001b[39;49m\u001b[43m_adjust_thread_count\u001b[49m\u001b[43m(\u001b[49m\u001b[43m)\u001b[49m\n\u001b[0;32m    180\u001b[0m \u001b[38;5;28;01mreturn\u001b[39;00m f\n",
      "File \u001b[1;32mc:\\Users\\Principal\\miniconda3\\envs\\condaenv\\Lib\\concurrent\\futures\\thread.py:202\u001b[0m, in \u001b[0;36mThreadPoolExecutor._adjust_thread_count\u001b[1;34m(self)\u001b[0m\n\u001b[0;32m    195\u001b[0m thread_name \u001b[38;5;241m=\u001b[39m \u001b[38;5;124m'\u001b[39m\u001b[38;5;132;01m%s\u001b[39;00m\u001b[38;5;124m_\u001b[39m\u001b[38;5;132;01m%d\u001b[39;00m\u001b[38;5;124m'\u001b[39m \u001b[38;5;241m%\u001b[39m (\u001b[38;5;28mself\u001b[39m\u001b[38;5;241m.\u001b[39m_thread_name_prefix \u001b[38;5;129;01mor\u001b[39;00m \u001b[38;5;28mself\u001b[39m,\n\u001b[0;32m    196\u001b[0m                          num_threads)\n\u001b[0;32m    197\u001b[0m t \u001b[38;5;241m=\u001b[39m threading\u001b[38;5;241m.\u001b[39mThread(name\u001b[38;5;241m=\u001b[39mthread_name, target\u001b[38;5;241m=\u001b[39m_worker,\n\u001b[0;32m    198\u001b[0m                      args\u001b[38;5;241m=\u001b[39m(weakref\u001b[38;5;241m.\u001b[39mref(\u001b[38;5;28mself\u001b[39m, weakref_cb),\n\u001b[0;32m    199\u001b[0m                            \u001b[38;5;28mself\u001b[39m\u001b[38;5;241m.\u001b[39m_work_queue,\n\u001b[0;32m    200\u001b[0m                            \u001b[38;5;28mself\u001b[39m\u001b[38;5;241m.\u001b[39m_initializer,\n\u001b[0;32m    201\u001b[0m                            \u001b[38;5;28mself\u001b[39m\u001b[38;5;241m.\u001b[39m_initargs))\n\u001b[1;32m--> 202\u001b[0m \u001b[43mt\u001b[49m\u001b[38;5;241;43m.\u001b[39;49m\u001b[43mstart\u001b[49m\u001b[43m(\u001b[49m\u001b[43m)\u001b[49m\n\u001b[0;32m    203\u001b[0m \u001b[38;5;28mself\u001b[39m\u001b[38;5;241m.\u001b[39m_threads\u001b[38;5;241m.\u001b[39madd(t)\n\u001b[0;32m    204\u001b[0m _threads_queues[t] \u001b[38;5;241m=\u001b[39m \u001b[38;5;28mself\u001b[39m\u001b[38;5;241m.\u001b[39m_work_queue\n",
      "File \u001b[1;32mc:\\Users\\Principal\\miniconda3\\envs\\condaenv\\Lib\\threading.py:997\u001b[0m, in \u001b[0;36mThread.start\u001b[1;34m(self)\u001b[0m\n\u001b[0;32m    995\u001b[0m         \u001b[38;5;28;01mdel\u001b[39;00m _limbo[\u001b[38;5;28mself\u001b[39m]\n\u001b[0;32m    996\u001b[0m     \u001b[38;5;28;01mraise\u001b[39;00m\n\u001b[1;32m--> 997\u001b[0m \u001b[38;5;28;43mself\u001b[39;49m\u001b[38;5;241;43m.\u001b[39;49m\u001b[43m_started\u001b[49m\u001b[38;5;241;43m.\u001b[39;49m\u001b[43mwait\u001b[49m\u001b[43m(\u001b[49m\u001b[43m)\u001b[49m\n",
      "File \u001b[1;32mc:\\Users\\Principal\\miniconda3\\envs\\condaenv\\Lib\\threading.py:655\u001b[0m, in \u001b[0;36mEvent.wait\u001b[1;34m(self, timeout)\u001b[0m\n\u001b[0;32m    653\u001b[0m signaled \u001b[38;5;241m=\u001b[39m \u001b[38;5;28mself\u001b[39m\u001b[38;5;241m.\u001b[39m_flag\n\u001b[0;32m    654\u001b[0m \u001b[38;5;28;01mif\u001b[39;00m \u001b[38;5;129;01mnot\u001b[39;00m signaled:\n\u001b[1;32m--> 655\u001b[0m     signaled \u001b[38;5;241m=\u001b[39m \u001b[38;5;28;43mself\u001b[39;49m\u001b[38;5;241;43m.\u001b[39;49m\u001b[43m_cond\u001b[49m\u001b[38;5;241;43m.\u001b[39;49m\u001b[43mwait\u001b[49m\u001b[43m(\u001b[49m\u001b[43mtimeout\u001b[49m\u001b[43m)\u001b[49m\n\u001b[0;32m    656\u001b[0m \u001b[38;5;28;01mreturn\u001b[39;00m signaled\n",
      "File \u001b[1;32mc:\\Users\\Principal\\miniconda3\\envs\\condaenv\\Lib\\threading.py:355\u001b[0m, in \u001b[0;36mCondition.wait\u001b[1;34m(self, timeout)\u001b[0m\n\u001b[0;32m    353\u001b[0m \u001b[38;5;28;01mtry\u001b[39;00m:    \u001b[38;5;66;03m# restore state no matter what (e.g., KeyboardInterrupt)\u001b[39;00m\n\u001b[0;32m    354\u001b[0m     \u001b[38;5;28;01mif\u001b[39;00m timeout \u001b[38;5;129;01mis\u001b[39;00m \u001b[38;5;28;01mNone\u001b[39;00m:\n\u001b[1;32m--> 355\u001b[0m         \u001b[43mwaiter\u001b[49m\u001b[38;5;241;43m.\u001b[39;49m\u001b[43macquire\u001b[49m\u001b[43m(\u001b[49m\u001b[43m)\u001b[49m\n\u001b[0;32m    356\u001b[0m         gotit \u001b[38;5;241m=\u001b[39m \u001b[38;5;28;01mTrue\u001b[39;00m\n\u001b[0;32m    357\u001b[0m     \u001b[38;5;28;01melse\u001b[39;00m:\n",
      "\u001b[1;31mKeyboardInterrupt\u001b[0m: "
     ]
    }
   ],
   "source": [
    "angles, error = qNN_functions.single_qubit_qNN_exaustive_search(inputs,expected_outputs,number_of_runs=number_of_runs,number_of_bits=number_of_bits,number_of_inputs_per_qubit=2)\n",
    "print(angles)\n",
    "print(error)\n",
    "real_error = qNN_functions.single_qubit_compute_total_error(inputs,expected_outputs,angles,type_of_run=\"real_run\")\n",
    "print(real_error)"
   ]
  },
  {
   "cell_type": "code",
   "execution_count": null,
   "metadata": {},
   "outputs": [
    {
     "ename": "SyntaxError",
     "evalue": "incomplete input (3835834418.py, line 1)",
     "output_type": "error",
     "traceback": [
      "\u001b[1;36m  Cell \u001b[1;32mIn[9], line 1\u001b[1;36m\u001b[0m\n\u001b[1;33m    \"\"\"parameters, error = qNN_functions.multi_qubit_qNN_exaustive_search(inputs,expected_outputs,number_of_runs=number_of_runs,number_of_bits=number_of_bits)\u001b[0m\n\u001b[1;37m    ^\u001b[0m\n\u001b[1;31mSyntaxError\u001b[0m\u001b[1;31m:\u001b[0m incomplete input\n"
     ]
    }
   ],
   "source": [
    "\"\"\"parameters, error = qNN_functions.multi_qubit_qNN_exaustive_search(inputs,expected_outputs,number_of_runs=number_of_runs,number_of_bits=number_of_bits)\n",
    "print(parameters)\n",
    "print(error)"
   ]
  }
 ],
 "metadata": {
  "kernelspec": {
   "display_name": "Python 3",
   "language": "python",
   "name": "python3"
  },
  "language_info": {
   "codemirror_mode": {
    "name": "ipython",
    "version": 3
   },
   "file_extension": ".py",
   "mimetype": "text/x-python",
   "name": "python",
   "nbconvert_exporter": "python",
   "pygments_lexer": "ipython3",
   "version": "3.12.4"
  }
 },
 "nbformat": 4,
 "nbformat_minor": 2
}
