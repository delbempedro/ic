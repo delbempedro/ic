{
 "cells": [
  {
   "cell_type": "markdown",
   "metadata": {},
   "source": [
    "run_qNN.ipynb\n",
    "\n",
    "Notebook that define the necessary functions to run a qNN and runs it.\n",
    "\n",
    "Dependencies:\n",
    "- Uses numpy to get random values\n",
    "- Uses qNN_functions to get qNN functions \n",
    "\n",
    "Since:\n",
    "- 02/2025\n",
    "\n",
    "Authors:\n",
    "- Pedro C. Delbem. <pedrodelbem@usp.br>"
   ]
  },
  {
   "cell_type": "code",
   "execution_count": 12,
   "metadata": {},
   "outputs": [],
   "source": [
    "import qNN_functions"
   ]
  },
  {
   "cell_type": "code",
   "execution_count": 13,
   "metadata": {},
   "outputs": [],
   "source": [
    "from itertools import product\n",
    "import numpy as np"
   ]
  },
  {
   "cell_type": "code",
   "execution_count": 14,
   "metadata": {},
   "outputs": [],
   "source": [
    "number_of_bits = 4"
   ]
  },
  {
   "cell_type": "code",
   "execution_count": 15,
   "metadata": {},
   "outputs": [],
   "source": [
    "inputs = [list(t) for t in product([0, 1], repeat=number_of_bits)]\n",
    "expected_outputs = qNN_functions.compute_expected_outputs(inputs,logic_gate=\"XOR\")"
   ]
  },
  {
   "cell_type": "code",
   "execution_count": 17,
   "metadata": {},
   "outputs": [],
   "source": [
    "number_of_runs = 10\n",
    "number_of_shots = 1024"
   ]
  },
  {
   "cell_type": "code",
   "execution_count": 23,
   "metadata": {},
   "outputs": [
    {
     "name": "stdout",
     "output_type": "stream",
     "text": [
      "[np.float64(-1.5707963267948966), np.float64(-3.141592653589793), np.float64(-3.141592653589793), np.float64(1.5707963267948966), np.float64(3.141592653589793)]\n",
      "0.48748779296875\n"
     ]
    }
   ],
   "source": [
    "parameters, error = qNN_functions.single_qubit_qNN_exaustive_search(inputs,expected_outputs,number_of_runs=number_of_runs,number_of_bits=number_of_bits)\n",
    "print(parameters)\n",
    "print(error)"
   ]
  },
  {
   "cell_type": "code",
   "execution_count": 22,
   "metadata": {},
   "outputs": [
    {
     "ename": "KeyboardInterrupt",
     "evalue": "",
     "output_type": "error",
     "traceback": [
      "\u001b[0;31m---------------------------------------------------------------------------\u001b[0m",
      "\u001b[0;31mKeyboardInterrupt\u001b[0m                         Traceback (most recent call last)",
      "Cell \u001b[0;32mIn[22], line 1\u001b[0m\n\u001b[0;32m----> 1\u001b[0m parameters, error \u001b[38;5;241m=\u001b[39m \u001b[43mqNN_functions\u001b[49m\u001b[38;5;241;43m.\u001b[39;49m\u001b[43mmulti_qubit_qNN_exaustive_search\u001b[49m\u001b[43m(\u001b[49m\u001b[43minputs\u001b[49m\u001b[43m,\u001b[49m\u001b[43mexpected_outputs\u001b[49m\u001b[43m,\u001b[49m\u001b[43mnumber_of_runs\u001b[49m\u001b[38;5;241;43m=\u001b[39;49m\u001b[43mnumber_of_runs\u001b[49m\u001b[43m,\u001b[49m\u001b[43mnumber_of_bits\u001b[49m\u001b[38;5;241;43m=\u001b[39;49m\u001b[43mnumber_of_bits\u001b[49m\u001b[43m)\u001b[49m\n\u001b[1;32m      2\u001b[0m \u001b[38;5;28mprint\u001b[39m(parameters)\n\u001b[1;32m      3\u001b[0m \u001b[38;5;28mprint\u001b[39m(error)\n",
      "File \u001b[0;32m~/Documentos/GitHub/ic/neural_networks/works/generalizing/qNN_functions.py:328\u001b[0m, in \u001b[0;36mmulti_qubit_qNN_exaustive_search\u001b[0;34m(inputs, expected_outputs, grid_grain, number_of_runs, number_of_shots, number_of_bits)\u001b[0m\n\u001b[1;32m    325\u001b[0m \u001b[38;5;66;03m#exaustive search\u001b[39;00m\n\u001b[1;32m    326\u001b[0m \u001b[38;5;28;01mfor\u001b[39;00m parameters \u001b[38;5;129;01min\u001b[39;00m itertools\u001b[38;5;241m.\u001b[39mproduct(grid, repeat\u001b[38;5;241m=\u001b[39mnumber_of_bits\u001b[38;5;241m*\u001b[39m\u001b[38;5;241m2\u001b[39m):\n\u001b[0;32m--> 328\u001b[0m     counts \u001b[38;5;241m=\u001b[39m \u001b[43mgenerate_multi_qubit_qNN_circuit\u001b[49m\u001b[43m(\u001b[49m\u001b[43mparameters\u001b[49m\u001b[43m,\u001b[49m\u001b[43mnumber_of_bits\u001b[49m\u001b[38;5;241;43m=\u001b[39;49m\u001b[43mnumber_of_bits\u001b[49m\u001b[43m)\u001b[49m\u001b[38;5;241;43m.\u001b[39;49m\u001b[43mevaluate\u001b[49m\u001b[43m(\u001b[49m\u001b[43mnumber_of_runs\u001b[49m\u001b[38;5;241;43m=\u001b[39;49m\u001b[43mnumber_of_runs\u001b[49m\u001b[43m,\u001b[49m\u001b[43m \u001b[49m\u001b[43mnumber_of_shots\u001b[49m\u001b[38;5;241;43m=\u001b[39;49m\u001b[43mnumber_of_shots\u001b[49m\u001b[43m)\u001b[49m\n\u001b[1;32m    329\u001b[0m     current_error \u001b[38;5;241m=\u001b[39m multi_qubit_compute_error(inputs,expected_outputs,counts)\n\u001b[1;32m    331\u001b[0m     \u001b[38;5;28;01mif\u001b[39;00m current_error \u001b[38;5;241m<\u001b[39m final_error:\n",
      "File \u001b[0;32m~/Documentos/GitHub/ic/neural_networks/works/generalizing/current_circuit.py:136\u001b[0m, in \u001b[0;36mcurrent_circuit.evaluate\u001b[0;34m(self, number_of_shots, number_of_runs)\u001b[0m\n\u001b[1;32m    132\u001b[0m \u001b[38;5;66;03m#get and show raw results - counts\u001b[39;00m\n\u001b[1;32m    133\u001b[0m \u001b[38;5;28;01mfor\u001b[39;00m job \u001b[38;5;129;01min\u001b[39;00m jobs:\n\u001b[1;32m    134\u001b[0m \n\u001b[1;32m    135\u001b[0m     \u001b[38;5;66;03m#get the data\u001b[39;00m\n\u001b[0;32m--> 136\u001b[0m     data_pub \u001b[38;5;241m=\u001b[39m \u001b[43mjob\u001b[49m\u001b[38;5;241;43m.\u001b[39;49m\u001b[43mresult\u001b[49m\u001b[43m(\u001b[49m\u001b[43m)\u001b[49m[\u001b[38;5;241m0\u001b[39m]\u001b[38;5;241m.\u001b[39mdata \u001b[38;5;66;03m# 'pub' refers to Primitive Unified Bloc\u001b[39;00m\n\u001b[1;32m    137\u001b[0m     job_counts \u001b[38;5;241m=\u001b[39m data_pub\u001b[38;5;241m.\u001b[39mmeas\u001b[38;5;241m.\u001b[39mget_counts()\n\u001b[1;32m    139\u001b[0m     \u001b[38;5;66;03m#append the counts to the counts list\u001b[39;00m\n",
      "File \u001b[0;32m~/.conda/envs/condaenv/lib/python3.12/site-packages/qiskit/primitives/primitive_job.py:51\u001b[0m, in \u001b[0;36mPrimitiveJob.result\u001b[0;34m(self)\u001b[0m\n\u001b[1;32m     49\u001b[0m \u001b[38;5;28;01mdef\u001b[39;00m \u001b[38;5;21mresult\u001b[39m(\u001b[38;5;28mself\u001b[39m) \u001b[38;5;241m-\u001b[39m\u001b[38;5;241m>\u001b[39m ResultT:\n\u001b[1;32m     50\u001b[0m     \u001b[38;5;28mself\u001b[39m\u001b[38;5;241m.\u001b[39m_check_submitted()\n\u001b[0;32m---> 51\u001b[0m     \u001b[38;5;28;01mreturn\u001b[39;00m \u001b[38;5;28;43mself\u001b[39;49m\u001b[38;5;241;43m.\u001b[39;49m\u001b[43m_future\u001b[49m\u001b[38;5;241;43m.\u001b[39;49m\u001b[43mresult\u001b[49m\u001b[43m(\u001b[49m\u001b[43m)\u001b[49m\n",
      "File \u001b[0;32m~/.conda/envs/condaenv/lib/python3.12/concurrent/futures/_base.py:451\u001b[0m, in \u001b[0;36mFuture.result\u001b[0;34m(self, timeout)\u001b[0m\n\u001b[1;32m    448\u001b[0m \u001b[38;5;28;01melif\u001b[39;00m \u001b[38;5;28mself\u001b[39m\u001b[38;5;241m.\u001b[39m_state \u001b[38;5;241m==\u001b[39m FINISHED:\n\u001b[1;32m    449\u001b[0m     \u001b[38;5;28;01mreturn\u001b[39;00m \u001b[38;5;28mself\u001b[39m\u001b[38;5;241m.\u001b[39m__get_result()\n\u001b[0;32m--> 451\u001b[0m \u001b[38;5;28;43mself\u001b[39;49m\u001b[38;5;241;43m.\u001b[39;49m\u001b[43m_condition\u001b[49m\u001b[38;5;241;43m.\u001b[39;49m\u001b[43mwait\u001b[49m\u001b[43m(\u001b[49m\u001b[43mtimeout\u001b[49m\u001b[43m)\u001b[49m\n\u001b[1;32m    453\u001b[0m \u001b[38;5;28;01mif\u001b[39;00m \u001b[38;5;28mself\u001b[39m\u001b[38;5;241m.\u001b[39m_state \u001b[38;5;129;01min\u001b[39;00m [CANCELLED, CANCELLED_AND_NOTIFIED]:\n\u001b[1;32m    454\u001b[0m     \u001b[38;5;28;01mraise\u001b[39;00m CancelledError()\n",
      "File \u001b[0;32m~/.conda/envs/condaenv/lib/python3.12/threading.py:355\u001b[0m, in \u001b[0;36mCondition.wait\u001b[0;34m(self, timeout)\u001b[0m\n\u001b[1;32m    353\u001b[0m \u001b[38;5;28;01mtry\u001b[39;00m:    \u001b[38;5;66;03m# restore state no matter what (e.g., KeyboardInterrupt)\u001b[39;00m\n\u001b[1;32m    354\u001b[0m     \u001b[38;5;28;01mif\u001b[39;00m timeout \u001b[38;5;129;01mis\u001b[39;00m \u001b[38;5;28;01mNone\u001b[39;00m:\n\u001b[0;32m--> 355\u001b[0m         \u001b[43mwaiter\u001b[49m\u001b[38;5;241;43m.\u001b[39;49m\u001b[43macquire\u001b[49m\u001b[43m(\u001b[49m\u001b[43m)\u001b[49m\n\u001b[1;32m    356\u001b[0m         gotit \u001b[38;5;241m=\u001b[39m \u001b[38;5;28;01mTrue\u001b[39;00m\n\u001b[1;32m    357\u001b[0m     \u001b[38;5;28;01melse\u001b[39;00m:\n",
      "\u001b[0;31mKeyboardInterrupt\u001b[0m: "
     ]
    }
   ],
   "source": [
    "parameters, error = qNN_functions.multi_qubit_qNN_exaustive_search(inputs,expected_outputs,number_of_runs=number_of_runs,number_of_bits=number_of_bits)\n",
    "print(parameters)\n",
    "print(error)"
   ]
  }
 ],
 "metadata": {
  "kernelspec": {
   "display_name": "condaenv",
   "language": "python",
   "name": "python3"
  },
  "language_info": {
   "codemirror_mode": {
    "name": "ipython",
    "version": 3
   },
   "file_extension": ".py",
   "mimetype": "text/x-python",
   "name": "python",
   "nbconvert_exporter": "python",
   "pygments_lexer": "ipython3",
   "version": "3.12.5"
  }
 },
 "nbformat": 4,
 "nbformat_minor": 2
}
