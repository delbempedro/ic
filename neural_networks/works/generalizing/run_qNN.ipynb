{
 "cells": [
  {
   "cell_type": "markdown",
   "metadata": {},
   "source": [
    "run_qNN.ipynb\n",
    "\n",
    "Notebook that define the necessary functions to run a qNN and runs it.\n",
    "\n",
    "Dependencies:\n",
    "- Uses numpy to get random values\n",
    "- Uses qNN_functions to get qNN functions \n",
    "\n",
    "Since:\n",
    "- 02/2025\n",
    "\n",
    "Authors:\n",
    "- Pedro C. Delbem. <pedrodelbem@usp.br>"
   ]
  },
  {
   "cell_type": "code",
   "execution_count": 1,
   "metadata": {},
   "outputs": [],
   "source": [
    "import qNN_functions"
   ]
  },
  {
   "cell_type": "code",
   "execution_count": 2,
   "metadata": {},
   "outputs": [],
   "source": [
    "from itertools import product\n",
    "import numpy as np"
   ]
  },
  {
   "cell_type": "code",
   "execution_count": 3,
   "metadata": {},
   "outputs": [],
   "source": [
    "number_of_bits = 2"
   ]
  },
  {
   "cell_type": "code",
   "execution_count": 4,
   "metadata": {},
   "outputs": [],
   "source": [
    "inputs = [list(t) for t in product([0, 1], repeat=number_of_bits)]\n",
    "expected_outputs = qNN_functions.compute_expected_outputs(inputs,logic_gate=\"XOR\")"
   ]
  },
  {
   "cell_type": "code",
   "execution_count": 5,
   "metadata": {},
   "outputs": [
    {
     "data": {
      "text/plain": [
       "{'00': 0, '01': 1, '10': 1, '11': 0}"
      ]
     },
     "execution_count": 5,
     "metadata": {},
     "output_type": "execute_result"
    }
   ],
   "source": [
    "expected_outputs"
   ]
  },
  {
   "cell_type": "code",
   "execution_count": 6,
   "metadata": {},
   "outputs": [],
   "source": [
    "number_of_runs = 1\n",
    "number_of_shots = 1024\n",
    "grid_grain = 10"
   ]
  },
  {
   "cell_type": "code",
   "execution_count": 10,
   "metadata": {},
   "outputs": [
    {
     "ename": "CircuitError",
     "evalue": "'Index 2 out of range for size 2.'",
     "output_type": "error",
     "traceback": [
      "\u001b[1;31m---------------------------------------------------------------------------\u001b[0m",
      "\u001b[1;31mIndexError\u001b[0m                                Traceback (most recent call last)",
      "File \u001b[1;32mc:\\Users\\Principal\\miniconda3\\envs\\condaenv\\Lib\\site-packages\\qiskit\\circuit\\quantumcircuit.py:6749\u001b[0m, in \u001b[0;36m_bit_argument_conversion\u001b[1;34m(specifier, bit_sequence, bit_set, type_)\u001b[0m\n\u001b[0;32m   6748\u001b[0m \u001b[38;5;28;01mtry\u001b[39;00m:\n\u001b[1;32m-> 6749\u001b[0m     \u001b[38;5;28;01mreturn\u001b[39;00m [\u001b[43mbit_sequence\u001b[49m\u001b[43m[\u001b[49m\u001b[43mspecifier\u001b[49m\u001b[43m]\u001b[49m]\n\u001b[0;32m   6750\u001b[0m \u001b[38;5;28;01mexcept\u001b[39;00m \u001b[38;5;167;01mIndexError\u001b[39;00m \u001b[38;5;28;01mas\u001b[39;00m ex:\n",
      "\u001b[1;31mIndexError\u001b[0m: list index out of range",
      "\nThe above exception was the direct cause of the following exception:\n",
      "\u001b[1;31mCircuitError\u001b[0m                              Traceback (most recent call last)",
      "Cell \u001b[1;32mIn[10], line 5\u001b[0m\n\u001b[0;32m      3\u001b[0m expected_outputs \u001b[38;5;241m=\u001b[39m qNN_functions\u001b[38;5;241m.\u001b[39mcompute_expected_outputs(inputs,logic_gate\u001b[38;5;241m=\u001b[39m\u001b[38;5;124m\"\u001b[39m\u001b[38;5;124mXOR\u001b[39m\u001b[38;5;124m\"\u001b[39m)\n\u001b[0;32m      4\u001b[0m angles \u001b[38;5;241m=\u001b[39m np\u001b[38;5;241m.\u001b[39mrandom\u001b[38;5;241m.\u001b[39mrand(number_of_bits\u001b[38;5;241m+\u001b[39m\u001b[38;5;241m1\u001b[39m)\u001b[38;5;241m*\u001b[39mnp\u001b[38;5;241m.\u001b[39mpi\n\u001b[1;32m----> 5\u001b[0m qnn \u001b[38;5;241m=\u001b[39m \u001b[43mqNN_functions\u001b[49m\u001b[38;5;241;43m.\u001b[39;49m\u001b[43mgenerate_single_qubit_qNN_circuit\u001b[49m\u001b[43m(\u001b[49m\u001b[43minputs\u001b[49m\u001b[43m[\u001b[49m\u001b[38;5;241;43m0\u001b[39;49m\u001b[43m]\u001b[49m\u001b[43m,\u001b[49m\u001b[43mangles\u001b[49m\u001b[43m,\u001b[49m\u001b[43mnumber_of_bits\u001b[49m\u001b[43m,\u001b[49m\u001b[43mnumber_of_inputs_per_qubit\u001b[49m\u001b[38;5;241;43m=\u001b[39;49m\u001b[38;5;241;43m2\u001b[39;49m\u001b[43m)\u001b[49m\n\u001b[0;32m      6\u001b[0m qnn\n",
      "File \u001b[1;32mc:\\Users\\Principal\\Documents\\GitHub\\ic\\neural_networks\\works\\generalizing\\qNN_functions.py:104\u001b[0m, in \u001b[0;36mgenerate_single_qubit_qNN_circuit\u001b[1;34m(inputs, parameters, number_of_bits, number_of_inputs_per_qubit)\u001b[0m\n\u001b[0;32m     98\u001b[0m     qNN \u001b[38;5;241m=\u001b[39m current_circuit(number_of_qubits_required\u001b[38;5;241m+\u001b[39m\u001b[38;5;241m1\u001b[39m,\u001b[38;5;241m1\u001b[39m)\n\u001b[0;32m     99\u001b[0m \u001b[38;5;250m\u001b[39m\u001b[38;5;124;03m\"\"\"if number_of_qubits_required != 1:\u001b[39;00m\n\u001b[0;32m    100\u001b[0m \u001b[38;5;124;03m    qNN = current_circuit(number_of_qubits_required+1,1)\u001b[39;00m\n\u001b[0;32m    101\u001b[0m \u001b[38;5;124;03melse:\u001b[39;00m\n\u001b[0;32m    102\u001b[0m \u001b[38;5;124;03m    qNN = current_circuit(number_of_qubits_required,1)\"\"\"\u001b[39;00m\n\u001b[1;32m--> 104\u001b[0m \u001b[43mqNN\u001b[49m\u001b[38;5;241;43m.\u001b[39;49m\u001b[43madd_single_qubit_neuron\u001b[49m\u001b[43m(\u001b[49m\u001b[43minputs\u001b[49m\u001b[43m,\u001b[49m\u001b[43m \u001b[49m\u001b[43mparameters\u001b[49m\u001b[43m,\u001b[49m\u001b[43m \u001b[49m\u001b[43mnumber_of_bits\u001b[49m\u001b[43m,\u001b[49m\u001b[43m \u001b[49m\u001b[43mnumber_of_inputs_per_qubit\u001b[49m\u001b[38;5;241;43m=\u001b[39;49m\u001b[43mnumber_of_inputs_per_qubit\u001b[49m\u001b[43m)\u001b[49m \u001b[38;5;66;03m#add the neuron\u001b[39;00m\n\u001b[0;32m    105\u001b[0m qNN\u001b[38;5;241m.\u001b[39mget_current_circuit()\u001b[38;5;241m.\u001b[39mmeasure_all() \u001b[38;5;66;03m#measure all qubits\u001b[39;00m\n\u001b[0;32m    107\u001b[0m \u001b[38;5;66;03m#return the circuit\u001b[39;00m\n",
      "File \u001b[1;32mc:\\Users\\Principal\\Documents\\GitHub\\ic\\neural_networks\\works\\generalizing\\current_circuit.py:89\u001b[0m, in \u001b[0;36mcurrent_circuit.add_single_qubit_neuron\u001b[1;34m(self, inputs, weights, number_of_bits, first_qubit_index, number_of_inputs_per_qubit)\u001b[0m\n\u001b[0;32m     77\u001b[0m \u001b[38;5;28;01mdef\u001b[39;00m \u001b[38;5;21madd_single_qubit_neuron\u001b[39m(\u001b[38;5;28mself\u001b[39m,inputs,weights,number_of_bits\u001b[38;5;241m=\u001b[39m\u001b[38;5;241m2\u001b[39m,first_qubit_index\u001b[38;5;241m=\u001b[39m\u001b[38;5;241m0\u001b[39m,number_of_inputs_per_qubit\u001b[38;5;241m=\u001b[39m\u001b[38;5;241m3\u001b[39m):\n\u001b[0;32m     78\u001b[0m \u001b[38;5;250m    \u001b[39m\u001b[38;5;124;03m\"\"\"\u001b[39;00m\n\u001b[0;32m     79\u001b[0m \u001b[38;5;124;03m    Add a quantum neuron operation to the current quantum circuit.\u001b[39;00m\n\u001b[0;32m     80\u001b[0m \n\u001b[1;32m   (...)\u001b[0m\n\u001b[0;32m     86\u001b[0m \u001b[38;5;124;03m    number_of_inputs_per_qubit (int): The number of inputs per qubit.\u001b[39;00m\n\u001b[0;32m     87\u001b[0m \u001b[38;5;124;03m    \"\"\"\u001b[39;00m\n\u001b[1;32m---> 89\u001b[0m     \u001b[43msingle_qubit_neuron\u001b[49m\u001b[43m(\u001b[49m\u001b[38;5;28;43mself\u001b[39;49m\u001b[38;5;241;43m.\u001b[39;49m\u001b[43m_qc\u001b[49m\u001b[43m,\u001b[49m\u001b[43minputs\u001b[49m\u001b[43m,\u001b[49m\u001b[43mweights\u001b[49m\u001b[43m,\u001b[49m\u001b[43mnumber_of_bits\u001b[49m\u001b[38;5;241;43m=\u001b[39;49m\u001b[43mnumber_of_bits\u001b[49m\u001b[43m,\u001b[49m\u001b[43mfirst_qubit_index\u001b[49m\u001b[38;5;241;43m=\u001b[39;49m\u001b[43mfirst_qubit_index\u001b[49m\u001b[43m,\u001b[49m\u001b[43mnumber_of_inputs_per_qubit\u001b[49m\u001b[38;5;241;43m=\u001b[39;49m\u001b[43mnumber_of_inputs_per_qubit\u001b[49m\u001b[43m)\u001b[49m\n",
      "File \u001b[1;32mc:\\Users\\Principal\\Documents\\GitHub\\ic\\neural_networks\\works\\generalizing\\utils.py:59\u001b[0m, in \u001b[0;36msingle_qubit_neuron\u001b[1;34m(qc, inputs, weights, number_of_bits, first_qubit_index, number_of_inputs_per_qubit)\u001b[0m\n\u001b[0;32m     56\u001b[0m     qc\u001b[38;5;241m.\u001b[39mry(weights[\u001b[38;5;241m-\u001b[39m\u001b[38;5;241m2\u001b[39m]\u001b[38;5;241m*\u001b[39minputs[\u001b[38;5;241m-\u001b[39m\u001b[38;5;241m1\u001b[39m] \u001b[38;5;241m+\u001b[39m weights[\u001b[38;5;241m-\u001b[39m\u001b[38;5;241m1\u001b[39m], first_qubit_index\u001b[38;5;241m+\u001b[39mwhole_part_of_division)\n\u001b[0;32m     58\u001b[0m \u001b[38;5;28;01mif\u001b[39;00m number_of_qubits_required \u001b[38;5;241m!=\u001b[39m \u001b[38;5;241m1\u001b[39m:\n\u001b[1;32m---> 59\u001b[0m     \u001b[43mqc\u001b[49m\u001b[38;5;241;43m.\u001b[39;49m\u001b[43mmcx\u001b[49m\u001b[43m(\u001b[49m\u001b[38;5;28;43mlist\u001b[39;49m\u001b[43m(\u001b[49m\u001b[38;5;28;43mrange\u001b[39;49m\u001b[43m(\u001b[49m\u001b[43mfirst_qubit_index\u001b[49m\u001b[43m,\u001b[49m\u001b[43mfirst_qubit_index\u001b[49m\u001b[38;5;241;43m+\u001b[39;49m\u001b[43mwhole_part_of_division\u001b[49m\u001b[43m)\u001b[49m\u001b[43m)\u001b[49m\u001b[43m,\u001b[49m\u001b[43mfirst_qubit_index\u001b[49m\u001b[38;5;241;43m+\u001b[39;49m\u001b[43mnumber_of_qubits_required\u001b[49m\u001b[38;5;241;43m-\u001b[39;49m\u001b[43mnumber_of_qubits_required\u001b[49m\u001b[38;5;241;43m%\u001b[39;49m\u001b[38;5;241;43m2\u001b[39;49m\u001b[43m)\u001b[49m\n",
      "File \u001b[1;32mc:\\Users\\Principal\\miniconda3\\envs\\condaenv\\Lib\\site-packages\\qiskit\\circuit\\quantumcircuit.py:5478\u001b[0m, in \u001b[0;36mQuantumCircuit.mcx\u001b[1;34m(self, control_qubits, target_qubit, ancilla_qubits, mode, ctrl_state)\u001b[0m\n\u001b[0;32m   5475\u001b[0m \u001b[38;5;28;01melse\u001b[39;00m:\n\u001b[0;32m   5476\u001b[0m     ancilla_qubits \u001b[38;5;241m=\u001b[39m []\n\u001b[1;32m-> 5478\u001b[0m \u001b[38;5;28;01mreturn\u001b[39;00m \u001b[38;5;28;43mself\u001b[39;49m\u001b[38;5;241;43m.\u001b[39;49m\u001b[43mappend\u001b[49m\u001b[43m(\u001b[49m\u001b[43mgate\u001b[49m\u001b[43m,\u001b[49m\u001b[43m \u001b[49m\u001b[43mcontrol_qubits\u001b[49m\u001b[43m[\u001b[49m\u001b[43m:\u001b[49m\u001b[43m]\u001b[49m\u001b[43m \u001b[49m\u001b[38;5;241;43m+\u001b[39;49m\u001b[43m \u001b[49m\u001b[43m[\u001b[49m\u001b[43mtarget_qubit\u001b[49m\u001b[43m]\u001b[49m\u001b[43m \u001b[49m\u001b[38;5;241;43m+\u001b[39;49m\u001b[43m \u001b[49m\u001b[43mancilla_qubits\u001b[49m\u001b[43m[\u001b[49m\u001b[43m:\u001b[49m\u001b[43m]\u001b[49m\u001b[43m,\u001b[49m\u001b[43m \u001b[49m\u001b[43m[\u001b[49m\u001b[43m]\u001b[49m\u001b[43m)\u001b[49m\n",
      "File \u001b[1;32mc:\\Users\\Principal\\miniconda3\\envs\\condaenv\\Lib\\site-packages\\qiskit\\circuit\\quantumcircuit.py:2517\u001b[0m, in \u001b[0;36mQuantumCircuit.append\u001b[1;34m(self, instruction, qargs, cargs, copy)\u001b[0m\n\u001b[0;32m   2505\u001b[0m     \u001b[38;5;28;01mif\u001b[39;00m bad_captures \u001b[38;5;241m:=\u001b[39m {\n\u001b[0;32m   2506\u001b[0m         var\n\u001b[0;32m   2507\u001b[0m         \u001b[38;5;28;01mfor\u001b[39;00m var \u001b[38;5;129;01min\u001b[39;00m itertools\u001b[38;5;241m.\u001b[39mchain\u001b[38;5;241m.\u001b[39mfrom_iterable(\n\u001b[1;32m   (...)\u001b[0m\n\u001b[0;32m   2510\u001b[0m         \u001b[38;5;28;01mif\u001b[39;00m \u001b[38;5;129;01mnot\u001b[39;00m \u001b[38;5;28mself\u001b[39m\u001b[38;5;241m.\u001b[39mhas_var(var)\n\u001b[0;32m   2511\u001b[0m     }:\n\u001b[0;32m   2512\u001b[0m         \u001b[38;5;28;01mraise\u001b[39;00m CircuitError(\n\u001b[0;32m   2513\u001b[0m             \u001b[38;5;124mf\u001b[39m\u001b[38;5;124m\"\u001b[39m\u001b[38;5;124mControl-flow op attempts to capture \u001b[39m\u001b[38;5;124m'\u001b[39m\u001b[38;5;132;01m{\u001b[39;00mbad_captures\u001b[38;5;132;01m}\u001b[39;00m\u001b[38;5;124m'\u001b[39m\u001b[38;5;124m\"\u001b[39m\n\u001b[0;32m   2514\u001b[0m             \u001b[38;5;124m\"\u001b[39m\u001b[38;5;124m which are not in this circuit\u001b[39m\u001b[38;5;124m\"\u001b[39m\n\u001b[0;32m   2515\u001b[0m         )\n\u001b[1;32m-> 2517\u001b[0m expanded_qargs \u001b[38;5;241m=\u001b[39m [\u001b[38;5;28;43mself\u001b[39;49m\u001b[38;5;241;43m.\u001b[39;49m\u001b[43m_qbit_argument_conversion\u001b[49m\u001b[43m(\u001b[49m\u001b[43mqarg\u001b[49m\u001b[43m)\u001b[49m \u001b[38;5;28;01mfor\u001b[39;00m qarg \u001b[38;5;129;01min\u001b[39;00m qargs \u001b[38;5;129;01mor\u001b[39;00m []]\n\u001b[0;32m   2518\u001b[0m expanded_cargs \u001b[38;5;241m=\u001b[39m [\u001b[38;5;28mself\u001b[39m\u001b[38;5;241m.\u001b[39m_cbit_argument_conversion(carg) \u001b[38;5;28;01mfor\u001b[39;00m carg \u001b[38;5;129;01min\u001b[39;00m cargs \u001b[38;5;129;01mor\u001b[39;00m []]\n\u001b[0;32m   2520\u001b[0m instructions \u001b[38;5;241m=\u001b[39m InstructionSet(resource_requester\u001b[38;5;241m=\u001b[39mcircuit_scope\u001b[38;5;241m.\u001b[39mresolve_classical_resource)\n",
      "File \u001b[1;32mc:\\Users\\Principal\\miniconda3\\envs\\condaenv\\Lib\\site-packages\\qiskit\\circuit\\quantumcircuit.py:2367\u001b[0m, in \u001b[0;36mQuantumCircuit._qbit_argument_conversion\u001b[1;34m(self, qubit_representation)\u001b[0m\n\u001b[0;32m   2356\u001b[0m \u001b[38;5;28;01mdef\u001b[39;00m \u001b[38;5;21m_qbit_argument_conversion\u001b[39m(\u001b[38;5;28mself\u001b[39m, qubit_representation: QubitSpecifier) \u001b[38;5;241m-\u001b[39m\u001b[38;5;241m>\u001b[39m \u001b[38;5;28mlist\u001b[39m[Qubit]:\n\u001b[0;32m   2357\u001b[0m \u001b[38;5;250m    \u001b[39m\u001b[38;5;124;03m\"\"\"\u001b[39;00m\n\u001b[0;32m   2358\u001b[0m \u001b[38;5;124;03m    Converts several qubit representations (such as indexes, range, etc.)\u001b[39;00m\n\u001b[0;32m   2359\u001b[0m \u001b[38;5;124;03m    into a list of qubits.\u001b[39;00m\n\u001b[1;32m   (...)\u001b[0m\n\u001b[0;32m   2365\u001b[0m \u001b[38;5;124;03m        The resolved instances of the qubits.\u001b[39;00m\n\u001b[0;32m   2366\u001b[0m \u001b[38;5;124;03m    \"\"\"\u001b[39;00m\n\u001b[1;32m-> 2367\u001b[0m     \u001b[38;5;28;01mreturn\u001b[39;00m \u001b[43m_bit_argument_conversion\u001b[49m\u001b[43m(\u001b[49m\n\u001b[0;32m   2368\u001b[0m \u001b[43m        \u001b[49m\u001b[43mqubit_representation\u001b[49m\u001b[43m,\u001b[49m\u001b[43m \u001b[49m\u001b[38;5;28;43mself\u001b[39;49m\u001b[38;5;241;43m.\u001b[39;49m\u001b[43mqubits\u001b[49m\u001b[43m,\u001b[49m\u001b[43m \u001b[49m\u001b[38;5;28;43mself\u001b[39;49m\u001b[38;5;241;43m.\u001b[39;49m\u001b[43m_qubit_indices\u001b[49m\u001b[43m,\u001b[49m\u001b[43m \u001b[49m\u001b[43mQubit\u001b[49m\n\u001b[0;32m   2369\u001b[0m \u001b[43m    \u001b[49m\u001b[43m)\u001b[49m\n",
      "File \u001b[1;32mc:\\Users\\Principal\\miniconda3\\envs\\condaenv\\Lib\\site-packages\\qiskit\\circuit\\quantumcircuit.py:6751\u001b[0m, in \u001b[0;36m_bit_argument_conversion\u001b[1;34m(specifier, bit_sequence, bit_set, type_)\u001b[0m\n\u001b[0;32m   6749\u001b[0m         \u001b[38;5;28;01mreturn\u001b[39;00m [bit_sequence[specifier]]\n\u001b[0;32m   6750\u001b[0m     \u001b[38;5;28;01mexcept\u001b[39;00m \u001b[38;5;167;01mIndexError\u001b[39;00m \u001b[38;5;28;01mas\u001b[39;00m ex:\n\u001b[1;32m-> 6751\u001b[0m         \u001b[38;5;28;01mraise\u001b[39;00m CircuitError(\n\u001b[0;32m   6752\u001b[0m             \u001b[38;5;124mf\u001b[39m\u001b[38;5;124m\"\u001b[39m\u001b[38;5;124mIndex \u001b[39m\u001b[38;5;132;01m{\u001b[39;00mspecifier\u001b[38;5;132;01m}\u001b[39;00m\u001b[38;5;124m out of range for size \u001b[39m\u001b[38;5;132;01m{\u001b[39;00m\u001b[38;5;28mlen\u001b[39m(bit_sequence)\u001b[38;5;132;01m}\u001b[39;00m\u001b[38;5;124m.\u001b[39m\u001b[38;5;124m\"\u001b[39m\n\u001b[0;32m   6753\u001b[0m         ) \u001b[38;5;28;01mfrom\u001b[39;00m \u001b[38;5;21;01mex\u001b[39;00m\n\u001b[0;32m   6754\u001b[0m \u001b[38;5;66;03m# Slices can't raise IndexError - they just return an empty list.\u001b[39;00m\n\u001b[0;32m   6755\u001b[0m \u001b[38;5;28;01mif\u001b[39;00m \u001b[38;5;28misinstance\u001b[39m(specifier, \u001b[38;5;28mslice\u001b[39m):\n",
      "\u001b[1;31mCircuitError\u001b[0m: 'Index 2 out of range for size 2.'"
     ]
    }
   ],
   "source": [
    "number_of_bits = int(input())\n",
    "inputs = [list(t) for t in product([0, 1], repeat=number_of_bits)]\n",
    "expected_outputs = qNN_functions.compute_expected_outputs(inputs,logic_gate=\"XOR\")\n",
    "angles = np.random.rand(number_of_bits+1)*np.pi\n",
    "qnn = qNN_functions.generate_single_qubit_qNN_circuit(inputs[0],angles,number_of_bits,number_of_inputs_per_qubit=2)\n",
    "qnn"
   ]
  },
  {
   "cell_type": "code",
   "execution_count": 8,
   "metadata": {},
   "outputs": [
    {
     "name": "stdout",
     "output_type": "stream",
     "text": [
      "[np.float64(1.5707963267948966), np.float64(3.141592653589793)]\n",
      "0.46484375\n"
     ]
    },
    {
     "ename": "IndexError",
     "evalue": "list index out of range",
     "output_type": "error",
     "traceback": [
      "\u001b[1;31m---------------------------------------------------------------------------\u001b[0m",
      "\u001b[1;31mIndexError\u001b[0m                                Traceback (most recent call last)",
      "Cell \u001b[1;32mIn[8], line 4\u001b[0m\n\u001b[0;32m      2\u001b[0m \u001b[38;5;28mprint\u001b[39m(angles)\n\u001b[0;32m      3\u001b[0m \u001b[38;5;28mprint\u001b[39m(error)\n\u001b[1;32m----> 4\u001b[0m real_error \u001b[38;5;241m=\u001b[39m \u001b[43mqNN_functions\u001b[49m\u001b[38;5;241;43m.\u001b[39;49m\u001b[43msingle_qubit_compute_total_error\u001b[49m\u001b[43m(\u001b[49m\u001b[43minputs\u001b[49m\u001b[43m,\u001b[49m\u001b[43mexpected_outputs\u001b[49m\u001b[43m,\u001b[49m\u001b[43mangles\u001b[49m\u001b[43m,\u001b[49m\u001b[43mtype_of_run\u001b[49m\u001b[38;5;241;43m=\u001b[39;49m\u001b[38;5;124;43m\"\u001b[39;49m\u001b[38;5;124;43mreal_run\u001b[39;49m\u001b[38;5;124;43m\"\u001b[39;49m\u001b[43m)\u001b[49m\n\u001b[0;32m      5\u001b[0m \u001b[38;5;28mprint\u001b[39m(real_error)\n",
      "File \u001b[1;32mc:\\Users\\Principal\\Documents\\GitHub\\ic\\neural_networks\\works\\generalizing\\qNN_functions.py:261\u001b[0m, in \u001b[0;36msingle_qubit_compute_total_error\u001b[1;34m(inputs, expected_outputs, parameters, number_of_runs, number_of_shots, number_of_bits, type_of_run, number_of_inputs_per_qubit)\u001b[0m\n\u001b[0;32m    258\u001b[0m \u001b[38;5;66;03m#apply qNN circuit to each input\u001b[39;00m\n\u001b[0;32m    259\u001b[0m \u001b[38;5;28;01mfor\u001b[39;00m interation \u001b[38;5;129;01min\u001b[39;00m \u001b[38;5;28mrange\u001b[39m(\u001b[38;5;28mlen\u001b[39m(inputs)):\n\u001b[1;32m--> 261\u001b[0m     qNN_circuit \u001b[38;5;241m=\u001b[39m \u001b[43mgenerate_single_qubit_qNN_circuit\u001b[49m\u001b[43m(\u001b[49m\u001b[43minputs\u001b[49m\u001b[43m[\u001b[49m\u001b[43minteration\u001b[49m\u001b[43m]\u001b[49m\u001b[43m,\u001b[49m\u001b[43mparameters\u001b[49m\u001b[43m,\u001b[49m\u001b[43mnumber_of_bits\u001b[49m\u001b[43m,\u001b[49m\u001b[43mnumber_of_inputs_per_qubit\u001b[49m\u001b[38;5;241;43m=\u001b[39;49m\u001b[43mnumber_of_inputs_per_qubit\u001b[49m\u001b[43m)\u001b[49m \u001b[38;5;66;03m#generate circuit\u001b[39;00m\n\u001b[0;32m    262\u001b[0m     counts \u001b[38;5;241m=\u001b[39m qNN_circuit\u001b[38;5;241m.\u001b[39mevaluate(number_of_runs\u001b[38;5;241m=\u001b[39mnumber_of_runs, number_of_shots\u001b[38;5;241m=\u001b[39mnumber_of_shots, type_of_run\u001b[38;5;241m=\u001b[39mtype_of_run) \u001b[38;5;66;03m#run circuit\u001b[39;00m\n\u001b[0;32m    263\u001b[0m     total_error \u001b[38;5;241m+\u001b[39m\u001b[38;5;241m=\u001b[39m single_qubit_compute_error(counts,list_of_expected_outputs[interation]) \u001b[38;5;66;03m#add error\u001b[39;00m\n",
      "File \u001b[1;32mc:\\Users\\Principal\\Documents\\GitHub\\ic\\neural_networks\\works\\generalizing\\qNN_functions.py:104\u001b[0m, in \u001b[0;36mgenerate_single_qubit_qNN_circuit\u001b[1;34m(inputs, parameters, number_of_bits, number_of_inputs_per_qubit)\u001b[0m\n\u001b[0;32m     98\u001b[0m     qNN \u001b[38;5;241m=\u001b[39m current_circuit(number_of_qubits_required\u001b[38;5;241m+\u001b[39m\u001b[38;5;241m1\u001b[39m,\u001b[38;5;241m1\u001b[39m)\n\u001b[0;32m     99\u001b[0m \u001b[38;5;250m\u001b[39m\u001b[38;5;124;03m\"\"\"if number_of_qubits_required != 1:\u001b[39;00m\n\u001b[0;32m    100\u001b[0m \u001b[38;5;124;03m    qNN = current_circuit(number_of_qubits_required+1,1)\u001b[39;00m\n\u001b[0;32m    101\u001b[0m \u001b[38;5;124;03melse:\u001b[39;00m\n\u001b[0;32m    102\u001b[0m \u001b[38;5;124;03m    qNN = current_circuit(number_of_qubits_required,1)\"\"\"\u001b[39;00m\n\u001b[1;32m--> 104\u001b[0m \u001b[43mqNN\u001b[49m\u001b[38;5;241;43m.\u001b[39;49m\u001b[43madd_single_qubit_neuron\u001b[49m\u001b[43m(\u001b[49m\u001b[43minputs\u001b[49m\u001b[43m,\u001b[49m\u001b[43m \u001b[49m\u001b[43mparameters\u001b[49m\u001b[43m,\u001b[49m\u001b[43m \u001b[49m\u001b[43mnumber_of_bits\u001b[49m\u001b[43m,\u001b[49m\u001b[43m \u001b[49m\u001b[43mnumber_of_inputs_per_qubit\u001b[49m\u001b[38;5;241;43m=\u001b[39;49m\u001b[43mnumber_of_inputs_per_qubit\u001b[49m\u001b[43m)\u001b[49m \u001b[38;5;66;03m#add the neuron\u001b[39;00m\n\u001b[0;32m    105\u001b[0m qNN\u001b[38;5;241m.\u001b[39mget_current_circuit()\u001b[38;5;241m.\u001b[39mmeasure_all() \u001b[38;5;66;03m#measure all qubits\u001b[39;00m\n\u001b[0;32m    107\u001b[0m \u001b[38;5;66;03m#return the circuit\u001b[39;00m\n",
      "File \u001b[1;32mc:\\Users\\Principal\\Documents\\GitHub\\ic\\neural_networks\\works\\generalizing\\current_circuit.py:89\u001b[0m, in \u001b[0;36mcurrent_circuit.add_single_qubit_neuron\u001b[1;34m(self, inputs, weights, number_of_bits, first_qubit_index, number_of_inputs_per_qubit)\u001b[0m\n\u001b[0;32m     77\u001b[0m \u001b[38;5;28;01mdef\u001b[39;00m \u001b[38;5;21madd_single_qubit_neuron\u001b[39m(\u001b[38;5;28mself\u001b[39m,inputs,weights,number_of_bits\u001b[38;5;241m=\u001b[39m\u001b[38;5;241m2\u001b[39m,first_qubit_index\u001b[38;5;241m=\u001b[39m\u001b[38;5;241m0\u001b[39m,number_of_inputs_per_qubit\u001b[38;5;241m=\u001b[39m\u001b[38;5;241m3\u001b[39m):\n\u001b[0;32m     78\u001b[0m \u001b[38;5;250m    \u001b[39m\u001b[38;5;124;03m\"\"\"\u001b[39;00m\n\u001b[0;32m     79\u001b[0m \u001b[38;5;124;03m    Add a quantum neuron operation to the current quantum circuit.\u001b[39;00m\n\u001b[0;32m     80\u001b[0m \n\u001b[1;32m   (...)\u001b[0m\n\u001b[0;32m     86\u001b[0m \u001b[38;5;124;03m    number_of_inputs_per_qubit (int): The number of inputs per qubit.\u001b[39;00m\n\u001b[0;32m     87\u001b[0m \u001b[38;5;124;03m    \"\"\"\u001b[39;00m\n\u001b[1;32m---> 89\u001b[0m     \u001b[43msingle_qubit_neuron\u001b[49m\u001b[43m(\u001b[49m\u001b[38;5;28;43mself\u001b[39;49m\u001b[38;5;241;43m.\u001b[39;49m\u001b[43m_qc\u001b[49m\u001b[43m,\u001b[49m\u001b[43minputs\u001b[49m\u001b[43m,\u001b[49m\u001b[43mweights\u001b[49m\u001b[43m,\u001b[49m\u001b[43mnumber_of_bits\u001b[49m\u001b[38;5;241;43m=\u001b[39;49m\u001b[43mnumber_of_bits\u001b[49m\u001b[43m,\u001b[49m\u001b[43mfirst_qubit_index\u001b[49m\u001b[38;5;241;43m=\u001b[39;49m\u001b[43mfirst_qubit_index\u001b[49m\u001b[43m,\u001b[49m\u001b[43mnumber_of_inputs_per_qubit\u001b[49m\u001b[38;5;241;43m=\u001b[39;49m\u001b[43mnumber_of_inputs_per_qubit\u001b[49m\u001b[43m)\u001b[49m\n",
      "File \u001b[1;32mc:\\Users\\Principal\\Documents\\GitHub\\ic\\neural_networks\\works\\generalizing\\utils.py:55\u001b[0m, in \u001b[0;36msingle_qubit_neuron\u001b[1;34m(qc, inputs, weights, number_of_bits, first_qubit_index, number_of_inputs_per_qubit)\u001b[0m\n\u001b[0;32m     53\u001b[0m \u001b[38;5;28;01melif\u001b[39;00m rest_of_division \u001b[38;5;241m==\u001b[39m\u001b[38;5;241m2\u001b[39m:\n\u001b[0;32m     54\u001b[0m     qc\u001b[38;5;241m.\u001b[39mh(first_qubit_index\u001b[38;5;241m+\u001b[39mwhole_part_of_division)\n\u001b[1;32m---> 55\u001b[0m     qc\u001b[38;5;241m.\u001b[39mrz(\u001b[43mweights\u001b[49m\u001b[43m[\u001b[49m\u001b[38;5;241;43m-\u001b[39;49m\u001b[38;5;241;43m3\u001b[39;49m\u001b[43m]\u001b[49m\u001b[38;5;241m*\u001b[39minputs[\u001b[38;5;241m-\u001b[39m\u001b[38;5;241m2\u001b[39m] \u001b[38;5;241m+\u001b[39m weights[\u001b[38;5;241m-\u001b[39m\u001b[38;5;241m1\u001b[39m], first_qubit_index\u001b[38;5;241m+\u001b[39mwhole_part_of_division)\n\u001b[0;32m     56\u001b[0m     qc\u001b[38;5;241m.\u001b[39mry(weights[\u001b[38;5;241m-\u001b[39m\u001b[38;5;241m2\u001b[39m]\u001b[38;5;241m*\u001b[39minputs[\u001b[38;5;241m-\u001b[39m\u001b[38;5;241m1\u001b[39m] \u001b[38;5;241m+\u001b[39m weights[\u001b[38;5;241m-\u001b[39m\u001b[38;5;241m1\u001b[39m], first_qubit_index\u001b[38;5;241m+\u001b[39mwhole_part_of_division)\n\u001b[0;32m     58\u001b[0m \u001b[38;5;28;01mif\u001b[39;00m number_of_qubits_required \u001b[38;5;241m!=\u001b[39m \u001b[38;5;241m1\u001b[39m:\n",
      "\u001b[1;31mIndexError\u001b[0m: list index out of range"
     ]
    }
   ],
   "source": [
    "angles, error = qNN_functions.single_qubit_qNN_exaustive_search(inputs,expected_outputs,number_of_runs=number_of_runs,number_of_bits=number_of_bits,number_of_inputs_per_qubit=2)\n",
    "print(angles)\n",
    "print(error)\n",
    "real_error = qNN_functions.single_qubit_compute_total_error(inputs,expected_outputs,angles,type_of_run=\"real_run\")\n",
    "print(real_error)"
   ]
  },
  {
   "cell_type": "code",
   "execution_count": null,
   "metadata": {},
   "outputs": [
    {
     "data": {
      "text/plain": [
       "'parameters, error = qNN_functions.multi_qubit_qNN_exaustive_search(inputs,expected_outputs,number_of_runs=number_of_runs,number_of_bits=number_of_bits)\\nprint(parameters)\\nprint(error)'"
      ]
     },
     "execution_count": 9,
     "metadata": {},
     "output_type": "execute_result"
    }
   ],
   "source": [
    "\"\"\"parameters, error = qNN_functions.multi_qubit_qNN_exaustive_search(inputs,expected_outputs,number_of_runs=number_of_runs,number_of_bits=number_of_bits)\n",
    "print(parameters)\n",
    "print(error)\"\"\""
   ]
  }
 ],
 "metadata": {
  "kernelspec": {
   "display_name": "Python 3",
   "language": "python",
   "name": "python3"
  },
  "language_info": {
   "codemirror_mode": {
    "name": "ipython",
    "version": 3
   },
   "file_extension": ".py",
   "mimetype": "text/x-python",
   "name": "python",
   "nbconvert_exporter": "python",
   "pygments_lexer": "ipython3",
   "version": "3.12.4"
  }
 },
 "nbformat": 4,
 "nbformat_minor": 2
}
