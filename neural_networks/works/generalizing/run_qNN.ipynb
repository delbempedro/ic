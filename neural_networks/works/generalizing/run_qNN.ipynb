{
 "cells": [
  {
   "cell_type": "markdown",
   "metadata": {},
   "source": [
    "run_qNN.ipynb\n",
    "\n",
    "Notebook that define the necessary functions to run a qNN and runs it.\n",
    "\n",
    "Dependencies:\n",
    "- Uses numpy to get random values\n",
    "- Uses qNN_functions to get qNN functions \n",
    "\n",
    "Since:\n",
    "- 02/2025\n",
    "\n",
    "Authors:\n",
    "- Pedro C. Delbem. <pedrodelbem@usp.br>"
   ]
  },
  {
   "cell_type": "code",
   "execution_count": 9,
   "metadata": {},
   "outputs": [],
   "source": [
    "import qNN_functions"
   ]
  },
  {
   "cell_type": "code",
   "execution_count": 10,
   "metadata": {},
   "outputs": [],
   "source": [
    "from itertools import product\n",
    "import numpy as np"
   ]
  },
  {
   "cell_type": "code",
   "execution_count": 11,
   "metadata": {},
   "outputs": [
    {
     "data": {
      "text/plain": [
       "'number_of_bits = int(input())\\nnumber_of_bits'"
      ]
     },
     "execution_count": 11,
     "metadata": {},
     "output_type": "execute_result"
    }
   ],
   "source": [
    "\"\"\"number_of_bits = int(input())\n",
    "number_of_bits\"\"\"\n"
   ]
  },
  {
   "cell_type": "code",
   "execution_count": 12,
   "metadata": {},
   "outputs": [
    {
     "data": {
      "text/plain": [
       "'inputs = [list(t) for t in product([0, 1], repeat=number_of_bits)]\\nexpected_outputs = qNN_functions.compute_expected_outputs(inputs,logic_gate=\"XOR\")'"
      ]
     },
     "execution_count": 12,
     "metadata": {},
     "output_type": "execute_result"
    }
   ],
   "source": [
    "\"\"\"inputs = [list(t) for t in product([0, 1], repeat=number_of_bits)]\n",
    "expected_outputs = qNN_functions.compute_expected_outputs(inputs,logic_gate=\"XOR\")\"\"\""
   ]
  },
  {
   "cell_type": "code",
   "execution_count": 13,
   "metadata": {},
   "outputs": [
    {
     "data": {
      "text/plain": [
       "'expected_outputs'"
      ]
     },
     "execution_count": 13,
     "metadata": {},
     "output_type": "execute_result"
    }
   ],
   "source": [
    "\"\"\"expected_outputs\"\"\""
   ]
  },
  {
   "cell_type": "code",
   "execution_count": 14,
   "metadata": {},
   "outputs": [
    {
     "data": {
      "text/plain": [
       "'number_of_runs = 1\\nnumber_of_shots = 1024\\ngrid_grain = 10'"
      ]
     },
     "execution_count": 14,
     "metadata": {},
     "output_type": "execute_result"
    }
   ],
   "source": [
    "\"\"\"number_of_runs = 1\n",
    "number_of_shots = 1024\n",
    "grid_grain = 10\"\"\""
   ]
  },
  {
   "cell_type": "code",
   "execution_count": 15,
   "metadata": {},
   "outputs": [
    {
     "data": {
      "text/plain": [
       "'number_of_bits = int(input())\\ninputs = [list(t) for t in product([0, 1], repeat=number_of_bits)]\\nexpected_outputs = qNN_functions.compute_expected_outputs(inputs,logic_gate=\"XOR\")\\nangles = np.random.rand(number_of_bits+1)*np.pi\\nqnn = qNN_functions.generate_single_qubit_qNN_circuit(inputs[0],angles,number_of_bits,number_of_inputs_per_qubit=2)\\nqnn.with open(\"results.txt\", \"a\") as f: f.write_current_circuit()'"
      ]
     },
     "execution_count": 15,
     "metadata": {},
     "output_type": "execute_result"
    }
   ],
   "source": [
    "\"\"\"number_of_bits = int(input())\n",
    "inputs = [list(t) for t in product([0, 1], repeat=number_of_bits)]\n",
    "expected_outputs = qNN_functions.compute_expected_outputs(inputs,logic_gate=\"XOR\")\n",
    "angles = np.random.rand(number_of_bits+1)*np.pi\n",
    "qnn = qNN_functions.generate_single_qubit_qNN_circuit(inputs[0],angles,number_of_bits,number_of_inputs_per_qubit=2)\n",
    "qnn.with open(\"results.txt\", \"a\") as f: f.write_current_circuit()\"\"\""
   ]
  },
  {
   "cell_type": "code",
   "execution_count": 16,
   "metadata": {},
   "outputs": [],
   "source": [
    "from itertools import product\n",
    "\n",
    "number_of_runs = 1\n",
    "number_of_shots = 1024\n",
    "grid_grain = 13\n",
    "\n",
    "for number_of_bits in range(2, 3):\n",
    "    max_iterations = grid_grain ** number_of_bits\n",
    "    inputs = [list(t) for t in product([0, 1], repeat=number_of_bits)]\n",
    "    expected_outputs = qNN_functions.compute_expected_outputs(inputs, logic_gate=\"XOR\")\n",
    "\n",
    "    with open(\"results.txt\", \"w\") as f:\n",
    "        f.write(f\"\\nnumber_of_bits: {number_of_bits}\\n\")\n",
    "        f.write(\"  exaustive search:\\n\")\n",
    "\n",
    "        # Exaustiva - single qubit\n",
    "        f.write(\"    All inputs in same qubit:\\n\")\n",
    "        angles, error, iterations, history_list = qNN_functions.single_qubit_qNN_exaustive_search(\n",
    "            inputs, expected_outputs, number_of_bits=number_of_bits,\n",
    "            number_of_runs=number_of_runs, number_of_shots=number_of_shots,\n",
    "            number_of_inputs_per_qubit=2, save_history=True)\n",
    "        f.write(f\"      Final Iteration: {iterations}, Error: {error}\\n\")\n",
    "        for idx, err in enumerate(history_list, 1):\n",
    "            f.write(f\"        Iteration: {idx}, Error: {err}\\n\")\n",
    "\n",
    "        # Exaustiva - multi qubit\n",
    "        f.write(\"    One input per qubit:\\n\")\n",
    "        angles, error, iterations, history_list = qNN_functions.multi_qubit_qNN_exaustive_search(\n",
    "            inputs, expected_outputs, number_of_bits=number_of_bits,\n",
    "            number_of_runs=number_of_runs, number_of_shots=number_of_shots,\n",
    "            save_history=True)\n",
    "        f.write(f\"      Final Iteration: {iterations}, Error: {error}\\n\")\n",
    "        for idx, err in enumerate(history_list, 1):\n",
    "            f.write(f\"        Iteration: {idx}, Error: {err}\\n\")\n",
    "\n",
    "        # Gradient Descent\n",
    "        f.write(\"  gradient descent:\\n\")\n",
    "\n",
    "        f.write(\"    All inputs in same qubit:\\n\")\n",
    "        angles, error, iterations, history_list = qNN_functions.single_qubit_qNN_gradient_descent(\n",
    "            inputs, expected_outputs, number_of_bits=number_of_bits,\n",
    "            number_of_runs=number_of_runs, number_of_shots=number_of_shots,\n",
    "            max_iterations=max_iterations, learning_rate=0.1,\n",
    "            number_of_inputs_per_qubit=2, save_history=True)\n",
    "        f.write(f\"      Final Iteration: {iterations}, Error: {error}\\n\")\n",
    "        for idx, err in enumerate(history_list, 1):\n",
    "            f.write(f\"        Iteration: {idx}, Error: {err}\\n\")\n",
    "\n",
    "        f.write(\"    One input per qubit:\\n\")\n",
    "        angles, error, iterations, history_list = qNN_functions.multi_qubit_qNN_gradient_descent(\n",
    "            inputs, expected_outputs, number_of_bits=number_of_bits,\n",
    "            number_of_runs=number_of_runs, number_of_shots=number_of_shots,\n",
    "            max_iterations=max_iterations, learning_rate=0.1,\n",
    "            save_history=True)\n",
    "        f.write(f\"      Final Iteration: {iterations}, Error: {error}\\n\")\n",
    "        for idx, err in enumerate(history_list, 1):\n",
    "            f.write(f\"        Iteration: {idx}, Error: {err}\\n\")\n",
    "\n",
    "        # Simulated Annealing\n",
    "        f.write(\"  simulated annealing:\\n\")\n",
    "\n",
    "        f.write(\"    All inputs in same qubit:\\n\")\n",
    "        angles, error, iterations, history_list = qNN_functions.single_qubit_qNN_simulated_annealing(\n",
    "            inputs, expected_outputs, number_of_bits=number_of_bits,\n",
    "            number_of_runs=number_of_runs, number_of_shots=number_of_shots,\n",
    "            max_iterations=max_iterations, number_of_inputs_per_qubit=2,\n",
    "            save_history=True)\n",
    "        f.write(f\"      Final Iteration: {iterations}, Error: {error}\\n\")\n",
    "        for idx, err in enumerate(history_list, 1):\n",
    "            f.write(f\"        Iteration: {idx}, Error: {err}\\n\")\n",
    "\n",
    "        f.write(\"    One input per qubit:\\n\")\n",
    "        angles, error, iterations, history_list = qNN_functions.multi_qubit_qNN_simulated_annealing(\n",
    "            inputs, expected_outputs, number_of_bits=number_of_bits,\n",
    "            number_of_runs=number_of_runs, number_of_shots=number_of_shots,\n",
    "            max_iterations=max_iterations, save_history=True)\n",
    "        f.write(f\"      Final Iteration: {iterations}, Error: {error}\\n\")\n",
    "        for idx, err in enumerate(history_list, 1):\n",
    "            f.write(f\"        Iteration: {idx}, Error: {err}\\n\")\n",
    "\n",
    "        # Random Search\n",
    "        f.write(\"  random search:\\n\")\n",
    "\n",
    "        f.write(\"    All inputs in same qubit:\\n\")\n",
    "        angles, error, iterations, history_list = qNN_functions.single_qubit_qNN_random_search(\n",
    "            inputs, expected_outputs, number_of_bits=number_of_bits,\n",
    "            number_of_runs=number_of_runs, number_of_shots=number_of_shots,\n",
    "            max_iterations=max_iterations, number_of_inputs_per_qubit=2,\n",
    "            save_history=True)\n",
    "        f.write(f\"      Final Iteration: {iterations}, Error: {error}\\n\")\n",
    "        for idx, err in enumerate(history_list, 1):\n",
    "            f.write(f\"        Iteration: {idx}, Error: {err}\\n\")\n",
    "\n",
    "        f.write(\"    One input per qubit:\\n\")\n",
    "        angles, error, iterations, history_list = qNN_functions.multi_qubit_qNN_random_search(\n",
    "            inputs, expected_outputs, number_of_bits=number_of_bits,\n",
    "            number_of_runs=number_of_runs, number_of_shots=number_of_shots,\n",
    "            max_iterations=max_iterations, save_history=True)\n",
    "        f.write(f\"      Final Iteration: {iterations}, Error: {error}\\n\")\n",
    "        for idx, err in enumerate(history_list, 1):\n",
    "            f.write(f\"        Iteration: {idx}, Error: {err}\\n\")\n",
    "\n",
    "        # Genetic Algorithm\n",
    "        f.write(\"  genetic algorithm:\\n\")\n",
    "        f.write(\"    All inputs in same qubit:\\n\")\n",
    "        angles, error, iterations, history_list = qNN_functions.single_qubit_qNN_genetic_algorithm(\n",
    "            inputs, expected_outputs, number_of_bits=number_of_bits,\n",
    "            number_of_runs=number_of_runs, number_of_shots=number_of_shots, number_of_inputs_per_qubit=2,\n",
    "            save_history=True)\n",
    "        f.write(f\"      Final Iteration: {iterations}, Error: {error}\\n\")\n",
    "        for idx, err in enumerate(history_list, 1):\n",
    "            f.write(f\"        Iteration: {idx}, Error: {err}\\n\")\n",
    "        f.write(\"    One input per qubit:\\n\")\n",
    "        angles, error, iterations, history_list = qNN_functions.multi_qubit_qNN_genetic_algorithm(\n",
    "            inputs, expected_outputs, number_of_bits=number_of_bits,\n",
    "            number_of_runs=number_of_runs, number_of_shots=number_of_shots, save_history=True)\n",
    "        f.write(f\"      Final Iteration: {iterations}, Error: {error}\\n\")\n",
    "        for idx, err in enumerate(history_list, 1):\n",
    "            f.write(f\"        Iteration: {idx}, Error: {err}\\n\")\n"
   ]
  },
  {
   "cell_type": "code",
   "execution_count": 17,
   "metadata": {},
   "outputs": [
    {
     "data": {
      "text/plain": [
       "'for number_of_bits in range(4,6):\\n        \\n    with open(\"results_file_\"+str(number_of_bits)+\".txt\", \"w\") as current_file:\\n\\n        current_file.write(\"number of bits: \"+str(number_of_bits)+\"\\n\")\\n\\n    for type_of_operation in [\"XOR\",\"AND\",\"OR\",\"NAND\",\"NOR\",\"XNOR\"]:\\n\\n        with open(\"results_file_\"+str(number_of_bits)+\".txt\", \"a\") as current_file:\\n\\n            current_file.write(\"    type of operation: \"+str(type_of_operation)+\"\\n\")\\n\\n            inputs = [list(t) for t in product([0, 1], repeat=number_of_bits)]\\n            expected_outputs = qNN_functions.compute_expected_outputs(inputs,logic_gate=type_of_operation)\\n        \\n        with open(\"results_file_\"+str(number_of_bits)+\".txt\", \"a\") as current_file:\\n\\n            current_file.write(\"        2 inputs per qubit qNN\\n\")\\n\\n            weights, error = qNN_functions.single_qubit_qNN_exaustive_search(inputs,expected_outputs,number_of_runs=number_of_runs,number_of_bits=number_of_bits,number_of_inputs_per_qubit=2)\\n            current_file.write(\"            final weights: \"+str(weights)+\"\\n\")\\n            current_file.write(\"            final error: \"+str(error)+\"\\n\")\\n            real_error = qNN_functions.single_qubit_compute_total_error(inputs,expected_outputs,weights,type_of_run=\"real_run\")\\n            current_file.write(\"            real error: \"+str(real_error)+\"\\n\\n\")\\n\\n        with open(\"results_file_\"+str(number_of_bits)+\".txt\", \"a\") as current_file:\\n\\n            current_file.write(\"        3 inputs per qubit qNN\\n\")\\n\\n            weights, error = qNN_functions.single_qubit_qNN_exaustive_search(inputs,expected_outputs,number_of_runs=number_of_runs,number_of_bits=number_of_bits,number_of_inputs_per_qubit=3)\\n            current_file.write(\"            final weights: \"+str(weights)+\"\\n\")\\n            current_file.write(\"            final error: \"+str(error)+\"\\n\")\\n            real_error = qNN_functions.single_qubit_compute_total_error(inputs,expected_outputs,weights,type_of_run=\"real_run\")\\n            current_file.write(\"            real error: \"+str(real_error)+\"\\n\\n\")\\n\\n        with open(\"results_file_\"+str(number_of_bits)+\".txt\", \"a\") as current_file:\\n\\n            current_file.write(\"        input per qubit qNN\\n\")\\n\\n            weights, error = qNN_functions.multi_qubit_qNN_exaustive_search(inputs,expected_outputs,number_of_runs=number_of_runs,number_of_bits=number_of_bits)\\n            current_file.write(\"            final weights: \"+str(weights)+\"\\n\")\\n            current_file.write(\"            final error: \"+str(error)+\"\\n\")\\n            counts = qNN_functions.generate_multi_qubit_qNN_circuit(weights,number_of_bits=number_of_bits).evaluate(number_of_runs=number_of_runs, number_of_shots=number_of_shots, type_of_run=\"real_run\")\\n            real_error = qNN_functions.multi_qubit_compute_error(inputs,expected_outputs,counts,number_of_bits=number_of_bits)\\n            current_file.write(\"            real error: \"+str(real_error)+\"\\n\\n\")'"
      ]
     },
     "execution_count": 17,
     "metadata": {},
     "output_type": "execute_result"
    }
   ],
   "source": [
    "\"\"\"for number_of_bits in range(4,6):\n",
    "        \n",
    "    with open(\"results_file_\"+str(number_of_bits)+\".txt\", \"w\") as current_file:\n",
    "\n",
    "        current_file.write(\"number of bits: \"+str(number_of_bits)+\"\\n\")\n",
    "\n",
    "    for type_of_operation in [\"XOR\",\"AND\",\"OR\",\"NAND\",\"NOR\",\"XNOR\"]:\n",
    "\n",
    "        with open(\"results_file_\"+str(number_of_bits)+\".txt\", \"a\") as current_file:\n",
    "\n",
    "            current_file.write(\"    type of operation: \"+str(type_of_operation)+\"\\n\")\n",
    "\n",
    "            inputs = [list(t) for t in product([0, 1], repeat=number_of_bits)]\n",
    "            expected_outputs = qNN_functions.compute_expected_outputs(inputs,logic_gate=type_of_operation)\n",
    "        \n",
    "        with open(\"results_file_\"+str(number_of_bits)+\".txt\", \"a\") as current_file:\n",
    "\n",
    "            current_file.write(\"        2 inputs per qubit qNN\\n\")\n",
    "\n",
    "            weights, error = qNN_functions.single_qubit_qNN_exaustive_search(inputs,expected_outputs,number_of_runs=number_of_runs,number_of_bits=number_of_bits,number_of_inputs_per_qubit=2)\n",
    "            current_file.write(\"            final weights: \"+str(weights)+\"\\n\")\n",
    "            current_file.write(\"            final error: \"+str(error)+\"\\n\")\n",
    "            real_error = qNN_functions.single_qubit_compute_total_error(inputs,expected_outputs,weights,type_of_run=\"real_run\")\n",
    "            current_file.write(\"            real error: \"+str(real_error)+\"\\n\\n\")\n",
    "\n",
    "        with open(\"results_file_\"+str(number_of_bits)+\".txt\", \"a\") as current_file:\n",
    "\n",
    "            current_file.write(\"        3 inputs per qubit qNN\\n\")\n",
    "\n",
    "            weights, error = qNN_functions.single_qubit_qNN_exaustive_search(inputs,expected_outputs,number_of_runs=number_of_runs,number_of_bits=number_of_bits,number_of_inputs_per_qubit=3)\n",
    "            current_file.write(\"            final weights: \"+str(weights)+\"\\n\")\n",
    "            current_file.write(\"            final error: \"+str(error)+\"\\n\")\n",
    "            real_error = qNN_functions.single_qubit_compute_total_error(inputs,expected_outputs,weights,type_of_run=\"real_run\")\n",
    "            current_file.write(\"            real error: \"+str(real_error)+\"\\n\\n\")\n",
    "\n",
    "        with open(\"results_file_\"+str(number_of_bits)+\".txt\", \"a\") as current_file:\n",
    "\n",
    "            current_file.write(\"        input per qubit qNN\\n\")\n",
    "\n",
    "            weights, error = qNN_functions.multi_qubit_qNN_exaustive_search(inputs,expected_outputs,number_of_runs=number_of_runs,number_of_bits=number_of_bits)\n",
    "            current_file.write(\"            final weights: \"+str(weights)+\"\\n\")\n",
    "            current_file.write(\"            final error: \"+str(error)+\"\\n\")\n",
    "            counts = qNN_functions.generate_multi_qubit_qNN_circuit(weights,number_of_bits=number_of_bits).evaluate(number_of_runs=number_of_runs, number_of_shots=number_of_shots, type_of_run=\"real_run\")\n",
    "            real_error = qNN_functions.multi_qubit_compute_error(inputs,expected_outputs,counts,number_of_bits=number_of_bits)\n",
    "            current_file.write(\"            real error: \"+str(real_error)+\"\\n\\n\")\"\"\""
   ]
  },
  {
   "cell_type": "code",
   "execution_count": 18,
   "metadata": {},
   "outputs": [
    {
     "data": {
      "text/plain": [
       "'parameters, error = qNN_functions.multi_qubit_qNN_exaustive_search(inputs,expected_outputs,number_of_runs=number_of_runs,number_of_bits=number_of_bits)\\nprint(parameters)\\nprint(error)'"
      ]
     },
     "execution_count": 18,
     "metadata": {},
     "output_type": "execute_result"
    }
   ],
   "source": [
    "\"\"\"parameters, error = qNN_functions.multi_qubit_qNN_exaustive_search(inputs,expected_outputs,number_of_runs=number_of_runs,number_of_bits=number_of_bits)\n",
    "print(parameters)\n",
    "print(error)\"\"\""
   ]
  }
 ],
 "metadata": {
  "kernelspec": {
   "display_name": "condaenv",
   "language": "python",
   "name": "python3"
  },
  "language_info": {
   "codemirror_mode": {
    "name": "ipython",
    "version": 3
   },
   "file_extension": ".py",
   "mimetype": "text/x-python",
   "name": "python",
   "nbconvert_exporter": "python",
   "pygments_lexer": "ipython3",
   "version": "3.12.5"
  }
 },
 "nbformat": 4,
 "nbformat_minor": 2
}
