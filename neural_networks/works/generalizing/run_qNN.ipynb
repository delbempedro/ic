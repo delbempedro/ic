{
 "cells": [
  {
   "cell_type": "markdown",
   "metadata": {},
   "source": [
    "run_qNN.ipynb\n",
    "\n",
    "Notebook that define the necessary functions to run a qNN and runs it.\n",
    "\n",
    "Dependencies:\n",
    "- Uses numpy to get random values\n",
    "- Uses qNN_functions to get qNN functions \n",
    "\n",
    "Since:\n",
    "- 02/2025\n",
    "\n",
    "Authors:\n",
    "- Pedro C. Delbem. <pedrodelbem@usp.br>"
   ]
  },
  {
   "cell_type": "code",
   "execution_count": 1,
   "metadata": {},
   "outputs": [],
   "source": [
    "import qNN_functions"
   ]
  },
  {
   "cell_type": "code",
   "execution_count": 2,
   "metadata": {},
   "outputs": [],
   "source": [
    "from itertools import product\n",
    "import numpy as np"
   ]
  },
  {
   "cell_type": "code",
   "execution_count": 3,
   "metadata": {},
   "outputs": [],
   "source": [
    "number_of_bits = 4"
   ]
  },
  {
   "cell_type": "code",
   "execution_count": 4,
   "metadata": {},
   "outputs": [],
   "source": [
    "inputs = [list(t) for t in product([0, 1], repeat=number_of_bits)]\n",
    "expected_outputs = qNN_functions.compute_expected_outputs(inputs,logic_gate=\"XOR\")"
   ]
  },
  {
   "cell_type": "code",
   "execution_count": 5,
   "metadata": {},
   "outputs": [
    {
     "data": {
      "text/plain": [
       "{'0000': 0,\n",
       " '0001': 1,\n",
       " '0010': 1,\n",
       " '0011': 0,\n",
       " '0100': 1,\n",
       " '0101': 0,\n",
       " '0110': 0,\n",
       " '0111': 1,\n",
       " '1000': 1,\n",
       " '1001': 0,\n",
       " '1010': 0,\n",
       " '1011': 1,\n",
       " '1100': 0,\n",
       " '1101': 1,\n",
       " '1110': 1,\n",
       " '1111': 0}"
      ]
     },
     "execution_count": 5,
     "metadata": {},
     "output_type": "execute_result"
    }
   ],
   "source": [
    "expected_outputs"
   ]
  },
  {
   "cell_type": "code",
   "execution_count": 6,
   "metadata": {},
   "outputs": [],
   "source": [
    "number_of_runs = 10\n",
    "number_of_shots = 1024\n",
    "grid_grain = 10"
   ]
  },
  {
   "cell_type": "code",
   "execution_count": 7,
   "metadata": {},
   "outputs": [],
   "source": [
    "parameters, error = qNN_functions.single_qubit_qNN_exaustive_search(inputs,expected_outputs,number_of_runs=number_of_runs,number_of_bits=number_of_bits,grid_grain=grid_grain)\n",
    "print(parameters)\n",
    "print(error)"
   ]
  },
  {
   "cell_type": "code",
   "execution_count": 8,
   "metadata": {},
   "outputs": [
    {
     "name": "stdout",
     "output_type": "stream",
     "text": [
      "[np.float64(-3.141592653589793), np.float64(-3.141592653589793), np.float64(3.141592653589793), np.float64(3.141592653589793)]\n",
      "0.2396484375\n"
     ]
    }
   ],
   "source": [
    "parameters, error = qNN_functions.multi_qubit_qNN_exaustive_search(inputs,expected_outputs,number_of_runs=number_of_runs,number_of_bits=number_of_bits)\n",
    "print(parameters)\n",
    "print(error)"
   ]
  }
 ],
 "metadata": {
  "kernelspec": {
   "display_name": "condaenv",
   "language": "python",
   "name": "python3"
  },
  "language_info": {
   "codemirror_mode": {
    "name": "ipython",
    "version": 3
   },
   "file_extension": ".py",
   "mimetype": "text/x-python",
   "name": "python",
   "nbconvert_exporter": "python",
   "pygments_lexer": "ipython3",
   "version": "3.12.5"
  }
 },
 "nbformat": 4,
 "nbformat_minor": 2
}
