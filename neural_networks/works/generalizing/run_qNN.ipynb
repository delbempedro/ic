{
 "cells": [
  {
   "cell_type": "markdown",
   "metadata": {},
   "source": [
    "run_qNN.ipynb\n",
    "\n",
    "Notebook that define the necessary functions to run a qNN and runs it.\n",
    "\n",
    "Dependencies:\n",
    "- Uses numpy to get random values\n",
    "- Uses qNN_functions to get qNN functions \n",
    "\n",
    "Since:\n",
    "- 02/2025\n",
    "\n",
    "Authors:\n",
    "- Pedro C. Delbem. <pedrodelbem@usp.br>"
   ]
  },
  {
   "cell_type": "code",
   "execution_count": 1,
   "metadata": {},
   "outputs": [],
   "source": [
    "import qNN_functions"
   ]
  },
  {
   "cell_type": "code",
   "execution_count": 2,
   "metadata": {},
   "outputs": [],
   "source": [
    "from itertools import product\n",
    "import numpy as np"
   ]
  },
  {
   "cell_type": "code",
   "execution_count": 3,
   "metadata": {},
   "outputs": [],
   "source": [
    "number_of_bits = 2"
   ]
  },
  {
   "cell_type": "code",
   "execution_count": 4,
   "metadata": {},
   "outputs": [],
   "source": [
    "inputs = [list(t) for t in product([0, 1], repeat=number_of_bits)]\n",
    "expected_outputs = qNN_functions.compute_expected_outputs(inputs,logic_gate=\"XOR\")"
   ]
  },
  {
   "cell_type": "code",
   "execution_count": 5,
   "metadata": {},
   "outputs": [
    {
     "name": "stdout",
     "output_type": "stream",
     "text": [
      "[[0, 0, 0, 0], [0, 0, 0, 1], [0, 0, 1, 0], [0, 0, 1, 1], [0, 1, 0, 0], [0, 1, 0, 1], [0, 1, 1, 0], [0, 1, 1, 1], [1, 0, 0, 0], [1, 0, 0, 1], [1, 0, 1, 0], [1, 0, 1, 1], [1, 1, 0, 0], [1, 1, 0, 1], [1, 1, 1, 0], [1, 1, 1, 1]] \n",
      " ['0', '1', '1', '0', '1', '0', '0', '1', '1', '0', '0', '1', '0', '1', '1', '0']\n"
     ]
    }
   ],
   "source": [
    "print(inputs,\"\\n\",expected_outputs)"
   ]
  },
  {
   "cell_type": "code",
   "execution_count": 6,
   "metadata": {},
   "outputs": [],
   "source": [
    "number_of_runs = 1\n",
    "number_of_shots = 1024\n",
    "parameters = np.random.rand(number_of_bits+1)*np.pi"
   ]
  },
  {
   "cell_type": "code",
   "execution_count": 7,
   "metadata": {},
   "outputs": [
    {
     "data": {
      "text/plain": [
       "([0, 0, 0, 0],\n",
       " array([3.10521879, 3.03374033, 2.96792569, 1.85603171, 1.21513444]),\n",
       " 4)"
      ]
     },
     "execution_count": 7,
     "metadata": {},
     "output_type": "execute_result"
    }
   ],
   "source": [
    "inputs[0],parameters,number_of_bits"
   ]
  },
  {
   "cell_type": "code",
   "execution_count": 8,
   "metadata": {},
   "outputs": [
    {
     "name": "stdout",
     "output_type": "stream",
     "text": [
      "        ┌───┐┌────────────┐┌────────────┐┌────────────┐┌────────────┐ ░ ┌─┐\n",
      "     q: ┤ H ├┤ Rz(1.2151) ├┤ Rx(1.2151) ├┤ Ry(1.2151) ├┤ Rz(1.2151) ├─░─┤M├\n",
      "        └───┘└────────────┘└────────────┘└────────────┘└────────────┘ ░ └╥┘\n",
      "   c: 1/═════════════════════════════════════════════════════════════════╬═\n",
      "                                                                         ║ \n",
      "meas: 1/═════════════════════════════════════════════════════════════════╩═\n",
      "                                                                         0 \n"
     ]
    }
   ],
   "source": [
    "qc = qNN_functions.generate_single_qubit_qNN_circuit(inputs[0],parameters,number_of_bits=number_of_bits)\n",
    "qc.print_circuit()"
   ]
  },
  {
   "cell_type": "code",
   "execution_count": 9,
   "metadata": {},
   "outputs": [
    {
     "data": {
      "text/plain": [
       "'parameters, error = qNN_functions.single_qubit_qNN_exaustive_search(inputs,expected_outputs,number_of_runs=number_of_runs,number_of_bits=number_of_bits)\\nprint(parameters)\\nprint(error)'"
      ]
     },
     "execution_count": 9,
     "metadata": {},
     "output_type": "execute_result"
    }
   ],
   "source": [
    "\"\"\"parameters, error = qNN_functions.single_qubit_qNN_exaustive_search(inputs,expected_outputs,number_of_runs=number_of_runs,number_of_bits=number_of_bits)\n",
    "print(parameters)\n",
    "print(error)\"\"\""
   ]
  },
  {
   "cell_type": "code",
   "execution_count": 10,
   "metadata": {},
   "outputs": [
    {
     "data": {
      "text/html": [
       "<pre style=\"word-wrap: normal;white-space: pre;background: #fff0;line-height: 1.1;font-family: &quot;Courier New&quot;,Courier,monospace\">        ┌────────────────────────────────────┐ ░ ┌─┐         \n",
       "   q_0: ┤0                                   ├─░─┤M├─────────\n",
       "        │                                    │ ░ └╥┘┌─┐      \n",
       "   q_1: ┤1                                   ├─░──╫─┤M├──────\n",
       "        │  TwoLocal(π,π,π,π,π/2,π/2,π/2,π/2) │ ░  ║ └╥┘┌─┐   \n",
       "   q_2: ┤2                                   ├─░──╫──╫─┤M├───\n",
       "        │                                    │ ░  ║  ║ └╥┘┌─┐\n",
       "   q_3: ┤3                                   ├─░──╫──╫──╫─┤M├\n",
       "        └────────────────────────────────────┘ ░  ║  ║  ║ └╥┘\n",
       "meas: 4/══════════════════════════════════════════╩══╩══╩══╩═\n",
       "                                                  0  1  2  3 </pre>"
      ],
      "text/plain": [
       "        ┌────────────────────────────────────┐ ░ ┌─┐         \n",
       "   q_0: ┤0                                   ├─░─┤M├─────────\n",
       "        │                                    │ ░ └╥┘┌─┐      \n",
       "   q_1: ┤1                                   ├─░──╫─┤M├──────\n",
       "        │  TwoLocal(π,π,π,π,π/2,π/2,π/2,π/2) │ ░  ║ └╥┘┌─┐   \n",
       "   q_2: ┤2                                   ├─░──╫──╫─┤M├───\n",
       "        │                                    │ ░  ║  ║ └╥┘┌─┐\n",
       "   q_3: ┤3                                   ├─░──╫──╫──╫─┤M├\n",
       "        └────────────────────────────────────┘ ░  ║  ║  ║ └╥┘\n",
       "meas: 4/══════════════════════════════════════════╩══╩══╩══╩═\n",
       "                                                  0  1  2  3 "
      ]
     },
     "execution_count": 10,
     "metadata": {},
     "output_type": "execute_result"
    }
   ],
   "source": [
    "aux = qNN_functions.generate_multi_qubit_qNN_circuit(parameters)\n",
    "aux.print_circuit()"
   ]
  },
  {
   "cell_type": "code",
   "execution_count": 11,
   "metadata": {},
   "outputs": [
    {
     "ename": "CircuitError",
     "evalue": "'Number of items in qubits parameter (2) does not match number of qubits in the circuit (4).'",
     "output_type": "error",
     "traceback": [
      "\u001b[0;31m---------------------------------------------------------------------------\u001b[0m",
      "\u001b[0;31mCircuitError\u001b[0m                              Traceback (most recent call last)",
      "Cell \u001b[0;32mIn[11], line 1\u001b[0m\n\u001b[0;32m----> 1\u001b[0m parameters, error \u001b[38;5;241m=\u001b[39m \u001b[43mqNN_functions\u001b[49m\u001b[38;5;241;43m.\u001b[39;49m\u001b[43mmulti_qubit_qNN_exaustive_search\u001b[49m\u001b[43m(\u001b[49m\u001b[43minputs\u001b[49m\u001b[43m,\u001b[49m\u001b[43mexpected_outputs\u001b[49m\u001b[43m,\u001b[49m\u001b[43mnumber_of_runs\u001b[49m\u001b[38;5;241;43m=\u001b[39;49m\u001b[43mnumber_of_runs\u001b[49m\u001b[43m,\u001b[49m\u001b[43mnumber_of_bits\u001b[49m\u001b[38;5;241;43m=\u001b[39;49m\u001b[43mnumber_of_bits\u001b[49m\u001b[43m)\u001b[49m\n\u001b[1;32m      2\u001b[0m \u001b[38;5;28mprint\u001b[39m(parameters)\n\u001b[1;32m      3\u001b[0m \u001b[38;5;28mprint\u001b[39m(error)\n",
      "File \u001b[0;32m~/Documentos/GitHub/ic/neural_networks/works/generalizing/qNN_functions.py:318\u001b[0m, in \u001b[0;36mmulti_qubit_qNN_exaustive_search\u001b[0;34m(inputs, expected_outputs, grid_grain, number_of_runs, number_of_shots, number_of_bits)\u001b[0m\n\u001b[1;32m    315\u001b[0m \u001b[38;5;66;03m#exaustive search\u001b[39;00m\n\u001b[1;32m    316\u001b[0m \u001b[38;5;28;01mfor\u001b[39;00m parameters \u001b[38;5;129;01min\u001b[39;00m itertools\u001b[38;5;241m.\u001b[39mproduct(grid, repeat\u001b[38;5;241m=\u001b[39mnumber_of_bits\u001b[38;5;241m*\u001b[39m\u001b[38;5;241m2\u001b[39m):\n\u001b[0;32m--> 318\u001b[0m     counts \u001b[38;5;241m=\u001b[39m \u001b[43mgenerate_multi_qubit_qNN_circuit\u001b[49m\u001b[43m(\u001b[49m\u001b[43mparameters\u001b[49m\u001b[43m,\u001b[49m\u001b[43mnumber_of_bits\u001b[49m\u001b[38;5;241;43m=\u001b[39;49m\u001b[43mnumber_of_bits\u001b[49m\u001b[43m)\u001b[49m\u001b[38;5;241m.\u001b[39mevaluate(number_of_runs\u001b[38;5;241m=\u001b[39mnumber_of_runs, number_of_shots\u001b[38;5;241m=\u001b[39mnumber_of_shots)\n\u001b[1;32m    319\u001b[0m     current_error \u001b[38;5;241m=\u001b[39m multi_qubit_compute_error(inputs,expected_outputs,counts)\n\u001b[1;32m    321\u001b[0m     \u001b[38;5;28;01mif\u001b[39;00m current_error \u001b[38;5;241m<\u001b[39m final_error:\n",
      "File \u001b[0;32m~/Documentos/GitHub/ic/neural_networks/works/generalizing/qNN_functions.py:146\u001b[0m, in \u001b[0;36mgenerate_multi_qubit_qNN_circuit\u001b[0;34m(parameters_of_entanglement_circuit, number_of_bits)\u001b[0m\n\u001b[1;32m    144\u001b[0m qNN \u001b[38;5;241m=\u001b[39m current_circuit(number_of_bits\u001b[38;5;241m*\u001b[39m\u001b[38;5;241m2\u001b[39m\u001b[38;5;241m+\u001b[39m\u001b[38;5;241m1\u001b[39m,\u001b[38;5;241m1\u001b[39m) \u001b[38;5;66;03m#create the qNN circuit\u001b[39;00m\n\u001b[1;32m    145\u001b[0m auxiliary_circuit \u001b[38;5;241m=\u001b[39m all_inputs_circuit(number_of_bits) \u001b[38;5;66;03m#copy the all inputs circuit\u001b[39;00m\n\u001b[0;32m--> 146\u001b[0m duplicate_circuit \u001b[38;5;241m=\u001b[39m \u001b[43mcircuit_copy\u001b[49m\u001b[43m(\u001b[49m\u001b[43mauxiliary_circuit\u001b[49m\u001b[43m,\u001b[49m\u001b[43m \u001b[49m\u001b[38;5;241;43m2\u001b[39;49m\u001b[43m)\u001b[49m \u001b[38;5;66;03m#duplicate the all inputs circuit\u001b[39;00m\n\u001b[1;32m    147\u001b[0m qNN\u001b[38;5;241m.\u001b[39mget_current_circuit()\u001b[38;5;241m.\u001b[39mappend(duplicate_circuit, [\u001b[38;5;241m0\u001b[39m, \u001b[38;5;241m1\u001b[39m, \u001b[38;5;241m2\u001b[39m, \u001b[38;5;241m3\u001b[39m]) \u001b[38;5;66;03m#add the all inputs circuit\u001b[39;00m\n\u001b[1;32m    148\u001b[0m qNN\u001b[38;5;241m.\u001b[39madd_multi_qubit_neuron(\u001b[38;5;241m*\u001b[39mparameters_of_entanglement_circuit, \u001b[38;5;241m2\u001b[39m, \u001b[38;5;241m0\u001b[39m) \u001b[38;5;66;03m#add the neuron\u001b[39;00m\n",
      "File \u001b[0;32m~/Documentos/GitHub/ic/neural_networks/works/generalizing/qNN_functions.py:114\u001b[0m, in \u001b[0;36mcircuit_copy\u001b[0;34m(initial_circuit, number_of_qubits)\u001b[0m\n\u001b[1;32m     97\u001b[0m \u001b[38;5;250m\u001b[39m\u001b[38;5;124;03m\"\"\"\u001b[39;00m\n\u001b[1;32m     98\u001b[0m \u001b[38;5;124;03mCreates a quantum circuit that duplicates the given initial circuit with additional qubits.\u001b[39;00m\n\u001b[1;32m     99\u001b[0m \n\u001b[0;32m   (...)\u001b[0m\n\u001b[1;32m    110\u001b[0m \u001b[38;5;124;03mQuantumCircuit: A new quantum circuit with duplicated qubits and additional operations to copy the input.\u001b[39;00m\n\u001b[1;32m    111\u001b[0m \u001b[38;5;124;03m\"\"\"\u001b[39;00m\n\u001b[1;32m    113\u001b[0m circuit_copy \u001b[38;5;241m=\u001b[39m QuantumCircuit(number_of_qubits\u001b[38;5;241m+\u001b[39m\u001b[38;5;241m2\u001b[39m) \u001b[38;5;66;03m#duplicate the number of qubits\u001b[39;00m\n\u001b[0;32m--> 114\u001b[0m circuit_copy \u001b[38;5;241m=\u001b[39m \u001b[43mcircuit_copy\u001b[49m\u001b[43m \u001b[49m\u001b[38;5;241;43m.\u001b[39;49m\u001b[43mcompose\u001b[49m\u001b[43m(\u001b[49m\u001b[43minitial_circuit\u001b[49m\u001b[43m,\u001b[49m\u001b[43m \u001b[49m\u001b[43mqubits\u001b[49m\u001b[38;5;241;43m=\u001b[39;49m\u001b[38;5;28;43mlist\u001b[39;49m\u001b[43m(\u001b[49m\u001b[38;5;28;43mrange\u001b[39;49m\u001b[43m(\u001b[49m\u001b[38;5;241;43m0\u001b[39;49m\u001b[43m,\u001b[49m\u001b[43mnumber_of_qubits\u001b[49m\u001b[43m)\u001b[49m\u001b[43m)\u001b[49m\u001b[43m)\u001b[49m \u001b[38;5;66;03m#first half with the initial_states_2b_circ\u001b[39;00m\n\u001b[1;32m    115\u001b[0m circuit_copy\u001b[38;5;241m.\u001b[39mbarrier() \u001b[38;5;66;03m#to visually separate circuit components\u001b[39;00m\n\u001b[1;32m    117\u001b[0m \u001b[38;5;66;03m#a layer to copy/reproduce the generated inputs in qubits 0 and 1\u001b[39;00m\n",
      "File \u001b[0;32m~/.conda/envs/condaenv/lib/python3.12/site-packages/qiskit/circuit/quantumcircuit.py:1976\u001b[0m, in \u001b[0;36mQuantumCircuit.compose\u001b[0;34m(self, other, qubits, clbits, front, inplace, wrap, copy, var_remap, inline_captures)\u001b[0m\n\u001b[1;32m   1974\u001b[0m mapped_qubits \u001b[38;5;241m=\u001b[39m dest\u001b[38;5;241m.\u001b[39m_qbit_argument_conversion(qubits)\n\u001b[1;32m   1975\u001b[0m \u001b[38;5;28;01mif\u001b[39;00m \u001b[38;5;28mlen\u001b[39m(mapped_qubits) \u001b[38;5;241m!=\u001b[39m other\u001b[38;5;241m.\u001b[39mnum_qubits:\n\u001b[0;32m-> 1976\u001b[0m     \u001b[38;5;28;01mraise\u001b[39;00m CircuitError(\n\u001b[1;32m   1977\u001b[0m         \u001b[38;5;124mf\u001b[39m\u001b[38;5;124m\"\u001b[39m\u001b[38;5;124mNumber of items in qubits parameter (\u001b[39m\u001b[38;5;132;01m{\u001b[39;00m\u001b[38;5;28mlen\u001b[39m(mapped_qubits)\u001b[38;5;132;01m}\u001b[39;00m\u001b[38;5;124m) does not\u001b[39m\u001b[38;5;124m\"\u001b[39m\n\u001b[1;32m   1978\u001b[0m         \u001b[38;5;124mf\u001b[39m\u001b[38;5;124m\"\u001b[39m\u001b[38;5;124m match number of qubits in the circuit (\u001b[39m\u001b[38;5;132;01m{\u001b[39;00mother\u001b[38;5;241m.\u001b[39mnum_qubits\u001b[38;5;132;01m}\u001b[39;00m\u001b[38;5;124m).\u001b[39m\u001b[38;5;124m\"\u001b[39m\n\u001b[1;32m   1979\u001b[0m     )\n\u001b[1;32m   1980\u001b[0m \u001b[38;5;28;01mif\u001b[39;00m \u001b[38;5;28mlen\u001b[39m(\u001b[38;5;28mset\u001b[39m(mapped_qubits)) \u001b[38;5;241m!=\u001b[39m \u001b[38;5;28mlen\u001b[39m(mapped_qubits):\n\u001b[1;32m   1981\u001b[0m     \u001b[38;5;28;01mraise\u001b[39;00m CircuitError(\n\u001b[1;32m   1982\u001b[0m         \u001b[38;5;124mf\u001b[39m\u001b[38;5;124m\"\u001b[39m\u001b[38;5;124mDuplicate qubits referenced in \u001b[39m\u001b[38;5;124m'\u001b[39m\u001b[38;5;124mqubits\u001b[39m\u001b[38;5;124m'\u001b[39m\u001b[38;5;124m parameter: \u001b[39m\u001b[38;5;124m'\u001b[39m\u001b[38;5;132;01m{\u001b[39;00mmapped_qubits\u001b[38;5;132;01m}\u001b[39;00m\u001b[38;5;124m'\u001b[39m\u001b[38;5;124m\"\u001b[39m\n\u001b[1;32m   1983\u001b[0m     )\n",
      "\u001b[0;31mCircuitError\u001b[0m: 'Number of items in qubits parameter (2) does not match number of qubits in the circuit (4).'"
     ]
    }
   ],
   "source": [
    "parameters, error = qNN_functions.multi_qubit_qNN_exaustive_search(inputs,expected_outputs,number_of_runs=number_of_runs,number_of_bits=number_of_bits)\n",
    "print(parameters)\n",
    "print(error)"
   ]
  }
 ],
 "metadata": {
  "kernelspec": {
   "display_name": "condaenv",
   "language": "python",
   "name": "python3"
  },
  "language_info": {
   "codemirror_mode": {
    "name": "ipython",
    "version": 3
   },
   "file_extension": ".py",
   "mimetype": "text/x-python",
   "name": "python",
   "nbconvert_exporter": "python",
   "pygments_lexer": "ipython3",
   "version": "3.12.5"
  }
 },
 "nbformat": 4,
 "nbformat_minor": 2
}
